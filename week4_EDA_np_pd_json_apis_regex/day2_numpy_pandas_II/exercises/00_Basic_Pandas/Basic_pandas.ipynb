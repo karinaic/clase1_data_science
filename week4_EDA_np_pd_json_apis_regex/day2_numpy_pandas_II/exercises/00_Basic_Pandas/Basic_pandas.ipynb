{
 "cells": [
  {
   "cell_type": "markdown",
   "metadata": {},
   "source": [
    "## Ejercicio 1\n",
    "Importa la libreria de `pandas` y `numpy`. ¿Qué versión de la librería `pandas` tienes?"
   ]
  },
  {
   "cell_type": "code",
   "execution_count": 2,
   "metadata": {},
   "outputs": [],
   "source": [
    "import numpy as np \n",
    "import pandas as pd "
   ]
  },
  {
   "cell_type": "code",
   "execution_count": 2,
   "metadata": {},
   "outputs": [
    {
     "output_type": "execute_result",
     "data": {
      "text/plain": [
       "'1.2.4'"
      ]
     },
     "metadata": {},
     "execution_count": 2
    }
   ],
   "source": [
    "pd.__version__"
   ]
  },
  {
   "cell_type": "markdown",
   "metadata": {},
   "source": [
    "## Ejercicio 2\n",
    "Lee el archivo CSV de la liga. Guarda el DataFrame en una variable llamada `df`. [Usa el método `read_csv` de `pandas`](https://pandas.pydata.org/pandas-docs/stable/reference/api/pandas.read_csv.html)."
   ]
  },
  {
   "cell_type": "code",
   "execution_count": 4,
   "metadata": {},
   "outputs": [
    {
     "output_type": "execute_result",
     "data": {
      "text/plain": [
       "      Unnamed: 0   season  division  round           localTeam    visitorTeam  \\\n",
       "0          26201  2005-06         1      1  Atletico de Bilbao  Real Sociedad   \n",
       "1          26202  2005-06         1      1              Alaves      Barcelona   \n",
       "2          26203  2005-06         1      1            Valencia          Betis   \n",
       "3          26204  2005-06         1      1  Atletico de Madrid       Zaragoza   \n",
       "4          26205  2005-06         1      1               Cadiz    Real Madrid   \n",
       "...          ...      ...       ...    ...                 ...            ...   \n",
       "4935       36680  2017-18         1     38          Villarreal    Real Madrid   \n",
       "4936       36681  2017-18         1     38  Atletico de Bilbao        Espanol   \n",
       "4937       36682  2017-18         1     38           Barcelona  Real Sociedad   \n",
       "4938       36683  2017-18         1     38            Valencia      Deportivo   \n",
       "4939       36684  2017-18         1     38  Atletico de Madrid          Eibar   \n",
       "\n",
       "      localGoals  visitorGoals        date   timestamp  \n",
       "0              3             0  27/08/2005  1125093600  \n",
       "1              0             0  27/08/2005  1125093600  \n",
       "2              1             0  27/08/2005  1125093600  \n",
       "3              0             0  28/08/2005  1125180000  \n",
       "4              1             2  28/08/2005  1125180000  \n",
       "...          ...           ...         ...         ...  \n",
       "4935           2             2  19/05/2018  1526680800  \n",
       "4936           0             1  20/05/2018  1526767200  \n",
       "4937           1             0  20/05/2018  1526767200  \n",
       "4938           2             1  20/05/2018  1526767200  \n",
       "4939           2             2  20/05/2018  1526767200  \n",
       "\n",
       "[4940 rows x 10 columns]"
      ],
      "text/html": "<div>\n<style scoped>\n    .dataframe tbody tr th:only-of-type {\n        vertical-align: middle;\n    }\n\n    .dataframe tbody tr th {\n        vertical-align: top;\n    }\n\n    .dataframe thead th {\n        text-align: right;\n    }\n</style>\n<table border=\"1\" class=\"dataframe\">\n  <thead>\n    <tr style=\"text-align: right;\">\n      <th></th>\n      <th>Unnamed: 0</th>\n      <th>season</th>\n      <th>division</th>\n      <th>round</th>\n      <th>localTeam</th>\n      <th>visitorTeam</th>\n      <th>localGoals</th>\n      <th>visitorGoals</th>\n      <th>date</th>\n      <th>timestamp</th>\n    </tr>\n  </thead>\n  <tbody>\n    <tr>\n      <th>0</th>\n      <td>26201</td>\n      <td>2005-06</td>\n      <td>1</td>\n      <td>1</td>\n      <td>Atletico de Bilbao</td>\n      <td>Real Sociedad</td>\n      <td>3</td>\n      <td>0</td>\n      <td>27/08/2005</td>\n      <td>1125093600</td>\n    </tr>\n    <tr>\n      <th>1</th>\n      <td>26202</td>\n      <td>2005-06</td>\n      <td>1</td>\n      <td>1</td>\n      <td>Alaves</td>\n      <td>Barcelona</td>\n      <td>0</td>\n      <td>0</td>\n      <td>27/08/2005</td>\n      <td>1125093600</td>\n    </tr>\n    <tr>\n      <th>2</th>\n      <td>26203</td>\n      <td>2005-06</td>\n      <td>1</td>\n      <td>1</td>\n      <td>Valencia</td>\n      <td>Betis</td>\n      <td>1</td>\n      <td>0</td>\n      <td>27/08/2005</td>\n      <td>1125093600</td>\n    </tr>\n    <tr>\n      <th>3</th>\n      <td>26204</td>\n      <td>2005-06</td>\n      <td>1</td>\n      <td>1</td>\n      <td>Atletico de Madrid</td>\n      <td>Zaragoza</td>\n      <td>0</td>\n      <td>0</td>\n      <td>28/08/2005</td>\n      <td>1125180000</td>\n    </tr>\n    <tr>\n      <th>4</th>\n      <td>26205</td>\n      <td>2005-06</td>\n      <td>1</td>\n      <td>1</td>\n      <td>Cadiz</td>\n      <td>Real Madrid</td>\n      <td>1</td>\n      <td>2</td>\n      <td>28/08/2005</td>\n      <td>1125180000</td>\n    </tr>\n    <tr>\n      <th>...</th>\n      <td>...</td>\n      <td>...</td>\n      <td>...</td>\n      <td>...</td>\n      <td>...</td>\n      <td>...</td>\n      <td>...</td>\n      <td>...</td>\n      <td>...</td>\n      <td>...</td>\n    </tr>\n    <tr>\n      <th>4935</th>\n      <td>36680</td>\n      <td>2017-18</td>\n      <td>1</td>\n      <td>38</td>\n      <td>Villarreal</td>\n      <td>Real Madrid</td>\n      <td>2</td>\n      <td>2</td>\n      <td>19/05/2018</td>\n      <td>1526680800</td>\n    </tr>\n    <tr>\n      <th>4936</th>\n      <td>36681</td>\n      <td>2017-18</td>\n      <td>1</td>\n      <td>38</td>\n      <td>Atletico de Bilbao</td>\n      <td>Espanol</td>\n      <td>0</td>\n      <td>1</td>\n      <td>20/05/2018</td>\n      <td>1526767200</td>\n    </tr>\n    <tr>\n      <th>4937</th>\n      <td>36682</td>\n      <td>2017-18</td>\n      <td>1</td>\n      <td>38</td>\n      <td>Barcelona</td>\n      <td>Real Sociedad</td>\n      <td>1</td>\n      <td>0</td>\n      <td>20/05/2018</td>\n      <td>1526767200</td>\n    </tr>\n    <tr>\n      <th>4938</th>\n      <td>36683</td>\n      <td>2017-18</td>\n      <td>1</td>\n      <td>38</td>\n      <td>Valencia</td>\n      <td>Deportivo</td>\n      <td>2</td>\n      <td>1</td>\n      <td>20/05/2018</td>\n      <td>1526767200</td>\n    </tr>\n    <tr>\n      <th>4939</th>\n      <td>36684</td>\n      <td>2017-18</td>\n      <td>1</td>\n      <td>38</td>\n      <td>Atletico de Madrid</td>\n      <td>Eibar</td>\n      <td>2</td>\n      <td>2</td>\n      <td>20/05/2018</td>\n      <td>1526767200</td>\n    </tr>\n  </tbody>\n</table>\n<p>4940 rows × 10 columns</p>\n</div>"
     },
     "metadata": {},
     "execution_count": 4
    }
   ],
   "source": [
    "df = pd.read_csv(\"laliga.csv\")\n",
    "df"
   ]
  },
  {
   "cell_type": "markdown",
   "metadata": {},
   "source": [
    "## Ejercicio 3\n",
    "Obtén por pantalla los 4 primero registros"
   ]
  },
  {
   "cell_type": "code",
   "execution_count": 7,
   "metadata": {},
   "outputs": [
    {
     "output_type": "stream",
     "name": "stdout",
     "text": [
      "   Unnamed: 0   season  division  round           localTeam    visitorTeam  \\\n0       26201  2005-06         1      1  Atletico de Bilbao  Real Sociedad   \n1       26202  2005-06         1      1              Alaves      Barcelona   \n2       26203  2005-06         1      1            Valencia          Betis   \n3       26204  2005-06         1      1  Atletico de Madrid       Zaragoza   \n4       26205  2005-06         1      1               Cadiz    Real Madrid   \n\n   localGoals  visitorGoals        date   timestamp  \n0           3             0  27/08/2005  1125093600  \n1           0             0  27/08/2005  1125093600  \n2           1             0  27/08/2005  1125093600  \n3           0             0  28/08/2005  1125180000  \n4           1             2  28/08/2005  1125180000  \n"
     ]
    }
   ],
   "source": [
    "print(df[:5])"
   ]
  },
  {
   "cell_type": "markdown",
   "metadata": {},
   "source": [
    "## Ejercicio 4\n",
    "Obtén en un array de `numpy` todos los valores del DataFrame"
   ]
  },
  {
   "cell_type": "code",
   "execution_count": null,
   "metadata": {},
   "outputs": [],
   "source": []
  },
  {
   "cell_type": "markdown",
   "metadata": {},
   "source": [
    "## Ejercicio 5\n",
    "¿Cuáles son las columnas de `df`?"
   ]
  },
  {
   "cell_type": "code",
   "execution_count": null,
   "metadata": {},
   "outputs": [],
   "source": []
  },
  {
   "cell_type": "markdown",
   "metadata": {},
   "source": [
    "## Ejercicio 6\n",
    "Crea un `Series` con la [población de Madrid, Galicia, Murcia y Andalucía](https://es.wikipedia.org/wiki/Anexo:Comunidades_y_ciudades_aut%C3%B3nomas_de_Espa%C3%B1a). Llamalo `poblacion`.\n",
    "\n",
    "- Madrid: 6685471\n",
    "- Galicia: 2698764\n",
    "- Murcia: 1494442\n",
    "- Andalucía: 8446561\n"
   ]
  },
  {
   "cell_type": "code",
   "execution_count": null,
   "metadata": {},
   "outputs": [],
   "source": []
  },
  {
   "cell_type": "markdown",
   "metadata": {},
   "source": [
    "## Ejercicio 7\n",
    "Obtén un array de `numpy` con los valores del `Series`.\n",
    "\n",
    "Saca también sus índices, y los valores de sus índices."
   ]
  },
  {
   "cell_type": "code",
   "execution_count": null,
   "metadata": {},
   "outputs": [],
   "source": []
  },
  {
   "cell_type": "markdown",
   "metadata": {},
   "source": [
    "## Ejercicio 8\n",
    "1. ¿Qué población hay en el primer elemento del `Series`?\n",
    "2. ¿Qué población hay en Galicia?\n",
    "3. Imprime por pantalla las poblaciones de Galicia, Andalucía y las comunidades autónomas que se encuentren entre ambas, dentro del `Series`.\n",
    "4. Comprueba con un output booleano que `Galicia` se encuentra entre los índices del `Index`.\n",
    "5. Realiza los apartados 1,2,3 pero esta vez de una manera diferente."
   ]
  },
  {
   "cell_type": "code",
   "execution_count": null,
   "metadata": {},
   "outputs": [],
   "source": []
  },
  {
   "cell_type": "markdown",
   "metadata": {},
   "source": [
    "## Ejercicio 9\n",
    "A partir de las comunidades autónomas anteriores, crea un `Series` con [la tasa de paro](https://es.statista.com/estadisticas/941646/prevision-de-la-tasa-de-paro-por-comunidad-autonoma-espana/) en dichas comunidades autónomas.\n",
    "\n",
    "Con la tasa de paro y las poblaciones, crea un DataFrame de pandas. Llámalo `data`.\n",
    "\n",
    "- Madrid: 9.99\n",
    "- Galicia: 11.74\n",
    "- Murcia: 16.08\n",
    "- Andalucía: 20.8"
   ]
  },
  {
   "cell_type": "code",
   "execution_count": null,
   "metadata": {},
   "outputs": [],
   "source": []
  },
  {
   "cell_type": "markdown",
   "metadata": {},
   "source": [
    "## Ejercicio 10\n",
    "Imprime por pantalla la población, y la tasa de paro. Por separado"
   ]
  },
  {
   "cell_type": "code",
   "execution_count": null,
   "metadata": {},
   "outputs": [],
   "source": []
  },
  {
   "cell_type": "markdown",
   "metadata": {},
   "source": [
    "## Ejercicio 11\n",
    "Crea un nuevo Data Frame (`data2`), que sea igual que `data`, pero con una nueva columna, que lleve [la superficie de las Comunidades Autónomas](https://es.wikipedia.org/wiki/Anexo:Comunidades_y_ciudades_aut%C3%B3nomas_de_Espa%C3%B1a).\n",
    "\n",
    "- Madrid: 8028\n",
    "- Galicia: 29575\n",
    "- Murcia: 11314\n",
    "- Andalucía: 87599"
   ]
  },
  {
   "cell_type": "code",
   "execution_count": null,
   "metadata": {},
   "outputs": [],
   "source": []
  },
  {
   "cell_type": "markdown",
   "metadata": {},
   "source": [
    "## Ejercicio 12\n",
    "Calcula la densidad de población (hab/km^2) en una nueva columna del dataframe `data2` que se llame `Densidad`."
   ]
  },
  {
   "cell_type": "code",
   "execution_count": null,
   "metadata": {},
   "outputs": [],
   "source": []
  }
 ],
 "metadata": {
  "kernelspec": {
   "name": "python374jvsc74a57bd00600588c3b5f4418cbe7b5ebc6825b479f3bc010269d8b60d75058cdd010adfe",
   "display_name": "Python 3.7.4 64-bit"
  },
  "language_info": {
   "codemirror_mode": {
    "name": "ipython",
    "version": 3
   },
   "file_extension": ".py",
   "mimetype": "text/x-python",
   "name": "python",
   "nbconvert_exporter": "python",
   "pygments_lexer": "ipython3",
   "version": "3.7.4"
  },
  "metadata": {
   "interpreter": {
    "hash": "0600588c3b5f4418cbe7b5ebc6825b479f3bc010269d8b60d75058cdd010adfe"
   }
  }
 },
 "nbformat": 4,
 "nbformat_minor": 4
}