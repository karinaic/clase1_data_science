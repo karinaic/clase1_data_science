{
 "cells": [
  {
   "cell_type": "markdown",
   "metadata": {},
   "source": [
    "# 04 - Grouping"
   ]
  },
  {
   "cell_type": "markdown",
   "metadata": {},
   "source": [
    "### Step 1. Import the necessary libraries"
   ]
  },
  {
   "cell_type": "code",
   "execution_count": 1,
   "metadata": {},
   "outputs": [],
   "source": [
    "import pandas as pd\n",
    "import numpy as np"
   ]
  },
  {
   "cell_type": "markdown",
   "metadata": {},
   "source": [
    "### Step 2. Import the dataset from this [address](https://raw.githubusercontent.com/justmarkham/DAT8/master/data/u.user). "
   ]
  },
  {
   "cell_type": "markdown",
   "metadata": {},
   "source": [
    "### Step 3. Assign it to a variable called users."
   ]
  },
  {
   "cell_type": "code",
   "execution_count": 18,
   "metadata": {},
   "outputs": [
    {
     "output_type": "execute_result",
     "data": {
      "text/plain": [
       "         age gender     occupation zip_code\n",
       "user_id                                    \n",
       "1         24      M     technician    85711\n",
       "2         53      F          other    94043\n",
       "3         23      M         writer    32067\n",
       "4         24      M     technician    43537\n",
       "5         33      F          other    15213\n",
       "...      ...    ...            ...      ...\n",
       "939       26      F        student    33319\n",
       "940       32      M  administrator    02215\n",
       "941       20      M        student    97229\n",
       "942       48      F      librarian    78209\n",
       "943       22      M        student    77841\n",
       "\n",
       "[943 rows x 4 columns]"
      ],
      "text/html": "<div>\n<style scoped>\n    .dataframe tbody tr th:only-of-type {\n        vertical-align: middle;\n    }\n\n    .dataframe tbody tr th {\n        vertical-align: top;\n    }\n\n    .dataframe thead th {\n        text-align: right;\n    }\n</style>\n<table border=\"1\" class=\"dataframe\">\n  <thead>\n    <tr style=\"text-align: right;\">\n      <th></th>\n      <th>age</th>\n      <th>gender</th>\n      <th>occupation</th>\n      <th>zip_code</th>\n    </tr>\n    <tr>\n      <th>user_id</th>\n      <th></th>\n      <th></th>\n      <th></th>\n      <th></th>\n    </tr>\n  </thead>\n  <tbody>\n    <tr>\n      <th>1</th>\n      <td>24</td>\n      <td>M</td>\n      <td>technician</td>\n      <td>85711</td>\n    </tr>\n    <tr>\n      <th>2</th>\n      <td>53</td>\n      <td>F</td>\n      <td>other</td>\n      <td>94043</td>\n    </tr>\n    <tr>\n      <th>3</th>\n      <td>23</td>\n      <td>M</td>\n      <td>writer</td>\n      <td>32067</td>\n    </tr>\n    <tr>\n      <th>4</th>\n      <td>24</td>\n      <td>M</td>\n      <td>technician</td>\n      <td>43537</td>\n    </tr>\n    <tr>\n      <th>5</th>\n      <td>33</td>\n      <td>F</td>\n      <td>other</td>\n      <td>15213</td>\n    </tr>\n    <tr>\n      <th>...</th>\n      <td>...</td>\n      <td>...</td>\n      <td>...</td>\n      <td>...</td>\n    </tr>\n    <tr>\n      <th>939</th>\n      <td>26</td>\n      <td>F</td>\n      <td>student</td>\n      <td>33319</td>\n    </tr>\n    <tr>\n      <th>940</th>\n      <td>32</td>\n      <td>M</td>\n      <td>administrator</td>\n      <td>02215</td>\n    </tr>\n    <tr>\n      <th>941</th>\n      <td>20</td>\n      <td>M</td>\n      <td>student</td>\n      <td>97229</td>\n    </tr>\n    <tr>\n      <th>942</th>\n      <td>48</td>\n      <td>F</td>\n      <td>librarian</td>\n      <td>78209</td>\n    </tr>\n    <tr>\n      <th>943</th>\n      <td>22</td>\n      <td>M</td>\n      <td>student</td>\n      <td>77841</td>\n    </tr>\n  </tbody>\n</table>\n<p>943 rows × 4 columns</p>\n</div>"
     },
     "metadata": {},
     "execution_count": 18
    }
   ],
   "source": [
    "users = pd.read_table('https://raw.githubusercontent.com/justmarkham/DAT8/master/data/u.user', \n",
    "                      sep='|', index_col='user_id')\n",
    "users"
   ]
  },
  {
   "cell_type": "markdown",
   "metadata": {},
   "source": [
    "### Step 4. Discover what is the mean age per occupation"
   ]
  },
  {
   "cell_type": "code",
   "execution_count": 21,
   "metadata": {},
   "outputs": [
    {
     "output_type": "execute_result",
     "data": {
      "text/plain": [
       "occupation\n",
       "administrator    38.746835\n",
       "artist           31.392857\n",
       "doctor           43.571429\n",
       "educator         42.010526\n",
       "engineer         36.388060\n",
       "entertainment    29.222222\n",
       "executive        38.718750\n",
       "healthcare       41.562500\n",
       "homemaker        32.571429\n",
       "lawyer           36.750000\n",
       "librarian        40.000000\n",
       "marketing        37.615385\n",
       "none             26.555556\n",
       "other            34.523810\n",
       "programmer       33.121212\n",
       "retired          63.071429\n",
       "salesman         35.666667\n",
       "scientist        35.548387\n",
       "student          22.081633\n",
       "technician       33.148148\n",
       "writer           36.311111\n",
       "Name: age, dtype: float64"
      ]
     },
     "metadata": {},
     "execution_count": 21
    }
   ],
   "source": [
    "users.groupby(\"occupation\")[\"age\"].mean()\n"
   ]
  },
  {
   "cell_type": "markdown",
   "metadata": {},
   "source": [
    "### Step 5. Discover the Male ratio per occupation and sort it from the most to the least"
   ]
  },
  {
   "cell_type": "code",
   "execution_count": 35,
   "metadata": {},
   "outputs": [
    {
     "output_type": "execute_result",
     "data": {
      "text/plain": [
       "       occupation gender  age\n",
       "0   administrator      F   36\n",
       "1   administrator      M   43\n",
       "2          artist      F   13\n",
       "3          artist      M   15\n",
       "4          doctor      M    7\n",
       "5        educator      F   26\n",
       "6        educator      M   69\n",
       "7        engineer      F    2\n",
       "8        engineer      M   65\n",
       "9   entertainment      F    2\n",
       "10  entertainment      M   16\n",
       "11      executive      F    3\n",
       "12      executive      M   29\n",
       "13     healthcare      F   11\n",
       "14     healthcare      M    5\n",
       "15      homemaker      F    6\n",
       "16      homemaker      M    1\n",
       "17         lawyer      F    2\n",
       "18         lawyer      M   10\n",
       "19      librarian      F   29\n",
       "20      librarian      M   22\n",
       "21      marketing      F   10\n",
       "22      marketing      M   16\n",
       "23           none      F    4\n",
       "24           none      M    5\n",
       "25          other      F   36\n",
       "26          other      M   69\n",
       "27     programmer      F    6\n",
       "28     programmer      M   60\n",
       "29        retired      F    1\n",
       "30        retired      M   13\n",
       "31       salesman      F    3\n",
       "32       salesman      M    9\n",
       "33      scientist      F    3\n",
       "34      scientist      M   28\n",
       "35        student      F   60\n",
       "36        student      M  136\n",
       "37     technician      F    1\n",
       "38     technician      M   26\n",
       "39         writer      F   19\n",
       "40         writer      M   26"
      ],
      "text/html": "<div>\n<style scoped>\n    .dataframe tbody tr th:only-of-type {\n        vertical-align: middle;\n    }\n\n    .dataframe tbody tr th {\n        vertical-align: top;\n    }\n\n    .dataframe thead th {\n        text-align: right;\n    }\n</style>\n<table border=\"1\" class=\"dataframe\">\n  <thead>\n    <tr style=\"text-align: right;\">\n      <th></th>\n      <th>occupation</th>\n      <th>gender</th>\n      <th>age</th>\n    </tr>\n  </thead>\n  <tbody>\n    <tr>\n      <th>0</th>\n      <td>administrator</td>\n      <td>F</td>\n      <td>36</td>\n    </tr>\n    <tr>\n      <th>1</th>\n      <td>administrator</td>\n      <td>M</td>\n      <td>43</td>\n    </tr>\n    <tr>\n      <th>2</th>\n      <td>artist</td>\n      <td>F</td>\n      <td>13</td>\n    </tr>\n    <tr>\n      <th>3</th>\n      <td>artist</td>\n      <td>M</td>\n      <td>15</td>\n    </tr>\n    <tr>\n      <th>4</th>\n      <td>doctor</td>\n      <td>M</td>\n      <td>7</td>\n    </tr>\n    <tr>\n      <th>5</th>\n      <td>educator</td>\n      <td>F</td>\n      <td>26</td>\n    </tr>\n    <tr>\n      <th>6</th>\n      <td>educator</td>\n      <td>M</td>\n      <td>69</td>\n    </tr>\n    <tr>\n      <th>7</th>\n      <td>engineer</td>\n      <td>F</td>\n      <td>2</td>\n    </tr>\n    <tr>\n      <th>8</th>\n      <td>engineer</td>\n      <td>M</td>\n      <td>65</td>\n    </tr>\n    <tr>\n      <th>9</th>\n      <td>entertainment</td>\n      <td>F</td>\n      <td>2</td>\n    </tr>\n    <tr>\n      <th>10</th>\n      <td>entertainment</td>\n      <td>M</td>\n      <td>16</td>\n    </tr>\n    <tr>\n      <th>11</th>\n      <td>executive</td>\n      <td>F</td>\n      <td>3</td>\n    </tr>\n    <tr>\n      <th>12</th>\n      <td>executive</td>\n      <td>M</td>\n      <td>29</td>\n    </tr>\n    <tr>\n      <th>13</th>\n      <td>healthcare</td>\n      <td>F</td>\n      <td>11</td>\n    </tr>\n    <tr>\n      <th>14</th>\n      <td>healthcare</td>\n      <td>M</td>\n      <td>5</td>\n    </tr>\n    <tr>\n      <th>15</th>\n      <td>homemaker</td>\n      <td>F</td>\n      <td>6</td>\n    </tr>\n    <tr>\n      <th>16</th>\n      <td>homemaker</td>\n      <td>M</td>\n      <td>1</td>\n    </tr>\n    <tr>\n      <th>17</th>\n      <td>lawyer</td>\n      <td>F</td>\n      <td>2</td>\n    </tr>\n    <tr>\n      <th>18</th>\n      <td>lawyer</td>\n      <td>M</td>\n      <td>10</td>\n    </tr>\n    <tr>\n      <th>19</th>\n      <td>librarian</td>\n      <td>F</td>\n      <td>29</td>\n    </tr>\n    <tr>\n      <th>20</th>\n      <td>librarian</td>\n      <td>M</td>\n      <td>22</td>\n    </tr>\n    <tr>\n      <th>21</th>\n      <td>marketing</td>\n      <td>F</td>\n      <td>10</td>\n    </tr>\n    <tr>\n      <th>22</th>\n      <td>marketing</td>\n      <td>M</td>\n      <td>16</td>\n    </tr>\n    <tr>\n      <th>23</th>\n      <td>none</td>\n      <td>F</td>\n      <td>4</td>\n    </tr>\n    <tr>\n      <th>24</th>\n      <td>none</td>\n      <td>M</td>\n      <td>5</td>\n    </tr>\n    <tr>\n      <th>25</th>\n      <td>other</td>\n      <td>F</td>\n      <td>36</td>\n    </tr>\n    <tr>\n      <th>26</th>\n      <td>other</td>\n      <td>M</td>\n      <td>69</td>\n    </tr>\n    <tr>\n      <th>27</th>\n      <td>programmer</td>\n      <td>F</td>\n      <td>6</td>\n    </tr>\n    <tr>\n      <th>28</th>\n      <td>programmer</td>\n      <td>M</td>\n      <td>60</td>\n    </tr>\n    <tr>\n      <th>29</th>\n      <td>retired</td>\n      <td>F</td>\n      <td>1</td>\n    </tr>\n    <tr>\n      <th>30</th>\n      <td>retired</td>\n      <td>M</td>\n      <td>13</td>\n    </tr>\n    <tr>\n      <th>31</th>\n      <td>salesman</td>\n      <td>F</td>\n      <td>3</td>\n    </tr>\n    <tr>\n      <th>32</th>\n      <td>salesman</td>\n      <td>M</td>\n      <td>9</td>\n    </tr>\n    <tr>\n      <th>33</th>\n      <td>scientist</td>\n      <td>F</td>\n      <td>3</td>\n    </tr>\n    <tr>\n      <th>34</th>\n      <td>scientist</td>\n      <td>M</td>\n      <td>28</td>\n    </tr>\n    <tr>\n      <th>35</th>\n      <td>student</td>\n      <td>F</td>\n      <td>60</td>\n    </tr>\n    <tr>\n      <th>36</th>\n      <td>student</td>\n      <td>M</td>\n      <td>136</td>\n    </tr>\n    <tr>\n      <th>37</th>\n      <td>technician</td>\n      <td>F</td>\n      <td>1</td>\n    </tr>\n    <tr>\n      <th>38</th>\n      <td>technician</td>\n      <td>M</td>\n      <td>26</td>\n    </tr>\n    <tr>\n      <th>39</th>\n      <td>writer</td>\n      <td>F</td>\n      <td>19</td>\n    </tr>\n    <tr>\n      <th>40</th>\n      <td>writer</td>\n      <td>M</td>\n      <td>26</td>\n    </tr>\n  </tbody>\n</table>\n</div>"
     },
     "metadata": {},
     "execution_count": 35
    }
   ],
   "source": [
    "users.groupby([\"occupation\", \"gender\"]).count().reset_index()[[\"occupation\", \"gender\", \"age\"]]"
   ]
  },
  {
   "cell_type": "markdown",
   "metadata": {},
   "source": [
    "### Step 6. For each occupation, calculate the minimum and maximum ages"
   ]
  },
  {
   "cell_type": "code",
   "execution_count": 25,
   "metadata": {
    "jupyter": {
     "outputs_hidden": false
    }
   },
   "outputs": [
    {
     "output_type": "execute_result",
     "data": {
      "text/plain": [
       "               min  max\n",
       "occupation             \n",
       "administrator   21   70\n",
       "artist          19   48\n",
       "doctor          28   64\n",
       "educator        23   63\n",
       "engineer        22   70\n",
       "entertainment   15   50\n",
       "executive       22   69\n",
       "healthcare      22   62\n",
       "homemaker       20   50\n",
       "lawyer          21   53\n",
       "librarian       23   69\n",
       "marketing       24   55\n",
       "none            11   55\n",
       "other           13   64\n",
       "programmer      20   63\n",
       "retired         51   73\n",
       "salesman        18   66\n",
       "scientist       23   55\n",
       "student          7   42\n",
       "technician      21   55\n",
       "writer          18   60"
      ],
      "text/html": "<div>\n<style scoped>\n    .dataframe tbody tr th:only-of-type {\n        vertical-align: middle;\n    }\n\n    .dataframe tbody tr th {\n        vertical-align: top;\n    }\n\n    .dataframe thead th {\n        text-align: right;\n    }\n</style>\n<table border=\"1\" class=\"dataframe\">\n  <thead>\n    <tr style=\"text-align: right;\">\n      <th></th>\n      <th>min</th>\n      <th>max</th>\n    </tr>\n    <tr>\n      <th>occupation</th>\n      <th></th>\n      <th></th>\n    </tr>\n  </thead>\n  <tbody>\n    <tr>\n      <th>administrator</th>\n      <td>21</td>\n      <td>70</td>\n    </tr>\n    <tr>\n      <th>artist</th>\n      <td>19</td>\n      <td>48</td>\n    </tr>\n    <tr>\n      <th>doctor</th>\n      <td>28</td>\n      <td>64</td>\n    </tr>\n    <tr>\n      <th>educator</th>\n      <td>23</td>\n      <td>63</td>\n    </tr>\n    <tr>\n      <th>engineer</th>\n      <td>22</td>\n      <td>70</td>\n    </tr>\n    <tr>\n      <th>entertainment</th>\n      <td>15</td>\n      <td>50</td>\n    </tr>\n    <tr>\n      <th>executive</th>\n      <td>22</td>\n      <td>69</td>\n    </tr>\n    <tr>\n      <th>healthcare</th>\n      <td>22</td>\n      <td>62</td>\n    </tr>\n    <tr>\n      <th>homemaker</th>\n      <td>20</td>\n      <td>50</td>\n    </tr>\n    <tr>\n      <th>lawyer</th>\n      <td>21</td>\n      <td>53</td>\n    </tr>\n    <tr>\n      <th>librarian</th>\n      <td>23</td>\n      <td>69</td>\n    </tr>\n    <tr>\n      <th>marketing</th>\n      <td>24</td>\n      <td>55</td>\n    </tr>\n    <tr>\n      <th>none</th>\n      <td>11</td>\n      <td>55</td>\n    </tr>\n    <tr>\n      <th>other</th>\n      <td>13</td>\n      <td>64</td>\n    </tr>\n    <tr>\n      <th>programmer</th>\n      <td>20</td>\n      <td>63</td>\n    </tr>\n    <tr>\n      <th>retired</th>\n      <td>51</td>\n      <td>73</td>\n    </tr>\n    <tr>\n      <th>salesman</th>\n      <td>18</td>\n      <td>66</td>\n    </tr>\n    <tr>\n      <th>scientist</th>\n      <td>23</td>\n      <td>55</td>\n    </tr>\n    <tr>\n      <th>student</th>\n      <td>7</td>\n      <td>42</td>\n    </tr>\n    <tr>\n      <th>technician</th>\n      <td>21</td>\n      <td>55</td>\n    </tr>\n    <tr>\n      <th>writer</th>\n      <td>18</td>\n      <td>60</td>\n    </tr>\n  </tbody>\n</table>\n</div>"
     },
     "metadata": {},
     "execution_count": 25
    }
   ],
   "source": [
    "users.groupby(\"occupation\")[\"age\"].aggregate([\"min\", \"max\"])"
   ]
  },
  {
   "cell_type": "markdown",
   "metadata": {},
   "source": [
    "### Step 7. For each combination of occupation and gender, calculate the mean age"
   ]
  },
  {
   "cell_type": "code",
   "execution_count": 29,
   "metadata": {},
   "outputs": [
    {
     "output_type": "execute_result",
     "data": {
      "text/plain": [
       "                            age\n",
       "occupation    gender           \n",
       "administrator F       40.638889\n",
       "              M       37.162791\n",
       "artist        F       30.307692\n",
       "              M       32.333333\n",
       "doctor        M       43.571429\n",
       "educator      F       39.115385\n",
       "              M       43.101449\n",
       "engineer      F       29.500000\n",
       "              M       36.600000\n",
       "entertainment F       31.000000\n",
       "              M       29.000000\n",
       "executive     F       44.000000\n",
       "              M       38.172414\n",
       "healthcare    F       39.818182\n",
       "              M       45.400000\n",
       "homemaker     F       34.166667\n",
       "              M       23.000000\n",
       "lawyer        F       39.500000\n",
       "              M       36.200000\n",
       "librarian     F       40.000000\n",
       "              M       40.000000\n",
       "marketing     F       37.200000\n",
       "              M       37.875000\n",
       "none          F       36.500000\n",
       "              M       18.600000\n",
       "other         F       35.472222\n",
       "              M       34.028986\n",
       "programmer    F       32.166667\n",
       "              M       33.216667\n",
       "retired       F       70.000000\n",
       "              M       62.538462\n",
       "salesman      F       27.000000\n",
       "              M       38.555556\n",
       "scientist     F       28.333333\n",
       "              M       36.321429\n",
       "student       F       20.750000\n",
       "              M       22.669118\n",
       "technician    F       38.000000\n",
       "              M       32.961538\n",
       "writer        F       37.631579\n",
       "              M       35.346154"
      ],
      "text/html": "<div>\n<style scoped>\n    .dataframe tbody tr th:only-of-type {\n        vertical-align: middle;\n    }\n\n    .dataframe tbody tr th {\n        vertical-align: top;\n    }\n\n    .dataframe thead th {\n        text-align: right;\n    }\n</style>\n<table border=\"1\" class=\"dataframe\">\n  <thead>\n    <tr style=\"text-align: right;\">\n      <th></th>\n      <th></th>\n      <th>age</th>\n    </tr>\n    <tr>\n      <th>occupation</th>\n      <th>gender</th>\n      <th></th>\n    </tr>\n  </thead>\n  <tbody>\n    <tr>\n      <th rowspan=\"2\" valign=\"top\">administrator</th>\n      <th>F</th>\n      <td>40.638889</td>\n    </tr>\n    <tr>\n      <th>M</th>\n      <td>37.162791</td>\n    </tr>\n    <tr>\n      <th rowspan=\"2\" valign=\"top\">artist</th>\n      <th>F</th>\n      <td>30.307692</td>\n    </tr>\n    <tr>\n      <th>M</th>\n      <td>32.333333</td>\n    </tr>\n    <tr>\n      <th>doctor</th>\n      <th>M</th>\n      <td>43.571429</td>\n    </tr>\n    <tr>\n      <th rowspan=\"2\" valign=\"top\">educator</th>\n      <th>F</th>\n      <td>39.115385</td>\n    </tr>\n    <tr>\n      <th>M</th>\n      <td>43.101449</td>\n    </tr>\n    <tr>\n      <th rowspan=\"2\" valign=\"top\">engineer</th>\n      <th>F</th>\n      <td>29.500000</td>\n    </tr>\n    <tr>\n      <th>M</th>\n      <td>36.600000</td>\n    </tr>\n    <tr>\n      <th rowspan=\"2\" valign=\"top\">entertainment</th>\n      <th>F</th>\n      <td>31.000000</td>\n    </tr>\n    <tr>\n      <th>M</th>\n      <td>29.000000</td>\n    </tr>\n    <tr>\n      <th rowspan=\"2\" valign=\"top\">executive</th>\n      <th>F</th>\n      <td>44.000000</td>\n    </tr>\n    <tr>\n      <th>M</th>\n      <td>38.172414</td>\n    </tr>\n    <tr>\n      <th rowspan=\"2\" valign=\"top\">healthcare</th>\n      <th>F</th>\n      <td>39.818182</td>\n    </tr>\n    <tr>\n      <th>M</th>\n      <td>45.400000</td>\n    </tr>\n    <tr>\n      <th rowspan=\"2\" valign=\"top\">homemaker</th>\n      <th>F</th>\n      <td>34.166667</td>\n    </tr>\n    <tr>\n      <th>M</th>\n      <td>23.000000</td>\n    </tr>\n    <tr>\n      <th rowspan=\"2\" valign=\"top\">lawyer</th>\n      <th>F</th>\n      <td>39.500000</td>\n    </tr>\n    <tr>\n      <th>M</th>\n      <td>36.200000</td>\n    </tr>\n    <tr>\n      <th rowspan=\"2\" valign=\"top\">librarian</th>\n      <th>F</th>\n      <td>40.000000</td>\n    </tr>\n    <tr>\n      <th>M</th>\n      <td>40.000000</td>\n    </tr>\n    <tr>\n      <th rowspan=\"2\" valign=\"top\">marketing</th>\n      <th>F</th>\n      <td>37.200000</td>\n    </tr>\n    <tr>\n      <th>M</th>\n      <td>37.875000</td>\n    </tr>\n    <tr>\n      <th rowspan=\"2\" valign=\"top\">none</th>\n      <th>F</th>\n      <td>36.500000</td>\n    </tr>\n    <tr>\n      <th>M</th>\n      <td>18.600000</td>\n    </tr>\n    <tr>\n      <th rowspan=\"2\" valign=\"top\">other</th>\n      <th>F</th>\n      <td>35.472222</td>\n    </tr>\n    <tr>\n      <th>M</th>\n      <td>34.028986</td>\n    </tr>\n    <tr>\n      <th rowspan=\"2\" valign=\"top\">programmer</th>\n      <th>F</th>\n      <td>32.166667</td>\n    </tr>\n    <tr>\n      <th>M</th>\n      <td>33.216667</td>\n    </tr>\n    <tr>\n      <th rowspan=\"2\" valign=\"top\">retired</th>\n      <th>F</th>\n      <td>70.000000</td>\n    </tr>\n    <tr>\n      <th>M</th>\n      <td>62.538462</td>\n    </tr>\n    <tr>\n      <th rowspan=\"2\" valign=\"top\">salesman</th>\n      <th>F</th>\n      <td>27.000000</td>\n    </tr>\n    <tr>\n      <th>M</th>\n      <td>38.555556</td>\n    </tr>\n    <tr>\n      <th rowspan=\"2\" valign=\"top\">scientist</th>\n      <th>F</th>\n      <td>28.333333</td>\n    </tr>\n    <tr>\n      <th>M</th>\n      <td>36.321429</td>\n    </tr>\n    <tr>\n      <th rowspan=\"2\" valign=\"top\">student</th>\n      <th>F</th>\n      <td>20.750000</td>\n    </tr>\n    <tr>\n      <th>M</th>\n      <td>22.669118</td>\n    </tr>\n    <tr>\n      <th rowspan=\"2\" valign=\"top\">technician</th>\n      <th>F</th>\n      <td>38.000000</td>\n    </tr>\n    <tr>\n      <th>M</th>\n      <td>32.961538</td>\n    </tr>\n    <tr>\n      <th rowspan=\"2\" valign=\"top\">writer</th>\n      <th>F</th>\n      <td>37.631579</td>\n    </tr>\n    <tr>\n      <th>M</th>\n      <td>35.346154</td>\n    </tr>\n  </tbody>\n</table>\n</div>"
     },
     "metadata": {},
     "execution_count": 29
    }
   ],
   "source": [
    "users.groupby([\"occupation\",\"gender\"]).mean()"
   ]
  },
  {
   "cell_type": "markdown",
   "metadata": {},
   "source": [
    "### Step 8.  For each occupation present the percentage of women and men"
   ]
  },
  {
   "cell_type": "code",
   "execution_count": 36,
   "metadata": {},
   "outputs": [
    {
     "output_type": "execute_result",
     "data": {
      "text/plain": [
       "       occupation gender  age\n",
       "0   administrator      F   36\n",
       "1   administrator      M   43\n",
       "2          artist      F   13\n",
       "3          artist      M   15\n",
       "4          doctor      M    7\n",
       "5        educator      F   26\n",
       "6        educator      M   69\n",
       "7        engineer      F    2\n",
       "8        engineer      M   65\n",
       "9   entertainment      F    2\n",
       "10  entertainment      M   16\n",
       "11      executive      F    3\n",
       "12      executive      M   29\n",
       "13     healthcare      F   11\n",
       "14     healthcare      M    5\n",
       "15      homemaker      F    6\n",
       "16      homemaker      M    1\n",
       "17         lawyer      F    2\n",
       "18         lawyer      M   10\n",
       "19      librarian      F   29\n",
       "20      librarian      M   22\n",
       "21      marketing      F   10\n",
       "22      marketing      M   16\n",
       "23           none      F    4\n",
       "24           none      M    5\n",
       "25          other      F   36\n",
       "26          other      M   69\n",
       "27     programmer      F    6\n",
       "28     programmer      M   60\n",
       "29        retired      F    1\n",
       "30        retired      M   13\n",
       "31       salesman      F    3\n",
       "32       salesman      M    9\n",
       "33      scientist      F    3\n",
       "34      scientist      M   28\n",
       "35        student      F   60\n",
       "36        student      M  136\n",
       "37     technician      F    1\n",
       "38     technician      M   26\n",
       "39         writer      F   19\n",
       "40         writer      M   26"
      ],
      "text/html": "<div>\n<style scoped>\n    .dataframe tbody tr th:only-of-type {\n        vertical-align: middle;\n    }\n\n    .dataframe tbody tr th {\n        vertical-align: top;\n    }\n\n    .dataframe thead th {\n        text-align: right;\n    }\n</style>\n<table border=\"1\" class=\"dataframe\">\n  <thead>\n    <tr style=\"text-align: right;\">\n      <th></th>\n      <th>occupation</th>\n      <th>gender</th>\n      <th>age</th>\n    </tr>\n  </thead>\n  <tbody>\n    <tr>\n      <th>0</th>\n      <td>administrator</td>\n      <td>F</td>\n      <td>36</td>\n    </tr>\n    <tr>\n      <th>1</th>\n      <td>administrator</td>\n      <td>M</td>\n      <td>43</td>\n    </tr>\n    <tr>\n      <th>2</th>\n      <td>artist</td>\n      <td>F</td>\n      <td>13</td>\n    </tr>\n    <tr>\n      <th>3</th>\n      <td>artist</td>\n      <td>M</td>\n      <td>15</td>\n    </tr>\n    <tr>\n      <th>4</th>\n      <td>doctor</td>\n      <td>M</td>\n      <td>7</td>\n    </tr>\n    <tr>\n      <th>5</th>\n      <td>educator</td>\n      <td>F</td>\n      <td>26</td>\n    </tr>\n    <tr>\n      <th>6</th>\n      <td>educator</td>\n      <td>M</td>\n      <td>69</td>\n    </tr>\n    <tr>\n      <th>7</th>\n      <td>engineer</td>\n      <td>F</td>\n      <td>2</td>\n    </tr>\n    <tr>\n      <th>8</th>\n      <td>engineer</td>\n      <td>M</td>\n      <td>65</td>\n    </tr>\n    <tr>\n      <th>9</th>\n      <td>entertainment</td>\n      <td>F</td>\n      <td>2</td>\n    </tr>\n    <tr>\n      <th>10</th>\n      <td>entertainment</td>\n      <td>M</td>\n      <td>16</td>\n    </tr>\n    <tr>\n      <th>11</th>\n      <td>executive</td>\n      <td>F</td>\n      <td>3</td>\n    </tr>\n    <tr>\n      <th>12</th>\n      <td>executive</td>\n      <td>M</td>\n      <td>29</td>\n    </tr>\n    <tr>\n      <th>13</th>\n      <td>healthcare</td>\n      <td>F</td>\n      <td>11</td>\n    </tr>\n    <tr>\n      <th>14</th>\n      <td>healthcare</td>\n      <td>M</td>\n      <td>5</td>\n    </tr>\n    <tr>\n      <th>15</th>\n      <td>homemaker</td>\n      <td>F</td>\n      <td>6</td>\n    </tr>\n    <tr>\n      <th>16</th>\n      <td>homemaker</td>\n      <td>M</td>\n      <td>1</td>\n    </tr>\n    <tr>\n      <th>17</th>\n      <td>lawyer</td>\n      <td>F</td>\n      <td>2</td>\n    </tr>\n    <tr>\n      <th>18</th>\n      <td>lawyer</td>\n      <td>M</td>\n      <td>10</td>\n    </tr>\n    <tr>\n      <th>19</th>\n      <td>librarian</td>\n      <td>F</td>\n      <td>29</td>\n    </tr>\n    <tr>\n      <th>20</th>\n      <td>librarian</td>\n      <td>M</td>\n      <td>22</td>\n    </tr>\n    <tr>\n      <th>21</th>\n      <td>marketing</td>\n      <td>F</td>\n      <td>10</td>\n    </tr>\n    <tr>\n      <th>22</th>\n      <td>marketing</td>\n      <td>M</td>\n      <td>16</td>\n    </tr>\n    <tr>\n      <th>23</th>\n      <td>none</td>\n      <td>F</td>\n      <td>4</td>\n    </tr>\n    <tr>\n      <th>24</th>\n      <td>none</td>\n      <td>M</td>\n      <td>5</td>\n    </tr>\n    <tr>\n      <th>25</th>\n      <td>other</td>\n      <td>F</td>\n      <td>36</td>\n    </tr>\n    <tr>\n      <th>26</th>\n      <td>other</td>\n      <td>M</td>\n      <td>69</td>\n    </tr>\n    <tr>\n      <th>27</th>\n      <td>programmer</td>\n      <td>F</td>\n      <td>6</td>\n    </tr>\n    <tr>\n      <th>28</th>\n      <td>programmer</td>\n      <td>M</td>\n      <td>60</td>\n    </tr>\n    <tr>\n      <th>29</th>\n      <td>retired</td>\n      <td>F</td>\n      <td>1</td>\n    </tr>\n    <tr>\n      <th>30</th>\n      <td>retired</td>\n      <td>M</td>\n      <td>13</td>\n    </tr>\n    <tr>\n      <th>31</th>\n      <td>salesman</td>\n      <td>F</td>\n      <td>3</td>\n    </tr>\n    <tr>\n      <th>32</th>\n      <td>salesman</td>\n      <td>M</td>\n      <td>9</td>\n    </tr>\n    <tr>\n      <th>33</th>\n      <td>scientist</td>\n      <td>F</td>\n      <td>3</td>\n    </tr>\n    <tr>\n      <th>34</th>\n      <td>scientist</td>\n      <td>M</td>\n      <td>28</td>\n    </tr>\n    <tr>\n      <th>35</th>\n      <td>student</td>\n      <td>F</td>\n      <td>60</td>\n    </tr>\n    <tr>\n      <th>36</th>\n      <td>student</td>\n      <td>M</td>\n      <td>136</td>\n    </tr>\n    <tr>\n      <th>37</th>\n      <td>technician</td>\n      <td>F</td>\n      <td>1</td>\n    </tr>\n    <tr>\n      <th>38</th>\n      <td>technician</td>\n      <td>M</td>\n      <td>26</td>\n    </tr>\n    <tr>\n      <th>39</th>\n      <td>writer</td>\n      <td>F</td>\n      <td>19</td>\n    </tr>\n    <tr>\n      <th>40</th>\n      <td>writer</td>\n      <td>M</td>\n      <td>26</td>\n    </tr>\n  </tbody>\n</table>\n</div>"
     },
     "metadata": {},
     "execution_count": 36
    }
   ],
   "source": [
    "users.groupby([\"occupation\", \"gender\"]).count().reset_index()[[\"occupation\", \"gender\", \"age\"]]\n"
   ]
  }
 ],
 "metadata": {
  "kernelspec": {
   "name": "python374jvsc74a57bd00600588c3b5f4418cbe7b5ebc6825b479f3bc010269d8b60d75058cdd010adfe",
   "display_name": "Python 3.7.4 64-bit"
  },
  "language_info": {
   "codemirror_mode": {
    "name": "ipython",
    "version": 3
   },
   "file_extension": ".py",
   "mimetype": "text/x-python",
   "name": "python",
   "nbconvert_exporter": "python",
   "pygments_lexer": "ipython3",
   "version": "3.7.4"
  },
  "metadata": {
   "interpreter": {
    "hash": "0600588c3b5f4418cbe7b5ebc6825b479f3bc010269d8b60d75058cdd010adfe"
   }
  }
 },
 "nbformat": 4,
 "nbformat_minor": 4
}