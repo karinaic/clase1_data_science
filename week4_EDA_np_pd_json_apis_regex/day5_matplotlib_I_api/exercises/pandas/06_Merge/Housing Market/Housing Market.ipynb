{
 "cells": [
  {
   "cell_type": "markdown",
   "metadata": {},
   "source": [
    "# 06 - Combining datasets"
   ]
  },
  {
   "cell_type": "markdown",
   "metadata": {},
   "source": [
    "### Introduction:\n",
    "\n",
    "This time we will create our own dataset with fictional numbers to describe a house market. As we are going to create random data don't try to reason of the numbers.\n",
    "\n",
    "### Step 1. Import the necessary libraries"
   ]
  },
  {
   "cell_type": "code",
   "execution_count": 2,
   "metadata": {},
   "outputs": [],
   "source": [
    "import pandas as pd\n",
    "import numpy as np"
   ]
  },
  {
   "cell_type": "markdown",
   "metadata": {},
   "source": [
    "### Step 2. Create 3 differents Series, each of length 100, as follows: \n",
    "1. The first a random number from 1 to 4 \n",
    "2. The second a random number from 1 to 3\n",
    "3. The third a random number from 10,000 to 30,000"
   ]
  },
  {
   "cell_type": "code",
   "execution_count": 3,
   "metadata": {
    "tags": []
   },
   "outputs": [],
   "source": [
    "seriea = pd.Series(np.random.randint(low=1, high=5, size=100))\n",
    "serieb = pd.Series(np.random.randint(1, high=4, size=100))\n",
    "seriec = pd.Series(np.random.randint(10000, 30001, 100))"
   ]
  },
  {
   "cell_type": "code",
   "execution_count": 4,
   "metadata": {},
   "outputs": [
    {
     "output_type": "execute_result",
     "data": {
      "text/plain": [
       "0     2\n",
       "1     3\n",
       "2     3\n",
       "3     4\n",
       "4     2\n",
       "     ..\n",
       "95    1\n",
       "96    3\n",
       "97    4\n",
       "98    2\n",
       "99    4\n",
       "Length: 100, dtype: int32"
      ]
     },
     "metadata": {},
     "execution_count": 4
    }
   ],
   "source": [
    "seriea"
   ]
  },
  {
   "cell_type": "code",
   "execution_count": 5,
   "metadata": {},
   "outputs": [
    {
     "output_type": "execute_result",
     "data": {
      "text/plain": [
       "0     2\n",
       "1     3\n",
       "2     3\n",
       "3     3\n",
       "4     1\n",
       "     ..\n",
       "95    2\n",
       "96    1\n",
       "97    2\n",
       "98    3\n",
       "99    1\n",
       "Length: 100, dtype: int32"
      ]
     },
     "metadata": {},
     "execution_count": 5
    }
   ],
   "source": [
    "serieb"
   ]
  },
  {
   "cell_type": "code",
   "execution_count": 7,
   "metadata": {},
   "outputs": [
    {
     "output_type": "execute_result",
     "data": {
      "text/plain": [
       "0     19477\n",
       "1     24792\n",
       "2     19043\n",
       "3     24728\n",
       "4     28889\n",
       "      ...  \n",
       "95    12404\n",
       "96    13813\n",
       "97    15280\n",
       "98    13118\n",
       "99    23945\n",
       "Length: 100, dtype: int32"
      ]
     },
     "metadata": {},
     "execution_count": 7
    }
   ],
   "source": [
    "seriec"
   ]
  },
  {
   "cell_type": "markdown",
   "metadata": {},
   "source": [
    "### Step 3. Let's create a DataFrame by joinning the Series by column"
   ]
  },
  {
   "cell_type": "code",
   "execution_count": 12,
   "metadata": {},
   "outputs": [
    {
     "output_type": "execute_result",
     "data": {
      "text/plain": [
       "   0  1      2\n",
       "0  2  2  19477\n",
       "1  3  3  24792\n",
       "2  3  3  19043\n",
       "3  4  3  24728\n",
       "4  2  1  28889"
      ],
      "text/html": "<div>\n<style scoped>\n    .dataframe tbody tr th:only-of-type {\n        vertical-align: middle;\n    }\n\n    .dataframe tbody tr th {\n        vertical-align: top;\n    }\n\n    .dataframe thead th {\n        text-align: right;\n    }\n</style>\n<table border=\"1\" class=\"dataframe\">\n  <thead>\n    <tr style=\"text-align: right;\">\n      <th></th>\n      <th>0</th>\n      <th>1</th>\n      <th>2</th>\n    </tr>\n  </thead>\n  <tbody>\n    <tr>\n      <th>0</th>\n      <td>2</td>\n      <td>2</td>\n      <td>19477</td>\n    </tr>\n    <tr>\n      <th>1</th>\n      <td>3</td>\n      <td>3</td>\n      <td>24792</td>\n    </tr>\n    <tr>\n      <th>2</th>\n      <td>3</td>\n      <td>3</td>\n      <td>19043</td>\n    </tr>\n    <tr>\n      <th>3</th>\n      <td>4</td>\n      <td>3</td>\n      <td>24728</td>\n    </tr>\n    <tr>\n      <th>4</th>\n      <td>2</td>\n      <td>1</td>\n      <td>28889</td>\n    </tr>\n  </tbody>\n</table>\n</div>"
     },
     "metadata": {},
     "execution_count": 12
    }
   ],
   "source": [
    "data_joining = pd.concat([seriea, serieb, seriec], axis=1)\n",
    "data_joining.head()"
   ]
  },
  {
   "cell_type": "markdown",
   "metadata": {},
   "source": [
    "### Step 4. Change the name of the columns to bedrs, bathrs, price_sqr_meter"
   ]
  },
  {
   "cell_type": "code",
   "execution_count": 13,
   "metadata": {},
   "outputs": [
    {
     "output_type": "execute_result",
     "data": {
      "text/plain": [
       "    bedrs  bathrs  price_sqr_meter\n",
       "0       2       2            19477\n",
       "1       3       3            24792\n",
       "2       3       3            19043\n",
       "3       4       3            24728\n",
       "4       2       1            28889\n",
       "..    ...     ...              ...\n",
       "95      1       2            12404\n",
       "96      3       1            13813\n",
       "97      4       2            15280\n",
       "98      2       3            13118\n",
       "99      4       1            23945\n",
       "\n",
       "[100 rows x 3 columns]"
      ],
      "text/html": "<div>\n<style scoped>\n    .dataframe tbody tr th:only-of-type {\n        vertical-align: middle;\n    }\n\n    .dataframe tbody tr th {\n        vertical-align: top;\n    }\n\n    .dataframe thead th {\n        text-align: right;\n    }\n</style>\n<table border=\"1\" class=\"dataframe\">\n  <thead>\n    <tr style=\"text-align: right;\">\n      <th></th>\n      <th>bedrs</th>\n      <th>bathrs</th>\n      <th>price_sqr_meter</th>\n    </tr>\n  </thead>\n  <tbody>\n    <tr>\n      <th>0</th>\n      <td>2</td>\n      <td>2</td>\n      <td>19477</td>\n    </tr>\n    <tr>\n      <th>1</th>\n      <td>3</td>\n      <td>3</td>\n      <td>24792</td>\n    </tr>\n    <tr>\n      <th>2</th>\n      <td>3</td>\n      <td>3</td>\n      <td>19043</td>\n    </tr>\n    <tr>\n      <th>3</th>\n      <td>4</td>\n      <td>3</td>\n      <td>24728</td>\n    </tr>\n    <tr>\n      <th>4</th>\n      <td>2</td>\n      <td>1</td>\n      <td>28889</td>\n    </tr>\n    <tr>\n      <th>...</th>\n      <td>...</td>\n      <td>...</td>\n      <td>...</td>\n    </tr>\n    <tr>\n      <th>95</th>\n      <td>1</td>\n      <td>2</td>\n      <td>12404</td>\n    </tr>\n    <tr>\n      <th>96</th>\n      <td>3</td>\n      <td>1</td>\n      <td>13813</td>\n    </tr>\n    <tr>\n      <th>97</th>\n      <td>4</td>\n      <td>2</td>\n      <td>15280</td>\n    </tr>\n    <tr>\n      <th>98</th>\n      <td>2</td>\n      <td>3</td>\n      <td>13118</td>\n    </tr>\n    <tr>\n      <th>99</th>\n      <td>4</td>\n      <td>1</td>\n      <td>23945</td>\n    </tr>\n  </tbody>\n</table>\n<p>100 rows × 3 columns</p>\n</div>"
     },
     "metadata": {},
     "execution_count": 13
    }
   ],
   "source": [
    "data_joining.columns = ['bedrs', 'bathrs', 'price_sqr_meter']\n",
    "data_joining"
   ]
  },
  {
   "cell_type": "markdown",
   "metadata": {},
   "source": [
    "### Step 5. Create a column DataFrame with the values of the 3 Series and assign it to 'bigcolumn'"
   ]
  },
  {
   "cell_type": "code",
   "execution_count": 33,
   "metadata": {},
   "outputs": [
    {
     "output_type": "execute_result",
     "data": {
      "text/plain": [
       "0         2\n",
       "1         3\n",
       "2         3\n",
       "3         4\n",
       "4         2\n",
       "      ...  \n",
       "95    12404\n",
       "96    13813\n",
       "97    15280\n",
       "98    13118\n",
       "99    23945\n",
       "Length: 300, dtype: int32"
      ]
     },
     "metadata": {},
     "execution_count": 33
    }
   ],
   "source": [
    "bigcolumn = pd.concat([seriea, serieb, seriec], axis=0)\n",
    "bigcolumn"
   ]
  },
  {
   "cell_type": "markdown",
   "metadata": {},
   "source": [
    "### Step 6. Oops, it seems it is going only until index 99. Is it true?"
   ]
  },
  {
   "cell_type": "code",
   "execution_count": 34,
   "metadata": {},
   "outputs": [
    {
     "output_type": "execute_result",
     "data": {
      "text/plain": [
       "array([ 0,  1,  2,  3,  4,  5,  6,  7,  8,  9, 10, 11, 12, 13, 14, 15, 16,\n",
       "       17, 18, 19, 20, 21, 22, 23, 24, 25, 26, 27, 28, 29, 30, 31, 32, 33,\n",
       "       34, 35, 36, 37, 38, 39, 40, 41, 42, 43, 44, 45, 46, 47, 48, 49, 50,\n",
       "       51, 52, 53, 54, 55, 56, 57, 58, 59, 60, 61, 62, 63, 64, 65, 66, 67,\n",
       "       68, 69, 70, 71, 72, 73, 74, 75, 76, 77, 78, 79, 80, 81, 82, 83, 84,\n",
       "       85, 86, 87, 88, 89, 90, 91, 92, 93, 94, 95, 96, 97, 98, 99,  0,  1,\n",
       "        2,  3,  4,  5,  6,  7,  8,  9, 10, 11, 12, 13, 14, 15, 16, 17, 18,\n",
       "       19, 20, 21, 22, 23, 24, 25, 26, 27, 28, 29, 30, 31, 32, 33, 34, 35,\n",
       "       36, 37, 38, 39, 40, 41, 42, 43, 44, 45, 46, 47, 48, 49, 50, 51, 52,\n",
       "       53, 54, 55, 56, 57, 58, 59, 60, 61, 62, 63, 64, 65, 66, 67, 68, 69,\n",
       "       70, 71, 72, 73, 74, 75, 76, 77, 78, 79, 80, 81, 82, 83, 84, 85, 86,\n",
       "       87, 88, 89, 90, 91, 92, 93, 94, 95, 96, 97, 98, 99,  0,  1,  2,  3,\n",
       "        4,  5,  6,  7,  8,  9, 10, 11, 12, 13, 14, 15, 16, 17, 18, 19, 20,\n",
       "       21, 22, 23, 24, 25, 26, 27, 28, 29, 30, 31, 32, 33, 34, 35, 36, 37,\n",
       "       38, 39, 40, 41, 42, 43, 44, 45, 46, 47, 48, 49, 50, 51, 52, 53, 54,\n",
       "       55, 56, 57, 58, 59, 60, 61, 62, 63, 64, 65, 66, 67, 68, 69, 70, 71,\n",
       "       72, 73, 74, 75, 76, 77, 78, 79, 80, 81, 82, 83, 84, 85, 86, 87, 88,\n",
       "       89, 90, 91, 92, 93, 94, 95, 96, 97, 98, 99], dtype=int64)"
      ]
     },
     "metadata": {},
     "execution_count": 34
    }
   ],
   "source": [
    "bigcolumn.index.values"
   ]
  },
  {
   "cell_type": "markdown",
   "metadata": {},
   "source": [
    "### Step 7. Reindex the DataFrame so it goes from 0 to 299"
   ]
  },
  {
   "cell_type": "code",
   "execution_count": 37,
   "metadata": {},
   "outputs": [
    {
     "output_type": "stream",
     "name": "stdout",
     "text": [
      "Help on method reset_index in module pandas.core.series:\n\nreset_index(level=None, drop=False, name=None, inplace=False) method of pandas.core.series.Series instance\n    Generate a new DataFrame or Series with the index reset.\n    \n    This is useful when the index needs to be treated as a column, or\n    when the index is meaningless and needs to be reset to the default\n    before another operation.\n    \n    Parameters\n    ----------\n    level : int, str, tuple, or list, default optional\n        For a Series with a MultiIndex, only remove the specified levels\n        from the index. Removes all levels by default.\n    drop : bool, default False\n        Just reset the index, without inserting it as a column in\n        the new DataFrame.\n    name : object, optional\n        The name to use for the column containing the original Series\n        values. Uses ``self.name`` by default. This argument is ignored\n        when `drop` is True.\n    inplace : bool, default False\n        Modify the Series in place (do not create a new object).\n    \n    Returns\n    -------\n    Series or DataFrame or None\n        When `drop` is False (the default), a DataFrame is returned.\n        The newly created columns will come first in the DataFrame,\n        followed by the original Series values.\n        When `drop` is True, a `Series` is returned.\n        In either case, if ``inplace=True``, no value is returned.\n    \n    See Also\n    --------\n    DataFrame.reset_index: Analogous function for DataFrame.\n    \n    Examples\n    --------\n    >>> s = pd.Series([1, 2, 3, 4], name='foo',\n    ...               index=pd.Index(['a', 'b', 'c', 'd'], name='idx'))\n    \n    Generate a DataFrame with default index.\n    \n    >>> s.reset_index()\n      idx  foo\n    0   a    1\n    1   b    2\n    2   c    3\n    3   d    4\n    \n    To specify the name of the new column use `name`.\n    \n    >>> s.reset_index(name='values')\n      idx  values\n    0   a       1\n    1   b       2\n    2   c       3\n    3   d       4\n    \n    To generate a new Series with the default set `drop` to True.\n    \n    >>> s.reset_index(drop=True)\n    0    1\n    1    2\n    2    3\n    3    4\n    Name: foo, dtype: int64\n    \n    To update the Series in place, without generating a new one\n    set `inplace` to True. Note that it also requires ``drop=True``.\n    \n    >>> s.reset_index(inplace=True, drop=True)\n    >>> s\n    0    1\n    1    2\n    2    3\n    3    4\n    Name: foo, dtype: int64\n    \n    The `level` parameter is interesting for Series with a multi-level\n    index.\n    \n    >>> arrays = [np.array(['bar', 'bar', 'baz', 'baz']),\n    ...           np.array(['one', 'two', 'one', 'two'])]\n    >>> s2 = pd.Series(\n    ...     range(4), name='foo',\n    ...     index=pd.MultiIndex.from_arrays(arrays,\n    ...                                     names=['a', 'b']))\n    \n    To remove a specific level from the Index, use `level`.\n    \n    >>> s2.reset_index(level='a')\n           a  foo\n    b\n    one  bar    0\n    two  bar    1\n    one  baz    2\n    two  baz    3\n    \n    If `level` is not set, all levels are removed from the Index.\n    \n    >>> s2.reset_index()\n         a    b  foo\n    0  bar  one    0\n    1  bar  two    1\n    2  baz  one    2\n    3  baz  two    3\n\n"
     ]
    }
   ],
   "source": [
    "help(bigcolumn.reset_index)"
   ]
  }
 ],
 "metadata": {
  "kernelspec": {
   "name": "python374jvsc74a57bd00600588c3b5f4418cbe7b5ebc6825b479f3bc010269d8b60d75058cdd010adfe",
   "display_name": "Python 3.7.4 64-bit"
  },
  "language_info": {
   "codemirror_mode": {
    "name": "ipython",
    "version": 3
   },
   "file_extension": ".py",
   "mimetype": "text/x-python",
   "name": "python",
   "nbconvert_exporter": "python",
   "pygments_lexer": "ipython3",
   "version": "3.7.4"
  },
  "metadata": {
   "interpreter": {
    "hash": "0600588c3b5f4418cbe7b5ebc6825b479f3bc010269d8b60d75058cdd010adfe"
   }
  }
 },
 "nbformat": 4,
 "nbformat_minor": 4
}