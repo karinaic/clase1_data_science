{
 "cells": [
  {
   "cell_type": "markdown",
   "metadata": {},
   "source": [
    "Antes de empezar: un poco de documentación para enterder ligeramente cómo funciona HTML: https://www.w3schools.com/html/html_intro.asp"
   ]
  },
  {
   "cell_type": "markdown",
   "metadata": {},
   "source": [
    "# Web Scraping: Beautiful Soup"
   ]
  },
  {
   "cell_type": "markdown",
   "metadata": {},
   "source": [
    "**Beautiful Soup** es una librería **Python** que permite extraer información de contenido en formato **HTML o XML**. Para usarla, es necesario especificar un **parser**, que es responsable de transformar un documento HTML o XML en un árbol complejo de objetos Python. Esto permite, por ejemplo, que podamos interactuar con los elementos de una página web como si estuviésemos utilizando las herramientas del desarrollador de un navegador.\n",
    "\n",
    "A la hora de extraer información de una web, uno de los parsers más utilizado es el parser HTML de **lxml**. Precisamente, será el que utilicemos en este tutorial."
   ]
  },
  {
   "cell_type": "markdown",
   "metadata": {},
   "source": [
    "**Será necesario instalar las siguientes librerías** (si no las tienes ya):\n",
    "\n",
    "        pip3 install beautifulsoup4 requests pandas\n",
    "\n",
    "        pip3 install beautifulsoup4 \n",
    "\n",
    "        pip3 install requests\n",
    "\n",
    "        pip3 install pandas "
   ]
  },
  {
   "cell_type": "markdown",
   "metadata": {},
   "source": [
    "###  Pasos a seguir en el proceso de 'scraping':\n",
    "\n",
    "1. Encuentra la URL que quieres 'escrapear'.\n",
    "2. Inspecciona la página (código fuente).\n",
    "3. Localiza los datos que necesitas obtener.\n",
    "4. Desarrolla tu código en Python.\n",
    "    1. Crea tu sopa\n",
    "    2. Busca los elementos que cotienen los datos y extráelos\n",
    "5. Ejecuta tu código y obten los datos.\n",
    "6. Alamacena los datos en el formato requerido."
   ]
  },
  {
   "cell_type": "markdown",
   "metadata": {},
   "source": [
    "Algunos ejemplos de Web Scraping utilizando Beautiful Soup:\n",
    "\n",
    "https://j2logo.com/python/web-scraping-con-python-guia-inicio-beautifulsoup/\n",
    "\n",
    "http://omz-software.com/pythonista/docs/ios/beautifulsoup_guide.html\n",
    "\n",
    "https://towardsdatascience.com/top-5-beautiful-soup-functions-7bfe5a693482\n",
    "\n",
    "https://www.crummy.com/software/BeautifulSoup/bs4/doc/"
   ]
  },
  {
   "cell_type": "code",
   "execution_count": 37,
   "metadata": {},
   "outputs": [],
   "source": [
    "# Importamos librerías\n",
    "import requests\n",
    "from bs4 import BeautifulSoup\n",
    "import pandas as pd\n",
    "import html\n",
    "import numpy as np"
   ]
  },
  {
   "cell_type": "markdown",
   "metadata": {},
   "source": [
    "## Caso 1: Scraping de un catálogo: Labirratorium"
   ]
  },
  {
   "cell_type": "code",
   "execution_count": 38,
   "metadata": {},
   "outputs": [],
   "source": [
    "URL = 'https://www.labirratorium.com/es/67-cervezas-por-estilo?page='"
   ]
  },
  {
   "cell_type": "markdown",
   "metadata": {},
   "source": [
    "Queremos obtener un dataFrame con todas las cervezas del catálogo y sus características descritas. Analizamos la página para ver qué tenemos que hacer para conseguirlo"
   ]
  },
  {
   "cell_type": "code",
   "execution_count": 39,
   "metadata": {},
   "outputs": [],
   "source": [
    "# La web tiene 80 páginas con 12 cervezas listadas en cada página."
   ]
  },
  {
   "cell_type": "markdown",
   "metadata": {},
   "source": [
    "Hacemos la consulta (request) y creamos la SOPA inicial:"
   ]
  },
  {
   "cell_type": "code",
   "execution_count": 40,
   "metadata": {},
   "outputs": [],
   "source": [
    "r = requests.get(URL)\n",
    "soup = BeautifulSoup(r.text,\"lxml\")"
   ]
  },
  {
   "cell_type": "code",
   "execution_count": 41,
   "metadata": {},
   "outputs": [
    {
     "output_type": "execute_result",
     "data": {
      "text/plain": [
       "bs4.BeautifulSoup"
      ]
     },
     "metadata": {},
     "execution_count": 41
    }
   ],
   "source": [
    "type(soup)"
   ]
  },
  {
   "cell_type": "code",
   "execution_count": 42,
   "metadata": {},
   "outputs": [
    {
     "output_type": "execute_result",
     "data": {
      "text/plain": [
       "nes </a>\n",
       "</div>\n",
       "<div class=\"captchaerror alert alert-danger\">Por favor, rellene la verificación captcha</div>\n",
       "</div>\n",
       "</div><div class=\"flex-container\" id=\"idxlopdCompatible\" style=\"display:none;\">\n",
       "<div style=\"background-color:#383838;opacity:0.9;\">\n",
       "<p class=\"content-lopd-tit flex-item\">Condiciones de la tienda</p>\n",
       "<div class=\"min-text-compatible flex-item\"></div>\n",
       "<div class=\"flex-item\" id=\"buttons\">\n",
       "<a id=\"idxlopdOK\" onclick=\"javaScript:acceptLopdCompatible();\">Aceptar</a>\n",
       "<a id=\"Nolopd\" onclick=\"javascript:quitLopd();\">No, gracias</a>\n",
       "</div>\n",
       "<div class=\"lopd-link flex-item\">\n",
       "<a href=\"\" target=\"_blank\">Ver condiciones de la tienda</a>\n",
       "</div>\n",
       "<div class=\"captchaerror alert alert-danger\">Por favor rellene el captcha</div>\n",
       "</div>\n",
       "</div>\n",
       "</div>\n",
       "<div class=\"col-xs-12 col-conditions\">\n",
       "<p>Responsable del Fichero: Labirratorium; Finalidad: solicitar recibir el boletín de noticias; Legitimación: Consentimiento; Destinatarios: No se comunicarán los datos a terceros; Derechos: Acceder, rectificar, suprimir los datos así como el resto de derechos que le explicamos en nuestra Política de Privacidad.</p>\n",
       "</div>\n",
       "</div>\n",
       "</form>\n",
       "</div>\n",
       "</div>\n",
       "<!-- @file modules\\appagebuilder\\views\\templates\\hook\\ApGeneral -->\n",
       "<div class=\"block ApHtml\">\n",
       "<div class=\"block_content\"><div><span style=\"color: #ffffff;\">Desarrollado por <a href=\"https://www.addis.es\"><span style=\"color: #ffffff;\">Addis</span></a></span></div></div>\n",
       "</div>\n",
       "</div> </div>\n",
       "</div>\n",
       "</div>\n",
       "<script>\n",
       "        ap_list_functions.push(function(){\n",
       "            $.stellar({horizontalScrolling:false}); \n",
       "        });\n",
       "    </script>\n",
       "<script type=\"text/javascript\">\n",
       "        document.addEventListener('DOMContentLoaded', function() {\n",
       "            var MBG = GoogleAnalyticEnhancedECommerce;\n",
       "            MBG.setCurrency('EUR');\n",
       "            MBG.add({\"id\":\"284\",\"name\":\"boon-oude-kriek-375cl\",\"category\":\"lambic\",\"brand\":\"\",\"variant\":false,\"type\":\"typical\",\"position\":\"0\",\"quantity\":1,\"list\":\"category\",\"url\":\"https%3A%2F%2Fwww.labirratorium.com%2Fes%2Flambic%2F284-boon-kriek-2013.html\",\"price\":\"7,15\\u00a0\\u20ac\"},'',true);MBG.add({\"id\":\"225\",\"name\":\"stortebeker-schwarz-bier\",\"category\":\"alemania\",\"brand\":\"\",\"variant\":false,\"type\":\"typical\",\"position\":1,\"quantity\":1,\"list\":\"category\",\"url\":\"https%3A%2F%2Fwww.labirratorium.com%2Fes%2Falemania%2F225-stortebeker-schwarz-bier.html\",\"price\":\"2,40\\u00a0\\u20ac\"},'',true);MBG.add({\"id\":\"199\",\"name\":\"orval\",\"category\":\"inicio\",\"brand\":\"\",\"variant\":false,\"type\":\"typical\",\"position\":2,\"quantity\":1,\"list\":\"category\",\"url\":\"https%3A%2F%2Fwww.labirratorium.com%2Fes%2Finicio%2F199-orval.html\",\"price\":\"2,80\\u00a0\\u20ac\"},'',true);MBG.add({\"id\":\"184\",\"name\":\"augustiner-lagerbier-hell\",\"category\":\"alemania\",\"brand\":\"\",\"variant\":false,\"type\":\"typical\",\"position\":3,\"quantity\":1,\"list\":\"category\",\"url\":\"https%3A%2F%2Fwww.labirratorium.com%2Fes%2Falemania%2F184-augustiner-lagerbier-hell.html\",\"price\":\"2,50\\u00a0\\u20ac\"},'',true);MBG.add({\"id\":\"183\",\"name\":\"schneider-aventinus-weizen-eisbock\",\"category\":\"inicio\",\"brand\":\"\",\"variant\":false,\"type\":\"typical\",\"position\":4,\"quantity\":1,\"list\":\"category\",\"url\":\"https%3A%2F%2Fwww.labirratorium.com%2Fes%2Finicio%2F183-schneider-eisbock.html\",\"price\":\"2,70\\u00a0\\u20ac\"},'',true);MBG.add({\"id\":\"181\",\"name\":\"aecht-schlenkerla-rauchbier-weizen\",\"category\":\"inicio\",\"brand\":\"\",\"variant\":false,\"type\":\"typical\",\"position\":5,\"quantity\":1,\"list\":\"category\",\"url\":\"https%3A%2F%2Fwww.labirratorium.com%2Fes%2Finicio%2F181-schlenkerla-rauchbier-weizen.html\",\"price\":\"2,50\\u00a0\\u20ac\"},'',true);MBG.add({\"id\":\"173\",\"name\":\"samuel-adams-boston-lager\",\"category\":\"inicio\",\"brand\":\"\",\"variant\":false,\"type\":\"typical\",\"position\":6,\"quantity\":1,\"list\":\"category\",\"url\":\"https%3A%2F%2Fwww.labirratorium.com%2Fes%2Finicio%2F173-samuel-adams-boston-lager.html\",\"price\":\"2,40\\u00a0\\u20ac\"},'',true);MBG.add({\"id\":\"165\",\"name\":\"laugar-epa-euskadiko-pale-ale\",\"category\":\"inicio\",\"brand\":\"\",\"variant\":false,\"type\":\"typical\",\"position\":7,\"quantity\":1,\"list\":\"category\",\"url\":\"https%3A%2F%2Fwww.labirratorium.com%2Fes%2Finicio%2F165-laugar-epa.html\",\"price\":\"2,65\\u00a0\\u20ac\"},'',true);MBG.add({\"id\":\"82\",\"name\":\"westmalle-dubbel\",\"category\":\"inicio\",\"brand\":\"\",\"variant\":false,\"type\":\"typical\",\"position\":8,\"quantity\":1,\"list\":\"category\",\"url\":\"https%3A%2F%2Fwww.labirratorium.com%2Fes%2Finicio%2F82-westmalle-dubbel.html\",\"price\":\"2,30\\u00a0\\u20ac\"},'',true);MBG.add({\"id\":\"75\",\"name\":\"duchesse-de-bourgogne\",\"category\":\"inicio\",\"brand\":\"\",\"variant\":false,\"type\":\"typical\",\"position\":9,\"quantity\":1,\"list\":\"category\",\"url\":\"https%3A%2F%2Fwww.labirratorium.com%2Fes%2Finicio%2F75-duchesse-de-bourgogne.html\",\"price\":\"2,95\\u00a0\\u20ac\"},'',true);MBG.add({\"id\":\"61\",\"name\":\"tripel-karmeliet-33-cl\",\"category\":\"inicio\",\"brand\":\"\",\"variant\":false,\"type\":\"typical\",\"position\":10,\"quantity\":1,\"list\":\"category\",\"url\":\"https%3A%2F%2Fwww.labirratorium.com%2Fes%2Finicio%2F61-tripel-karmeliet33.html\",\"price\":\"2,50\\u00a0\\u20ac\"},'',true);MBG.add({\"id\":\"21\",\"name\":\"weihenstephaner-vitus\",\"category\":\"inicio\",\"brand\":\"\",\"variant\":false,\"type\":\"typical\",\"position\":11,\"quantity\":1,\"list\":\"category\",\"url\":\"https%3A%2F%2Fwww.labirratorium.com%2Fes%2Finicio%2F21-weihenstephaner-vitus.html\",\"price\":\"2,80\\u00a0\\u20ac\"},'',true);MBG.addProductClick({\"id\":\"284\",\"name\":\"boon-oude-kriek-375cl\",\"category\":\"lambic\",\"brand\":\"\",\"variant\":false,\"type\":\"typical\",\"position\":\"0\",\"quantity\":1,\"list\":\"category\",\"url\":\"https%3A%2F%2Fwww.labirratorium.com%2Fes%2Flambic%2F284-boon-kriek-2013.html\",\"price\":\"7,15\\u00a0\\u20ac\"});MBG.addProductClick({\"id\":\"225\",\"name\":\"stortebeker-schwarz-bier\",\"category\":\"alemania\",\"brand\":\"\",\"variant\":false,\"type\":\"typical\",\"position\":1,\"quantity\":1,\"list\":\"category\",\"url\":\"https%3A%2F%2Fwww.labirratorium.com%2Fes%2Falemania%2F225-stortebeker-schwarz-bier.html\",\"price\":\"2,40\\u00a0\\u20ac\"});MBG.addProductClick({\"id\":\"199\",\"name\":\"orval\",\"category\":\"inicio\",\"brand\":\"\",\"variant\":false,\"type\":\"typical\",\"position\":2,\"quantity\":1,\"list\":\"category\",\"url\":\"https%3A%2F%2Fwww.labirratorium.com%2Fes%2Finicio%2F199-orval.html\",\"price\":\"2,80\\u00a0\\u20ac\"});MBG.addProductClick({\"id\":\"184\",\"name\":\"augustiner-lagerbier-hell\",\"category\":\"alemania\",\"brand\":\"\",\"variant\":false,\"type\":\"typical\",\"position\":3,\"quantity\":1,\"list\":\"category\",\"url\":\"https%3A%2F%2Fwww.labirratorium.com%2Fes%2Falemania%2F184-augustiner-lagerbier-hell.html\",\"price\":\"2,50\\u00a0\\u20ac\"});MBG.addProductClick({\"id\":\"183\",\"name\":\"schneider-aventinus-weizen-eisbock\",\"category\":\"inicio\",\"brand\":\"\",\"variant\":false,\"type\":\"typical\",\"position\":4,\"quantity\":1,\"list\":\"category\",\"url\":\"https%3A%2F%2Fwww.labirratorium.com%2Fes%2Finicio%2F183-schneider-eisbock.html\",\"price\":\"2,70\\u00a0\\u20ac\"});MBG.addProductClick({\"id\":\"181\",\"name\":\"aecht-schlenkerla-rauchbier-weizen\",\"category\":\"inicio\",\"brand\":\"\",\"variant\":false,\"type\":\"typical\",\"position\":5,\"quantity\":1,\"list\":\"category\",\"url\":\"https%3A%2F%2Fwww.labirratorium.com%2Fes%2Finicio%2F181-schlenkerla-rauchbier-weizen.html\",\"price\":\"2,50\\u00a0\\u20ac\"});MBG.addProductClick({\"id\":\"173\",\"name\":\"samuel-adams-boston-lager\",\"category\":\"inicio\",\"brand\":\"\",\"variant\":false,\"type\":\"typical\",\"position\":6,\"quantity\":1,\"list\":\"category\",\"url\":\"https%3A%2F%2Fwww.labirratorium.com%2Fes%2Finicio%2F173-samuel-adams-boston-lager.html\",\"price\":\"2,40\\u00a0\\u20ac\"});MBG.addProductClick({\"id\":\"165\",\"name\":\"laugar-epa-euskadiko-pale-ale\",\"category\":\"inicio\",\"brand\":\"\",\"variant\":false,\"type\":\"typical\",\"position\":7,\"quantity\":1,\"list\":\"category\",\"url\":\"https%3A%2F%2Fwww.labirratorium.com%2Fes%2Finicio%2F165-laugar-epa.html\",\"price\":\"2,65\\u00a0\\u20ac\"});MBG.addProductClick({\"id\":\"82\",\"name\":\"westmalle-dubbel\",\"category\":\"inicio\",\"brand\":\"\",\"variant\":false,\"type\":\"typical\",\"position\":8,\"quantity\":1,\"list\":\"category\",\"url\":\"https%3A%2F%2Fwww.labirratorium.com%2Fes%2Finicio%2F82-westmalle-dubbel.html\",\"price\":\"2,30\\u00a0\\u20ac\"});MBG.addProductClick({\"id\":\"75\",\"name\":\"duchesse-de-bourgogne\",\"category\":\"inicio\",\"brand\":\"\",\"variant\":false,\"type\":\"typical\",\"position\":9,\"quantity\":1,\"list\":\"category\",\"url\":\"https%3A%2F%2Fwww.labirratorium.com%2Fes%2Finicio%2F75-duchesse-de-bourgogne.html\",\"price\":\"2,95\\u00a0\\u20ac\"});MBG.addProductClick({\"id\":\"61\",\"name\":\"tripel-karmeliet-33-cl\",\"category\":\"inicio\",\"brand\":\"\",\"variant\":false,\"type\":\"typical\",\"position\":10,\"quantity\":1,\"list\":\"category\",\"url\":\"https%3A%2F%2Fwww.labirratorium.com%2Fes%2Finicio%2F61-tripel-karmeliet33.html\",\"price\":\"2,50\\u00a0\\u20ac\"});MBG.addProductClick({\"id\":\"21\",\"name\":\"weihenstephaner-vitus\",\"category\":\"inicio\",\"brand\":\"\",\"variant\":false,\"type\":\"typical\",\"position\":11,\"quantity\":1,\"list\":\"category\",\"url\":\"https%3A%2F%2Fwww.labirratorium.com%2Fes%2Finicio%2F21-weihenstephaner-vitus.html\",\"price\":\"2,80\\u00a0\\u20ac\"});\n",
       "        });\n",
       "    </script>\n",
       "</div>\n",
       "</div>\n",
       "<div class=\"footer-bottom\">\n",
       "<div class=\"inner\"></div>\n",
       "</div>\n",
       "</footer>\n",
       "<div id=\"back-top\"><a class=\"fa fa-angle-double-up\" href=\"#\"></a></div>\n",
       "</main>\n",
       "<script src=\"https://www.labirratorium.com/themes/at_porto/assets/cache/bottom-684d4e25.js\" type=\"text/javascript\"></script>\n",
       "<script type=\"text/javascript\">\n",
       "\tvar choosefile_text = \"Elija el archivo\";\n",
       "\tvar turnoff_popup_text = \"No mostrar este popup de nuevo\";\n",
       "\t\n",
       "\tvar size_item_quickview = 82;\n",
       "\tvar style_scroll_quickview = 'vertical';\n",
       "\t\n",
       "\tvar size_item_page = 113;\n",
       "\tvar style_scroll_page = 'horizontal';\n",
       "\t\n",
       "\tvar size_item_quickview_attr = 101;\t\n",
       "\tvar style_scroll_quickview_attr = 'vertical';\n",
       "\t\n",
       "\tvar size_item_popup = 160;\n",
       "\tvar style_scroll_popup = 'vertical';\n",
       "</script>\n",
       "<div aria-hidden=\"true\" class=\"modal leo-quicklogin-modal fade\" role=\"dialog\" tabindex=\"-1\">\n",
       "<div class=\"modal-dialog\" role=\"document\">\n",
       "<div class=\"modal-content\">\n",
       "<div class=\"modal-header\">\n",
       "<button aria-label=\"Close\" class=\"close\" data-dismiss=\"modal\" type=\"button\">\n",
       "<span aria-hidden=\"true\">×</span>\n",
       "</button>\n",
       "</div>\n",
       "<div class=\"modal-body\">\n",
       "<div class=\"leo-quicklogin-form row\">\n",
       "<div class=\"leo-form leo-login-form col-sm-6 leo-form-active\">\n",
       "<h3 class=\"leo-login-title\">\n",
       "<span class=\"title-both\">\n",
       "\t\t\t\tExistente Affiliate\n",
       "\t\t\t</span>\n",
       "<span class=\"title-only\">\n",
       "\t\t\t\tIngrese a su cuenta\n",
       "\t\t\t</span>\n",
       "</h3>\n",
       "<form action=\"#\" class=\"lql-form-content leo-login-form-content\" method=\"post\">\n",
       "<div class=\"form-group lql-form-mesg has-success\">\n",
       "</div>\n",
       "<div class=\"form-group lql-form-mesg has-danger\">\n",
       "</div>\n",
       "<div class=\"form-group lql-form-content-element\">\n",
       "<input class=\"form-control lql-email-login\" name=\"lql-email-login\" placeholder=\"Dirección de correo electrónico\" required=\"\" type=\"email\"/>\n",
       "</div>\n",
       "<div class=\"form-group lql-form-content-element\">\n",
       "<input class=\"form-control lql-pass-login\" name=\"lql-pass-login\" placeholder=\"Contraseña\" required=\"\" type=\"password\"/>\n",
       "</div>\n",
       "<div class=\"form-group row lql-form-content-element\">\n",
       "<div class=\"col-xs-6\">\n",
       "<input class=\"lql-rememberme\" name=\"lql-rememberme\" type=\"checkbox\"/>\n",
       "<label class=\"form-control-label\"><span>Recuérdame</span></label>\n",
       "</div>\n",
       "<div class=\"col-xs-6 text-sm-right\">\n",
       "<a class=\"leoquicklogin-forgotpass\" href=\"#\" role=\"button\">Se te olvidó tu contraseña ?</a>\n",
       "</div>\n",
       "</div>\n",
       "<div class=\"form-group text-right\">\n",
       "<button class=\"form-control-submit lql-form-bt lql-login-bt btn btn-primary\" type=\"submit\">\n",
       "<span class=\"leoquicklogin-loading leoquicklogin-cssload-speeding-wheel\"></span>\n",
       "<i class=\"leoquicklogin-icon leoquicklogin-success-icon material-icons\"></i>\n",
       "<i class=\"leoquicklogin-icon leoquicklogin-fail-icon material-icons\"></i>\n",
       "<span class=\"lql-bt-txt\">\t\t\t\t\t\n",
       "\t\t\t\t\t\tIniciar sesión\n",
       "\t\t\t\t\t</span>\n",
       "</button>\n",
       "</div>\n",
       "<div class=\"form-group lql-callregister\">\n",
       "<a class=\"lql-callregister-action\" href=\"#\" role=\"button\">¿No tienes cuenta? Crea una aquí ?</a>\n",
       "</div>\n",
       "</form>\n",
       "<div class=\"leo-resetpass-form\">\n",
       "<h3>Restablecer la contraseña</h3>\n",
       "<form action=\"#\" class=\"lql-form-content leo-resetpass-form-content\" method=\"post\">\n",
       "<div class=\"form-group lql-form-mesg has-success\">\n",
       "</div>\n",
       "<div class=\"form-group lql-form-mesg has-danger\">\n",
       "</div>\n",
       "<div class=\"form-group lql-form-content-element\">\n",
       "<input class=\"form-control lql-email-reset\" name=\"lql-email-reset\" placeholder=\"Dirección de correo electrónico\" required=\"\" type=\"email\"/>\n",
       "</div>\n",
       "<div class=\"form-group\">\n",
       "<button class=\"form-control-submit lql-form-bt leoquicklogin-reset-pass-bt btn btn-primary\" type=\"submit\">\n",
       "<span class=\"leoquicklogin-loading leoquicklogin-cssload-speeding-wheel\"></span>\n",
       "<i class=\"leoquicklogin-icon leoquicklogin-success-icon material-icons\"></i>\n",
       "<i class=\"leoquicklogin-icon leoquicklogin-fail-icon material-icons\"></i>\n",
       "<span class=\"lql-bt-txt\">\t\t\t\t\t\n",
       "\t\t\t\t\t\t\tRestablecer la contraseña\n",
       "\t\t\t\t\t\t</span>\n",
       "</button>\n",
       "</div>\n",
       "</form>\n",
       "</div>\n",
       "</div>\n",
       "<div class=\"leo-form leo-register-form col-sm-6 leo-form-active\">\n",
       "<h3 class=\"leo-register-title\">\n",
       "\t\t\tNuevo registro de cuenta\n",
       "\t\t</h3>\n",
       "<form action=\"#\" class=\"lql-form-content leo-register-form-content\" method=\"post\">\n",
       "<div class=\"form-group lql-form-mesg has-success\">\n",
       "</div>\n",
       "<div class=\"form-group lql-form-mesg has-danger\">\n",
       "</div>\n",
       "<div class=\"form-group lql-form-content-element\">\n",
       "<input class=\"form-control lql-register-firstname\" name=\"lql-register-firstname\" placeholder=\"Nombre\" type=\"text\"/>\n",
       "</div>\n",
       "<div class=\"form-group lql-form-content-element\">\n",
       "<input class=\"form-control lql-register-lastname\" name=\"lql-register-lastname\" placeholder=\"Apellido\" required=\"\" type=\"text\"/>\n",
       "</div>\n",
       "<div class=\"form-group lql-form-content-element\">\n",
       "<input class=\"form-control lql-register-email\" name=\"lql-register-email\" placeholder=\"Dirección de correo electrónico\" required=\"\" type=\"email\"/>\n",
       "</div>\n",
       "<div class=\"form-group lql-form-content-element\">\n",
       "<input class=\"form-control lql-register-pass\" name=\"lql-register-pass\" placeholder=\"Contraseña\" required=\"\" type=\"password\"/>\n",
       "</div>\n",
       "<div class=\"form-group lql-form-content-element leo-form-chk\">\n",
       "<input class=\"lql-register-check\" name=\"lql-register-check\" type=\"checkbox\"/>\n",
       "<label class=\"form-control-label\">Acepto los términos y las condiciones de uso.</label>\n",
       "</div>\n",
       "<div class=\"form-group text-right\">\n",
       "<button class=\"form-control-submit lql-form-bt lql-register-bt btn btn-primary\" name=\"submit\" type=\"submit\">\n",
       "<span class=\"leoquicklogin-loading leoquicklogin-cssload-speeding-wheel\"></span>\n",
       "<i class=\"leoquicklogin-icon leoquicklogin-success-icon material-icons\"></i>\n",
       "<i class=\"leoquicklogin-icon leoquicklogin-fail-icon material-icons\"></i>\n",
       "<span class=\"lql-bt-txt\">\t\t\t\t\t\n",
       "\t\t\t\t\t\tCrea una cuenta\n",
       "\t\t\t\t\t</span>\n",
       "</button>\n",
       "</div>\n",
       "<div class=\"form-group lql-calllogin\">\n",
       "<div>¿Ya tienes una cuenta?</div>\n",
       "<a class=\"lql-calllogin-action\" href=\"#\" role=\"button\">Entrar</a>\n",
       "\t\t\t\tO\n",
       "\t\t\t\t<a class=\"lql-calllogin-action lql-callreset-action\" href=\"#\" role=\"button\">Restablecer la contraseña</a>\n",
       "</div>\n",
       "</form>\n",
       "</div>\n",
       "</div>\n",
       "</div>\n",
       "<div class=\"modal-footer\"></div>\n",
       "</div>\n",
       "</div>\n",
       "</div><div class=\"leoquicklogin-mask\"></div>\n",
       "<div class=\"leoquicklogin-slidebar\">\n",
       "<div class=\"leoquicklogin-slidebar-wrapper\">\n",
       "<div class=\"leoquicklogin-slidebar-top\">\n",
       "<button class=\"leoquicklogin-slidebar-close btn btn-secondary\" type=\"button\">\n",
       "<i class=\"material-icons\"></i>\n",
       "<span>Cerca</span>\n",
       "</button>\n",
       "</div>\n",
       "<div class=\"leo-quicklogin-form row\">\n",
       "<div class=\"leo-form leo-login-form col-sm-6 leo-form-active\">\n",
       "<h3 class=\"leo-login-title\">\n",
       "<span class=\"title-both\">\n",
       "\t\t\t\tExistente Affiliate\n",
       "\t\t\t</span>\n",
       "<span class=\"title-only\">\n",
       "\t\t\t\tIngrese a su cuenta\n",
       "\t\t\t</span>\n",
       "</h3>\n",
       "<form action=\"#\" class=\"lql-form-content leo-login-form-content\" method=\"post\">\n",
       "<div class=\"form-group lql-form-mesg has-success\">\n",
       "</div>\n",
       "<div class=\"form-group lql-form-mesg has-danger\">\n",
       "</div>\n",
       "<div class=\"form-group lql-form-content-element\">\n",
       "<input class=\"form-control lql-email-login\" name=\"lql-email-login\" placeholder=\"Dirección de correo electrónico\" required=\"\" type=\"email\"/>\n",
       "</div>\n",
       "<div class=\"form-group lql-form-content-element\">\n",
       "<input class=\"form-control lql-pass-login\" name=\"lql-pass-login\" placeholder=\"Contraseña\" required=\"\" type=\"password\"/>\n",
       "</div>\n",
       "<div class=\"form-group row lql-form-content-element\">\n",
       "<div class=\"col-xs-6\">\n",
       "<input class=\"lql-rememberme\" name=\"lql-rememberme\" type=\"checkbox\"/>\n",
       "<label class=\"form-control-label\"><span>Recuérdame</span></label>\n",
       "</div>\n",
       "<div class=\"col-xs-6 text-sm-right\">\n",
       "<a class=\"leoquicklogin-forgotpass\" href=\"#\" role=\"button\">Se te olvidó tu contraseña ?</a>\n",
       "</div>\n",
       "</div>\n",
       "<div class=\"form-group text-right\">\n",
       "<button class=\"form-control-submit lql-form-bt lql-login-bt btn btn-primary\" type=\"submit\">\n",
       "<span class=\"leoquicklogin-loading leoquicklogin-cssload-speeding-wheel\"></span>\n",
       "<i class=\"leoquicklogin-icon leoquicklogin-success-icon material-icons\"></i>\n",
       "<i class=\"leoquicklogin-icon leoquicklogin-fail-icon material-icons\"></i>\n",
       "<span class=\"lql-bt-txt\">\t\t\t\t\t\n",
       "\t\t\t\t\t\tIniciar sesión\n",
       "\t\t\t\t\t</span>\n",
       "</button>\n",
       "</div>\n",
       "<div class=\"form-group lql-callregister\">\n",
       "<a class=\"lql-callregister-action\" href=\"#\" role=\"button\">¿No tienes cuenta? Crea una aquí ?</a>\n",
       "</div>\n",
       "</form>\n",
       "<div class=\"leo-resetpass-form\">\n",
       "<h3>Restablecer la contraseña</h3>\n",
       "<form action=\"#\" class=\"lql-form-content leo-resetpass-form-content\" method=\"post\">\n",
       "<div class=\"form-group lql-form-mesg has-success\">\n",
       "</div>\n",
       "<div class=\"form-group lql-form-mesg has-danger\">\n",
       "</div>\n",
       "<div class=\"form-group lql-form-content-element\">\n",
       "<input class=\"form-control lql-email-reset\" name=\"lql-email-reset\" placeholder=\"Dirección de correo electrónico\" required=\"\" type=\"email\"/>\n",
       "</div>\n",
       "<div class=\"form-group\">\n",
       "<button class=\"form-control-submit lql-form-bt leoquicklogin-reset-pass-bt btn btn-primary\" type=\"submit\">\n",
       "<span class=\"leoquicklogin-loading leoquicklogin-cssload-speeding-wheel\"></span>\n",
       "<i class=\"leoquicklogin-icon leoquicklogin-success-icon material-icons\"></i>\n",
       "<i class=\"leoquicklogin-icon leoquicklogin-fail-icon material-icons\"></i>\n",
       "<span class=\"lql-bt-txt\">\t\t\t\t\t\n",
       "\t\t\t\t\t\t\tRestablecer la contraseña\n",
       "\t\t\t\t\t\t</span>\n",
       "</button>\n",
       "</div>\n",
       "</form>\n",
       "</div>\n",
       "</div>\n",
       "<div class=\"leo-form leo-register-form col-sm-6 leo-form-active\">\n",
       "<h3 class=\"leo-register-title\">\n",
       "\t\t\tNuevo registro de cuenta\n",
       "\t\t</h3>\n",
       "<form action=\"#\" class=\"lql-form-content leo-register-form-content\" method=\"post\">\n",
       "<div class=\"form-group lql-form-mesg has-success\">\n",
       "</div>\n",
       "<div class=\"form-group lql-form-mesg has-danger\">\n",
       "</div>\n",
       "<div class=\"form-group lql-form-content-element\">\n",
       "<input class=\"form-control lql-register-firstname\" name=\"lql-register-firstname\" placeholder=\"Nombre\" type=\"text\"/>\n",
       "</div>\n",
       "<div class=\"form-group lql-form-content-element\">\n",
       "<input class=\"form-control lql-register-lastname\" name=\"lql-register-lastname\" placeholder=\"Apellido\" required=\"\" type=\"text\"/>\n",
       "</div>\n",
       "<div class=\"form-group lql-form-content-element\">\n",
       "<input class=\"form-control lql-register-email\" name=\"lql-register-email\" placeholder=\"Dirección de correo electrónico\" required=\"\" type=\"email\"/>\n",
       "</div>\n",
       "<div class=\"form-group lql-form-content-element\">\n",
       "<input class=\"form-control lql-register-pass\" name=\"lql-register-pass\" placeholder=\"Contraseña\" required=\"\" type=\"password\"/>\n",
       "</div>\n",
       "<div class=\"form-group lql-form-content-element leo-form-chk\">\n",
       "<input class=\"lql-register-check\" name=\"lql-register-check\" type=\"checkbox\"/>\n",
       "<label class=\"form-control-label\">Acepto los términos y las condiciones de uso.</label>\n",
       "</div>\n",
       "<div class=\"form-group text-right\">\n",
       "<button class=\"form-control-submit lql-form-bt lql-register-bt btn btn-primary\" name=\"submit\" type=\"submit\">\n",
       "<span class=\"leoquicklogin-loading leoquicklogin-cssload-speeding-wheel\"></span>\n",
       "<i class=\"leoquicklogin-icon leoquicklogin-success-icon material-icons\"></i>\n",
       "<i class=\"leoquicklogin-icon leoquicklogin-fail-icon material-icons\"></i>\n",
       "<span class=\"lql-bt-txt\">\t\t\t\t\t\n",
       "\t\t\t\t\t\tCrea una cuenta\n",
       "\t\t\t\t\t</span>\n",
       "</button>\n",
       "</div>\n",
       "<div class=\"form-group lql-calllogin\">\n",
       "<div>¿Ya tienes una cuenta?</div>\n",
       "<a class=\"lql-calllogin-action\" href=\"#\" role=\"button\">Entrar</a>\n",
       "\t\t\t\tO\n",
       "\t\t\t\t<a class=\"lql-calllogin-action lql-callreset-action\" href=\"#\" role=\"button\">Restablecer la contraseña</a>\n",
       "</div>\n",
       "</form>\n",
       "</div>\n",
       "</div>\n",
       "<div class=\"leoquicklogin-slidebar-bottom\">\n",
       "<button class=\"leoquicklogin-slidebar-close btn btn-secondary\" type=\"button\">\n",
       "<i class=\"material-icons\"></i>\n",
       "<span>Cerca</span>\n",
       "</button>\n",
       "</div>\n",
       "</div>\n",
       "</div>\n",
       "</body>\n",
       "</html>"
      ]
     },
     "metadata": {},
     "execution_count": 42
    }
   ],
   "source": [
    "soup #nos trae toto el codigo parseado que le hemos pedido de la web."
   ]
  },
  {
   "cell_type": "code",
   "execution_count": 43,
   "metadata": {},
   "outputs": [
    {
     "output_type": "execute_result",
     "data": {
      "text/plain": [
       "12"
      ]
     },
     "metadata": {},
     "execution_count": 43
    }
   ],
   "source": [
    "# Guardamos lista de cervezas\n",
    "cervezas_grid = soup.find_all(class_ = \"product-image\")\n",
    "len(cervezas_grid)"
   ]
  },
  {
   "cell_type": "code",
   "execution_count": 44,
   "metadata": {},
   "outputs": [
    {
     "output_type": "execute_result",
     "data": {
      "text/plain": [
       "['https://www.labirratorium.com/es/lambic/284-boon-kriek-2013.html',\n",
       " 'https://www.labirratorium.com/es/alemania/225-stortebeker-schwarz-bier.html',\n",
       " 'https://www.labirratorium.com/es/inicio/199-orval.html',\n",
       " 'https://www.labirratorium.com/es/alemania/184-augustiner-lagerbier-hell.html',\n",
       " 'https://www.labirratorium.com/es/inicio/183-schneider-eisbock.html',\n",
       " 'https://www.labirratorium.com/es/inicio/181-schlenkerla-rauchbier-weizen.html',\n",
       " 'https://www.labirratorium.com/es/inicio/173-samuel-adams-boston-lager.html',\n",
       " 'https://www.labirratorium.com/es/inicio/165-laugar-epa.html',\n",
       " 'https://www.labirratorium.com/es/inicio/82-westmalle-dubbel.html',\n",
       " 'https://www.labirratorium.com/es/inicio/75-duchesse-de-bourgogne.html',\n",
       " 'https://www.labirratorium.com/es/inicio/61-tripel-karmeliet33.html',\n",
       " 'https://www.labirratorium.com/es/inicio/21-weihenstephaner-vitus.html']"
      ]
     },
     "metadata": {},
     "execution_count": 44
    }
   ],
   "source": [
    "# necesitamos acceder a cada una de las cervezas del grid:\n",
    "lista_URL = []\n",
    "\n",
    "for cerveza in cervezas_grid:\n",
    "    URL_cerveza = cerveza.find(\"a\")[\"href\"] \n",
    "    lista_URL.append(URL_cerveza)\n",
    "\n",
    "lista_URL"
   ]
  },
  {
   "cell_type": "code",
   "execution_count": 45,
   "metadata": {},
   "outputs": [],
   "source": [
    "# Hacemos un nuevo request para la primera cerveza: \n",
    "r = requests.get(lista_URL[0])\n",
    "soup_cerveza = BeautifulSoup(r.text, \"lxml\")"
   ]
  },
  {
   "cell_type": "code",
   "execution_count": 46,
   "metadata": {},
   "outputs": [
    {
     "output_type": "stream",
     "name": "stdout",
     "text": [
      "Boon Oude Kriek 37,5cl\n"
     ]
    }
   ],
   "source": [
    "# Nombre\n",
    "nombre = soup_cerveza.find(class_ = \"h1 product-detail-name\").text\n",
    "print(nombre)"
   ]
  },
  {
   "cell_type": "code",
   "execution_count": 47,
   "metadata": {},
   "outputs": [
    {
     "output_type": "execute_result",
     "data": {
      "text/plain": [
       "'7.15'"
      ]
     },
     "metadata": {},
     "execution_count": 47
    }
   ],
   "source": [
    "# Precio\n",
    "precio = soup_cerveza.find(class_ = \"current-price\").find(\"span\")[\"content\"]\n",
    "precio"
   ]
  },
  {
   "cell_type": "code",
   "execution_count": 48,
   "metadata": {},
   "outputs": [
    {
     "output_type": "execute_result",
     "data": {
      "text/plain": [
       "'Lambic / Kriek'"
      ]
     },
     "metadata": {},
     "execution_count": 48
    }
   ],
   "source": [
    "# Descripcion corta\n",
    "descrp_corta = soup_cerveza.find(class_ = \"description-short\").find(\"p\").text\n",
    "descrp_corta"
   ]
  },
  {
   "cell_type": "code",
   "execution_count": 49,
   "metadata": {},
   "outputs": [
    {
     "output_type": "execute_result",
     "data": {
      "text/plain": [
       "'Cerveza de fermentación espontánea (Lambic) de 6.5% ABV sin filtrar ni pasteurizar de estilo Kriek, elaborada con cerezas naturales.'"
      ]
     },
     "metadata": {},
     "execution_count": 49
    }
   ],
   "source": [
    "# Descripción larga\n",
    "descrp_larga = soup_cerveza.find(class_ = \"product-description\").find(\"p\").text\n",
    "descrp_larga"
   ]
  },
  {
   "cell_type": "code",
   "execution_count": 50,
   "metadata": {},
   "outputs": [
    {
     "output_type": "stream",
     "name": "stdout",
     "text": [
      "https://www.labirratorium.com/19351-large_default/boon-kriek-2013.jpg\n"
     ]
    }
   ],
   "source": [
    "# Imagen\n",
    "imagen = soup_cerveza.find(class_ = 'product-cover').find(id = 'zoom_product')['src']\n",
    "print(imagen)"
   ]
  },
  {
   "cell_type": "code",
   "execution_count": 58,
   "metadata": {},
   "outputs": [
    {
     "output_type": "execute_result",
     "data": {
      "text/plain": [
       "'Brouwerij F. Boon'"
      ]
     },
     "metadata": {},
     "execution_count": 58
    }
   ],
   "source": [
    " # Brand\n",
    "\n",
    "marca = soup_cerveza.find(class_='img img-thumbnail manufacturer-logo')['alt']\n",
    "marca"
   ]
  },
  {
   "cell_type": "code",
   "execution_count": 14,
   "metadata": {},
   "outputs": [],
   "source": [
    "# Código de barras\n"
   ]
  },
  {
   "cell_type": "code",
   "execution_count": 57,
   "metadata": {},
   "outputs": [
    {
     "output_type": "execute_result",
     "data": {
      "text/plain": [
       "{'Estilo': 'KRIEK',\n",
       " 'Origen': 'Bélgica',\n",
       " '% Alc.': '6.5\\nALTO (6-9%)',\n",
       " 'Otros ingredientes': 'Cerezas Naturales',\n",
       " 'Volumen (cl)': '37.5 Cl',\n",
       " 'Tipo Fermentación': 'Lambic (Fermentación espontánea o salvaje)',\n",
       " 'Maltas': 'Cebada y Trigo',\n",
       " 'IBU': '0-25 Amargor bajo',\n",
       " 'Color': 'Rojiza',\n",
       " 'Envase': 'Botella'}"
      ]
     },
     "metadata": {},
     "execution_count": 57
    }
   ],
   "source": [
    "# Features\n",
    "features = soup_cerveza.find(class_ ='data-sheet')\n",
    "features_dic = {}\n",
    "features_dt = features.find_all('dt')\n",
    "features_dd = features.find_all('dd')\n",
    "for feature, value in zip(features_dt, features_dd):\n",
    "    features_dic[feature.text] = value.text\n",
    "features_dic\n"
   ]
  },
  {
   "cell_type": "code",
   "execution_count": 16,
   "metadata": {},
   "outputs": [],
   "source": [
    "# Creamos un Id único que os permita diferenciar cada entrada en la BBDD\n",
    "id_cerv = \"lbt_\" + str()"
   ]
  },
  {
   "cell_type": "markdown",
   "metadata": {},
   "source": [
    "Ya tenemos todos los datos que queremos de la cerveza: Agrupamos todo en una lista:"
   ]
  },
  {
   "cell_type": "code",
   "execution_count": 63,
   "metadata": {},
   "outputs": [
    {
     "output_type": "stream",
     "name": "stdout",
     "text": [
      "Cerveza 1 de 12, pag 1/80\n"
     ]
    },
    {
     "output_type": "error",
     "ename": "AttributeError",
     "evalue": "'NoneType' object has no attribute 'text'",
     "traceback": [
      "\u001b[1;31m---------------------------------------------------------------------------\u001b[0m",
      "\u001b[1;31mAttributeError\u001b[0m                            Traceback (most recent call last)",
      "\u001b[1;32m<ipython-input-63-6fec93f1f8a5>\u001b[0m in \u001b[0;36m<module>\u001b[1;34m\u001b[0m\n\u001b[0;32m     24\u001b[0m \u001b[1;33m\u001b[0m\u001b[0m\n\u001b[0;32m     25\u001b[0m         \u001b[0mid_cerv\u001b[0m \u001b[1;33m=\u001b[0m \u001b[1;34m\"lbt_\"\u001b[0m \u001b[1;33m+\u001b[0m \u001b[0mstr\u001b[0m\u001b[1;33m(\u001b[0m\u001b[0mcount\u001b[0m\u001b[1;33m)\u001b[0m\u001b[1;33m\u001b[0m\u001b[1;33m\u001b[0m\u001b[0m\n\u001b[1;32m---> 26\u001b[1;33m         \u001b[0mnombre\u001b[0m \u001b[1;33m=\u001b[0m \u001b[0msoup_cerveza\u001b[0m\u001b[1;33m.\u001b[0m\u001b[0mfind\u001b[0m\u001b[1;33m(\u001b[0m\u001b[0mclass_\u001b[0m \u001b[1;33m=\u001b[0m \u001b[1;34m\"h1 product-detail-name\"\u001b[0m\u001b[1;33m)\u001b[0m\u001b[1;33m.\u001b[0m\u001b[0mtext\u001b[0m\u001b[1;33m\u001b[0m\u001b[1;33m\u001b[0m\u001b[0m\n\u001b[0m\u001b[0;32m     27\u001b[0m         \u001b[0mprecio\u001b[0m \u001b[1;33m=\u001b[0m \u001b[0msoup_cerveza\u001b[0m\u001b[1;33m.\u001b[0m\u001b[0mfind\u001b[0m\u001b[1;33m(\u001b[0m\u001b[0mclass_\u001b[0m \u001b[1;33m=\u001b[0m \u001b[1;34m\"current-price\"\u001b[0m\u001b[1;33m)\u001b[0m\u001b[1;33m.\u001b[0m\u001b[0mfind\u001b[0m\u001b[1;33m(\u001b[0m\u001b[1;34m\"span\"\u001b[0m\u001b[1;33m)\u001b[0m\u001b[1;33m[\u001b[0m\u001b[1;34m\"content\"\u001b[0m\u001b[1;33m]\u001b[0m\u001b[1;33m\u001b[0m\u001b[1;33m\u001b[0m\u001b[0m\n\u001b[0;32m     28\u001b[0m \u001b[1;33m\u001b[0m\u001b[0m\n",
      "\u001b[1;31mAttributeError\u001b[0m: 'NoneType' object has no attribute 'text'"
     ]
    }
   ],
   "source": [
    "# Agregamos a una lista\n",
    "pages = np.arange(1,81)\n",
    "count = 1\n",
    "lista_cervezas = []\n",
    "\n",
    "\n",
    "count_beer = 1\n",
    "\n",
    "for page in pages:\n",
    "\n",
    "    URL = 'https://www.labirratorium.com/es/67-cervezas-por-estilo?page=' + str(page)\n",
    "    r = requests.get(URL)\n",
    "    soup = BeautifulSoup(r.text, 'lxml')\n",
    "    cervezas_grid = soup.find_all(class_='product-image')\n",
    "    \n",
    "    \n",
    "    for cerveza in cervezas_grid:\n",
    "        print('Cerveza {} de {}, pag {}/{}'.format(\n",
    "            count_beer, len(cervezas_grid), page, len(pages)))\n",
    "\n",
    "        URL_cerveza = cerveza.find(\"a\")[\"href\"] \n",
    "        r = requests.get(URL)\n",
    "        soup_cerveza = BeautifulSoup(r.text, \"lxml\")\n",
    "\n",
    "        id_cerv = \"lbt_\" + str(count)\n",
    "        nombre = soup_cerveza.find(class_ = \"h1 product-detail-name\").text\n",
    "        precio = soup_cerveza.find(class_ = \"current-price\").find(\"span\")[\"content\"]\n",
    "\n",
    "        try:\n",
    "            descrp_corta = soup_cerveza.find(class_ = \"description-short\").find(\"p\").text\n",
    "\n",
    "        except:\n",
    "            \n",
    "            descrp_corta = None \n",
    "\n",
    "            imagen = soup_cerveza.find(class_='js-qv-product-cover img-fluid')['src']\n",
    "\n",
    "        try:\n",
    "            marca = soup_cerveza.find(class_='img img-thumbnail manufacturer-logo')['alt']\n",
    "        except:\n",
    "            marca = None\n",
    "\n",
    "        features_dicc = {}\n",
    "        features = soup_cerveza.find(class_ = 'data-sheet')\n",
    "        try:\n",
    "            features_dt = features.find_all('dt')\n",
    "            features_dd = features.find_all('dd')\n",
    "            for feature, value in zip(features_dt, features_dd):\n",
    "                #print(feature.text, value.text)\n",
    "                features_dicc[feature.text] = value.text\n",
    "        except:\n",
    "            features_dicc = {}\n",
    "\n",
    "        lista_cervezas.append([ \n",
    "            (\"id_cerv\", id_cerv),\n",
    "            (\"nombre\", nombre),\n",
    "            (\"precio\", precio),\n",
    "            (\"descrp_corta\", descrp_corta),\n",
    "            (\"imagen\", imagen),\n",
    "            (\"marca\", marca),\n",
    "            (\"features\", features_dicc)\n",
    "        ])\n",
    "\n",
    "        count += 1\n",
    "        count_beer += 1\n",
    "\n",
    "\n"
   ]
  },
  {
   "cell_type": "markdown",
   "metadata": {},
   "source": [
    "### Ya sabemos obtener todos los datos que nos interesan de una cerveza, ahora tenemos que aplicar esta lógica para obtener todas las demás "
   ]
  },
  {
   "cell_type": "code",
   "execution_count": null,
   "metadata": {},
   "outputs": [],
   "source": []
  },
  {
   "cell_type": "markdown",
   "metadata": {},
   "source": [
    "### FBI: Top ten criminals\n",
    "\n",
    "#### Queremos guardar las imágenes de cada fugitivo y que el nombre de cada archivo sea el nombre del fugitivo:"
   ]
  },
  {
   "cell_type": "code",
   "execution_count": 18,
   "metadata": {},
   "outputs": [],
   "source": [
    "fbi_url = 'https://www.fbi.gov/wanted/topten'\n",
    "\n"
   ]
  }
 ],
 "metadata": {
  "hide_input": false,
  "kernelspec": {
   "name": "python374jvsc74a57bd00600588c3b5f4418cbe7b5ebc6825b479f3bc010269d8b60d75058cdd010adfe",
   "display_name": "Python 3.7.4 64-bit"
  },
  "language_info": {
   "codemirror_mode": {
    "name": "ipython",
    "version": 3
   },
   "file_extension": ".py",
   "mimetype": "text/x-python",
   "name": "python",
   "nbconvert_exporter": "python",
   "pygments_lexer": "ipython3",
   "version": "3.7.4"
  },
  "varInspector": {
   "cols": {
    "lenName": 16,
    "lenType": 16,
    "lenVar": 40
   },
   "kernels_config": {
    "python": {
     "delete_cmd_postfix": "",
     "delete_cmd_prefix": "del ",
     "library": "var_list.py",
     "varRefreshCmd": "print(var_dic_list())"
    },
    "r": {
     "delete_cmd_postfix": ") ",
     "delete_cmd_prefix": "rm(",
     "library": "var_list.r",
     "varRefreshCmd": "cat(var_dic_list()) "
    }
   },
   "types_to_exclude": [
    "module",
    "function",
    "builtin_function_or_method",
    "instance",
    "_Feature"
   ],
   "window_display": false
  },
  "metadata": {
   "interpreter": {
    "hash": "0600588c3b5f4418cbe7b5ebc6825b479f3bc010269d8b60d75058cdd010adfe"
   }
  }
 },
 "nbformat": 4,
 "nbformat_minor": 2
}