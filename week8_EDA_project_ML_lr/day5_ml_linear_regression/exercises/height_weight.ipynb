{
 "metadata": {
  "language_info": {
   "codemirror_mode": {
    "name": "ipython",
    "version": 3
   },
   "file_extension": ".py",
   "mimetype": "text/x-python",
   "name": "python",
   "nbconvert_exporter": "python",
   "pygments_lexer": "ipython3",
   "version": "3.7.4"
  },
  "orig_nbformat": 2,
  "kernelspec": {
   "name": "python374jvsc74a57bd00600588c3b5f4418cbe7b5ebc6825b479f3bc010269d8b60d75058cdd010adfe",
   "display_name": "Python 3.7.4 64-bit"
  },
  "metadata": {
   "interpreter": {
    "hash": "0600588c3b5f4418cbe7b5ebc6825b479f3bc010269d8b60d75058cdd010adfe"
   }
  }
 },
 "nbformat": 4,
 "nbformat_minor": 2,
 "cells": [
  {
   "cell_type": "markdown",
   "metadata": {},
   "source": [
    "### Se pide, usando regresión lineal:\n",
    "\n",
    "Dibujar con una línea la relación que hay entre la altura (X) y la edad(y) de los alumnos de la clase: \n",
    "\n",
    "- ¿Es una buena técnica para este tipo de problemas? ¿Por qué? \n",
    "- ¿Qué error se comete? Calcula los errores que está cometiendo tu modelo uno a uno (lo tienes que calcular tú con python). Aparte, usa el MSE y el RMSE. ¿Alguno es mejor para este problema?\n",
    "- Representa la matriz de correlación, ¿los datos están correlacionados?\n",
    "- ¿Qué ocurre si la altura se multiplica por dos? ¿Y si se multiplica solo la edad? "
   ]
  },
  {
   "cell_type": "code",
   "execution_count": 1,
   "metadata": {},
   "outputs": [],
   "source": [
    "lista_edad_altura = [(\"Clara Piniella\", 30, 1.66),(\"Daniel Walker\", 34, 1.87), (\"Leonardo Frazzetto\", 31, 1.78),(\"Xinru Yang\", 24, 1.60), (\"Jorge Garcia\", 28, 1.79), (\"Jonathan Suárez\", 27, 1.86),(\"Marina Serrano\", 25, 1.54), (\"Karina Inche\", 30, 1.61), (\"Mary Meza\", 32, 1.52),(\"Borja Puig\", 37, 1.82), (\"Mauro Garcia-Oliva\", 45, 1.77), (\"José Carlos Batista\", 28, 1.70),(\"Isabel Palomares\",24,1.78),(\"Gina Garrido\",57,1.63), (\"Sonia Cobo\", 29, 1.73), (\"Miguel Barquero\", 35, 1.85),(\"Nacho Astorga\",47,1.78), (\"Adrià Gallardo\", 24, 1.70), (\"Juan Bayon\", 38, 1.64), (\"Nacho Fontal\", 35, 1.82), (\"Pablo Eduardo\", 25, 1.78), (\"Javier Araiz\", 25, 1.75)]"
   ]
  },
  {
   "cell_type": "code",
   "execution_count": 2,
   "metadata": {},
   "outputs": [
    {
     "output_type": "stream",
     "name": "stdout",
     "text": [
      "[30, 34, 31, 24, 28, 27, 25, 30, 32, 37, 45, 28, 24, 57, 29, 35, 47, 24, 38, 35, 25, 25]\n"
     ]
    }
   ],
   "source": [
    "x = (x[1]for x in lista_edad_altura)\n",
    "print(list(x))"
   ]
  },
  {
   "cell_type": "code",
   "execution_count": 3,
   "metadata": {},
   "outputs": [
    {
     "output_type": "stream",
     "name": "stdout",
     "text": [
      "[1.66, 1.87, 1.78, 1.6, 1.79, 1.86, 1.54, 1.61, 1.52, 1.82, 1.77, 1.7, 1.78, 1.63, 1.73, 1.85, 1.78, 1.7, 1.64, 1.82, 1.78, 1.75]\n"
     ]
    }
   ],
   "source": [
    "y =  (x[2]for x in lista_edad_altura)\n",
    "print(list(y))"
   ]
  },
  {
   "cell_type": "code",
   "execution_count": 6,
   "metadata": {},
   "outputs": [
    {
     "output_type": "error",
     "ename": "AttributeError",
     "evalue": "'generator' object has no attribute 'shape'",
     "traceback": [
      "\u001b[1;31m---------------------------------------------------------------------------\u001b[0m",
      "\u001b[1;31mAttributeError\u001b[0m                            Traceback (most recent call last)",
      "\u001b[1;32m<ipython-input-6-9f2b259887ef>\u001b[0m in \u001b[0;36m<module>\u001b[1;34m\u001b[0m\n\u001b[1;32m----> 1\u001b[1;33m \u001b[0mx\u001b[0m\u001b[1;33m.\u001b[0m\u001b[0mshape\u001b[0m\u001b[1;33m\u001b[0m\u001b[1;33m\u001b[0m\u001b[0m\n\u001b[0m",
      "\u001b[1;31mAttributeError\u001b[0m: 'generator' object has no attribute 'shape'"
     ]
    }
   ],
   "source": [
    "x.shape"
   ]
  }
 ]
}