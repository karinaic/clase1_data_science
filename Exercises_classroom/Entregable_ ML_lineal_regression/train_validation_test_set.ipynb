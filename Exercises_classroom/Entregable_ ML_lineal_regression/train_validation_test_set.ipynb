{
 "cells": [
  {
   "cell_type": "markdown",
   "metadata": {},
   "source": [
    "### 1. \n",
    "\n",
    "Crear una función que reciba cuatro parámetros: una lista 'L', un número 'T', un número 'V' y un booleano 'S'. La función debe devolver otras dos listas: \"lista_train_val\" y \"lista_test\".\n",
    "\n",
    "- \"lista_train_val\" es una lista con dos elementos. Cada elemento es una lista: \"list_train\", que representa el conjunto de entrenamiento y \"list_val\", que representa el conjunto de validación. \n",
    "- \"list_test\" es el conjunto de test. Como mínimo ha de tener 1 elemento (si 'L' > 1).\n",
    "- \"L\" es cualquier lista de elementos. Al principio, entra con un tamaño completo (100%). Esta es la lista que se partirá y se generarán los conjuntos entrenamiento, de validación y de test.\n",
    "- \"T\" es un número entre 1 y 100 que va a representar el tamaño, en porcentaje, del conjunto de test \"list_test\". \n",
    "- \"V\" es un número entre 0 y 100 que va a representar el tamaño, en porcentaje, del conjunto de validación \"list_val\". Su valor por defecto es 0.\n",
    "- \"S\", que por defecto es False, determinará si los conjuntos \"list_train\", \"list_test\" y \"list_val\" están aleatoriamente ordenados. ¿Encuentras alguna posible incoherencia si se reordenan aleatoriamente?\n",
    "\n",
    "Prueba la función con una lista de 100 números aleatorios del 0 al 100. \n",
    "\n",
    "### 2. \n",
    "\n",
    "Rehacer el ejercicio anterior en otra función para que no devuelva dos listas, sino los tres conjuntos: \n",
    "\n",
    "--> return list_train, list_val, list_test "
   ]
  },
  {
   "cell_type": "code",
   "execution_count": 21,
   "metadata": {},
   "outputs": [],
   "source": [
    "# genero una lista aleatoria de 100 elementos\n",
    "from random import sample\n"
   ]
  },
  {
   "cell_type": "code",
   "execution_count": 58,
   "metadata": {},
   "outputs": [
    {
     "output_type": "stream",
     "name": "stdout",
     "text": [
      "[68, 39, 15, 29, 52, 99, 51, 9, 74, 67, 55, 10, 34, 33, 5, 60, 11, 22, 19, 87, 56, 85, 28, 73, 36, 82, 18, 31, 23, 37, 53, 16, 76, 41, 96, 90, 59, 40, 45, 8, 81, 48, 1, 14, 20, 62, 71, 13, 44, 7, 24, 58, 89, 95, 65, 17, 64, 27, 50, 43, 70, 12, 42, 84, 75, 46, 3, 25, 35, 72, 2, 93, 69, 0, 57, 26, 92, 32, 47, 54, 4, 63, 66, 83, 98, 38, 91, 61, 97, 49, 78, 21, 94, 6, 79, 30, 88, 77, 86, 80]\n"
     ]
    }
   ],
   "source": [
    "lista = random.sample(range(0, 100), 100)\n",
    "print(lista)"
   ]
  },
  {
   "cell_type": "code",
   "execution_count": 59,
   "metadata": {},
   "outputs": [],
   "source": [
    "def funcion(L, T, V = 0, S = False):\n",
    "    #\"L\" es cualquier lista de elementos.\n",
    "    #\"V\" es un número entre 0 y 100 que va a representar el tamaño, en porcentaje, del conjunto de validación \"list_val\". Su valor por defecto es 0.\n",
    "    test = T/100*len(lista) #---->#\"T\" es un número entre 1 y 100 que va a representar el tamaño, en porcentaje, del conjunto de test \"list_test\".\n",
    "    list_test = L[:round(test)]\n",
    "    list_val = L[round(test):round(test)+V]\n",
    "    list_train = L[round(test)+V:]\n",
    "    #\"lista_train_val\" es una lista con dos elementos. Cada elemento es una lista: \"list_train\", que representa el conjunto de      entrenamiento y \"list_val\", que representa el conjunto de validación.\n",
    "    list_train_val = [\"list train:\",list_train,\"list_val:\", list_val]\n",
    "#\"S\", que por defecto es False, determinará si los conjuntos \"list_train\", \"list_test\" y \"list_val\" están aleatoriamente ordenados.\n",
    "    if S == True:\n",
    "        random.shuffle(list_train)\n",
    "        random.shuffle(list_val)\n",
    "    print(\"List_train_val:\")\n",
    "    return ( list_train_val, list_test)\n"
   ]
  },
  {
   "cell_type": "code",
   "execution_count": 60,
   "metadata": {},
   "outputs": [
    {
     "output_type": "stream",
     "name": "stdout",
     "text": [
      "List_train_val:\n"
     ]
    },
    {
     "output_type": "execute_result",
     "data": {
      "text/plain": [
       "(['list train:',\n",
       "  [81,\n",
       "   48,\n",
       "   1,\n",
       "   14,\n",
       "   20,\n",
       "   62,\n",
       "   71,\n",
       "   13,\n",
       "   44,\n",
       "   7,\n",
       "   24,\n",
       "   58,\n",
       "   89,\n",
       "   95,\n",
       "   65,\n",
       "   17,\n",
       "   64,\n",
       "   27,\n",
       "   50,\n",
       "   43,\n",
       "   70,\n",
       "   12,\n",
       "   42,\n",
       "   84,\n",
       "   75,\n",
       "   46,\n",
       "   3,\n",
       "   25,\n",
       "   35,\n",
       "   72,\n",
       "   2,\n",
       "   93,\n",
       "   69,\n",
       "   0,\n",
       "   57,\n",
       "   26,\n",
       "   92,\n",
       "   32,\n",
       "   47,\n",
       "   54,\n",
       "   4,\n",
       "   63,\n",
       "   66,\n",
       "   83,\n",
       "   98,\n",
       "   38,\n",
       "   91,\n",
       "   61,\n",
       "   97,\n",
       "   49,\n",
       "   78,\n",
       "   21,\n",
       "   94,\n",
       "   6,\n",
       "   79,\n",
       "   30,\n",
       "   88,\n",
       "   77,\n",
       "   86,\n",
       "   80],\n",
       "  'list_val:',\n",
       "  [56,\n",
       "   85,\n",
       "   28,\n",
       "   73,\n",
       "   36,\n",
       "   82,\n",
       "   18,\n",
       "   31,\n",
       "   23,\n",
       "   37,\n",
       "   53,\n",
       "   16,\n",
       "   76,\n",
       "   41,\n",
       "   96,\n",
       "   90,\n",
       "   59,\n",
       "   40,\n",
       "   45,\n",
       "   8]],\n",
       " [68,\n",
       "  39,\n",
       "  15,\n",
       "  29,\n",
       "  52,\n",
       "  99,\n",
       "  51,\n",
       "  9,\n",
       "  74,\n",
       "  67,\n",
       "  55,\n",
       "  10,\n",
       "  34,\n",
       "  33,\n",
       "  5,\n",
       "  60,\n",
       "  11,\n",
       "  22,\n",
       "  19,\n",
       "  87])"
      ]
     },
     "metadata": {},
     "execution_count": 60
    }
   ],
   "source": [
    "funcion(L= lista,T = 20, V= 20, S= False)"
   ]
  },
  {
   "source": [
    "- S == True no encuentro incoherencias."
   ],
   "cell_type": "markdown",
   "metadata": {}
  },
  {
   "source": [
    "####  2.\n",
    "Rehacer el ejercicio anterior en otra función para que no devuelva dos listas, sino los tres conjuntos:\n",
    "\n",
    "--> return list_train, list_val, list_test"
   ],
   "cell_type": "markdown",
   "metadata": {}
  },
  {
   "cell_type": "code",
   "execution_count": 61,
   "metadata": {},
   "outputs": [],
   "source": [
    "def funcion_1(L, T, V = 0, S = False):\n",
    "    test = T/100*len(lista) \n",
    "    list_test = L[:round(test)]\n",
    "    list_val = L[round(test):round(test)+V]\n",
    "    list_train = L[round(test)+V:]\n",
    "    \n",
    "    if S == True:\n",
    "        random.shuffle(list_train)\n",
    "        random.shuffle(list_val)\n",
    "        random.shuffle(list_test)\n",
    "        \n",
    "    return (\"list train:\",list_train, \"list val:\", list_val, \"list test:\", list_test)"
   ]
  },
  {
   "cell_type": "code",
   "execution_count": 63,
   "metadata": {},
   "outputs": [
    {
     "output_type": "execute_result",
     "data": {
      "text/plain": [
       "('list train:',\n",
       " [81,\n",
       "  48,\n",
       "  1,\n",
       "  14,\n",
       "  20,\n",
       "  62,\n",
       "  71,\n",
       "  13,\n",
       "  44,\n",
       "  7,\n",
       "  24,\n",
       "  58,\n",
       "  89,\n",
       "  95,\n",
       "  65,\n",
       "  17,\n",
       "  64,\n",
       "  27,\n",
       "  50,\n",
       "  43,\n",
       "  70,\n",
       "  12,\n",
       "  42,\n",
       "  84,\n",
       "  75,\n",
       "  46,\n",
       "  3,\n",
       "  25,\n",
       "  35,\n",
       "  72,\n",
       "  2,\n",
       "  93,\n",
       "  69,\n",
       "  0,\n",
       "  57,\n",
       "  26,\n",
       "  92,\n",
       "  32,\n",
       "  47,\n",
       "  54,\n",
       "  4,\n",
       "  63,\n",
       "  66,\n",
       "  83,\n",
       "  98,\n",
       "  38,\n",
       "  91,\n",
       "  61,\n",
       "  97,\n",
       "  49,\n",
       "  78,\n",
       "  21,\n",
       "  94,\n",
       "  6,\n",
       "  79,\n",
       "  30,\n",
       "  88,\n",
       "  77,\n",
       "  86,\n",
       "  80],\n",
       " 'list val:',\n",
       " [56,\n",
       "  85,\n",
       "  28,\n",
       "  73,\n",
       "  36,\n",
       "  82,\n",
       "  18,\n",
       "  31,\n",
       "  23,\n",
       "  37,\n",
       "  53,\n",
       "  16,\n",
       "  76,\n",
       "  41,\n",
       "  96,\n",
       "  90,\n",
       "  59,\n",
       "  40,\n",
       "  45,\n",
       "  8],\n",
       " 'list test:',\n",
       " [68,\n",
       "  39,\n",
       "  15,\n",
       "  29,\n",
       "  52,\n",
       "  99,\n",
       "  51,\n",
       "  9,\n",
       "  74,\n",
       "  67,\n",
       "  55,\n",
       "  10,\n",
       "  34,\n",
       "  33,\n",
       "  5,\n",
       "  60,\n",
       "  11,\n",
       "  22,\n",
       "  19,\n",
       "  87])"
      ]
     },
     "metadata": {},
     "execution_count": 63
    }
   ],
   "source": [
    "funcion_1(L= lista,T = 20, V= 20, S= False)"
   ]
  }
 ],
 "metadata": {
  "kernelspec": {
   "name": "python374jvsc74a57bd00600588c3b5f4418cbe7b5ebc6825b479f3bc010269d8b60d75058cdd010adfe",
   "display_name": "Python 3.7.4 64-bit"
  },
  "language_info": {
   "codemirror_mode": {
    "name": "ipython",
    "version": 3
   },
   "file_extension": ".py",
   "mimetype": "text/x-python",
   "name": "python",
   "nbconvert_exporter": "python",
   "pygments_lexer": "ipython3",
   "version": "3.7.4"
  },
  "metadata": {
   "interpreter": {
    "hash": "0600588c3b5f4418cbe7b5ebc6825b479f3bc010269d8b60d75058cdd010adfe"
   }
  }
 },
 "nbformat": 4,
 "nbformat_minor": 2
}