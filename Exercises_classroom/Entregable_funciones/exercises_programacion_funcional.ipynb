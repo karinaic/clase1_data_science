{
  "nbformat": 4,
  "nbformat_minor": 0,
  "metadata": {
    "kernelspec": {
      "name": "python374jvsc74a57bd00600588c3b5f4418cbe7b5ebc6825b479f3bc010269d8b60d75058cdd010adfe",
      "display_name": "Python 3.7.4 64-bit"
    },
    "language_info": {
      "codemirror_mode": {
        "name": "ipython",
        "version": 3
      },
      "file_extension": ".py",
      "mimetype": "text/x-python",
      "name": "python",
      "nbconvert_exporter": "python",
      "pygments_lexer": "ipython3",
      "version": "3.7.4"
    },
    "colab": {
      "name": "exercises_programacion_funcional.ipynb",
      "provenance": []
    },
    "metadata": {
      "interpreter": {
        "hash": "0600588c3b5f4418cbe7b5ebc6825b479f3bc010269d8b60d75058cdd010adfe"
      }
    }
  },
  "cells": [
    {
      "cell_type": "markdown",
      "metadata": {
        "id": "ngSu0E6nxAwU"
      },
      "source": [
        "# Python | Programación funcional\n",
        "\n",
        "### Ejercicio 1.\n",
        "\n",
        "1. Utiliza `reduce` para concatenar estas palabras en una frase\n",
        "```Python\n",
        "ejer_1 = (\"to\", \"be\", \"or\", \"not\", \"to\", \"be\", \"that\", \"is\", \"the\", \"question\")\n",
        "```"
      ]
    },
    {
      "cell_type": "code",
      "metadata": {
        "id": "8-eL2mQ7xAwb"
      },
      "source": [
        "#sintaxis. reduce(funcion, iterable[, initial])\n",
        "from functools import reduce\n",
        "\n",
        "ejer_1 = (\"to\", \"be\", \"or\", \"not\", \"to\", \"be\", \"that\", \"is\", \"the\", \"question\")\n",
        "\n",
        "reduce(lambda x,y: x + \" \" + y, ejer_1)\n",
        "\n"
      ],
      "execution_count": 4,
      "outputs": [
        {
          "output_type": "execute_result",
          "data": {
            "text/plain": [
              "'to be or not to be that is the question'"
            ]
          },
          "metadata": {},
          "execution_count": 4
        }
      ]
    },
    {
      "cell_type": "markdown",
      "metadata": {
        "id": "F8RbIef0xAwc"
      },
      "source": [
        "2. Obtén una nueva tupla con el cuadrado de cada elemento de la siguiente tupla\n",
        "\n",
        "```Python\n",
        "ejer_2 = (1,2,3,4,5)\n",
        "```"
      ]
    },
    {
      "cell_type": "code",
      "metadata": {
        "id": "0DbZswoExAwd"
      },
      "source": [
        "ejer_2 = (1,2,3,4,5)\n",
        "\n",
        "new_ejer_2 = tuple(map(lambda x : x**2, ejer_2))\n",
        "new_ejer_2"
      ],
      "execution_count": 5,
      "outputs": [
        {
          "output_type": "execute_result",
          "data": {
            "text/plain": [
              "(1, 4, 9, 16, 25)"
            ]
          },
          "metadata": {},
          "execution_count": 5
        }
      ]
    },
    {
      "cell_type": "markdown",
      "metadata": {
        "id": "_bvgT9ZzxAwd"
      },
      "source": [
        "3. Filtra aquellos elementos que sean multiplos de 3 o de 5\n",
        "```Python\n",
        "ejer_3 = (1,2,3,4,5,15,21,22,33,34,35)\n",
        "```"
      ]
    },
    {
      "cell_type": "code",
      "metadata": {
        "id": "UsDH93gWxAwe"
      },
      "source": [
        "##sintaxis: filter(funcion, iterable)\n",
        "ejer_3 = (1,2,3,4,5,15,21,22,33,34,35)\n",
        "\n",
        "list(filter(lambda x: x %3 ==0 or x%5 == 0, ejer_3))\n"
      ],
      "execution_count": 6,
      "outputs": [
        {
          "output_type": "execute_result",
          "data": {
            "text/plain": [
              "[3, 5, 15, 21, 33, 35]"
            ]
          },
          "metadata": {},
          "execution_count": 6
        }
      ]
    },
    {
      "cell_type": "markdown",
      "metadata": {
        "id": "syXB64fYxAwe"
      },
      "source": [
        "4. Convierte la siguiente tupla de pesetas a euros\n",
        "```Python\n",
        "ejer_4 = (1000, 8000, 20000000, 40000000)\n",
        "```"
      ]
    },
    {
      "cell_type": "code",
      "metadata": {
        "id": "_NaXAQb3xAwf"
      },
      "source": [
        "##1 euros = 166 pesetas \n",
        "\n",
        "ejer_4 = (1000, 8000, 20000000, 40000000)\n",
        "\n",
        "new_ejer_4 = list(map(lambda x: x//166, ejer_4))\n",
        "\n",
        "print(new_ejer_4)\n",
        "\n"
      ],
      "execution_count": 9,
      "outputs": [
        {
          "output_type": "stream",
          "name": "stdout",
          "text": [
            "[6, 48, 120481, 240963]\n"
          ]
        }
      ]
    },
    {
      "cell_type": "markdown",
      "metadata": {
        "id": "v6ybhMWaxAwf"
      },
      "source": [
        "5. Convierte la siguiente lista de desconocidos a mayusculas\n",
        "```Python\n",
        "ejer_5 = (\"Arya\", \"John\", \"Robb\", \"Bran\", \"Sansa\", \"Rickon\")\n",
        "```"
      ]
    },
    {
      "cell_type": "code",
      "metadata": {
        "id": "-SfXwVmkxAwg"
      },
      "source": [
        "ejer_5 = (\"Arya\", \"John\", \"Robb\", \"Bran\", \"Sansa\", \"Rickon\")\n",
        "\n",
        "new_ejer_5 = list(map(lambda x: x.upper(), ejer_5))\n",
        "\n",
        "new_ejer_5\n",
        "\n"
      ],
      "execution_count": 12,
      "outputs": [
        {
          "output_type": "execute_result",
          "data": {
            "text/plain": [
              "['ARYA', 'JOHN', 'ROBB', 'BRAN', 'SANSA', 'RICKON']"
            ]
          },
          "metadata": {},
          "execution_count": 12
        }
      ]
    },
    {
      "cell_type": "markdown",
      "metadata": {
        "id": "oGSvceBDxAwg"
      },
      "source": [
        "6. Realiza un conversor de dias de la semana en texto a numerico (1-7), usando `map`.\n",
        "```Python\n",
        "ejer_6 = (\"Lunes\", \"Martes\", \"Miércoles\", \"Jueves\", \"Viernes\", \"Sábado\", \"Domingo\")\n",
        "```"
      ]
    },
    {
      "cell_type": "code",
      "metadata": {
        "id": "eD8B0ru4xAwg"
      },
      "source": [
        "ejer_6 = (\"Lunes\", \"Martes\", \"Miércoles\", \"Jueves\", \"Viernes\", \"Sábado\", \"Domingo\")\n",
        "\n"
      ],
      "execution_count": 3,
      "outputs": []
    },
    {
      "cell_type": "markdown",
      "metadata": {
        "id": "at6a1pGMxAwh"
      },
      "source": [
        "7. Utiliza `map` para multiplicar elemento a elemento estas dos tuplas\n",
        "```Python\n",
        "ejer_7_1 = (2, 5, 8)\n",
        "ejer_7_2 = (6, 3, 2)\n",
        "```"
      ]
    },
    {
      "cell_type": "code",
      "metadata": {
        "id": "jwclfMy0xAwh"
      },
      "source": [
        "ejer_7_1 = (2, 5, 8)\n",
        "ejer_7_2 = (6, 3, 2)\n",
        "\n",
        "list(map(lambda a,b: a*b, ejer_7_1, ejer_7_2))"
      ],
      "execution_count": 13,
      "outputs": [
        {
          "output_type": "execute_result",
          "data": {
            "text/plain": [
              "[12, 15, 16]"
            ]
          },
          "metadata": {},
          "execution_count": 13
        }
      ]
    },
    {
      "cell_type": "markdown",
      "metadata": {
        "id": "WH-NZYPUxAwh"
      },
      "source": [
        "8. Crea una tupla nueva con todos los coches que no sean VW :)\n",
        "\n",
        "```Python\n",
        "ejer_8 = (\"VW\", \"Audi\", \"Renault\", \"VW\", \"BMW\")\n",
        "```"
      ]
    },
    {
      "cell_type": "code",
      "metadata": {
        "id": "SLfkVM1LxAwi"
      },
      "source": [
        "#filter(funcion, iterable)\n",
        "\n",
        "ejer_8 = (\"VW\", \"Audi\", \"Renault\", \"VW\", \"BMW\")\n",
        "list(filter(lambda x: x != \"VW\", ejer_8))"
      ],
      "execution_count": 14,
      "outputs": [
        {
          "output_type": "execute_result",
          "data": {
            "text/plain": [
              "['Audi', 'Renault', 'BMW']"
            ]
          },
          "metadata": {},
          "execution_count": 14
        }
      ]
    },
    {
      "cell_type": "markdown",
      "metadata": {
        "id": "5eZgseGMxAwi"
      },
      "source": [
        "9. Dadas las siguientes fechas en formato string, quedate con aquellas del año 2020\n",
        "\n",
        "```Python\n",
        "ejer_9 = (\"2019-04-08\", \"2020-10-10\", \"2020-01-22\", \"2019-07-13\", \"2019-02-01\")\n",
        "```"
      ]
    },
    {
      "cell_type": "code",
      "metadata": {
        "id": "jOC_NNnoxAwi"
      },
      "source": [
        "ejer_9 = (\"2019-04-08\", \"2020-10-10\", \"2020-01-22\", \"2019-07-13\", \"2019-02-01\")\n",
        "list(filter(lambda x: \"2020\" in(x), ejer_9))"
      ],
      "execution_count": 16,
      "outputs": [
        {
          "output_type": "execute_result",
          "data": {
            "text/plain": [
              "['2020-10-10', '2020-01-22']"
            ]
          },
          "metadata": {},
          "execution_count": 16
        }
      ]
    },
    {
      "cell_type": "markdown",
      "metadata": {
        "id": "xWm2edzoxAwi"
      },
      "source": [
        "10. Filtra aquellos strings que sean [palíndromos](https://es.wikipedia.org/wiki/Pal%C3%ADndromo)\n",
        "```Python\n",
        "ejer_10 = (\"php\", \"w3r\", \"Python\", \"abcd\", \"Java\", \"aaa\")\n",
        "```"
      ]
    },
    {
      "cell_type": "code",
      "metadata": {
        "id": "yBd2OuFwxAwi"
      },
      "source": [
        "ejer_10 = (\"php\", \"w3r\", \"Python\", \"abcd\", \"Java\", \"aaa\") \n",
        "\n",
        "list(filter(lambda x: str(x) == str(x)[::-1], ejer_10))"
      ],
      "execution_count": 17,
      "outputs": [
        {
          "output_type": "execute_result",
          "data": {
            "text/plain": [
              "['php', 'aaa']"
            ]
          },
          "metadata": {},
          "execution_count": 17
        }
      ]
    },
    {
      "cell_type": "markdown",
      "metadata": {
        "id": "yNBrqoY7xAwj"
      },
      "source": [
        "### Bonus Track.\n",
        "\n",
        "- Resuelve esta kata usando `map`\n",
        "https://www.codewars.com/kata/554b4ac871d6813a03000035\n",
        "\n",
        "Nota: si es demasiado difícil intenta resolverla sin usar `map` y si lo consigues, vuelve a resolverla usando `map`."
      ]
    },
    {
      "cell_type": "code",
      "metadata": {
        "id": "PknVkO3PxAwj"
      },
      "source": [],
      "execution_count": null,
      "outputs": []
    }
  ]
}