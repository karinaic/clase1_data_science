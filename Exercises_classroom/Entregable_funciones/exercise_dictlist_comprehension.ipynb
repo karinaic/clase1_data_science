{
  "nbformat": 4,
  "nbformat_minor": 0,
  "metadata": {
    "kernelspec": {
      "name": "python374jvsc74a57bd00600588c3b5f4418cbe7b5ebc6825b479f3bc010269d8b60d75058cdd010adfe",
      "display_name": "Python 3.7.4 64-bit"
    },
    "language_info": {
      "codemirror_mode": {
        "name": "ipython",
        "version": 3
      },
      "file_extension": ".py",
      "mimetype": "text/x-python",
      "name": "python",
      "nbconvert_exporter": "python",
      "pygments_lexer": "ipython3",
      "version": "3.7.4"
    },
    "colab": {
      "name": "exercise_dictlist_comprehension.ipynb",
      "provenance": []
    },
    "metadata": {
      "interpreter": {
        "hash": "0600588c3b5f4418cbe7b5ebc6825b479f3bc010269d8b60d75058cdd010adfe"
      }
    }
  },
  "cells": [
    {
      "cell_type": "markdown",
      "metadata": {
        "id": "KgHM42TSstMP"
      },
      "source": [
        "# Python | list/dict comprehension"
      ]
    },
    {
      "cell_type": "markdown",
      "metadata": {
        "id": "REeI1tckstMW"
      },
      "source": [
        "List comprehension in Python is a compact way of creating a list from a sequence. It is a short way to create a new list. List comprehension is considerably faster than processing a list using the for loop."
      ]
    },
    {
      "cell_type": "markdown",
      "metadata": {
        "id": "r1mvEfWqstMW"
      },
      "source": [
        "```python\n",
        "# syntax\n",
        "[i for i in iterable if expression]\n",
        "```"
      ]
    },
    {
      "cell_type": "markdown",
      "metadata": {
        "id": "bZna8eGGstMX"
      },
      "source": [
        "Dictionary comprehension is the same as list comprehension but with dictionaries. I know, you didn't see that coming. "
      ]
    },
    {
      "cell_type": "markdown",
      "metadata": {
        "id": "UMaGeHE2stMX"
      },
      "source": [
        "```python\n",
        "# syntax\n",
        "\n",
        "{key: value for i in iterable}\n",
        "```\n"
      ]
    },
    {
      "cell_type": "markdown",
      "metadata": {
        "id": "RCf2V32sstMX"
      },
      "source": [
        "- https://www.programiz.com/python-programming/list-comprehension\n",
        "- https://www.programiz.com/python-programming/dictionary-comprehension"
      ]
    },
    {
      "cell_type": "markdown",
      "metadata": {
        "id": "UOZZEsJFstMY"
      },
      "source": [
        "### Exercise 1.\n",
        "\n",
        "Use list comprehension and print the result to solve these problems: "
      ]
    },
    {
      "cell_type": "markdown",
      "metadata": {
        "id": "ECS9D7WEstMY"
      },
      "source": [
        "1. Make a list with the square number of numbers from 0 to 20. "
      ]
    },
    {
      "cell_type": "code",
      "metadata": {
        "id": "8lENWKwMstMZ"
      },
      "source": [
        "list_square = [i  for i in range(20)if i**2 < 20]\n",
        "print(list_square)\n"
      ],
      "execution_count": 3,
      "outputs": [
        {
          "output_type": "stream",
          "name": "stdout",
          "text": [
            "[0, 1, 2, 3, 4]\n"
          ]
        }
      ]
    },
    {
      "cell_type": "markdown",
      "metadata": {
        "id": "vAPavct4stMZ"
      },
      "source": [
        "2. Make a list with the first 50 power of two. "
      ]
    },
    {
      "cell_type": "code",
      "metadata": {
        "id": "WklNl5KAstMa"
      },
      "source": [
        "list_first_50 = [2**i for i in range(50)]\n",
        "print(list_first_50)"
      ],
      "execution_count": 7,
      "outputs": [
        {
          "output_type": "stream",
          "name": "stdout",
          "text": [
            "[1, 2, 4, 8, 16, 32, 64, 128, 256, 512, 1024, 2048, 4096, 8192, 16384, 32768, 65536, 131072, 262144, 524288, 1048576, 2097152, 4194304, 8388608, 16777216, 33554432, 67108864, 134217728, 268435456, 536870912, 1073741824, 2147483648, 4294967296, 8589934592, 17179869184, 34359738368, 68719476736, 137438953472, 274877906944, 549755813888, 1099511627776, 2199023255552, 4398046511104, 8796093022208, 17592186044416, 35184372088832, 70368744177664, 140737488355328, 281474976710656, 562949953421312]\n"
          ]
        }
      ]
    },
    {
      "cell_type": "markdown",
      "metadata": {
        "id": "biCHBUnjstMa"
      },
      "source": [
        "3. Calculate the square root of the first 100 numbers. \n",
        "\n",
        "**You will probably need to install math library with pip and import it in this file.** \n",
        "\n",
        "\n",
        "\n"
      ]
    },
    {
      "cell_type": "code",
      "metadata": {
        "id": "Td_8SyurstMa"
      },
      "source": [
        "import math\n",
        "\n",
        "math.sqrt(100)"
      ],
      "execution_count": 11,
      "outputs": [
        {
          "output_type": "execute_result",
          "data": {
            "text/plain": [
              "10.0"
            ]
          },
          "metadata": {},
          "execution_count": 11
        }
      ]
    },
    {
      "cell_type": "code",
      "execution_count": 12,
      "metadata": {},
      "outputs": [
        {
          "output_type": "stream",
          "name": "stdout",
          "text": [
            "[0, 1, 4, 9, 16, 25, 36, 49, 64, 81, 100, 121, 144, 169, 196, 225, 256, 289, 324, 361, 400, 441, 484, 529, 576, 625, 676, 729, 784, 841, 900, 961, 1024, 1089, 1156, 1225, 1296, 1369, 1444, 1521, 1600, 1681, 1764, 1849, 1936, 2025, 2116, 2209, 2304, 2401, 2500, 2601, 2704, 2809, 2916, 3025, 3136, 3249, 3364, 3481, 3600, 3721, 3844, 3969, 4096, 4225, 4356, 4489, 4624, 4761, 4900, 5041, 5184, 5329, 5476, 5625, 5776, 5929, 6084, 6241, 6400, 6561, 6724, 6889, 7056, 7225, 7396, 7569, 7744, 7921, 8100, 8281, 8464, 8649, 8836, 9025, 9216, 9409, 9604, 9801]\n"
          ]
        }
      ],
      "source": [
        "ejercicio_3 = [i**2 for i in range(100)]\n",
        "print(ejercicio_3)"
      ]
    },
    {
      "cell_type": "markdown",
      "metadata": {
        "id": "YGqwCPkastMa"
      },
      "source": [
        "4. Create this list `[-10,-9,-8,-7,-6,-5,-4,-3,-2,-1,0]`. "
      ]
    },
    {
      "cell_type": "code",
      "metadata": {
        "id": "Bi5K3aerstMb"
      },
      "source": [
        "ejercicio_4 =[i for i in range(-10,1,1)]\n",
        "print(ejercicio_4)"
      ],
      "execution_count": 18,
      "outputs": [
        {
          "output_type": "stream",
          "name": "stdout",
          "text": [
            "[-10, -9, -8, -7, -6, -5, -4, -3, -2, -1, 0]\n"
          ]
        }
      ]
    },
    {
      "cell_type": "markdown",
      "metadata": {
        "id": "YYBiAvAqstMb"
      },
      "source": [
        "5. Filter only negative and zero in the list `numbers`."
      ]
    },
    {
      "cell_type": "code",
      "metadata": {
        "id": "kC8zd_fCstMb"
      },
      "source": [
        "\n",
        "numbers = [-4, -3, -2, -1, 0, 2, 4, 6]"
      ],
      "execution_count": 14,
      "outputs": []
    },
    {
      "cell_type": "code",
      "metadata": {
        "id": "5Bh_kX3vstMb"
      },
      "source": [
        "ejercicio_5 = [i for i in numbers if i <=0]\n",
        "print(ejercicio_5)"
      ],
      "execution_count": 19,
      "outputs": [
        {
          "output_type": "stream",
          "name": "stdout",
          "text": [
            "[-4, -3, -2, -1, 0]\n"
          ]
        }
      ]
    },
    {
      "cell_type": "markdown",
      "metadata": {
        "id": "_akNbvOestMc"
      },
      "source": [
        "6. Find the odd numbers from 1-100 and put them on a list. \n",
        "\n",
        "\n"
      ]
    },
    {
      "cell_type": "code",
      "metadata": {
        "id": "r7WCs0QDstMc"
      },
      "source": [
        "odd_numbers = [i for i in range(1,100) if i% 2 != 0]\n",
        "print(odd_numbers)"
      ],
      "execution_count": 20,
      "outputs": [
        {
          "output_type": "stream",
          "name": "stdout",
          "text": [
            "[1, 3, 5, 7, 9, 11, 13, 15, 17, 19, 21, 23, 25, 27, 29, 31, 33, 35, 37, 39, 41, 43, 45, 47, 49, 51, 53, 55, 57, 59, 61, 63, 65, 67, 69, 71, 73, 75, 77, 79, 81, 83, 85, 87, 89, 91, 93, 95, 97, 99]\n"
          ]
        }
      ]
    },
    {
      "cell_type": "markdown",
      "metadata": {
        "id": "a88h5nY3stMc"
      },
      "source": [
        "7. Find all of the numbers from 1-1000 that are divisible by 7.\n",
        "\n"
      ]
    },
    {
      "cell_type": "code",
      "metadata": {
        "id": "jMlxAOYRstMc"
      },
      "source": [
        "divisible_by_7 = [i for i in range(1,1000) if i%7 == 0]\n",
        "print(divisible_by_7)"
      ],
      "execution_count": 21,
      "outputs": [
        {
          "output_type": "stream",
          "name": "stdout",
          "text": [
            "[7, 14, 21, 28, 35, 42, 49, 56, 63, 70, 77, 84, 91, 98, 105, 112, 119, 126, 133, 140, 147, 154, 161, 168, 175, 182, 189, 196, 203, 210, 217, 224, 231, 238, 245, 252, 259, 266, 273, 280, 287, 294, 301, 308, 315, 322, 329, 336, 343, 350, 357, 364, 371, 378, 385, 392, 399, 406, 413, 420, 427, 434, 441, 448, 455, 462, 469, 476, 483, 490, 497, 504, 511, 518, 525, 532, 539, 546, 553, 560, 567, 574, 581, 588, 595, 602, 609, 616, 623, 630, 637, 644, 651, 658, 665, 672, 679, 686, 693, 700, 707, 714, 721, 728, 735, 742, 749, 756, 763, 770, 777, 784, 791, 798, 805, 812, 819, 826, 833, 840, 847, 854, 861, 868, 875, 882, 889, 896, 903, 910, 917, 924, 931, 938, 945, 952, 959, 966, 973, 980, 987, 994]\n"
          ]
        }
      ]
    },
    {
      "cell_type": "markdown",
      "metadata": {
        "id": "94dEbwKwstMc"
      },
      "source": [
        "8. Remove all of the vowels in a string. \n",
        "\n",
        "   Hint: make a list of the non-vowels. \n",
        "\n",
        "\n",
        "\n",
        "\n"
      ]
    },
    {
      "cell_type": "code",
      "metadata": {
        "id": "T-zCJps3stMd"
      },
      "source": [
        "teststring = \"When you reach the end of your rope, tie a knot in it and hang on.\"\n",
        "ejercicio = teststring.replace(\" \", \"\")\n",
        "print(ejercicio)"
      ],
      "execution_count": 32,
      "outputs": [
        {
          "output_type": "stream",
          "name": "stdout",
          "text": [
            "Whenyoureachtheendofyourrope,tieaknotinitandhangon.\n"
          ]
        }
      ]
    },
    {
      "cell_type": "code",
      "metadata": {
        "id": "5ZP1qb-3stMd"
      },
      "source": [
        "non_vowels = [ i for i in ejercicio if i not in \"aeiou\"]\n",
        "print(non_vowels)"
      ],
      "execution_count": 33,
      "outputs": [
        {
          "output_type": "stream",
          "name": "stdout",
          "text": [
            "['W', 'h', 'n', 'y', 'r', 'c', 'h', 't', 'h', 'n', 'd', 'f', 'y', 'r', 'r', 'p', ',', 't', 'k', 'n', 't', 'n', 't', 'n', 'd', 'h', 'n', 'g', 'n', '.']\n"
          ]
        }
      ]
    },
    {
      "cell_type": "markdown",
      "metadata": {
        "id": "CmeoHyYystMd"
      },
      "source": [
        "9. Find the capital letters (and not white space) in the sentence `\"The Way To Get Started Is To Quit Talking And Begin Doing.\"`. \n"
      ]
    },
    {
      "cell_type": "code",
      "metadata": {
        "id": "MGJZwyIYstMd"
      },
      "source": [
        "sentence = \"The Way To Get Started Is To Quit Talking And Begin Doing.\"\n",
        "ejercicio_9 = sentence.replace(\" \", \"\")\n",
        "is_upper = [i for i in ejercicio_9 if i in \"ABCDEFGHIJKLMNOPQRSTUVWXYZ\"]\n",
        "print(is_upper)\n"
      ],
      "execution_count": 36,
      "outputs": [
        {
          "output_type": "stream",
          "name": "stdout",
          "text": [
            "['T', 'W', 'T', 'G', 'S', 'I', 'T', 'Q', 'T', 'A', 'B', 'D']\n"
          ]
        }
      ]
    },
    {
      "cell_type": "markdown",
      "metadata": {
        "id": "AtBiXMBLstMd"
      },
      "source": [
        "10. Find all the consonants in the sentence `\"Tell me and I forget. Teach me and I remember. Involve me and I learn.\"`.\n"
      ]
    },
    {
      "cell_type": "code",
      "metadata": {
        "id": "wYgPCReystMe"
      },
      "source": [
        "sentence = \"Tell me and I forget. Teach me and I remember. Involve me and I learn.\"\n",
        "ejercicio_10 = [i for i in sentence if i in \"ABCDEFGHIJKLMNOPQRSTUVWXYZ\"]\n",
        "print(ejercicio_10)"
      ],
      "execution_count": 37,
      "outputs": [
        {
          "output_type": "stream",
          "name": "stdout",
          "text": [
            "['T', 'I', 'T', 'I', 'I', 'I']\n"
          ]
        }
      ]
    },
    {
      "cell_type": "code",
      "execution_count": 39,
      "metadata": {},
      "outputs": [
        {
          "output_type": "stream",
          "name": "stdout",
          "text": [
            "['T', 'I', 'T', 'I', 'I', 'I']\n"
          ]
        }
      ],
      "source": [
        "##lo puedo resolver con la fucion re.findall; importando re\n",
        "import re\n",
        "'''module is used to search for “all” occurrences that match a given pattern\"'''\n",
        "\n",
        "sentence = \"Tell me and I forget. Teach me and I remember. Involve me and I learn.\"\n",
        "ejercicio_10_1 = re.findall('([A-Z])', sentence)\n",
        "print(ejercicio_10_1)\n"
      ]
    },
    {
      "cell_type": "markdown",
      "metadata": {
        "id": "_j0OTHXCstMe"
      },
      "source": [
        "11. Create 4 lists of 10 random numbers between 0 and 100 each. \n",
        "\n",
        "**You will probably need to import random module.**\n",
        "\n"
      ]
    },
    {
      "cell_type": "code",
      "execution_count": 41,
      "metadata": {},
      "outputs": [
        {
          "output_type": "stream",
          "name": "stdout",
          "text": [
            "[41, 48, 0, 8, 15, 30, 0, 99, 11, 99]\n"
          ]
        }
      ],
      "source": [
        "###no logro usar list-comprehesion...por lo que uso un bucle for .\n",
        "\n",
        "import random\n",
        "randomlist = []\n",
        "for i in range(10):\n",
        "    n = random.randint(0,100)\n",
        "    randomlist.append(n)\n",
        "\n",
        "print(randomlist)\n"
      ]
    },
    {
      "cell_type": "code",
      "execution_count": 42,
      "metadata": {},
      "outputs": [
        {
          "output_type": "stream",
          "name": "stdout",
          "text": [
            "[63, 40, 9, 90, 51, 7, 75, 68, 77, 11]\n"
          ]
        }
      ],
      "source": [
        "import random\n",
        "randomlist = []\n",
        "for i in range(10):\n",
        "    n = random.randint(0,100)\n",
        "    randomlist.append(n)\n",
        "\n",
        "print(randomlist)"
      ]
    },
    {
      "cell_type": "code",
      "execution_count": 43,
      "metadata": {},
      "outputs": [
        {
          "output_type": "stream",
          "name": "stdout",
          "text": [
            "[81, 58, 25, 4, 30, 15, 1, 91, 18, 86]\n"
          ]
        }
      ],
      "source": [
        "### tambien he intentado de esta otra manera\n",
        "\n",
        "import random\n",
        "#Generate 10 random numbers entre 0 y 100\n",
        "randomlist = random.sample(range(0, 100), 10)\n",
        "print(randomlist)"
      ]
    },
    {
      "cell_type": "code",
      "execution_count": null,
      "metadata": {},
      "outputs": [],
      "source": [
        "import random\n",
        "#Generate 10 random numbers entre 0 y 100\n",
        "randomlist = random.sample(range(0, 100), 10)\n",
        "print(randomlist)"
      ]
    },
    {
      "cell_type": "markdown",
      "metadata": {
        "id": "hFLO4wk8stMe"
      },
      "source": [
        "### Exercise 2. "
      ]
    },
    {
      "cell_type": "markdown",
      "metadata": {
        "id": "XNgazM61stMe"
      },
      "source": [
        "1. Flatten the following list of lists of lists to a one dimensional list **using list-comprehension**:\n",
        "```python\n",
        "expected output:\n",
        "[1, 2, 3, 4, 5, 6, 7, 8, 9]\n",
        "```"
      ]
    },
    {
      "cell_type": "code",
      "metadata": {
        "id": "Wc8LijKxstMe"
      },
      "source": [
        "list_of_lists =[[1, 2, 3], [4, 5, 6], [7, 8, 9]]"
      ],
      "execution_count": 44,
      "outputs": []
    },
    {
      "cell_type": "code",
      "metadata": {
        "id": "OXLgG0nastMf"
      },
      "source": [
        "flaten_list = [valores for listas in list_of_lists for valores in listas]\n",
        "print(flaten_list)"
      ],
      "execution_count": 46,
      "outputs": [
        {
          "output_type": "stream",
          "name": "stdout",
          "text": [
            "[1, 2, 3, 4, 5, 6, 7, 8, 9]\n"
          ]
        }
      ]
    },
    {
      "cell_type": "markdown",
      "metadata": {
        "id": "A5AUL-VhstMf"
      },
      "source": [
        "2. Flatten the following list to a new list, and capitalize the elements of the new list **using list-comprehension**:\n",
        "```python\n",
        "expected output:\n",
        "['SPAIN', 'MADRID', 'FRANCE', 'PARIS', 'PORTUGAL', 'LISBON']\n",
        "```"
      ]
    },
    {
      "cell_type": "code",
      "metadata": {
        "id": "I4FbS8eBstMf"
      },
      "source": [
        "countries = [[('Spain', 'Madrid')], [('France', 'Paris')], [('Portugal', 'Lisbon')]]"
      ],
      "execution_count": 47,
      "outputs": []
    },
    {
      "cell_type": "code",
      "metadata": {
        "id": "AtHd00RTstMf"
      },
      "source": [
        "\n",
        "lista_capitalize = [letters for i in countries for paises in i for letters in paises]\n",
        "\n",
        "print(lista_capitalize)"
      ],
      "execution_count": 65,
      "outputs": [
        {
          "output_type": "stream",
          "name": "stdout",
          "text": [
            "['Spain', 'Madrid', 'France', 'Paris', 'Portugal', 'Lisbon']\n"
          ]
        }
      ]
    },
    {
      "cell_type": "markdown",
      "metadata": {
        "id": "xCfmi1y5stMf"
      },
      "source": [
        "3. Change the `countries` list to a list of dictionaries:\n",
        "```python\n",
        "expected output:\n",
        "[{'country': 'SPAIN', 'city': 'MADRID'},\n",
        "{'country': 'FRANCE', 'city': 'PARIS'},\n",
        "{'country': 'PORTUGAL', 'city': 'LISBON'}]\n",
        "```"
      ]
    },
    {
      "cell_type": "code",
      "metadata": {
        "id": "vf-CKtdXstMg"
      },
      "source": [
        "list_dictionaries = [clave:valor for clave,valor in lista_capitalize]\n",
        "print(list_dictionaries)"
      ],
      "execution_count": 66,
      "outputs": [
        {
          "output_type": "error",
          "ename": "SyntaxError",
          "evalue": "invalid syntax (<ipython-input-66-e6849c8712a4>, line 1)",
          "traceback": [
            "\u001b[1;36m  File \u001b[1;32m\"<ipython-input-66-e6849c8712a4>\"\u001b[1;36m, line \u001b[1;32m1\u001b[0m\n\u001b[1;33m    list_dictionaries = [clave:valor for clave,valor in lista_capitalize]\u001b[0m\n\u001b[1;37m                              ^\u001b[0m\n\u001b[1;31mSyntaxError\u001b[0m\u001b[1;31m:\u001b[0m invalid syntax\n"
          ]
        }
      ]
    },
    {
      "cell_type": "markdown",
      "metadata": {
        "id": "LQX7G8eJstMg"
      },
      "source": [
        "4. Change the following list of lists to a list of concatenated strings **using list-comprehension**:\n",
        "```python\n",
        "expected output:\n",
        "['Gabriel Vazquez', 'Clara Piniella', 'Diomedes Barbero']\n",
        "```"
      ]
    },
    {
      "cell_type": "code",
      "metadata": {
        "id": "OVSsiDE-stMg"
      },
      "source": [
        "names = [[('Gabriel', 'Vazquez')], [('Clara', 'Piniella')], [('Diomedes', 'Barbero')]]"
      ],
      "execution_count": 67,
      "outputs": []
    },
    {
      "cell_type": "code",
      "metadata": {
        "id": "dPNVPEEistMg"
      },
      "source": [
        "lista_nombres = [[('Gabriel', 'Vazquez')], [('Clara', 'Piniella')], [('Diomedes', 'Barbero')]]\n",
        "\n",
        "lista_modificada = [y for listas in lista_nombres for x in listas for y in x]\n",
        "\n",
        "print(lista_modificada)"
      ],
      "execution_count": 68,
      "outputs": [
        {
          "output_type": "stream",
          "name": "stdout",
          "text": [
            "['Gabriel', 'Vazquez', 'Clara', 'Piniella', 'Diomedes', 'Barbero']\n"
          ]
        }
      ]
    },
    {
      "cell_type": "markdown",
      "metadata": {
        "id": "ZhN0VeyNstMg"
      },
      "source": [
        "5. Convert the numbers of the following nested list to floats. Use **floats_list** as the name of the list. **using list-comprehension**"
      ]
    },
    {
      "cell_type": "code",
      "metadata": {
        "id": "pV9jED54stMg"
      },
      "source": [
        "big_list_of_lists = [['40', '20', '10', '30'], ['20', '20', '20', '20', '20', '30', '20'], \\\n",
        "['30', '20', '30', '50', '10', '30', '20', '20', '20'], ['100', '100'], ['100', '100', '100', '100', '100'], \\\n",
        "['100', '100', '100', '100']]\n",
        "\n",
        "\n",
        "list_comprehension = [float(j) for i in big_list_of_lists for j in i ]\n",
        "list_comprehension"
      ],
      "execution_count": 78,
      "outputs": [
        {
          "output_type": "execute_result",
          "data": {
            "text/plain": [
              "[40.0,\n",
              " 20.0,\n",
              " 10.0,\n",
              " 30.0,\n",
              " 20.0,\n",
              " 20.0,\n",
              " 20.0,\n",
              " 20.0,\n",
              " 20.0,\n",
              " 30.0,\n",
              " 20.0,\n",
              " 30.0,\n",
              " 20.0,\n",
              " 30.0,\n",
              " 50.0,\n",
              " 10.0,\n",
              " 30.0,\n",
              " 20.0,\n",
              " 20.0,\n",
              " 20.0,\n",
              " 100.0,\n",
              " 100.0,\n",
              " 100.0,\n",
              " 100.0,\n",
              " 100.0,\n",
              " 100.0,\n",
              " 100.0,\n",
              " 100.0,\n",
              " 100.0,\n",
              " 100.0,\n",
              " 100.0]"
            ]
          },
          "metadata": {},
          "execution_count": 78
        }
      ]
    },
    {
      "cell_type": "code",
      "metadata": {
        "id": "D_uJNSMUstMh"
      },
      "source": [],
      "execution_count": null,
      "outputs": []
    },
    {
      "cell_type": "markdown",
      "metadata": {
        "id": "bLhql057stMh"
      },
      "source": [
        "6. Using list comprehension create the following list of tuples:\n",
        "```python\n",
        "expected output: \n",
        "[(0, 1, 0, 0, 0, 0, 0),\n",
        "(1, 1, 1, 1, 1, 1, 1),\n",
        "(2, 1, 2, 4, 8, 16, 32),\n",
        "(3, 1, 3, 9, 27, 81, 243),\n",
        "(4, 1, 4, 16, 64, 256, 1024),\n",
        "(5, 1, 5, 25, 125, 625, 3125),\n",
        "(6, 1, 6, 36, 216, 1296, 7776),\n",
        "(7, 1, 7, 49, 343, 2401, 16807),\n",
        "(8, 1, 8, 64, 512, 4096, 32768),\n",
        "(9, 1, 9, 81, 729, 6561, 59049),\n",
        "(10, 1, 10, 100, 1000, 10000, 100000)]\n",
        "```\n",
        "\n",
        "\n"
      ]
    },
    {
      "cell_type": "code",
      "metadata": {
        "id": "x-PvPCKKstMh"
      },
      "source": [
        "lista_de_tuplas = [ j**j+1 for i in range(0,11) for j in range(0,6)]\n",
        "print(lista_de_tuplas)\n",
        "\n",
        "###no me ha salido... "
      ],
      "execution_count": 93,
      "outputs": [
        {
          "output_type": "stream",
          "name": "stdout",
          "text": [
            "[2, 2, 5, 28, 257, 3126, 2, 2, 5, 28, 257, 3126, 2, 2, 5, 28, 257, 3126, 2, 2, 5, 28, 257, 3126, 2, 2, 5, 28, 257, 3126, 2, 2, 5, 28, 257, 3126, 2, 2, 5, 28, 257, 3126, 2, 2, 5, 28, 257, 3126, 2, 2, 5, 28, 257, 3126, 2, 2, 5, 28, 257, 3126, 2, 2, 5, 28, 257, 3126]\n"
          ]
        }
      ]
    },
    {
      "cell_type": "markdown",
      "metadata": {
        "id": "pEoPERItstMh"
      },
      "source": [
        "### Exercise 3. "
      ]
    },
    {
      "cell_type": "markdown",
      "metadata": {
        "id": "x2P1-F_UstMh"
      },
      "source": [
        "1. First, create a range from 100 to 160 with steps of 10.\n",
        "   Second, using **dict comprehension**, create a dictionary where each number in the range is the key and each item divided by 100 is the value."
      ]
    },
    {
      "cell_type": "code",
      "metadata": {
        "id": "LmFo_UrWstMi"
      },
      "source": [
        "dictionary = {num:num/100 for num in range(100,160,10)}\n",
        "\n",
        "print(dictionary)"
      ],
      "execution_count": 80,
      "outputs": [
        {
          "output_type": "stream",
          "name": "stdout",
          "text": [
            "{100: 1.0, 110: 1.1, 120: 1.2, 130: 1.3, 140: 1.4, 150: 1.5}\n"
          ]
        }
      ]
    },
    {
      "cell_type": "markdown",
      "metadata": {
        "id": "9sxw1_fOstMi"
      },
      "source": [
        "2. Using **dict comprehension** and a conditional argument create a dictionary from `curr_dict` where only the key:value pairs with value above 2000 are taken to the new dictionary.\n",
        "    "
      ]
    },
    {
      "cell_type": "code",
      "metadata": {
        "id": "fDp3EHCHstMi"
      },
      "source": [
        "curr_dict = {\"Netflix\":4950,\"HBO\":2400,\"Amazon\":1800, \"Movistar\":1700}"
      ],
      "execution_count": 81,
      "outputs": []
    },
    {
      "cell_type": "code",
      "metadata": {
        "id": "Bu-Y87lVstMi"
      },
      "source": [
        "new_curr_dict = {item: value for (item, value) in curr_dict.items() if value>  2000}\n",
        "print(new_curr_dict)"
      ],
      "execution_count": 85,
      "outputs": [
        {
          "output_type": "stream",
          "name": "stdout",
          "text": [
            "{'Netflix': 4950, 'HBO': 2400}\n"
          ]
        }
      ]
    },
    {
      "cell_type": "markdown",
      "metadata": {
        "id": "GW5Wia69stMi"
      },
      "source": [
        "3. Create a function that receives two lists `list1` and `list2` by parameter and returns a dictionary with each element of `list1` as keys and the elements of `list2` as values. This time use **dict comprehension** to do so.  "
      ]
    },
    {
      "cell_type": "code",
      "metadata": {
        "id": "Sl7lKaksstMi"
      },
      "source": [
        "a = [\"a\", \"b\"]\n",
        "b = [ 1, 2]\n",
        "\n",
        "def funcion_ejer_3 (list1, list2):\n",
        "    return dict(zip(list1, list2))"
      ],
      "execution_count": 86,
      "outputs": []
    },
    {
      "cell_type": "code",
      "execution_count": 87,
      "metadata": {},
      "outputs": [
        {
          "output_type": "execute_result",
          "data": {
            "text/plain": [
              "{'a': 1, 'b': 2}"
            ]
          },
          "metadata": {},
          "execution_count": 87
        }
      ],
      "source": [
        "funcion_ejer_3(list1=a , list2=b)"
      ]
    },
    {
      "cell_type": "code",
      "execution_count": 88,
      "metadata": {},
      "outputs": [],
      "source": [
        "def fun_ejerci_3 (list1, list2):\n",
        "    diccio = {key:value for key in list1 for value in list2}\n",
        "    return diccio"
      ]
    },
    {
      "cell_type": "code",
      "execution_count": 90,
      "metadata": {},
      "outputs": [
        {
          "output_type": "execute_result",
          "data": {
            "text/plain": [
              "{'a': 2, 'b': 2}"
            ]
          },
          "metadata": {},
          "execution_count": 90
        }
      ],
      "source": [
        "fun_ejerci_3(list1=a , list2=b)"
      ]
    },
    {
      "cell_type": "markdown",
      "metadata": {
        "id": "3r-oRZeJstMj"
      },
      "source": [
        "### Bonus Track.\n",
        "\n",
        "1. Make a Python program that, from the strings `\" | \"` and `\" _ \"`, shows an 8x8 **chessboard** on the screen.\n",
        "\n",
        "   Develop the program in a `.py` file that will be run through the terminal. \n",
        " \n",
        "   From the folder that contains the corresponding `.py`, it will be executed with the following command:` python3 program_name.py`"
      ]
    },
    {
      "cell_type": "code",
      "metadata": {
        "id": "1KsxmpfKstMj"
      },
      "source": [],
      "execution_count": null,
      "outputs": []
    },
    {
      "cell_type": "markdown",
      "metadata": {
        "id": "-o7m4dQCstMj"
      },
      "source": [
        "!['togood'](https://i.pinimg.com/originals/de/f5/2f/def52fe41d695d8feebd2cdc194da929.png)"
      ]
    },
    {
      "cell_type": "code",
      "metadata": {
        "id": "OCR3dV0ystMj"
      },
      "source": [],
      "execution_count": null,
      "outputs": []
    }
  ]
}