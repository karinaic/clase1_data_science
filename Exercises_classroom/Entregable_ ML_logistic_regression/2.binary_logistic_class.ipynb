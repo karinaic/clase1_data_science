{
 "metadata": {
  "language_info": {
   "codemirror_mode": {
    "name": "ipython",
    "version": 3
   },
   "file_extension": ".py",
   "mimetype": "text/x-python",
   "name": "python",
   "nbconvert_exporter": "python",
   "pygments_lexer": "ipython3",
   "version": "3.7.4"
  },
  "orig_nbformat": 2,
  "kernelspec": {
   "name": "python374jvsc74a57bd00600588c3b5f4418cbe7b5ebc6825b479f3bc010269d8b60d75058cdd010adfe",
   "display_name": "Python 3.7.4 64-bit"
  },
  "metadata": {
   "interpreter": {
    "hash": "0600588c3b5f4418cbe7b5ebc6825b479f3bc010269d8b60d75058cdd010adfe"
   }
  }
 },
 "nbformat": 4,
 "nbformat_minor": 2,
 "cells": [
  {
   "cell_type": "markdown",
   "metadata": {},
   "source": [
    "### 1. \n",
    "\n",
    "En el archivo \"logistic_regression_df_class\" hemos visto un ejemplo multiclase. Elimina del dataframe todas las filas que se correspondan con la clase valor \"1\".\n",
    "\n",
    "Ahora, realiza el ejercicio con el nuevo dataframe:\n",
    "\n",
    "- ¿Se mejora la precisión del algoritmo con dos clases? ¿por qué?\n",
    "\n",
    "LogisticRegression() es una clase que tiene varios parámetros de entrada. Investiga (modifica, prueba) los argumentos y comenta si modificando algunas de ellas se mejora el porcentaje de acierto del problema (probar al menos 2 diferentes)\n",
    "\n",
    "https://scikit-learn.org/stable/modules/generated/sklearn.linear_model.LogisticRegression.html\n"
   ]
  },
  {
   "source": [
    "## Analizing with Logistic Regression"
   ],
   "cell_type": "markdown",
   "metadata": {}
  },
  {
   "cell_type": "code",
   "execution_count": 25,
   "metadata": {},
   "outputs": [],
   "source": [
    "#importing libraries\n",
    "\n",
    "import pandas as pd\n",
    "import numpy as np\n",
    "import matplotlib.pyplot as plt\n",
    "from sklearn.metrics import mean_squared_error, mean_absolute_error\n",
    "from sklearn.model_selection import train_test_split\n",
    "from sklearn.model_selection import cross_val_score\n",
    "from sklearn.model_selection import KFold\n",
    "from sklearn.linear_model import LogisticRegression\n",
    "import random\n",
    "import seaborn as sns"
   ]
  },
  {
   "source": [
    "### Loading dataset"
   ],
   "cell_type": "markdown",
   "metadata": {}
  },
  {
   "cell_type": "code",
   "execution_count": 26,
   "metadata": {},
   "outputs": [
    {
     "output_type": "execute_result",
     "data": {
      "text/plain": [
       "   duracion  paginas  acciones  valor  clase\n",
       "0       7.0        2         4      8      2\n",
       "1      21.0        2         6      6      2\n",
       "2      57.0        2         4      4      2\n",
       "3     101.0        3         6     12      2\n",
       "4     109.0        2         6     12      2"
      ],
      "text/html": "<div>\n<style scoped>\n    .dataframe tbody tr th:only-of-type {\n        vertical-align: middle;\n    }\n\n    .dataframe tbody tr th {\n        vertical-align: top;\n    }\n\n    .dataframe thead th {\n        text-align: right;\n    }\n</style>\n<table border=\"1\" class=\"dataframe\">\n  <thead>\n    <tr style=\"text-align: right;\">\n      <th></th>\n      <th>duracion</th>\n      <th>paginas</th>\n      <th>acciones</th>\n      <th>valor</th>\n      <th>clase</th>\n    </tr>\n  </thead>\n  <tbody>\n    <tr>\n      <th>0</th>\n      <td>7.0</td>\n      <td>2</td>\n      <td>4</td>\n      <td>8</td>\n      <td>2</td>\n    </tr>\n    <tr>\n      <th>1</th>\n      <td>21.0</td>\n      <td>2</td>\n      <td>6</td>\n      <td>6</td>\n      <td>2</td>\n    </tr>\n    <tr>\n      <th>2</th>\n      <td>57.0</td>\n      <td>2</td>\n      <td>4</td>\n      <td>4</td>\n      <td>2</td>\n    </tr>\n    <tr>\n      <th>3</th>\n      <td>101.0</td>\n      <td>3</td>\n      <td>6</td>\n      <td>12</td>\n      <td>2</td>\n    </tr>\n    <tr>\n      <th>4</th>\n      <td>109.0</td>\n      <td>2</td>\n      <td>6</td>\n      <td>12</td>\n      <td>2</td>\n    </tr>\n  </tbody>\n</table>\n</div>"
     },
     "metadata": {},
     "execution_count": 26
    }
   ],
   "source": [
    "df = pd.read_csv(\"usuarios_win_mac_lin.csv\")\n",
    "df.head()"
   ]
  },
  {
   "source": [
    "### Removing from class column value = 1"
   ],
   "cell_type": "markdown",
   "metadata": {}
  },
  {
   "cell_type": "code",
   "execution_count": 27,
   "metadata": {},
   "outputs": [],
   "source": [
    "\n",
    "df.drop(df[df.clase == 1].index, inplace = True)"
   ]
  },
  {
   "cell_type": "code",
   "execution_count": 28,
   "metadata": {},
   "outputs": [
    {
     "output_type": "execute_result",
     "data": {
      "text/plain": [
       "0    86\n",
       "2    44\n",
       "Name: clase, dtype: int64"
      ]
     },
     "metadata": {},
     "execution_count": 28
    }
   ],
   "source": [
    "df.clase.value_counts()"
   ]
  },
  {
   "source": [
    "#### assigning values"
   ],
   "cell_type": "markdown",
   "metadata": {}
  },
  {
   "cell_type": "code",
   "execution_count": 29,
   "metadata": {},
   "outputs": [
    {
     "output_type": "stream",
     "name": "stdout",
     "text": [
      "X: (130, 4)\ny: (130,)\n"
     ]
    }
   ],
   "source": [
    "\n",
    "X = np.array(df.drop(['clase'], axis=1))\n",
    "y = np.array(df['clase']) #target\n",
    "\n",
    "print('X:', X.shape)\n",
    "print('y:', y.shape)"
   ]
  },
  {
   "source": [
    "### Model Evaluation"
   ],
   "cell_type": "markdown",
   "metadata": {}
  },
  {
   "cell_type": "code",
   "execution_count": 30,
   "metadata": {},
   "outputs": [
    {
     "output_type": "stream",
     "name": "stdout",
     "text": [
      "(104, 4)\n"
     ]
    },
    {
     "output_type": "execute_result",
     "data": {
      "text/plain": [
       "(26, 4)"
      ]
     },
     "metadata": {},
     "execution_count": 30
    }
   ],
   "source": [
    "seed = 111\n",
    "X_train, X_test, Y_train, Y_test = model_selection.train_test_split(X, y, test_size=0.2, random_state=seed)\n",
    "print(X_train.shape)\n",
    "X_test.shape"
   ]
  },
  {
   "cell_type": "code",
   "execution_count": 31,
   "metadata": {},
   "outputs": [],
   "source": [
    "from sklearn.linear_model import LogisticRegression"
   ]
  },
  {
   "cell_type": "code",
   "execution_count": 32,
   "metadata": {},
   "outputs": [
    {
     "output_type": "stream",
     "name": "stdout",
     "text": [
      "[0.90909091 0.90909091 0.81818182 1.         0.9        1.\n 1.         0.7        1.         1.        ]\n----------\nLogistic Regression: 0.923636 +- (0.095537)\n----------\n----------\n"
     ]
    }
   ],
   "source": [
    "model = LogisticRegression(max_iter=100)\n",
    "name='Logistic Regression'\n",
    "kfold = KFold(n_splits=10, random_state = seed, shuffle = True) #Parte los datos en 10 trozos para usar validación cruzada / cross validation\n",
    "cv_results = cross_val_score(model, X_train, Y_train, cv=kfold, scoring='accuracy',)\n",
    "msg = \"%s: %f %s (%f)\" % (name, cv_results.mean(), \"+-\", cv_results.std())\n",
    "print(cv_results)\n",
    "print(\"----------\")\n",
    "print(msg)\n",
    "print(\"----------\")\n",
    "print(\"----------\")\n",
    "\n"
   ]
  },
  {
   "source": [
    "### Training my Model\n",
    "\n",
    "- The values ​​shown by the logistic regression seem adequate to me, so I proceed to train my model"
   ],
   "cell_type": "markdown",
   "metadata": {}
  },
  {
   "cell_type": "code",
   "execution_count": 33,
   "metadata": {},
   "outputs": [
    {
     "output_type": "execute_result",
     "data": {
      "text/plain": [
       "LogisticRegression()"
      ]
     },
     "metadata": {},
     "execution_count": 33
    }
   ],
   "source": [
    "\n",
    "model.fit(X_train, Y_train)"
   ]
  },
  {
   "cell_type": "code",
   "execution_count": 34,
   "metadata": {},
   "outputs": [
    {
     "output_type": "execute_result",
     "data": {
      "text/plain": [
       "0.9423076923076923"
      ]
     },
     "metadata": {},
     "execution_count": 34
    }
   ],
   "source": [
    "model.score(X_train, Y_train)"
   ]
  },
  {
   "cell_type": "code",
   "execution_count": 35,
   "metadata": {},
   "outputs": [
    {
     "output_type": "execute_result",
     "data": {
      "text/plain": [
       "1.0"
      ]
     },
     "metadata": {},
     "execution_count": 35
    }
   ],
   "source": [
    "model.score(X_test, Y_test)  #excelent results with unknown data for the model"
   ]
  },
  {
   "cell_type": "code",
   "execution_count": 36,
   "metadata": {},
   "outputs": [
    {
     "output_type": "execute_result",
     "data": {
      "text/plain": [
       "array([0, 0, 2, 0, 0, 0, 0, 2, 0, 0, 0, 0, 0, 2, 0, 0, 0, 2, 0, 0, 0, 0,\n",
       "       2, 2, 2, 0], dtype=int64)"
      ]
     },
     "metadata": {},
     "execution_count": 36
    }
   ],
   "source": [
    "Y_test[0::]"
   ]
  },
  {
   "cell_type": "code",
   "execution_count": 41,
   "metadata": {},
   "outputs": [
    {
     "output_type": "execute_result",
     "data": {
      "text/plain": [
       "0"
      ]
     },
     "metadata": {},
     "execution_count": 41
    }
   ],
   "source": [
    "model.predict(X_test[0:1])[0]"
   ]
  },
  {
   "cell_type": "code",
   "execution_count": 39,
   "metadata": {},
   "outputs": [
    {
     "output_type": "execute_result",
     "data": {
      "text/plain": [
       "array([1.00000000e+00, 2.04052379e-14])"
      ]
     },
     "metadata": {},
     "execution_count": 39
    }
   ],
   "source": [
    "model.predict_proba(X_test[0:1])[0]"
   ]
  },
  {
   "cell_type": "code",
   "execution_count": 40,
   "metadata": {},
   "outputs": [
    {
     "output_type": "stream",
     "name": "stdout",
     "text": [
      "1.0\n1.0\n"
     ]
    }
   ],
   "source": [
    "predictions = model.predict(X_test)\n",
    "print(model.score(X=X_test, y=Y_test))\n",
    "print(accuracy_score(Y_test, predictions)) "
   ]
  },
  {
   "source": [
    "### Conclusions\n",
    "- The prediction results with this model have been 100% correct, so we can indicate that this model is optimal for prediction, thanks to having fewer classes, the algorithms is much more optimal"
   ],
   "cell_type": "markdown",
   "metadata": {}
  },
  {
   "source": [
    "### Testing the successes by modifying the parameters"
   ],
   "cell_type": "markdown",
   "metadata": {}
  },
  {
   "cell_type": "code",
   "execution_count": 43,
   "metadata": {},
   "outputs": [
    {
     "output_type": "stream",
     "name": "stdout",
     "text": [
      "(91, 4)\n----------\nResultados de CV: [1.         1.         1.         0.88888889 1.         0.88888889\n 1.         0.88888889 0.77777778 0.88888889]\n----------\nLogistic Regression: 0.933333 +- (0.073703)\n----------\nScore TRAIN: 0.978021978021978\nScore TEST: 0.9230769230769231\n----------\nValor de Y_test en 28: 0\nPredicción de Y_test: 0\nSeguridad en predicción de Y_test: [0.98631149 0.01368851]\n----------\n"
     ]
    }
   ],
   "source": [
    "\n",
    "\n",
    "seed = 42 #changing seed\n",
    "X_train, X_test, Y_train, Y_test = model_selection.train_test_split(X, y, test_size=0.3, random_state=seed)  #changing test size\n",
    "print(X_train.shape)\n",
    "X_test.shape\n",
    "\n",
    "kfold = KFold(n_splits=10, random_state = seed, shuffle = True) #Parte los datos en 10 trozos para usar validación cruzada / cross validation\n",
    "cv_results = cross_val_score(model, X_train, Y_train, cv=kfold, scoring='accuracy',)\n",
    "msg = \"%s: %f %s (%f)\" % (name, cv_results.mean(), \"+-\", cv_results.std())\n",
    "print(\"----------\")\n",
    "print('Resultados de CV:', cv_results)\n",
    "print(\"----------\")\n",
    "print(msg)\n",
    "print(\"----------\")\n",
    "model.fit(X_train, Y_train)\n",
    "print('Score TRAIN:', model.score(X_train, Y_train))\n",
    "print('Score TEST:', model.score(X_test, Y_test))\n",
    "print(\"----------\")\n",
    "Y_test_random = random.randint(0,len(Y_test)-1)\n",
    "print('Valor de Y_test en ' + str(Y_test_random) + ':', Y_test[Y_test_random])\n",
    "print('Predicción de Y_test:', model.predict(X_test)[Y_test_random])\n",
    "print('Seguridad en predicción de Y_test:', model.predict_proba(X_test)[Y_test_random])\n",
    "print('----------')"
   ]
  },
  {
   "source": [
    "#### With these values ​​changed, the prediction is still quite high."
   ],
   "cell_type": "markdown",
   "metadata": {}
  },
  {
   "cell_type": "code",
   "execution_count": 44,
   "metadata": {},
   "outputs": [
    {
     "output_type": "stream",
     "name": "stdout",
     "text": [
      "(104, 4)\n----------\n----------\nResultados de CV: [1.  1.  1.  1.  1.  1.  0.8 1.  1.  1.  1.  1.  1.  1.  0.8 1.  1.  0.8\n 1.  1. ]\n----------\nLogistic Regression: 0.970000 +- (0.071414)\n----------\nScore TRAIN: 0.9711538461538461\nScore TEST: 0.7692307692307693\n----------\nValor de Y_test en 6: 0\nPredicción de Y_test: 2\nSeguridad en predicción de Y_test: [0.2793293 0.7206707]\n----------\n"
     ]
    }
   ],
   "source": [
    "\n",
    "seed = 100 #changing seed\n",
    "X_train, X_test, Y_train, Y_test = model_selection.train_test_split(X, y, test_size=0.2, random_state=seed)  \n",
    "print(X_train.shape)\n",
    "X_test.shape\n",
    "\n",
    "kfold = KFold(n_splits=20, random_state = seed, shuffle = True) #changing n.splits / cross validation\n",
    "cv_results = cross_val_score(model, X_train, Y_train, cv=kfold, scoring='accuracy',)\n",
    "msg = \"%s: %f %s (%f)\" % (name, cv_results.mean(), \"+-\", cv_results.std())\n",
    "print(\"----------\")\n",
    "print(\"----------\")\n",
    "print('Resultados de CV:', cv_results)\n",
    "print(\"----------\")\n",
    "print(msg)\n",
    "print(\"----------\")\n",
    "model.fit(X_train, Y_train)\n",
    "print('Score TRAIN:', model.score(X_train, Y_train))\n",
    "print('Score TEST:', model.score(X_test, Y_test))\n",
    "print(\"----------\")\n",
    "Y_test_random = random.randint(0,len(Y_test)-1)\n",
    "print('Valor de Y_test en ' + str(Y_test_random) + ':', Y_test[Y_test_random])\n",
    "print('Predicción de Y_test:', model.predict(X_test)[Y_test_random])\n",
    "print('Seguridad en predicción de Y_test:', model.predict_proba(X_test)[Y_test_random])\n",
    "print('----------')"
   ]
  },
  {
   "source": [
    "#### With these values ​​changed, the prediction is still acceptable"
   ],
   "cell_type": "markdown",
   "metadata": {}
  }
 ]
}