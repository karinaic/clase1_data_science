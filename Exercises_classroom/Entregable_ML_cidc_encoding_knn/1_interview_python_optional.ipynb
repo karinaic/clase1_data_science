{
  "nbformat": 4,
  "nbformat_minor": 0,
  "metadata": {
    "language_info": {
      "codemirror_mode": {
        "name": "ipython",
        "version": 3
      },
      "file_extension": ".py",
      "mimetype": "text/x-python",
      "name": "python",
      "nbconvert_exporter": "python",
      "pygments_lexer": "ipython3",
      "version": 3
    },
    "orig_nbformat": 2,
    "colab": {
      "name": "1.interview_python_optional.ipynb",
      "provenance": []
    }
  },
  "cells": [
    {
      "cell_type": "markdown",
      "metadata": {
        "id": "mAX9Tc1zaLwB"
      },
      "source": [
        "Here's your coding interview problem for today.\n",
        "\n",
        "This problem was asked by Facebook.\n",
        "\n",
        "Given a string of round, curly, and square open and closing brackets, return whether the brackets are balanced (well-formed).\n",
        "\n",
        "For example, given the string \"([])[]({})\", you should return true.\n",
        "\n",
        "{}\n",
        "\n",
        "Given the string \"([)]\" or \"((()\", you should return false.\n",
        "\n",
        "\"()[]{}\", True"
      ]
    },
    {
      "cell_type": "markdown",
      "metadata": {
        "id": "U1OagotEaLwk"
      },
      "source": [
        "- This case is not correct: \n",
        "\n",
        "\"({)}\""
      ]
    },
    {
      "cell_type": "code",
      "metadata": {
        "id": "euJny02QaLwp"
      },
      "source": [
        "# ([{)}] False\n",
        "\n",
        "# Your code"
      ],
      "execution_count": null,
      "outputs": []
    }
  ]
}