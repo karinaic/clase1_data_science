{
 "metadata": {
  "language_info": {
   "codemirror_mode": {
    "name": "ipython",
    "version": 3
   },
   "file_extension": ".py",
   "mimetype": "text/x-python",
   "name": "python",
   "nbconvert_exporter": "python",
   "pygments_lexer": "ipython3",
   "version": "3.7.4"
  },
  "orig_nbformat": 2,
  "kernelspec": {
   "name": "python374jvsc74a57bd00600588c3b5f4418cbe7b5ebc6825b479f3bc010269d8b60d75058cdd010adfe",
   "display_name": "Python 3.7.4 64-bit"
  },
  "metadata": {
   "interpreter": {
    "hash": "0600588c3b5f4418cbe7b5ebc6825b479f3bc010269d8b60d75058cdd010adfe"
   }
  }
 },
 "nbformat": 4,
 "nbformat_minor": 2,
 "cells": [
  {
   "cell_type": "code",
   "execution_count": 4,
   "metadata": {},
   "outputs": [],
   "source": [
    "#voy a probar leer un cvs, para iniciar mi descarga de datasets. encontré esta fuente en dataset.gob.es\n",
    "\n",
    "import numpy as np \n",
    "import pandas as pd \n"
   ]
  },
  {
   "cell_type": "code",
   "execution_count": 8,
   "metadata": {},
   "outputs": [
    {
     "output_type": "execute_result",
     "data": {
      "text/plain": [
       "   Número  Código Ayto                                  Centro  \\\n",
       "0       1       2178.0               BIBLIOTECA ÁNGEL GONZALEZ   \n",
       "1       2        782.0               BIBLIOTECA IVÁN DE VARGAS   \n",
       "2       3       2096.0  BIBLIOTECA EUGENIO TRIAS (CASA FIERAS)   \n",
       "3       4       1046.0                              PLANETARIO   \n",
       "4       5       2143.0                         MADRID EMPRENDE   \n",
       "\n",
       "                        Direccion  Coordenada-X  Coordenada-Y    Latitud  \\\n",
       "0   C/ GRANJA DE TORREHERMOSA, 2         434954       4472113  40.397075   \n",
       "1          C/ DOCTOR LETAMENDI, 1        439775       4473962  40.414103   \n",
       "2  AV/ MENENDEZ PELAYO , 10-3 BJ         442345       4474221  40.416609   \n",
       "3               AV/ PLANETARIO 16        441830       4471375  40.390944   \n",
       "4                     C/CIDRO, 3         436689       4468938  40.368616   \n",
       "\n",
       "   Longitud  Superficie (m2) Uso del edificio  \\\n",
       "0 -3.766489              NaN         cultural   \n",
       "1 -3.709859              NaN         cultural   \n",
       "2 -3.679593              NaN         cultural   \n",
       "3 -3.685391            3.062         cultural   \n",
       "4 -3.745730              NaN   administrativo   \n",
       "\n",
       "                          Adscripción       Distrito Potencia KWp  \\\n",
       "0      AG Cultura Turismo y Deportes         Latina            20   \n",
       "1      AG Cultura Turismo y Deportes         Centro             3   \n",
       "2      AG Cultura Turismo y Deportes         Retiro           8,2   \n",
       "3      AG Cultura Turismo y Deportes     Arganzuela            25   \n",
       "4   AG Economía, Innovación y Empleo    Carabanchel            10   \n",
       "\n",
       "  Empresa instaladora Puesta en servicio  \n",
       "0               ORTIZ         31/07/2019  \n",
       "1               ORTIZ         24/07/2019  \n",
       "2               ORTIZ         24/07/2019  \n",
       "3              FULTON         13/09/2019  \n",
       "4                 NaN                NaN  "
      ],
      "text/html": "<div>\n<style scoped>\n    .dataframe tbody tr th:only-of-type {\n        vertical-align: middle;\n    }\n\n    .dataframe tbody tr th {\n        vertical-align: top;\n    }\n\n    .dataframe thead th {\n        text-align: right;\n    }\n</style>\n<table border=\"1\" class=\"dataframe\">\n  <thead>\n    <tr style=\"text-align: right;\">\n      <th></th>\n      <th>Número</th>\n      <th>Código Ayto</th>\n      <th>Centro</th>\n      <th>Direccion</th>\n      <th>Coordenada-X</th>\n      <th>Coordenada-Y</th>\n      <th>Latitud</th>\n      <th>Longitud</th>\n      <th>Superficie (m2)</th>\n      <th>Uso del edificio</th>\n      <th>Adscripción</th>\n      <th>Distrito</th>\n      <th>Potencia KWp</th>\n      <th>Empresa instaladora</th>\n      <th>Puesta en servicio</th>\n    </tr>\n  </thead>\n  <tbody>\n    <tr>\n      <th>0</th>\n      <td>1</td>\n      <td>2178.0</td>\n      <td>BIBLIOTECA ÁNGEL GONZALEZ</td>\n      <td>C/ GRANJA DE TORREHERMOSA, 2</td>\n      <td>434954</td>\n      <td>4472113</td>\n      <td>40.397075</td>\n      <td>-3.766489</td>\n      <td>NaN</td>\n      <td>cultural</td>\n      <td>AG Cultura Turismo y Deportes</td>\n      <td>Latina</td>\n      <td>20</td>\n      <td>ORTIZ</td>\n      <td>31/07/2019</td>\n    </tr>\n    <tr>\n      <th>1</th>\n      <td>2</td>\n      <td>782.0</td>\n      <td>BIBLIOTECA IVÁN DE VARGAS</td>\n      <td>C/ DOCTOR LETAMENDI, 1</td>\n      <td>439775</td>\n      <td>4473962</td>\n      <td>40.414103</td>\n      <td>-3.709859</td>\n      <td>NaN</td>\n      <td>cultural</td>\n      <td>AG Cultura Turismo y Deportes</td>\n      <td>Centro</td>\n      <td>3</td>\n      <td>ORTIZ</td>\n      <td>24/07/2019</td>\n    </tr>\n    <tr>\n      <th>2</th>\n      <td>3</td>\n      <td>2096.0</td>\n      <td>BIBLIOTECA EUGENIO TRIAS (CASA FIERAS)</td>\n      <td>AV/ MENENDEZ PELAYO , 10-3 BJ</td>\n      <td>442345</td>\n      <td>4474221</td>\n      <td>40.416609</td>\n      <td>-3.679593</td>\n      <td>NaN</td>\n      <td>cultural</td>\n      <td>AG Cultura Turismo y Deportes</td>\n      <td>Retiro</td>\n      <td>8,2</td>\n      <td>ORTIZ</td>\n      <td>24/07/2019</td>\n    </tr>\n    <tr>\n      <th>3</th>\n      <td>4</td>\n      <td>1046.0</td>\n      <td>PLANETARIO</td>\n      <td>AV/ PLANETARIO 16</td>\n      <td>441830</td>\n      <td>4471375</td>\n      <td>40.390944</td>\n      <td>-3.685391</td>\n      <td>3.062</td>\n      <td>cultural</td>\n      <td>AG Cultura Turismo y Deportes</td>\n      <td>Arganzuela</td>\n      <td>25</td>\n      <td>FULTON</td>\n      <td>13/09/2019</td>\n    </tr>\n    <tr>\n      <th>4</th>\n      <td>5</td>\n      <td>2143.0</td>\n      <td>MADRID EMPRENDE</td>\n      <td>C/CIDRO, 3</td>\n      <td>436689</td>\n      <td>4468938</td>\n      <td>40.368616</td>\n      <td>-3.745730</td>\n      <td>NaN</td>\n      <td>administrativo</td>\n      <td>AG Economía, Innovación y Empleo</td>\n      <td>Carabanchel</td>\n      <td>10</td>\n      <td>NaN</td>\n      <td>NaN</td>\n    </tr>\n  </tbody>\n</table>\n</div>"
     },
     "metadata": {},
     "execution_count": 8
    }
   ],
   "source": [
    "df = pd.read_csv(\"inventario_instalaciones_fotovoltaicas_2021.csv\", sep = ';')\n",
    "df.head()"
   ]
  },
  {
   "cell_type": "code",
   "execution_count": 9,
   "metadata": {},
   "outputs": [
    {
     "output_type": "execute_result",
     "data": {
      "text/plain": [
       "(105, 15)"
      ]
     },
     "metadata": {},
     "execution_count": 9
    }
   ],
   "source": [
    "df.shape"
   ]
  },
  {
   "cell_type": "code",
   "execution_count": null,
   "metadata": {},
   "outputs": [],
   "source": [
    "#csv, separado por \";\".- Tabla de INEbase Cultivos para la producción de energías renovables. Nacional. Encuesta sobre la Estructura de las Explotaciones Agrícolas"
   ]
  },
  {
   "cell_type": "code",
   "execution_count": null,
   "metadata": {},
   "outputs": [],
   "source": []
  },
  {
   "cell_type": "code",
   "execution_count": null,
   "metadata": {},
   "outputs": [],
   "source": [
    "#Unión Europea.\n",
    "#Seis prioridades de la Comisión para 2019-2024: Europa pretende ser el primer continente climáticamente neutro convirtiéndose en una economía moderna y eficiente en el uso de los recursos.\n",
    "\n",
    "\n",
    "#https://data.europa.eu/es   portal oficila de datos europeos.\n",
    "\n",
    "#Superficie agrícola por pais. Unión Europea. API y csv"
   ]
  }
 ]
}