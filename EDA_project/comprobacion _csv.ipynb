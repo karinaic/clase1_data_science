{
 "metadata": {
  "language_info": {
   "codemirror_mode": {
    "name": "ipython",
    "version": 3
   },
   "file_extension": ".py",
   "mimetype": "text/x-python",
   "name": "python",
   "nbconvert_exporter": "python",
   "pygments_lexer": "ipython3",
   "version": "3.7.4"
  },
  "orig_nbformat": 2,
  "kernelspec": {
   "name": "python374jvsc74a57bd00600588c3b5f4418cbe7b5ebc6825b479f3bc010269d8b60d75058cdd010adfe",
   "display_name": "Python 3.7.4 64-bit"
  },
  "metadata": {
   "interpreter": {
    "hash": "0600588c3b5f4418cbe7b5ebc6825b479f3bc010269d8b60d75058cdd010adfe"
   }
  }
 },
 "nbformat": 4,
 "nbformat_minor": 2,
 "cells": [
  {
   "cell_type": "code",
   "execution_count": 9,
   "metadata": {},
   "outputs": [],
   "source": [
    "#voy a probar leer un cvs, para iniciar mi descarga de datasets. encontré esta fuente en dataset.gob.es\n",
    "\n",
    "import numpy as np \n",
    "import pandas as pd \n"
   ]
  },
  {
   "cell_type": "code",
   "execution_count": 10,
   "metadata": {},
   "outputs": [
    {
     "output_type": "execute_result",
     "data": {
      "text/plain": [
       "     Número  Código Ayto                                  Centro  \\\n",
       "0         1       2178.0               BIBLIOTECA ÁNGEL GONZALEZ   \n",
       "1         2        782.0               BIBLIOTECA IVÁN DE VARGAS   \n",
       "2         3       2096.0  BIBLIOTECA EUGENIO TRIAS (CASA FIERAS)   \n",
       "3         4       1046.0                              PLANETARIO   \n",
       "4         5       2143.0                         MADRID EMPRENDE   \n",
       "..      ...          ...                                     ...   \n",
       "100     106        245.0                       CEIP PADRE POVEDA   \n",
       "101     119          NaN                    EI PARQUE INGENIEROS   \n",
       "102     127        165.0                     UID MONCLOA-ARAVACA   \n",
       "103     130        140.0               CENTRO ACOGIDA SAN ISIDRO   \n",
       "104     132          NaN                            CDM SAN BLAS   \n",
       "\n",
       "                              Direccion  Coordenada-X  Coordenada-Y  \\\n",
       "0         C/ GRANJA DE TORREHERMOSA, 2         434954       4472113   \n",
       "1                C/ DOCTOR LETAMENDI, 1        439775       4473962   \n",
       "2        AV/ MENENDEZ PELAYO , 10-3 BJ         442345       4474221   \n",
       "3                     AV/ PLANETARIO 16        441830       4471375   \n",
       "4                           C/CIDRO, 3         436689       4468938   \n",
       "..                                  ...           ...           ...   \n",
       "100  AV/ ALFONSO XIII, 23, 28002 MADRID        443380       4478055   \n",
       "101           C/TABERNERA DEL PUERTO 26        440213       4467439   \n",
       "102                 AVDA. VALLADOLID, 6        438135       4475651   \n",
       "103                    PASEO DEL REY 34        438682       4475287   \n",
       "104              C/ ARCOS DE JALÓN,  59        448173       4475549   \n",
       "\n",
       "       Latitud  Longitud  Superficie (m2) Uso del edificio  \\\n",
       "0    40.397075 -3.766489              NaN         cultural   \n",
       "1    40.414103 -3.709859              NaN         cultural   \n",
       "2    40.416609 -3.679593              NaN         cultural   \n",
       "3    40.390944 -3.685391            3.062         cultural   \n",
       "4    40.368616 -3.745730              NaN   administrativo   \n",
       "..         ...       ...              ...              ...   \n",
       "100  40.451219 -3.667724              NaN        educativo   \n",
       "101  40.355369 -3.704069              NaN        educativo   \n",
       "102  40.429216 -3.729571              NaN        seguridad   \n",
       "103  40.425960 -3.722860              NaN           social   \n",
       "104  40.428961 -3.611002              NaN       deportivo    \n",
       "\n",
       "                                       Adscripción               Distrito  \\\n",
       "0                   AG Cultura Turismo y Deportes                 Latina    \n",
       "1                   AG Cultura Turismo y Deportes                 Centro    \n",
       "2                   AG Cultura Turismo y Deportes                 Retiro    \n",
       "3                   AG Cultura Turismo y Deportes             Arganzuela    \n",
       "4                AG Economía, Innovación y Empleo            Carabanchel    \n",
       "..                                             ...                    ...   \n",
       "100                                 JMD Chamartín              Chamartín    \n",
       "101                                JMD Villaverde             Villaverde    \n",
       "102       AG de Portavoz, Seguridad y Emergencias        Moncloa Aravaca    \n",
       "103   AG de Familias, Igualdad y Bienestar Social        Moncloa Aravaca    \n",
       "104                       JMD San Blas Canillejas    San Blas Canillejas    \n",
       "\n",
       "    Potencia KWp Empresa instaladora Puesta en servicio  \n",
       "0             20               ORTIZ         31/07/2019  \n",
       "1              3               ORTIZ         24/07/2019  \n",
       "2            8,2               ORTIZ         24/07/2019  \n",
       "3             25              FULTON         13/09/2019  \n",
       "4             10                 NaN                NaN  \n",
       "..           ...                 ...                ...  \n",
       "100         20,4                 NaN         10/11/2020  \n",
       "101            5                 NaN         10/11/2020  \n",
       "102         10,2                 NaN         04/01/2021  \n",
       "103          8,2                 NaN         10/11/2020  \n",
       "104         35,0                 NaN         28/04/2021  \n",
       "\n",
       "[105 rows x 15 columns]"
      ],
      "text/html": "<div>\n<style scoped>\n    .dataframe tbody tr th:only-of-type {\n        vertical-align: middle;\n    }\n\n    .dataframe tbody tr th {\n        vertical-align: top;\n    }\n\n    .dataframe thead th {\n        text-align: right;\n    }\n</style>\n<table border=\"1\" class=\"dataframe\">\n  <thead>\n    <tr style=\"text-align: right;\">\n      <th></th>\n      <th>Número</th>\n      <th>Código Ayto</th>\n      <th>Centro</th>\n      <th>Direccion</th>\n      <th>Coordenada-X</th>\n      <th>Coordenada-Y</th>\n      <th>Latitud</th>\n      <th>Longitud</th>\n      <th>Superficie (m2)</th>\n      <th>Uso del edificio</th>\n      <th>Adscripción</th>\n      <th>Distrito</th>\n      <th>Potencia KWp</th>\n      <th>Empresa instaladora</th>\n      <th>Puesta en servicio</th>\n    </tr>\n  </thead>\n  <tbody>\n    <tr>\n      <th>0</th>\n      <td>1</td>\n      <td>2178.0</td>\n      <td>BIBLIOTECA ÁNGEL GONZALEZ</td>\n      <td>C/ GRANJA DE TORREHERMOSA, 2</td>\n      <td>434954</td>\n      <td>4472113</td>\n      <td>40.397075</td>\n      <td>-3.766489</td>\n      <td>NaN</td>\n      <td>cultural</td>\n      <td>AG Cultura Turismo y Deportes</td>\n      <td>Latina</td>\n      <td>20</td>\n      <td>ORTIZ</td>\n      <td>31/07/2019</td>\n    </tr>\n    <tr>\n      <th>1</th>\n      <td>2</td>\n      <td>782.0</td>\n      <td>BIBLIOTECA IVÁN DE VARGAS</td>\n      <td>C/ DOCTOR LETAMENDI, 1</td>\n      <td>439775</td>\n      <td>4473962</td>\n      <td>40.414103</td>\n      <td>-3.709859</td>\n      <td>NaN</td>\n      <td>cultural</td>\n      <td>AG Cultura Turismo y Deportes</td>\n      <td>Centro</td>\n      <td>3</td>\n      <td>ORTIZ</td>\n      <td>24/07/2019</td>\n    </tr>\n    <tr>\n      <th>2</th>\n      <td>3</td>\n      <td>2096.0</td>\n      <td>BIBLIOTECA EUGENIO TRIAS (CASA FIERAS)</td>\n      <td>AV/ MENENDEZ PELAYO , 10-3 BJ</td>\n      <td>442345</td>\n      <td>4474221</td>\n      <td>40.416609</td>\n      <td>-3.679593</td>\n      <td>NaN</td>\n      <td>cultural</td>\n      <td>AG Cultura Turismo y Deportes</td>\n      <td>Retiro</td>\n      <td>8,2</td>\n      <td>ORTIZ</td>\n      <td>24/07/2019</td>\n    </tr>\n    <tr>\n      <th>3</th>\n      <td>4</td>\n      <td>1046.0</td>\n      <td>PLANETARIO</td>\n      <td>AV/ PLANETARIO 16</td>\n      <td>441830</td>\n      <td>4471375</td>\n      <td>40.390944</td>\n      <td>-3.685391</td>\n      <td>3.062</td>\n      <td>cultural</td>\n      <td>AG Cultura Turismo y Deportes</td>\n      <td>Arganzuela</td>\n      <td>25</td>\n      <td>FULTON</td>\n      <td>13/09/2019</td>\n    </tr>\n    <tr>\n      <th>4</th>\n      <td>5</td>\n      <td>2143.0</td>\n      <td>MADRID EMPRENDE</td>\n      <td>C/CIDRO, 3</td>\n      <td>436689</td>\n      <td>4468938</td>\n      <td>40.368616</td>\n      <td>-3.745730</td>\n      <td>NaN</td>\n      <td>administrativo</td>\n      <td>AG Economía, Innovación y Empleo</td>\n      <td>Carabanchel</td>\n      <td>10</td>\n      <td>NaN</td>\n      <td>NaN</td>\n    </tr>\n    <tr>\n      <th>...</th>\n      <td>...</td>\n      <td>...</td>\n      <td>...</td>\n      <td>...</td>\n      <td>...</td>\n      <td>...</td>\n      <td>...</td>\n      <td>...</td>\n      <td>...</td>\n      <td>...</td>\n      <td>...</td>\n      <td>...</td>\n      <td>...</td>\n      <td>...</td>\n      <td>...</td>\n    </tr>\n    <tr>\n      <th>100</th>\n      <td>106</td>\n      <td>245.0</td>\n      <td>CEIP PADRE POVEDA</td>\n      <td>AV/ ALFONSO XIII, 23, 28002 MADRID</td>\n      <td>443380</td>\n      <td>4478055</td>\n      <td>40.451219</td>\n      <td>-3.667724</td>\n      <td>NaN</td>\n      <td>educativo</td>\n      <td>JMD Chamartín</td>\n      <td>Chamartín</td>\n      <td>20,4</td>\n      <td>NaN</td>\n      <td>10/11/2020</td>\n    </tr>\n    <tr>\n      <th>101</th>\n      <td>119</td>\n      <td>NaN</td>\n      <td>EI PARQUE INGENIEROS</td>\n      <td>C/TABERNERA DEL PUERTO 26</td>\n      <td>440213</td>\n      <td>4467439</td>\n      <td>40.355369</td>\n      <td>-3.704069</td>\n      <td>NaN</td>\n      <td>educativo</td>\n      <td>JMD Villaverde</td>\n      <td>Villaverde</td>\n      <td>5</td>\n      <td>NaN</td>\n      <td>10/11/2020</td>\n    </tr>\n    <tr>\n      <th>102</th>\n      <td>127</td>\n      <td>165.0</td>\n      <td>UID MONCLOA-ARAVACA</td>\n      <td>AVDA. VALLADOLID, 6</td>\n      <td>438135</td>\n      <td>4475651</td>\n      <td>40.429216</td>\n      <td>-3.729571</td>\n      <td>NaN</td>\n      <td>seguridad</td>\n      <td>AG de Portavoz, Seguridad y Emergencias</td>\n      <td>Moncloa Aravaca</td>\n      <td>10,2</td>\n      <td>NaN</td>\n      <td>04/01/2021</td>\n    </tr>\n    <tr>\n      <th>103</th>\n      <td>130</td>\n      <td>140.0</td>\n      <td>CENTRO ACOGIDA SAN ISIDRO</td>\n      <td>PASEO DEL REY 34</td>\n      <td>438682</td>\n      <td>4475287</td>\n      <td>40.425960</td>\n      <td>-3.722860</td>\n      <td>NaN</td>\n      <td>social</td>\n      <td>AG de Familias, Igualdad y Bienestar Social</td>\n      <td>Moncloa Aravaca</td>\n      <td>8,2</td>\n      <td>NaN</td>\n      <td>10/11/2020</td>\n    </tr>\n    <tr>\n      <th>104</th>\n      <td>132</td>\n      <td>NaN</td>\n      <td>CDM SAN BLAS</td>\n      <td>C/ ARCOS DE JALÓN,  59</td>\n      <td>448173</td>\n      <td>4475549</td>\n      <td>40.428961</td>\n      <td>-3.611002</td>\n      <td>NaN</td>\n      <td>deportivo</td>\n      <td>JMD San Blas Canillejas</td>\n      <td>San Blas Canillejas</td>\n      <td>35,0</td>\n      <td>NaN</td>\n      <td>28/04/2021</td>\n    </tr>\n  </tbody>\n</table>\n<p>105 rows × 15 columns</p>\n</div>"
     },
     "metadata": {},
     "execution_count": 10
    }
   ],
   "source": [
    "df = pd.read_csv(\"inventario_instalaciones_fotovoltaicas_2021.csv\", sep = ';')\n",
    "df"
   ]
  },
  {
   "cell_type": "code",
   "execution_count": 9,
   "metadata": {},
   "outputs": [
    {
     "output_type": "execute_result",
     "data": {
      "text/plain": [
       "(105, 15)"
      ]
     },
     "metadata": {},
     "execution_count": 9
    }
   ],
   "source": [
    "df.shape"
   ]
  },
  {
   "cell_type": "code",
   "execution_count": null,
   "metadata": {},
   "outputs": [],
   "source": [
    "#csv, separado por \";\".- Tabla de INEbase Cultivos para la producción de energías renovables. Nacional. Encuesta sobre la Estructura de las Explotaciones Agrícolas"
   ]
  },
  {
   "cell_type": "code",
   "execution_count": null,
   "metadata": {},
   "outputs": [],
   "source": []
  },
  {
   "cell_type": "code",
   "execution_count": null,
   "metadata": {},
   "outputs": [],
   "source": [
    "#Unión Europea.\n",
    "#Seis prioridades de la Comisión para 2019-2024: Europa pretende ser el primer continente climáticamente neutro convirtiéndose en una economía moderna y eficiente en el uso de los recursos.\n",
    "\n",
    "\n",
    "#https://data.europa.eu/es   portal oficila de datos europeos.\n",
    "\n",
    "#Superficie agrícola por pais. Unión Europea. API y csv"
   ]
  }
 ]
}