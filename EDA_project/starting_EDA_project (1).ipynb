{
 "cells": [
  {
   "cell_type": "markdown",
   "metadata": {},
   "source": [
    "![EDA.png](img/proyecto_eda.png)"
   ]
  },
  {
   "source": [
    "Autor:  Karina Inche Cisneros"
   ],
   "cell_type": "markdown",
   "metadata": {}
  },
  {
   "cell_type": "markdown",
   "metadata": {},
   "source": [
    "# Primera entrega EDA: Definición del proyecto"
   ]
  },
  {
   "cell_type": "markdown",
   "metadata": {},
   "source": [
    "En este primer entregable se espera  hagas la búsqueda de datos e investigación suficiente como para definir lo que serán los primeros pasos de tu proyecto EDA y los datos que usarás incluyendo al menos un dataset principal (aunque también podrás incluir fuentes de datos alternativas).\n",
    "\n",
    "Tienes hasta el día _20/05/2021 a las 09:00_ para entregar este archivo completado. Posteriormente se os introducirá el proyecto y darán los detalles pertinentes."
   ]
  },
  {
   "source": [
    "### Tema:\n",
    "## Plantaciones fotovoltáicas como una de las fuentes de energias renovables\n",
    "           camino al cumplimiento del Pacto Verde de la Unión Europea"
   ],
   "cell_type": "markdown",
   "metadata": {}
  },
  {
   "source": [
    "\n",
    "### Título de proyecto:       Carrera lanzada hacia el despliegue de plantaciones fotovoltáicas."
   ],
   "cell_type": "markdown",
   "metadata": {}
  },
  {
   "cell_type": "markdown",
   "metadata": {},
   "source": [
    "### Hipótesis: \n",
    "              Viabilidad para  encontrar suelo disponible en España para la plantación de huertos solares."
   ]
  },
  {
   "source": [
    "***Para luchar contra el cambio climático resulta imprescindible seguir aumentando la cantidad de fotovoltaica, una fuente de energía renovable que además de no generar gases de efecto invernadero utiliza como recurso el sol, que sobra en España. Pero, ¿cuál es el impacto en el territorio de este boom de macroplantas solares?\n"
   ],
   "cell_type": "markdown",
   "metadata": {}
  },
  {
   "cell_type": "markdown",
   "metadata": {},
   "source": [
    "### Datasets\n",
    "- superficie_agricola.csv .- se trata de un data set conseguido de una pagina web del portal de la Unión Europea, donde indica\n",
    "las superficie que ocupan los terrenos agricolas en cada estado miembro; asi hacemos una aproximación a la cantidad de suelo \n",
    "agrícola con el que contamos en España.\n",
    "\n",
    "- inventario_instalaciones_fotovoltaicas_2021.csv.- La uso como ejemplo para mostrar la relacion de todas las instalciones \n",
    "fotovoltaicas hechas en la Comunidad de Madrid, así iré sacando datos de las demás Comunidades que me gustaria analizar: \n",
    "Comunidad de Andalucia y Cataluña.\n",
    "\n",
    "\n",
    "- cultivos_prod_renov.csv  .- me aproxima a la cantidad de explotaciones que se esta haciendo a las renovables.\n",
    "\n",
    "_ diferentes fuentes revisadas en internet, de la que no dispongo de información en formato csv que me pueden aportar mayor conocimiento del tema a tratar en mi proyecto, pero que de momento no dispongo de  las herramientas para manejarlas.\n",
    "\n",
    "\n",
    "\n",
    "\n",
    "\n"
   ]
  },
  {
   "source": [
    "- https://datos.gob.es/\n",
    "- https://data.europa.eu/es\n",
    "- https://www.ree.es/es/apidatos\n",
    "- \n"
   ],
   "cell_type": "markdown",
   "metadata": {}
  },
  {
   "cell_type": "markdown",
   "metadata": {},
   "source": [
    "### Fuentes alternativas de datos\n",
    "Como podrán ser webs a las que hacer scraping o APIs de donde obtener información."
   ]
  },
  {
   "cell_type": "markdown",
   "metadata": {},
   "source": [
    "\n",
    "- categorización de los suelos agrícolas: los más fértiles quedan protegidos de usos ajenos a la agricultura.\n",
    "\n",
    "https://elpais.com/noticias/energia-solar/?rel=arch\n",
    "\n",
    "https://www.energias-renovables.com/almacenamiento/como-almacenar-energia-eolica-y-solar-sin-20210308\n",
    "\n",
    "https://elperiodicodelaenergia.com/espana-producira-el-hidrogeno-verde-mas-barato-del-mundo-pero-eso-no-ocurrira-hasta-bien-entrados-los-anos-30/\n",
    "\n",
    "https://www.bbva.com/es/sostenibilidad/descubre-que-es-el-hidrogeno-verde-solucion-y-desafio/\n",
    "\n",
    "https://www.bbva.com/es/sostenibilidad/que-tipos-de-energias-renovables-existen-y-que-papel-juegan/\n",
    "\n",
    "https://www.elconfidencial.com/espana/andalucia/2021-02-20/junta-retira-mapa-parques-solares-andalucia_2959336/\n",
    "\n",
    "https://www.eleconomista.es/empresas-finanzas/noticias/10266718/12/19/fiebre-por-la-tierra-agricola-para-montar-huertos-solares.html\n",
    "\n",
    "https://elpais.com/espana/catalunya/2021-01-23/el-despliegue-de-los-huertos-solares-choca-con-agricultores-y-ecologistas.html\n",
    "\n",
    "- Machine Learning y la prediccion de la energia solar.\n",
    "- https://riunet.upv.es/handle/10251/139418 \\\\diferentes técnicas de Machine Learning aplicadas a la predicción de energía solar en plantas fotovoltaicas.\n",
    "\n",
    "https://www.endesa.com/es/proyectos/todos-los-proyectos/eficiencia-energetica/economia-circular/agrivoltaica-generacion-energia-solar-agricultura-apicultura://"
   ]
  },
  {
   "source": [
    "<img src=\"huerto-solar.png\">"
   ],
   "cell_type": "markdown",
   "metadata": {}
  }
 ],
 "metadata": {
  "kernelspec": {
   "name": "python374jvsc74a57bd00600588c3b5f4418cbe7b5ebc6825b479f3bc010269d8b60d75058cdd010adfe",
   "display_name": "Python 3.7.4 64-bit"
  },
  "language_info": {
   "codemirror_mode": {
    "name": "ipython",
    "version": 3
   },
   "file_extension": ".py",
   "mimetype": "text/x-python",
   "name": "python",
   "nbconvert_exporter": "python",
   "pygments_lexer": "ipython3",
   "version": "3.7.4"
  },
  "metadata": {
   "interpreter": {
    "hash": "0600588c3b5f4418cbe7b5ebc6825b479f3bc010269d8b60d75058cdd010adfe"
   }
  }
 },
 "nbformat": 4,
 "nbformat_minor": 5
}