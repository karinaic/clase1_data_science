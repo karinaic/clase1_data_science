{
 "metadata": {
  "language_info": {
   "codemirror_mode": {
    "name": "ipython",
    "version": 3
   },
   "file_extension": ".py",
   "mimetype": "text/x-python",
   "name": "python",
   "nbconvert_exporter": "python",
   "pygments_lexer": "ipython3",
   "version": "3.7.4"
  },
  "orig_nbformat": 2,
  "kernelspec": {
   "name": "python374jvsc74a57bd00600588c3b5f4418cbe7b5ebc6825b479f3bc010269d8b60d75058cdd010adfe",
   "display_name": "Python 3.7.4 64-bit"
  },
  "metadata": {
   "interpreter": {
    "hash": "0600588c3b5f4418cbe7b5ebc6825b479f3bc010269d8b60d75058cdd010adfe"
   }
  }
 },
 "nbformat": 4,
 "nbformat_minor": 2,
 "cells": [
  {
   "cell_type": "code",
   "execution_count": 47,
   "metadata": {},
   "outputs": [],
   "source": [
    "#importo librerias necesarias\n",
    "\n",
    "import numpy as np \n",
    "import pandas as pd \n"
   ]
  },
  {
   "cell_type": "code",
   "execution_count": 48,
   "metadata": {},
   "outputs": [
    {
     "output_type": "execute_result",
     "data": {
      "text/plain": [
       "   Medio empleado         Sexo                Edad     Total\n",
       "0           Total  Ambos sexos    Todas las edades  1.000,00\n",
       "1           Total  Ambos sexos  Menores de 15 años      3,53\n",
       "2           Total  Ambos sexos     De 15 a 19 años     13,59\n",
       "3           Total  Ambos sexos     De 20 a 24 años     22,29\n",
       "4           Total  Ambos sexos     De 25 a 29 años     38,33\n",
       "5           Total  Ambos sexos     De 30 a 34 años     47,57\n",
       "6           Total  Ambos sexos     De 35 a 39 años     75,29\n",
       "7           Total  Ambos sexos     De 40 a 44 años     93,50\n",
       "8           Total  Ambos sexos     De 45 a 49 años     99,76\n",
       "9           Total  Ambos sexos     De 50 a 54 años    114,43\n",
       "10          Total  Ambos sexos     De 55 a 59 años     98,40\n",
       "11          Total  Ambos sexos     De 60 a 64 años     68,23\n",
       "12          Total  Ambos sexos     De 65 a 69 años     62,52\n",
       "13          Total  Ambos sexos     De 70 a 74 años     66,59\n",
       "14          Total  Ambos sexos     De 75 a 79 años     55,45\n",
       "15          Total  Ambos sexos     De 80 a 84 años     70,40\n",
       "16          Total  Ambos sexos     De 85 a 89 años     48,93\n",
       "17          Total  Ambos sexos     De 90 a 94 años     17,40\n",
       "18          Total  Ambos sexos    De 95 años y más      3,81\n",
       "19          Total      Hombres    Todas las edades    738,79\n",
       "20          Total      Hombres  Menores de 15 años      1,63\n",
       "21          Total      Hombres     De 15 a 19 años      8,97"
      ],
      "text/html": "<div>\n<style scoped>\n    .dataframe tbody tr th:only-of-type {\n        vertical-align: middle;\n    }\n\n    .dataframe tbody tr th {\n        vertical-align: top;\n    }\n\n    .dataframe thead th {\n        text-align: right;\n    }\n</style>\n<table border=\"1\" class=\"dataframe\">\n  <thead>\n    <tr style=\"text-align: right;\">\n      <th></th>\n      <th>Medio empleado</th>\n      <th>Sexo</th>\n      <th>Edad</th>\n      <th>Total</th>\n    </tr>\n  </thead>\n  <tbody>\n    <tr>\n      <th>0</th>\n      <td>Total</td>\n      <td>Ambos sexos</td>\n      <td>Todas las edades</td>\n      <td>1.000,00</td>\n    </tr>\n    <tr>\n      <th>1</th>\n      <td>Total</td>\n      <td>Ambos sexos</td>\n      <td>Menores de 15 años</td>\n      <td>3,53</td>\n    </tr>\n    <tr>\n      <th>2</th>\n      <td>Total</td>\n      <td>Ambos sexos</td>\n      <td>De 15 a 19 años</td>\n      <td>13,59</td>\n    </tr>\n    <tr>\n      <th>3</th>\n      <td>Total</td>\n      <td>Ambos sexos</td>\n      <td>De 20 a 24 años</td>\n      <td>22,29</td>\n    </tr>\n    <tr>\n      <th>4</th>\n      <td>Total</td>\n      <td>Ambos sexos</td>\n      <td>De 25 a 29 años</td>\n      <td>38,33</td>\n    </tr>\n    <tr>\n      <th>5</th>\n      <td>Total</td>\n      <td>Ambos sexos</td>\n      <td>De 30 a 34 años</td>\n      <td>47,57</td>\n    </tr>\n    <tr>\n      <th>6</th>\n      <td>Total</td>\n      <td>Ambos sexos</td>\n      <td>De 35 a 39 años</td>\n      <td>75,29</td>\n    </tr>\n    <tr>\n      <th>7</th>\n      <td>Total</td>\n      <td>Ambos sexos</td>\n      <td>De 40 a 44 años</td>\n      <td>93,50</td>\n    </tr>\n    <tr>\n      <th>8</th>\n      <td>Total</td>\n      <td>Ambos sexos</td>\n      <td>De 45 a 49 años</td>\n      <td>99,76</td>\n    </tr>\n    <tr>\n      <th>9</th>\n      <td>Total</td>\n      <td>Ambos sexos</td>\n      <td>De 50 a 54 años</td>\n      <td>114,43</td>\n    </tr>\n    <tr>\n      <th>10</th>\n      <td>Total</td>\n      <td>Ambos sexos</td>\n      <td>De 55 a 59 años</td>\n      <td>98,40</td>\n    </tr>\n    <tr>\n      <th>11</th>\n      <td>Total</td>\n      <td>Ambos sexos</td>\n      <td>De 60 a 64 años</td>\n      <td>68,23</td>\n    </tr>\n    <tr>\n      <th>12</th>\n      <td>Total</td>\n      <td>Ambos sexos</td>\n      <td>De 65 a 69 años</td>\n      <td>62,52</td>\n    </tr>\n    <tr>\n      <th>13</th>\n      <td>Total</td>\n      <td>Ambos sexos</td>\n      <td>De 70 a 74 años</td>\n      <td>66,59</td>\n    </tr>\n    <tr>\n      <th>14</th>\n      <td>Total</td>\n      <td>Ambos sexos</td>\n      <td>De 75 a 79 años</td>\n      <td>55,45</td>\n    </tr>\n    <tr>\n      <th>15</th>\n      <td>Total</td>\n      <td>Ambos sexos</td>\n      <td>De 80 a 84 años</td>\n      <td>70,40</td>\n    </tr>\n    <tr>\n      <th>16</th>\n      <td>Total</td>\n      <td>Ambos sexos</td>\n      <td>De 85 a 89 años</td>\n      <td>48,93</td>\n    </tr>\n    <tr>\n      <th>17</th>\n      <td>Total</td>\n      <td>Ambos sexos</td>\n      <td>De 90 a 94 años</td>\n      <td>17,40</td>\n    </tr>\n    <tr>\n      <th>18</th>\n      <td>Total</td>\n      <td>Ambos sexos</td>\n      <td>De 95 años y más</td>\n      <td>3,81</td>\n    </tr>\n    <tr>\n      <th>19</th>\n      <td>Total</td>\n      <td>Hombres</td>\n      <td>Todas las edades</td>\n      <td>738,79</td>\n    </tr>\n    <tr>\n      <th>20</th>\n      <td>Total</td>\n      <td>Hombres</td>\n      <td>Menores de 15 años</td>\n      <td>1,63</td>\n    </tr>\n    <tr>\n      <th>21</th>\n      <td>Total</td>\n      <td>Hombres</td>\n      <td>De 15 a 19 años</td>\n      <td>8,97</td>\n    </tr>\n  </tbody>\n</table>\n</div>"
     },
     "metadata": {},
     "execution_count": 48
    }
   ],
   "source": [
    "obj_df = pd.read_csv(\"distribucion_medioempleado_sexoyedad.csv\", sep=\";\")\n",
    "obj_df.head(22)\n"
   ]
  },
  {
   "cell_type": "code",
   "execution_count": 49,
   "metadata": {},
   "outputs": [
    {
     "output_type": "execute_result",
     "data": {
      "text/plain": [
       "                                         Medio empleado     Sexo  \\\n",
       "20                                                Total  Hombres   \n",
       "21                                                Total  Hombres   \n",
       "22                                                Total  Hombres   \n",
       "23                                                Total  Hombres   \n",
       "24                                                Total  Hombres   \n",
       "...                                                 ...      ...   \n",
       "1477  X84. Lesión autoinfligida intencionalmente por...  Mujeres   \n",
       "1478  X84. Lesión autoinfligida intencionalmente por...  Mujeres   \n",
       "1479  X84. Lesión autoinfligida intencionalmente por...  Mujeres   \n",
       "1480  X84. Lesión autoinfligida intencionalmente por...  Mujeres   \n",
       "1481  X84. Lesión autoinfligida intencionalmente por...  Mujeres   \n",
       "\n",
       "                    Edad  Total  \n",
       "20    Menores de 15 años   1,63  \n",
       "21       De 15 a 19 años   8,97  \n",
       "22       De 20 a 24 años  17,94  \n",
       "23       De 25 a 29 años  28,54  \n",
       "24       De 30 a 34 años  39,14  \n",
       "...                  ...    ...  \n",
       "1477     De 75 a 79 años   0,27  \n",
       "1478     De 80 a 84 años   0,82  \n",
       "1479     De 85 a 89 años   0,54  \n",
       "1480     De 90 a 94 años   0,00  \n",
       "1481    De 95 años y más   0,00  \n",
       "\n",
       "[1462 rows x 4 columns]"
      ],
      "text/html": "<div>\n<style scoped>\n    .dataframe tbody tr th:only-of-type {\n        vertical-align: middle;\n    }\n\n    .dataframe tbody tr th {\n        vertical-align: top;\n    }\n\n    .dataframe thead th {\n        text-align: right;\n    }\n</style>\n<table border=\"1\" class=\"dataframe\">\n  <thead>\n    <tr style=\"text-align: right;\">\n      <th></th>\n      <th>Medio empleado</th>\n      <th>Sexo</th>\n      <th>Edad</th>\n      <th>Total</th>\n    </tr>\n  </thead>\n  <tbody>\n    <tr>\n      <th>20</th>\n      <td>Total</td>\n      <td>Hombres</td>\n      <td>Menores de 15 años</td>\n      <td>1,63</td>\n    </tr>\n    <tr>\n      <th>21</th>\n      <td>Total</td>\n      <td>Hombres</td>\n      <td>De 15 a 19 años</td>\n      <td>8,97</td>\n    </tr>\n    <tr>\n      <th>22</th>\n      <td>Total</td>\n      <td>Hombres</td>\n      <td>De 20 a 24 años</td>\n      <td>17,94</td>\n    </tr>\n    <tr>\n      <th>23</th>\n      <td>Total</td>\n      <td>Hombres</td>\n      <td>De 25 a 29 años</td>\n      <td>28,54</td>\n    </tr>\n    <tr>\n      <th>24</th>\n      <td>Total</td>\n      <td>Hombres</td>\n      <td>De 30 a 34 años</td>\n      <td>39,14</td>\n    </tr>\n    <tr>\n      <th>...</th>\n      <td>...</td>\n      <td>...</td>\n      <td>...</td>\n      <td>...</td>\n    </tr>\n    <tr>\n      <th>1477</th>\n      <td>X84. Lesión autoinfligida intencionalmente por...</td>\n      <td>Mujeres</td>\n      <td>De 75 a 79 años</td>\n      <td>0,27</td>\n    </tr>\n    <tr>\n      <th>1478</th>\n      <td>X84. Lesión autoinfligida intencionalmente por...</td>\n      <td>Mujeres</td>\n      <td>De 80 a 84 años</td>\n      <td>0,82</td>\n    </tr>\n    <tr>\n      <th>1479</th>\n      <td>X84. Lesión autoinfligida intencionalmente por...</td>\n      <td>Mujeres</td>\n      <td>De 85 a 89 años</td>\n      <td>0,54</td>\n    </tr>\n    <tr>\n      <th>1480</th>\n      <td>X84. Lesión autoinfligida intencionalmente por...</td>\n      <td>Mujeres</td>\n      <td>De 90 a 94 años</td>\n      <td>0,00</td>\n    </tr>\n    <tr>\n      <th>1481</th>\n      <td>X84. Lesión autoinfligida intencionalmente por...</td>\n      <td>Mujeres</td>\n      <td>De 95 años y más</td>\n      <td>0,00</td>\n    </tr>\n  </tbody>\n</table>\n<p>1462 rows × 4 columns</p>\n</div>"
     },
     "metadata": {},
     "execution_count": 49
    }
   ],
   "source": [
    "data = obj_df.iloc[20:]\n",
    "data"
   ]
  },
  {
   "cell_type": "code",
   "execution_count": 50,
   "metadata": {},
   "outputs": [
    {
     "output_type": "execute_result",
     "data": {
      "text/plain": [
       "(1462, 4)"
      ]
     },
     "metadata": {},
     "execution_count": 50
    }
   ],
   "source": [
    "data.shape  # esta es la cantidad de filas y columanas que tiene mi DataFrame, ahora empiezo a limpiar los datos. "
   ]
  },
  {
   "cell_type": "code",
   "execution_count": 51,
   "metadata": {},
   "outputs": [
    {
     "output_type": "execute_result",
     "data": {
      "text/plain": [
       "Medio empleado    object\n",
       "Sexo              object\n",
       "Edad              object\n",
       "Total             object\n",
       "dtype: object"
      ]
     },
     "metadata": {},
     "execution_count": 51
    }
   ],
   "source": [
    "data.dtypes #los datos son de tipo objeto, son datos categoricos que los tengo que cambiar."
   ]
  },
  {
   "cell_type": "code",
   "execution_count": 52,
   "metadata": {},
   "outputs": [
    {
     "output_type": "execute_result",
     "data": {
      "text/plain": [
       "X83. Lesión autoinfligida intencionalmente por otros medios especificados                                                                                                                57\n",
       "X69. Envenenamiento autoinfligido intencionalmente por (exposición a) otros productos químicos y sustancias nocivas, y los no especificados                                              57\n",
       "X66. Envenenamiento autoinfligido intencionalmente por (exposición a) disolventes orgánicos e hidrocarburos halogenados y sus vapores                                                    57\n",
       "X70. Lesión autoinfligida intencionalmente por ahorcamiento, estrangulamiento o sofocación                                                                                               57\n",
       "X73. Lesión autoinfligida intencionalmente por disparo de rifle, escopeta y arma larga                                                                                                   57\n",
       "X72. Lesión autoinfligida intencionalmente por disparo de arma corta                                                                                                                     57\n",
       "X64. Envenenamiento autoinfligido intencionalmente por (exposición a) otras drogas, medicamentos y sustancias biológicas, y los no especificados                                         57\n",
       "X79. Lesión autoinfligida intencionalmente por objeto romo o sin filo                                                                                                                    57\n",
       "X76. Lesión autoinfligida intencionalmente por humo, fuego y llamas                                                                                                                      57\n",
       "X61. Envenenamiento autoinfligido intencionalmente por (exposición a) drogas antiepilépticas, sedantes, hipnóticas, antiparkinsonianas y psicotrópicas, no clasificadas en otra parte    57\n",
       "X65. Envenenamiento autoinfligido intencionalmente por (exposición a) alcohol                                                                                                            57\n",
       "X60. Envenenamiento autoinfligido intencionalmente por (exposición a) analgésicos no narcóticos, antipiréticos y antirreumáticos                                                         57\n",
       "X78. Lesión autoinfligida intencionalmente por objeto cortante                                                                                                                           57\n",
       "X81. Lesión autoinfligida intencionalmente por arrojarse o colocarse delante de objeto en movimiento                                                                                     57\n",
       "X71. Lesión autoinfligida intencionalmente por ahogamiento y sumersión                                                                                                                   57\n",
       "X68. Envenenamiento autoinfligido intencionalmente por (exposición a) plaguicidas                                                                                                        57\n",
       "X67. Envenenamiento autoinfligido intencionalmente por (exposición a) otros gases y vapores                                                                                              57\n",
       "X84. Lesión autoinfligida intencionalmente por medios no especificados                                                                                                                   57\n",
       "X75. Lesión autoinfligida intencionalmente por material explosivo                                                                                                                        57\n",
       "X82. Lesión autoinfligida intencionalmente por colisión de vehículo de motor                                                                                                             57\n",
       "X63. Envenenamiento autoinfligido intencionalmente por (exposición a) otras drogas que actúan sobre el sistema nervioso autónomo                                                         57\n",
       "X74. Lesión autoinfligida intencionalmente por disparo de otras armas de fuego, y las no especificadas                                                                                   57\n",
       "X62. Envenenamiento autoinfligido intencionalmente por (exposición a) narcóticos y psicodislépticos, no clasificados en otra parte                                                       57\n",
       "X77. Lesión autoinfligida intencionalmente por vapor de agua, otros vapores y objetos calientes                                                                                          57\n",
       "X80. Lesión autoinfligida intencionalmente al saltar desde un lugar elevado                                                                                                              57\n",
       "Total                                                                                                                                                                                    37\n",
       "Name: Medio empleado, dtype: int64"
      ]
     },
     "metadata": {},
     "execution_count": 52
    }
   ],
   "source": [
    "data[\"Medio empleado\"].value_counts()"
   ]
  },
  {
   "cell_type": "code",
   "execution_count": 53,
   "metadata": {},
   "outputs": [],
   "source": [
    "#Para nuestros usos, vamos a crear un diccionario de asignación que contiene cada columna para procesar, así como un diccionario de los valores a traducir. replace\n",
    "\n",
    "cleanup_nums = {\"Medio empleado\": {\"Total\": 0, \"X83. Lesión autoinfligida intencionalmente por otros medios especificados\": 83, \"X69. Envenenamiento autoinfligido intencionalmente por (exposición a) otros productos químicos y sustancias nocivas, y los no especificados\": 69,\n",
    "\"X66. Envenenamiento autoinfligido intencionalmente por (exposición a) disolventes orgánicos e hidrocarburos halogenados y sus vapores\": 66, \n",
    "\"X70. Lesión autoinfligida intencionalmente por ahorcamiento, estrangulamiento o sofocación\": 70,\n",
    "\"X73. Lesión autoinfligida intencionalmente por disparo de rifle, escopeta y arma larga\": 73,\n",
    "\"X72. Lesión autoinfligida intencionalmente por disparo de arma corta\": 72, \n",
    "\"X64. Envenenamiento autoinfligido intencionalmente por (exposición a) otras drogas, medicamentos y sustancias biológicas, y los no especificados\": 64,\n",
    "\"X79. Lesión autoinfligida intencionalmente por objeto romo o sin filo\": 79, \n",
    "\"X76. Lesión autoinfligida intencionalmente por humo, fuego y llamas\": 76, \n",
    "\"X61. Envenenamiento autoinfligido intencionalmente por (exposición a) drogas antiepilépticas, sedantes, hipnóticas, antiparkinsonianas y psicotrópicas, no clasificadas en otra parte\" : 61,\n",
    "\"X65. Envenenamiento autoinfligido intencionalmente por (exposición a) alcohol\": 65,\n",
    "\"X60. Envenenamiento autoinfligido intencionalmente por (exposición a) analgésicos no narcóticos, antipiréticos y antirreumáticos\": 60, \n",
    "\"X78. Lesión autoinfligida intencionalmente por objeto cortante\" : 78,\n",
    "\"X81. Lesión autoinfligida intencionalmente por arrojarse o colocarse delante de objeto en movimiento\" : 81,\n",
    "\"X71. Lesión autoinfligida intencionalmente por ahogamiento y sumersión\": 71,\n",
    "\"X68. Envenenamiento autoinfligido intencionalmente por (exposición a) plaguicidas\" : 68,\n",
    "\"X67. Envenenamiento autoinfligido intencionalmente por (exposición a) otros gases y vapores\": 67,\n",
    "\"X84. Lesión autoinfligida intencionalmente por medios no especificados\" : 84,\n",
    "\"X75. Lesión autoinfligida intencionalmente por material explosivo\" : 75,\n",
    "\"X82. Lesión autoinfligida intencionalmente por colisión de vehículo de motor\": 82,\n",
    "\"X63. Envenenamiento autoinfligido intencionalmente por (exposición a) otras drogas que actúan sobre el sistema nervioso autónomo\" : 63,\n",
    "\"X74. Lesión autoinfligida intencionalmente por disparo de otras armas de fuego, y las no especificadas\": 74,\n",
    "\"X62. Envenenamiento autoinfligido intencionalmente por (exposición a) narcóticos y psicodislépticos, no clasificados en otra parte\": 62,\n",
    "\"X77. Lesión autoinfligida intencionalmente por vapor de agua, otros vapores y objetos calientes\": 77,\n",
    "\"X80. Lesión autoinfligida intencionalmente al saltar desde un lugar elevado\": 80},\n",
    "\"Edad\": { \"Todas las edades\": 0,\"Menores de 15 años\" : 1,\"De 15 a 19 años\":2, \"De 20 a 24 años\" : 3, \"De 25 a 29 años\": 4,\n",
    "\"De 30 a 34 años\": 5, \"De 35 a 39 años\" : 6, \"De 40 a 44 años\": 7, \"De 45 a 49 años\": 8,\n",
    "\"De 50 a 54 años\": 9, \"De 55 a 59 años\": 10, \"De 60 a 64 años\": 11, \"De 65 a 69 años\": 12, \"De 70 a 74 años\": 13, \"De 75 a 79 años\": 14, \"De 80 a 84 años\": 15, \"De 85 a 89 años\": 16, \"De 90 a 94 años\": 17, \"De 95 años y más\": 18}}"
   ]
  },
  {
   "cell_type": "code",
   "execution_count": 54,
   "metadata": {},
   "outputs": [
    {
     "output_type": "execute_result",
     "data": {
      "text/plain": [
       "      Medio empleado     Sexo  Edad  Total\n",
       "20                 0  Hombres     1   1,63\n",
       "21                 0  Hombres     2   8,97\n",
       "22                 0  Hombres     3  17,94\n",
       "23                 0  Hombres     4  28,54\n",
       "24                 0  Hombres     5  39,14\n",
       "...              ...      ...   ...    ...\n",
       "1477              84  Mujeres    14   0,27\n",
       "1478              84  Mujeres    15   0,82\n",
       "1479              84  Mujeres    16   0,54\n",
       "1480              84  Mujeres    17   0,00\n",
       "1481              84  Mujeres    18   0,00\n",
       "\n",
       "[1462 rows x 4 columns]"
      ],
      "text/html": "<div>\n<style scoped>\n    .dataframe tbody tr th:only-of-type {\n        vertical-align: middle;\n    }\n\n    .dataframe tbody tr th {\n        vertical-align: top;\n    }\n\n    .dataframe thead th {\n        text-align: right;\n    }\n</style>\n<table border=\"1\" class=\"dataframe\">\n  <thead>\n    <tr style=\"text-align: right;\">\n      <th></th>\n      <th>Medio empleado</th>\n      <th>Sexo</th>\n      <th>Edad</th>\n      <th>Total</th>\n    </tr>\n  </thead>\n  <tbody>\n    <tr>\n      <th>20</th>\n      <td>0</td>\n      <td>Hombres</td>\n      <td>1</td>\n      <td>1,63</td>\n    </tr>\n    <tr>\n      <th>21</th>\n      <td>0</td>\n      <td>Hombres</td>\n      <td>2</td>\n      <td>8,97</td>\n    </tr>\n    <tr>\n      <th>22</th>\n      <td>0</td>\n      <td>Hombres</td>\n      <td>3</td>\n      <td>17,94</td>\n    </tr>\n    <tr>\n      <th>23</th>\n      <td>0</td>\n      <td>Hombres</td>\n      <td>4</td>\n      <td>28,54</td>\n    </tr>\n    <tr>\n      <th>24</th>\n      <td>0</td>\n      <td>Hombres</td>\n      <td>5</td>\n      <td>39,14</td>\n    </tr>\n    <tr>\n      <th>...</th>\n      <td>...</td>\n      <td>...</td>\n      <td>...</td>\n      <td>...</td>\n    </tr>\n    <tr>\n      <th>1477</th>\n      <td>84</td>\n      <td>Mujeres</td>\n      <td>14</td>\n      <td>0,27</td>\n    </tr>\n    <tr>\n      <th>1478</th>\n      <td>84</td>\n      <td>Mujeres</td>\n      <td>15</td>\n      <td>0,82</td>\n    </tr>\n    <tr>\n      <th>1479</th>\n      <td>84</td>\n      <td>Mujeres</td>\n      <td>16</td>\n      <td>0,54</td>\n    </tr>\n    <tr>\n      <th>1480</th>\n      <td>84</td>\n      <td>Mujeres</td>\n      <td>17</td>\n      <td>0,00</td>\n    </tr>\n    <tr>\n      <th>1481</th>\n      <td>84</td>\n      <td>Mujeres</td>\n      <td>18</td>\n      <td>0,00</td>\n    </tr>\n  </tbody>\n</table>\n<p>1462 rows × 4 columns</p>\n</div>"
     },
     "metadata": {},
     "execution_count": 54
    }
   ],
   "source": [
    "# Para convertir las columnas en números utilizando: replace\n",
    "\n",
    "nuevo_data = data.replace(cleanup_nums)\n",
    "nuevo_data"
   ]
  },
  {
   "cell_type": "code",
   "execution_count": 57,
   "metadata": {},
   "outputs": [
    {
     "output_type": "execute_result",
     "data": {
      "text/plain": [
       "Mujeres        494\n",
       "Hombres        493\n",
       "Ambos sexos    475\n",
       "Name: Sexo, dtype: int64"
      ]
     },
     "metadata": {},
     "execution_count": 57
    }
   ],
   "source": [
    "nuevo_data[\"Sexo\"].value_counts()"
   ]
  },
  {
   "cell_type": "code",
   "execution_count": 60,
   "metadata": {},
   "outputs": [
    {
     "output_type": "execute_result",
     "data": {
      "text/plain": [
       "      Medio empleado  Sexo  Edad  Total\n",
       "20                 0     1     1   1,63\n",
       "21                 0     1     2   8,97\n",
       "22                 0     1     3  17,94\n",
       "23                 0     1     4  28,54\n",
       "24                 0     1     5  39,14\n",
       "...              ...   ...   ...    ...\n",
       "1477              84     2    14   0,27\n",
       "1478              84     2    15   0,82\n",
       "1479              84     2    16   0,54\n",
       "1480              84     2    17   0,00\n",
       "1481              84     2    18   0,00\n",
       "\n",
       "[1462 rows x 4 columns]"
      ],
      "text/html": "<div>\n<style scoped>\n    .dataframe tbody tr th:only-of-type {\n        vertical-align: middle;\n    }\n\n    .dataframe tbody tr th {\n        vertical-align: top;\n    }\n\n    .dataframe thead th {\n        text-align: right;\n    }\n</style>\n<table border=\"1\" class=\"dataframe\">\n  <thead>\n    <tr style=\"text-align: right;\">\n      <th></th>\n      <th>Medio empleado</th>\n      <th>Sexo</th>\n      <th>Edad</th>\n      <th>Total</th>\n    </tr>\n  </thead>\n  <tbody>\n    <tr>\n      <th>20</th>\n      <td>0</td>\n      <td>1</td>\n      <td>1</td>\n      <td>1,63</td>\n    </tr>\n    <tr>\n      <th>21</th>\n      <td>0</td>\n      <td>1</td>\n      <td>2</td>\n      <td>8,97</td>\n    </tr>\n    <tr>\n      <th>22</th>\n      <td>0</td>\n      <td>1</td>\n      <td>3</td>\n      <td>17,94</td>\n    </tr>\n    <tr>\n      <th>23</th>\n      <td>0</td>\n      <td>1</td>\n      <td>4</td>\n      <td>28,54</td>\n    </tr>\n    <tr>\n      <th>24</th>\n      <td>0</td>\n      <td>1</td>\n      <td>5</td>\n      <td>39,14</td>\n    </tr>\n    <tr>\n      <th>...</th>\n      <td>...</td>\n      <td>...</td>\n      <td>...</td>\n      <td>...</td>\n    </tr>\n    <tr>\n      <th>1477</th>\n      <td>84</td>\n      <td>2</td>\n      <td>14</td>\n      <td>0,27</td>\n    </tr>\n    <tr>\n      <th>1478</th>\n      <td>84</td>\n      <td>2</td>\n      <td>15</td>\n      <td>0,82</td>\n    </tr>\n    <tr>\n      <th>1479</th>\n      <td>84</td>\n      <td>2</td>\n      <td>16</td>\n      <td>0,54</td>\n    </tr>\n    <tr>\n      <th>1480</th>\n      <td>84</td>\n      <td>2</td>\n      <td>17</td>\n      <td>0,00</td>\n    </tr>\n    <tr>\n      <th>1481</th>\n      <td>84</td>\n      <td>2</td>\n      <td>18</td>\n      <td>0,00</td>\n    </tr>\n  </tbody>\n</table>\n<p>1462 rows × 4 columns</p>\n</div>"
     },
     "metadata": {},
     "execution_count": 60
    }
   ],
   "source": [
    "Rango_sexo = {\"Sexo\": {\"Ambos sexos\": 0, \"Hombres\": 1, \"Mujeres\": 2}}\n",
    "\n",
    "nuevo_data_sex = nuevo_data.replace(Rango_sexo)\n",
    "nuevo_data_sex "
   ]
  },
  {
   "cell_type": "code",
   "execution_count": 61,
   "metadata": {},
   "outputs": [
    {
     "output_type": "execute_result",
     "data": {
      "text/plain": [
       "Medio empleado     int64\n",
       "Sexo               int64\n",
       "Edad               int64\n",
       "Total             object\n",
       "dtype: object"
      ]
     },
     "metadata": {},
     "execution_count": 61
    }
   ],
   "source": [
    "nuevo_data_sex.dtypes #ya solo me queda por cambiar, la columna total, que tiene coma, remplazarla por \".\" "
   ]
  },
  {
   "cell_type": "code",
   "execution_count": 65,
   "metadata": {},
   "outputs": [],
   "source": [
    "nuevo_data_sex[\"Total\"]= nuevo_data_sex[\"Total\"].apply(lambda x:x.replace(\",\", \".\"))"
   ]
  },
  {
   "cell_type": "code",
   "execution_count": 66,
   "metadata": {},
   "outputs": [
    {
     "output_type": "execute_result",
     "data": {
      "text/plain": [
       "      Medio empleado  Sexo  Edad  Total\n",
       "20                 0     1     1   1.63\n",
       "21                 0     1     2   8.97\n",
       "22                 0     1     3  17.94\n",
       "23                 0     1     4  28.54\n",
       "24                 0     1     5  39.14\n",
       "...              ...   ...   ...    ...\n",
       "1477              84     2    14   0.27\n",
       "1478              84     2    15   0.82\n",
       "1479              84     2    16   0.54\n",
       "1480              84     2    17   0.00\n",
       "1481              84     2    18   0.00\n",
       "\n",
       "[1462 rows x 4 columns]"
      ],
      "text/html": "<div>\n<style scoped>\n    .dataframe tbody tr th:only-of-type {\n        vertical-align: middle;\n    }\n\n    .dataframe tbody tr th {\n        vertical-align: top;\n    }\n\n    .dataframe thead th {\n        text-align: right;\n    }\n</style>\n<table border=\"1\" class=\"dataframe\">\n  <thead>\n    <tr style=\"text-align: right;\">\n      <th></th>\n      <th>Medio empleado</th>\n      <th>Sexo</th>\n      <th>Edad</th>\n      <th>Total</th>\n    </tr>\n  </thead>\n  <tbody>\n    <tr>\n      <th>20</th>\n      <td>0</td>\n      <td>1</td>\n      <td>1</td>\n      <td>1.63</td>\n    </tr>\n    <tr>\n      <th>21</th>\n      <td>0</td>\n      <td>1</td>\n      <td>2</td>\n      <td>8.97</td>\n    </tr>\n    <tr>\n      <th>22</th>\n      <td>0</td>\n      <td>1</td>\n      <td>3</td>\n      <td>17.94</td>\n    </tr>\n    <tr>\n      <th>23</th>\n      <td>0</td>\n      <td>1</td>\n      <td>4</td>\n      <td>28.54</td>\n    </tr>\n    <tr>\n      <th>24</th>\n      <td>0</td>\n      <td>1</td>\n      <td>5</td>\n      <td>39.14</td>\n    </tr>\n    <tr>\n      <th>...</th>\n      <td>...</td>\n      <td>...</td>\n      <td>...</td>\n      <td>...</td>\n    </tr>\n    <tr>\n      <th>1477</th>\n      <td>84</td>\n      <td>2</td>\n      <td>14</td>\n      <td>0.27</td>\n    </tr>\n    <tr>\n      <th>1478</th>\n      <td>84</td>\n      <td>2</td>\n      <td>15</td>\n      <td>0.82</td>\n    </tr>\n    <tr>\n      <th>1479</th>\n      <td>84</td>\n      <td>2</td>\n      <td>16</td>\n      <td>0.54</td>\n    </tr>\n    <tr>\n      <th>1480</th>\n      <td>84</td>\n      <td>2</td>\n      <td>17</td>\n      <td>0.00</td>\n    </tr>\n    <tr>\n      <th>1481</th>\n      <td>84</td>\n      <td>2</td>\n      <td>18</td>\n      <td>0.00</td>\n    </tr>\n  </tbody>\n</table>\n<p>1462 rows × 4 columns</p>\n</div>"
     },
     "metadata": {},
     "execution_count": 66
    }
   ],
   "source": [
    "nuevo_data_sex"
   ]
  },
  {
   "cell_type": "code",
   "execution_count": 73,
   "metadata": {},
   "outputs": [],
   "source": [
    "nuevo_data_sex[\"Total\"]= nuevo_data_sex[\"Total\"].apply(lambda x: float(x))"
   ]
  },
  {
   "cell_type": "code",
   "execution_count": 74,
   "metadata": {},
   "outputs": [
    {
     "output_type": "execute_result",
     "data": {
      "text/plain": [
       "20       1.63\n",
       "21       8.97\n",
       "22      17.94\n",
       "23      28.54\n",
       "24      39.14\n",
       "        ...  \n",
       "1477     0.27\n",
       "1478     0.82\n",
       "1479     0.54\n",
       "1480     0.00\n",
       "1481     0.00\n",
       "Name: Total, Length: 1462, dtype: float64"
      ]
     },
     "metadata": {},
     "execution_count": 74
    }
   ],
   "source": [
    "nuevo_data_sex[\"Total\"]"
   ]
  },
  {
   "cell_type": "code",
   "execution_count": 77,
   "metadata": {},
   "outputs": [],
   "source": [
    "#le asigno otro nombre. y lo guardo \n",
    "nuevo_data_sex.to_csv('df_cleaned.csv')"
   ]
  },
  {
   "cell_type": "code",
   "execution_count": null,
   "metadata": {},
   "outputs": [],
   "source": []
  }
 ]
}