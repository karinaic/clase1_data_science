{
 "metadata": {
  "language_info": {
   "codemirror_mode": {
    "name": "ipython",
    "version": 3
   },
   "file_extension": ".py",
   "mimetype": "text/x-python",
   "name": "python",
   "nbconvert_exporter": "python",
   "pygments_lexer": "ipython3",
   "version": "3.7.4"
  },
  "orig_nbformat": 2,
  "kernelspec": {
   "name": "python374jvsc74a57bd00600588c3b5f4418cbe7b5ebc6825b479f3bc010269d8b60d75058cdd010adfe",
   "display_name": "Python 3.7.4 64-bit"
  },
  "metadata": {
   "interpreter": {
    "hash": "0600588c3b5f4418cbe7b5ebc6825b479f3bc010269d8b60d75058cdd010adfe"
   }
  }
 },
 "nbformat": 4,
 "nbformat_minor": 2,
 "cells": [
  {
   "cell_type": "code",
   "execution_count": 9,
   "metadata": {},
   "outputs": [],
   "source": [
    "#voy a probar leer un cvs, para iniciar mi descarga de datasets. encontré esta fuente en dataset.gob.es\n",
    "\n",
    "import numpy as np \n",
    "import pandas as pd \n"
   ]
  },
  {
   "cell_type": "code",
   "execution_count": 10,
   "metadata": {},
   "outputs": [],
   "source": [
    "doc = \"12007bsc.csv\""
   ]
  },
  {
   "cell_type": "code",
   "execution_count": 64,
   "metadata": {},
   "outputs": [
    {
     "output_type": "execute_result",
     "data": {
      "text/plain": [
       "                Edad Prevalencia depresión     Sexo Total\n",
       "0    De 15 a 24 años             No consta  Hombres  15,7\n",
       "1    De 15 a 24 años             No consta  Mujeres   6,2\n",
       "2    De 25 a 34 años             No consta  Hombres   6,3\n",
       "3    De 25 a 34 años             No consta  Mujeres   2,2\n",
       "4    De 35 a 44 años             No consta  Hombres  10,6\n",
       "5    De 35 a 44 años             No consta  Mujeres  22,9\n",
       "6    De 45 a 54 años             No consta  Hombres  21,8\n",
       "7    De 45 a 54 años             No consta  Mujeres  22,0\n",
       "8    De 55 a 64 años             No consta  Hombres  10,3\n",
       "9    De 55 a 64 años             No consta  Mujeres  13,5\n",
       "10   De 65 a 74 años             No consta  Hombres   8,2\n",
       "11   De 65 a 74 años             No consta  Mujeres  14,9\n",
       "12   De 75 a 84 años             No consta  Hombres  17,3\n",
       "13   De 75 a 84 años             No consta  Mujeres  23,3\n",
       "14  De 85 y más años             No consta  Hombres  24,3\n",
       "15  De 85 y más años             No consta  Mujeres  49,9"
      ],
      "text/html": "<div>\n<style scoped>\n    .dataframe tbody tr th:only-of-type {\n        vertical-align: middle;\n    }\n\n    .dataframe tbody tr th {\n        vertical-align: top;\n    }\n\n    .dataframe thead th {\n        text-align: right;\n    }\n</style>\n<table border=\"1\" class=\"dataframe\">\n  <thead>\n    <tr style=\"text-align: right;\">\n      <th></th>\n      <th>Edad</th>\n      <th>Prevalencia depresión</th>\n      <th>Sexo</th>\n      <th>Total</th>\n    </tr>\n  </thead>\n  <tbody>\n    <tr>\n      <th>0</th>\n      <td>De 15 a 24 años</td>\n      <td>No consta</td>\n      <td>Hombres</td>\n      <td>15,7</td>\n    </tr>\n    <tr>\n      <th>1</th>\n      <td>De 15 a 24 años</td>\n      <td>No consta</td>\n      <td>Mujeres</td>\n      <td>6,2</td>\n    </tr>\n    <tr>\n      <th>2</th>\n      <td>De 25 a 34 años</td>\n      <td>No consta</td>\n      <td>Hombres</td>\n      <td>6,3</td>\n    </tr>\n    <tr>\n      <th>3</th>\n      <td>De 25 a 34 años</td>\n      <td>No consta</td>\n      <td>Mujeres</td>\n      <td>2,2</td>\n    </tr>\n    <tr>\n      <th>4</th>\n      <td>De 35 a 44 años</td>\n      <td>No consta</td>\n      <td>Hombres</td>\n      <td>10,6</td>\n    </tr>\n    <tr>\n      <th>5</th>\n      <td>De 35 a 44 años</td>\n      <td>No consta</td>\n      <td>Mujeres</td>\n      <td>22,9</td>\n    </tr>\n    <tr>\n      <th>6</th>\n      <td>De 45 a 54 años</td>\n      <td>No consta</td>\n      <td>Hombres</td>\n      <td>21,8</td>\n    </tr>\n    <tr>\n      <th>7</th>\n      <td>De 45 a 54 años</td>\n      <td>No consta</td>\n      <td>Mujeres</td>\n      <td>22,0</td>\n    </tr>\n    <tr>\n      <th>8</th>\n      <td>De 55 a 64 años</td>\n      <td>No consta</td>\n      <td>Hombres</td>\n      <td>10,3</td>\n    </tr>\n    <tr>\n      <th>9</th>\n      <td>De 55 a 64 años</td>\n      <td>No consta</td>\n      <td>Mujeres</td>\n      <td>13,5</td>\n    </tr>\n    <tr>\n      <th>10</th>\n      <td>De 65 a 74 años</td>\n      <td>No consta</td>\n      <td>Hombres</td>\n      <td>8,2</td>\n    </tr>\n    <tr>\n      <th>11</th>\n      <td>De 65 a 74 años</td>\n      <td>No consta</td>\n      <td>Mujeres</td>\n      <td>14,9</td>\n    </tr>\n    <tr>\n      <th>12</th>\n      <td>De 75 a 84 años</td>\n      <td>No consta</td>\n      <td>Hombres</td>\n      <td>17,3</td>\n    </tr>\n    <tr>\n      <th>13</th>\n      <td>De 75 a 84 años</td>\n      <td>No consta</td>\n      <td>Mujeres</td>\n      <td>23,3</td>\n    </tr>\n    <tr>\n      <th>14</th>\n      <td>De 85 y más años</td>\n      <td>No consta</td>\n      <td>Hombres</td>\n      <td>24,3</td>\n    </tr>\n    <tr>\n      <th>15</th>\n      <td>De 85 y más años</td>\n      <td>No consta</td>\n      <td>Mujeres</td>\n      <td>49,9</td>\n    </tr>\n  </tbody>\n</table>\n</div>"
     },
     "metadata": {},
     "execution_count": 64
    }
   ],
   "source": [
    "#Paso el archivo csv a DataFrame y compruebo sus datos\n",
    "df= pd.read_csv(doc, sep= \";\", encoding=\"latin-1\")\n",
    "df"
   ]
  },
  {
   "cell_type": "code",
   "execution_count": 66,
   "metadata": {},
   "outputs": [],
   "source": [
    "df_2 = pd.read_csv(\"edad_nacionalidad_sexo.csv\", sep= \";\")"
   ]
  },
  {
   "cell_type": "code",
   "execution_count": 69,
   "metadata": {},
   "outputs": [
    {
     "output_type": "execute_result",
     "data": {
      "text/plain": [
       "                  Edad Nacionalidad         Sexo    Total\n",
       "0     Todas las edades        Total  Ambos sexos    3.679\n",
       "1     Todas las edades        Total      Hombres    2.718\n",
       "2     Todas las edades        Total      Mujeres  961.000\n",
       "3     Todas las edades     Española  Ambos sexos    3.366\n",
       "4     Todas las edades     Española      Hombres    2.468\n",
       "5     Todas las edades     Española      Mujeres  898.000\n",
       "6     Todas las edades   Extranjera  Ambos sexos  308.000\n",
       "7     Todas las edades   Extranjera      Hombres  245.000\n",
       "8     Todas las edades   Extranjera      Mujeres   63.000\n",
       "9     Todas las edades    No consta  Ambos sexos    5.000\n",
       "10    Todas las edades    No consta      Hombres    5.000\n",
       "11    Todas las edades    No consta      Mujeres    0.000\n",
       "12  Menores de 15 años        Total  Ambos sexos   13.000\n",
       "13  Menores de 15 años        Total      Hombres    6.000\n",
       "14  Menores de 15 años        Total      Mujeres    7.000"
      ],
      "text/html": "<div>\n<style scoped>\n    .dataframe tbody tr th:only-of-type {\n        vertical-align: middle;\n    }\n\n    .dataframe tbody tr th {\n        vertical-align: top;\n    }\n\n    .dataframe thead th {\n        text-align: right;\n    }\n</style>\n<table border=\"1\" class=\"dataframe\">\n  <thead>\n    <tr style=\"text-align: right;\">\n      <th></th>\n      <th>Edad</th>\n      <th>Nacionalidad</th>\n      <th>Sexo</th>\n      <th>Total</th>\n    </tr>\n  </thead>\n  <tbody>\n    <tr>\n      <th>0</th>\n      <td>Todas las edades</td>\n      <td>Total</td>\n      <td>Ambos sexos</td>\n      <td>3.679</td>\n    </tr>\n    <tr>\n      <th>1</th>\n      <td>Todas las edades</td>\n      <td>Total</td>\n      <td>Hombres</td>\n      <td>2.718</td>\n    </tr>\n    <tr>\n      <th>2</th>\n      <td>Todas las edades</td>\n      <td>Total</td>\n      <td>Mujeres</td>\n      <td>961.000</td>\n    </tr>\n    <tr>\n      <th>3</th>\n      <td>Todas las edades</td>\n      <td>Española</td>\n      <td>Ambos sexos</td>\n      <td>3.366</td>\n    </tr>\n    <tr>\n      <th>4</th>\n      <td>Todas las edades</td>\n      <td>Española</td>\n      <td>Hombres</td>\n      <td>2.468</td>\n    </tr>\n    <tr>\n      <th>5</th>\n      <td>Todas las edades</td>\n      <td>Española</td>\n      <td>Mujeres</td>\n      <td>898.000</td>\n    </tr>\n    <tr>\n      <th>6</th>\n      <td>Todas las edades</td>\n      <td>Extranjera</td>\n      <td>Ambos sexos</td>\n      <td>308.000</td>\n    </tr>\n    <tr>\n      <th>7</th>\n      <td>Todas las edades</td>\n      <td>Extranjera</td>\n      <td>Hombres</td>\n      <td>245.000</td>\n    </tr>\n    <tr>\n      <th>8</th>\n      <td>Todas las edades</td>\n      <td>Extranjera</td>\n      <td>Mujeres</td>\n      <td>63.000</td>\n    </tr>\n    <tr>\n      <th>9</th>\n      <td>Todas las edades</td>\n      <td>No consta</td>\n      <td>Ambos sexos</td>\n      <td>5.000</td>\n    </tr>\n    <tr>\n      <th>10</th>\n      <td>Todas las edades</td>\n      <td>No consta</td>\n      <td>Hombres</td>\n      <td>5.000</td>\n    </tr>\n    <tr>\n      <th>11</th>\n      <td>Todas las edades</td>\n      <td>No consta</td>\n      <td>Mujeres</td>\n      <td>0.000</td>\n    </tr>\n    <tr>\n      <th>12</th>\n      <td>Menores de 15 años</td>\n      <td>Total</td>\n      <td>Ambos sexos</td>\n      <td>13.000</td>\n    </tr>\n    <tr>\n      <th>13</th>\n      <td>Menores de 15 años</td>\n      <td>Total</td>\n      <td>Hombres</td>\n      <td>6.000</td>\n    </tr>\n    <tr>\n      <th>14</th>\n      <td>Menores de 15 años</td>\n      <td>Total</td>\n      <td>Mujeres</td>\n      <td>7.000</td>\n    </tr>\n  </tbody>\n</table>\n</div>"
     },
     "metadata": {},
     "execution_count": 69
    }
   ],
   "source": [
    "df_2.head(15)\n",
    "\n"
   ]
  },
  {
   "cell_type": "code",
   "execution_count": 79,
   "metadata": {},
   "outputs": [],
   "source": [
    "#quiero hacer 2 data frame\n",
    "df_2_usar = df_2.drop(range(0,12))"
   ]
  },
  {
   "cell_type": "code",
   "execution_count": 81,
   "metadata": {},
   "outputs": [
    {
     "output_type": "execute_result",
     "data": {
      "text/plain": [
       "Edad             object\n",
       "Nacionalidad     object\n",
       "Sexo             object\n",
       "Total           float64\n",
       "dtype: object"
      ]
     },
     "metadata": {},
     "execution_count": 81
    }
   ],
   "source": [
    "df_2_usar.dtypes"
   ]
  }
 ]
}