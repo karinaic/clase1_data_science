{
 "metadata": {
  "language_info": {
   "codemirror_mode": {
    "name": "ipython",
    "version": 3
   },
   "file_extension": ".py",
   "mimetype": "text/x-python",
   "name": "python",
   "nbconvert_exporter": "python",
   "pygments_lexer": "ipython3",
   "version": "3.7.4"
  },
  "orig_nbformat": 2,
  "kernelspec": {
   "name": "python374jvsc74a57bd00600588c3b5f4418cbe7b5ebc6825b479f3bc010269d8b60d75058cdd010adfe",
   "display_name": "Python 3.7.4 64-bit"
  },
  "metadata": {
   "interpreter": {
    "hash": "0600588c3b5f4418cbe7b5ebc6825b479f3bc010269d8b60d75058cdd010adfe"
   }
  }
 },
 "nbformat": 4,
 "nbformat_minor": 2,
 "cells": [
  {
   "cell_type": "code",
   "execution_count": 2,
   "metadata": {},
   "outputs": [],
   "source": [
    "#voy a probar leer un cvs, para iniciar mi descarga de datasets. encontré esta fuente en dataset.gob.es\n",
    "\n",
    "import numpy as np \n",
    "import pandas as pd \n"
   ]
  },
  {
   "cell_type": "code",
   "execution_count": 42,
   "metadata": {},
   "outputs": [],
   "source": [
    "doc = \"estat_hsw_pb5$defaultview.csv\""
   ]
  },
  {
   "cell_type": "code",
   "execution_count": 46,
   "metadata": {},
   "outputs": [
    {
     "output_type": "execute_result",
     "data": {
      "text/plain": [
       "array([['ESTAT:HSW_PB5$DEFAULTVIEW(1.0)', 'A', 'CARDIO_V', 'T', 'Y15-64',\n",
       "        'PC', 'AT', 2007, 4.2, nan],\n",
       "       ['ESTAT:HSW_PB5$DEFAULTVIEW(1.0)', 'A', 'CARDIO_V', 'T', 'Y15-64',\n",
       "        'PC', 'AT', 2013, 3.3, nan],\n",
       "       ['ESTAT:HSW_PB5$DEFAULTVIEW(1.0)', 'A', 'CARDIO_V', 'T', 'Y15-64',\n",
       "        'PC', 'BE', 2007, 4.4, 'd'],\n",
       "       ['ESTAT:HSW_PB5$DEFAULTVIEW(1.0)', 'A', 'CARDIO_V', 'T', 'Y15-64',\n",
       "        'PC', 'BE', 2013, 2.1, nan],\n",
       "       ['ESTAT:HSW_PB5$DEFAULTVIEW(1.0)', 'A', 'CARDIO_V', 'T', 'Y15-64',\n",
       "        'PC', 'BG', 2007, 15.6, nan],\n",
       "       ['ESTAT:HSW_PB5$DEFAULTVIEW(1.0)', 'A', 'CARDIO_V', 'T', 'Y15-64',\n",
       "        'PC', 'BG', 2013, 16.6, nan],\n",
       "       ['ESTAT:HSW_PB5$DEFAULTVIEW(1.0)', 'A', 'CARDIO_V', 'T', 'Y15-64',\n",
       "        'PC', 'CH', 2013, 2.4, nan],\n",
       "       ['ESTAT:HSW_PB5$DEFAULTVIEW(1.0)', 'A', 'CARDIO_V', 'T', 'Y15-64',\n",
       "        'PC', 'CY', 2007, 8.8, nan],\n",
       "       ['ESTAT:HSW_PB5$DEFAULTVIEW(1.0)', 'A', 'CARDIO_V', 'T', 'Y15-64',\n",
       "        'PC', 'CY', 2013, 7.6, nan],\n",
       "       ['ESTAT:HSW_PB5$DEFAULTVIEW(1.0)', 'A', 'CARDIO_V', 'T', 'Y15-64',\n",
       "        'PC', 'CZ', 2007, 5.3, nan],\n",
       "       ['ESTAT:HSW_PB5$DEFAULTVIEW(1.0)', 'A', 'CARDIO_V', 'T', 'Y15-64',\n",
       "        'PC', 'CZ', 2013, 4.5, nan],\n",
       "       ['ESTAT:HSW_PB5$DEFAULTVIEW(1.0)', 'A', 'CARDIO_V', 'T', 'Y15-64',\n",
       "        'PC', 'DE', 2007, 2.5, 'd'],\n",
       "       ['ESTAT:HSW_PB5$DEFAULTVIEW(1.0)', 'A', 'CARDIO_V', 'T', 'Y15-64',\n",
       "        'PC', 'DE', 2013, 2.5, nan],\n",
       "       ['ESTAT:HSW_PB5$DEFAULTVIEW(1.0)', 'A', 'CARDIO_V', 'T', 'Y15-64',\n",
       "        'PC', 'DK', 2007, 1.9, nan],\n",
       "       ['ESTAT:HSW_PB5$DEFAULTVIEW(1.0)', 'A', 'CARDIO_V', 'T', 'Y15-64',\n",
       "        'PC', 'DK', 2013, nan, 'u'],\n",
       "       ['ESTAT:HSW_PB5$DEFAULTVIEW(1.0)', 'A', 'CARDIO_V', 'T', 'Y15-64',\n",
       "        'PC', 'EA19', 2007, 4.3, 'd'],\n",
       "       ['ESTAT:HSW_PB5$DEFAULTVIEW(1.0)', 'A', 'CARDIO_V', 'T', 'Y15-64',\n",
       "        'PC', 'EA19', 2013, 3.7, nan],\n",
       "       ['ESTAT:HSW_PB5$DEFAULTVIEW(1.0)', 'A', 'CARDIO_V', 'T', 'Y15-64',\n",
       "        'PC', 'EE', 2007, 11.4, 'd'],\n",
       "       ['ESTAT:HSW_PB5$DEFAULTVIEW(1.0)', 'A', 'CARDIO_V', 'T', 'Y15-64',\n",
       "        'PC', 'EE', 2013, 7.7, 'u'],\n",
       "       ['ESTAT:HSW_PB5$DEFAULTVIEW(1.0)', 'A', 'CARDIO_V', 'T', 'Y15-64',\n",
       "        'PC', 'EL', 2007, 9.3, nan],\n",
       "       ['ESTAT:HSW_PB5$DEFAULTVIEW(1.0)', 'A', 'CARDIO_V', 'T', 'Y15-64',\n",
       "        'PC', 'EL', 2013, 9.3, nan],\n",
       "       ['ESTAT:HSW_PB5$DEFAULTVIEW(1.0)', 'A', 'CARDIO_V', 'T', 'Y15-64',\n",
       "        'PC', 'ES', 2007, 4.3, 'd'],\n",
       "       ['ESTAT:HSW_PB5$DEFAULTVIEW(1.0)', 'A', 'CARDIO_V', 'T', 'Y15-64',\n",
       "        'PC', 'ES', 2013, 4.4, nan],\n",
       "       ['ESTAT:HSW_PB5$DEFAULTVIEW(1.0)', 'A', 'CARDIO_V', 'T', 'Y15-64',\n",
       "        'PC', 'EU27_2020', 2007, 5.4, 'd'],\n",
       "       ['ESTAT:HSW_PB5$DEFAULTVIEW(1.0)', 'A', 'CARDIO_V', 'T', 'Y15-64',\n",
       "        'PC', 'EU27_2020', 2013, 4.6, nan],\n",
       "       ['ESTAT:HSW_PB5$DEFAULTVIEW(1.0)', 'A', 'CARDIO_V', 'T', 'Y15-64',\n",
       "        'PC', 'EU28', 2007, 5.3, 'd'],\n",
       "       ['ESTAT:HSW_PB5$DEFAULTVIEW(1.0)', 'A', 'CARDIO_V', 'T', 'Y15-64',\n",
       "        'PC', 'EU28', 2013, 4.4, nan],\n",
       "       ['ESTAT:HSW_PB5$DEFAULTVIEW(1.0)', 'A', 'CARDIO_V', 'T', 'Y15-64',\n",
       "        'PC', 'FI', 2007, 2.5, nan],\n",
       "       ['ESTAT:HSW_PB5$DEFAULTVIEW(1.0)', 'A', 'CARDIO_V', 'T', 'Y15-64',\n",
       "        'PC', 'FI', 2013, 2.4, nan],\n",
       "       ['ESTAT:HSW_PB5$DEFAULTVIEW(1.0)', 'A', 'CARDIO_V', 'T', 'Y15-64',\n",
       "        'PC', 'FR', 2007, 4.4, 'd'],\n",
       "       ['ESTAT:HSW_PB5$DEFAULTVIEW(1.0)', 'A', 'CARDIO_V', 'T', 'Y15-64',\n",
       "        'PC', 'FR', 2013, 3.9, nan],\n",
       "       ['ESTAT:HSW_PB5$DEFAULTVIEW(1.0)', 'A', 'CARDIO_V', 'T', 'Y15-64',\n",
       "        'PC', 'HR', 2007, 12.4, 'u'],\n",
       "       ['ESTAT:HSW_PB5$DEFAULTVIEW(1.0)', 'A', 'CARDIO_V', 'T', 'Y15-64',\n",
       "        'PC', 'HR', 2013, 10.0, 'u'],\n",
       "       ['ESTAT:HSW_PB5$DEFAULTVIEW(1.0)', 'A', 'CARDIO_V', 'T', 'Y15-64',\n",
       "        'PC', 'HU', 2007, 11.9, 'd'],\n",
       "       ['ESTAT:HSW_PB5$DEFAULTVIEW(1.0)', 'A', 'CARDIO_V', 'T', 'Y15-64',\n",
       "        'PC', 'HU', 2013, 12.3, nan],\n",
       "       ['ESTAT:HSW_PB5$DEFAULTVIEW(1.0)', 'A', 'CARDIO_V', 'T', 'Y15-64',\n",
       "        'PC', 'IE', 2007, 4.3, 'd'],\n",
       "       ['ESTAT:HSW_PB5$DEFAULTVIEW(1.0)', 'A', 'CARDIO_V', 'T', 'Y15-64',\n",
       "        'PC', 'IE', 2013, nan, 'u'],\n",
       "       ['ESTAT:HSW_PB5$DEFAULTVIEW(1.0)', 'A', 'CARDIO_V', 'T', 'Y15-64',\n",
       "        'PC', 'IS', 2007, nan, 'u'],\n",
       "       ['ESTAT:HSW_PB5$DEFAULTVIEW(1.0)', 'A', 'CARDIO_V', 'T', 'Y15-64',\n",
       "        'PC', 'IT', 2007, 4.6, nan],\n",
       "       ['ESTAT:HSW_PB5$DEFAULTVIEW(1.0)', 'A', 'CARDIO_V', 'T', 'Y15-64',\n",
       "        'PC', 'IT', 2013, 3.9, nan],\n",
       "       ['ESTAT:HSW_PB5$DEFAULTVIEW(1.0)', 'A', 'CARDIO_V', 'T', 'Y15-64',\n",
       "        'PC', 'LT', 2007, 10.5, 'u'],\n",
       "       ['ESTAT:HSW_PB5$DEFAULTVIEW(1.0)', 'A', 'CARDIO_V', 'T', 'Y15-64',\n",
       "        'PC', 'LT', 2013, nan, 'u'],\n",
       "       ['ESTAT:HSW_PB5$DEFAULTVIEW(1.0)', 'A', 'CARDIO_V', 'T', 'Y15-64',\n",
       "        'PC', 'LU', 2007, nan, 'du'],\n",
       "       ['ESTAT:HSW_PB5$DEFAULTVIEW(1.0)', 'A', 'CARDIO_V', 'T', 'Y15-64',\n",
       "        'PC', 'LU', 2013, 3.3, 'u'],\n",
       "       ['ESTAT:HSW_PB5$DEFAULTVIEW(1.0)', 'A', 'CARDIO_V', 'T', 'Y15-64',\n",
       "        'PC', 'LV', 2007, nan, 'u'],\n",
       "       ['ESTAT:HSW_PB5$DEFAULTVIEW(1.0)', 'A', 'CARDIO_V', 'T', 'Y15-64',\n",
       "        'PC', 'LV', 2013, 8.0, 'u'],\n",
       "       ['ESTAT:HSW_PB5$DEFAULTVIEW(1.0)', 'A', 'CARDIO_V', 'T', 'Y15-64',\n",
       "        'PC', 'MT', 2007, nan, 'c'],\n",
       "       ['ESTAT:HSW_PB5$DEFAULTVIEW(1.0)', 'A', 'CARDIO_V', 'T', 'Y15-64',\n",
       "        'PC', 'MT', 2013, nan, 'c'],\n",
       "       ['ESTAT:HSW_PB5$DEFAULTVIEW(1.0)', 'A', 'CARDIO_V', 'T', 'Y15-64',\n",
       "        'PC', 'NL', 2007, 4.6, 'd'],\n",
       "       ['ESTAT:HSW_PB5$DEFAULTVIEW(1.0)', 'A', 'CARDIO_V', 'T', 'Y15-64',\n",
       "        'PC', 'NO', 2007, 2.3, nan],\n",
       "       ['ESTAT:HSW_PB5$DEFAULTVIEW(1.0)', 'A', 'CARDIO_V', 'T', 'Y15-64',\n",
       "        'PC', 'NO', 2013, 1.1, 'u'],\n",
       "       ['ESTAT:HSW_PB5$DEFAULTVIEW(1.0)', 'A', 'CARDIO_V', 'T', 'Y15-64',\n",
       "        'PC', 'PL', 2007, 10.9, nan],\n",
       "       ['ESTAT:HSW_PB5$DEFAULTVIEW(1.0)', 'A', 'CARDIO_V', 'T', 'Y15-64',\n",
       "        'PC', 'PL', 2013, 7.7, nan],\n",
       "       ['ESTAT:HSW_PB5$DEFAULTVIEW(1.0)', 'A', 'CARDIO_V', 'T', 'Y15-64',\n",
       "        'PC', 'PT', 2007, nan, 'u'],\n",
       "       ['ESTAT:HSW_PB5$DEFAULTVIEW(1.0)', 'A', 'CARDIO_V', 'T', 'Y15-64',\n",
       "        'PC', 'PT', 2013, 4.4, nan],\n",
       "       ['ESTAT:HSW_PB5$DEFAULTVIEW(1.0)', 'A', 'CARDIO_V', 'T', 'Y15-64',\n",
       "        'PC', 'RO', 2007, 13.8, 'd'],\n",
       "       ['ESTAT:HSW_PB5$DEFAULTVIEW(1.0)', 'A', 'CARDIO_V', 'T', 'Y15-64',\n",
       "        'PC', 'RO', 2013, 21.9, nan],\n",
       "       ['ESTAT:HSW_PB5$DEFAULTVIEW(1.0)', 'A', 'CARDIO_V', 'T', 'Y15-64',\n",
       "        'PC', 'SE', 2007, 1.0, nan],\n",
       "       ['ESTAT:HSW_PB5$DEFAULTVIEW(1.0)', 'A', 'CARDIO_V', 'T', 'Y15-64',\n",
       "        'PC', 'SE', 2013, 1.3, nan],\n",
       "       ['ESTAT:HSW_PB5$DEFAULTVIEW(1.0)', 'A', 'CARDIO_V', 'T', 'Y15-64',\n",
       "        'PC', 'SI', 2007, 1.6, 'du'],\n",
       "       ['ESTAT:HSW_PB5$DEFAULTVIEW(1.0)', 'A', 'CARDIO_V', 'T', 'Y15-64',\n",
       "        'PC', 'SI', 2013, 5.9, 'u'],\n",
       "       ['ESTAT:HSW_PB5$DEFAULTVIEW(1.0)', 'A', 'CARDIO_V', 'T', 'Y15-64',\n",
       "        'PC', 'SK', 2007, 9.6, 'd'],\n",
       "       ['ESTAT:HSW_PB5$DEFAULTVIEW(1.0)', 'A', 'CARDIO_V', 'T', 'Y15-64',\n",
       "        'PC', 'SK', 2013, 8.4, nan],\n",
       "       ['ESTAT:HSW_PB5$DEFAULTVIEW(1.0)', 'A', 'CARDIO_V', 'T', 'Y15-64',\n",
       "        'PC', 'TR', 2013, 2.5, nan],\n",
       "       ['ESTAT:HSW_PB5$DEFAULTVIEW(1.0)', 'A', 'CARDIO_V', 'T', 'Y15-64',\n",
       "        'PC', 'UK', 2007, 2.1, nan],\n",
       "       ['ESTAT:HSW_PB5$DEFAULTVIEW(1.0)', 'A', 'CARDIO_V', 'T', 'Y15-64',\n",
       "        'PC', 'UK', 2013, 1.9, nan]], dtype=object)"
      ]
     },
     "metadata": {},
     "execution_count": 46
    }
   ],
   "source": [
    "df = pd.read_csv(doc, sep=\",\")\n",
    "df."
   ]
  },
  {
   "cell_type": "code",
   "execution_count": 2,
   "metadata": {},
   "outputs": [],
   "source": [
    "#csv, separado por \";\".- Tabla de INEbase Cultivos para la producción de energías renovables. Nacional. Encuesta sobre la Estructura de las Explotaciones Agrícolas"
   ]
  },
  {
   "cell_type": "code",
   "execution_count": null,
   "metadata": {},
   "outputs": [],
   "source": []
  },
  {
   "cell_type": "code",
   "execution_count": 3,
   "metadata": {},
   "outputs": [],
   "source": [
    "#Unión Europea.\n",
    "#Seis prioridades de la Comisión para 2019-2024: Europa pretende ser el primer continente climáticamente neutro convirtiéndose en una economía moderna y eficiente en el uso de los recursos.\n",
    "\n",
    "\n",
    "#https://data.europa.eu/es   portal oficila de datos europeos.\n",
    "\n",
    "#Superficie agrícola por pais. Unión Europea. API y csv"
   ]
  }
 ]
}