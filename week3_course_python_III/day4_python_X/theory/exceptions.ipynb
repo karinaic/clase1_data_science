{
 "metadata": {
  "language_info": {
   "codemirror_mode": {
    "name": "ipython",
    "version": 3
   },
   "file_extension": ".py",
   "mimetype": "text/x-python",
   "name": "python",
   "nbconvert_exporter": "python",
   "pygments_lexer": "ipython3",
   "version": "3.7.4"
  },
  "orig_nbformat": 2,
  "kernelspec": {
   "name": "python374jvsc74a57bd00600588c3b5f4418cbe7b5ebc6825b479f3bc010269d8b60d75058cdd010adfe",
   "display_name": "Python 3.7.4 64-bit"
  },
  "metadata": {
   "interpreter": {
    "hash": "0600588c3b5f4418cbe7b5ebc6825b479f3bc010269d8b60d75058cdd010adfe"
   }
  }
 },
 "nbformat": 4,
 "nbformat_minor": 2,
 "cells": [
  {
   "source": [
    "### Exceptions\n",
    "\n",
    "- Try/Except\n",
    "- Raise \n",
    "- Assert"
   ],
   "cell_type": "markdown",
   "metadata": {}
  },
  {
   "source": [
    "#### Try/Except"
   ],
   "cell_type": "markdown",
   "metadata": {}
  },
  {
   "cell_type": "code",
   "execution_count": 2,
   "metadata": {},
   "outputs": [
    {
     "output_type": "stream",
     "name": "stdout",
     "text": [
      "Oops!  That was no valid number.  Try again...\n",
      "2\n"
     ]
    }
   ],
   "source": [
    "while True:\n",
    "    try:\n",
    "        x = int(input(\"Please enter a number: \"))\n",
    "        print(x)\n",
    "        break\n",
    "    except Exception:\n",
    "        print(\"Oops!  That was no valid number.  Try again...\")"
   ]
  },
  {
   "cell_type": "code",
   "execution_count": 3,
   "metadata": {},
   "outputs": [
    {
     "output_type": "stream",
     "name": "stdout",
     "text": [
      "1\n2\nHa dado error:\nError: string index out of range\nc\n4\nHa dado error:\nError: 'int' object is not subscriptable\n5\nHa dado error:\nError: list index out of range\n['xy']\n"
     ]
    }
   ],
   "source": [
    "lista = [\"a1\", \"b2\", \"c\", \"d4\", 5, [\"xy\"]]\n",
    "\n",
    "for elem in lista:\n",
    "    try:\n",
    "        print(elem[1])\n",
    "    except Exception as error:\n",
    "        print(\"Ha dado error:\")\n",
    "        print(\"Error:\", error)\n",
    "        print(elem)"
   ]
  },
  {
   "cell_type": "code",
   "execution_count": 6,
   "metadata": {},
   "outputs": [
    {
     "output_type": "stream",
     "name": "stdout",
     "text": [
      "unsupported operand type(s) for +: 'int' and 'str'\nerror y fin\n"
     ]
    }
   ],
   "source": [
    "def suma (a,b,cont =0):\n",
    "    try:\n",
    "        print(a+b)\n",
    "    except Exception as error:\n",
    "        try:\n",
    "            print(error)\n",
    "            suma(a = int(a), b = int(b))\n",
    "\n",
    "        except:\n",
    "            print(\"error y fin\")\n",
    "\n",
    "suma(a= 2, b = \"a\")\n",
    "\n",
    "\n"
   ]
  },
  {
   "source": [
    "#### Raise"
   ],
   "cell_type": "markdown",
   "metadata": {}
  },
  {
   "cell_type": "code",
   "execution_count": 7,
   "metadata": {},
   "outputs": [],
   "source": [
    "# RAISE LO QUE HACE ES FORZAR UN ERROR, CUANDO QUEREMOS QUE NUESTRO CODIGO NO PASE UN FILTRO\n",
    "x = input(\"Introduce un número\")\n",
    "\n",
    "try: \n",
    "    x = int(x)\n",
    "except:\n",
    "    raise Exception(\"No es un número\")\n"
   ]
  },
  {
   "source": [
    "#### Assert\n",
    "\n",
    "assert condition, error if condition != True"
   ],
   "cell_type": "markdown",
   "metadata": {}
  },
  {
   "cell_type": "code",
   "execution_count": 16,
   "metadata": {},
   "outputs": [
    {
     "output_type": "error",
     "ename": "AssertionError",
     "evalue": "x debe ser Adios",
     "traceback": [
      "\u001b[1;31m---------------------------------------------------------------------------\u001b[0m",
      "\u001b[1;31mAssertionError\u001b[0m                            Traceback (most recent call last)",
      "\u001b[1;32m<ipython-input-16-e6dc188cc324>\u001b[0m in \u001b[0;36m<module>\u001b[1;34m\u001b[0m\n\u001b[0;32m      1\u001b[0m \u001b[0mx\u001b[0m \u001b[1;33m=\u001b[0m \u001b[1;34m\"Hola\"\u001b[0m\u001b[1;33m\u001b[0m\u001b[0m\n\u001b[0;32m      2\u001b[0m \u001b[1;33m\u001b[0m\u001b[0m\n\u001b[1;32m----> 3\u001b[1;33m \u001b[1;32massert\u001b[0m \u001b[0mx\u001b[0m \u001b[1;33m==\u001b[0m \u001b[1;34m\"Adios\"\u001b[0m\u001b[1;33m,\u001b[0m \u001b[1;34m\"x debe ser Adios\"\u001b[0m\u001b[1;33m\u001b[0m\u001b[0m\n\u001b[0m\u001b[0;32m      4\u001b[0m \u001b[1;33m\u001b[0m\u001b[0m\n\u001b[0;32m      5\u001b[0m \u001b[0mprint\u001b[0m\u001b[1;33m(\u001b[0m\u001b[1;34m\"debajo del assert\"\u001b[0m\u001b[1;33m)\u001b[0m\u001b[1;33m\u001b[0m\u001b[0m\n",
      "\u001b[1;31mAssertionError\u001b[0m: x debe ser Adios"
     ]
    }
   ],
   "source": [
    "x = \"Hola\"\n",
    "\n",
    "assert x == \"Adios\", \"x debe ser Adios\"\n",
    "\n",
    "print(\"debajo del assert\")"
   ]
  },
  {
   "cell_type": "code",
   "execution_count": 9,
   "metadata": {},
   "outputs": [
    {
     "output_type": "execute_result",
     "data": {
      "text/plain": [
       "True"
      ]
     },
     "metadata": {},
     "execution_count": 9
    }
   ],
   "source": [
    "things = [2,4, 2.5]\n",
    "\n",
    "all(isinstance(elem, (int, float)) for elem in things) ## TODOS TIENEN QUE SER TRUE PARA QUE SE CUMPLA, TRUE, TODOS LOS ELEMENTOS, SINO DEVOLVERA UN FALSE"
   ]
  },
  {
   "cell_type": "code",
   "execution_count": 12,
   "metadata": {},
   "outputs": [],
   "source": [
    "def checking_types(elements, types):\n",
    "    return all(isinstance(elem, types) for elem in elements)"
   ]
  },
  {
   "cell_type": "code",
   "execution_count": 13,
   "metadata": {},
   "outputs": [
    {
     "output_type": "error",
     "ename": "AssertionError",
     "evalue": "a y b deben ser parámetros numéricos",
     "traceback": [
      "\u001b[1;31m---------------------------------------------------------------------------\u001b[0m",
      "\u001b[1;31mAssertionError\u001b[0m                            Traceback (most recent call last)",
      "\u001b[1;32m<ipython-input-13-c66cc241843d>\u001b[0m in \u001b[0;36m<module>\u001b[1;34m\u001b[0m\n\u001b[0;32m      7\u001b[0m \u001b[0ma\u001b[0m \u001b[1;33m=\u001b[0m \u001b[1;34m\"2\"\u001b[0m\u001b[1;33m\u001b[0m\u001b[0m\n\u001b[0;32m      8\u001b[0m \u001b[0mb\u001b[0m \u001b[1;33m=\u001b[0m \u001b[1;33m-\u001b[0m\u001b[1;36m1\u001b[0m\u001b[1;33m\u001b[0m\u001b[0m\n\u001b[1;32m----> 9\u001b[1;33m \u001b[0mx\u001b[0m \u001b[1;33m=\u001b[0m \u001b[0msuma_positiva\u001b[0m\u001b[1;33m(\u001b[0m\u001b[0ma\u001b[0m\u001b[1;33m=\u001b[0m\u001b[0ma\u001b[0m\u001b[1;33m,\u001b[0m\u001b[0mb\u001b[0m\u001b[1;33m=\u001b[0m\u001b[0mb\u001b[0m\u001b[1;33m)\u001b[0m\u001b[1;33m\u001b[0m\u001b[0m\n\u001b[0m\u001b[0;32m     10\u001b[0m \u001b[0mx\u001b[0m\u001b[1;33m\u001b[0m\u001b[0m\n",
      "\u001b[1;32m<ipython-input-13-c66cc241843d>\u001b[0m in \u001b[0;36msuma_positiva\u001b[1;34m(a, b)\u001b[0m\n\u001b[0;32m      1\u001b[0m \u001b[1;32mdef\u001b[0m \u001b[0msuma_positiva\u001b[0m\u001b[1;33m(\u001b[0m\u001b[0ma\u001b[0m\u001b[1;33m,\u001b[0m \u001b[0mb\u001b[0m\u001b[1;33m)\u001b[0m\u001b[1;33m:\u001b[0m\u001b[1;33m\u001b[0m\u001b[0m\n\u001b[1;32m----> 2\u001b[1;33m     \u001b[1;32massert\u001b[0m \u001b[0mchecking_types\u001b[0m\u001b[1;33m(\u001b[0m\u001b[0melements\u001b[0m\u001b[1;33m=\u001b[0m\u001b[1;33m[\u001b[0m\u001b[0ma\u001b[0m\u001b[1;33m,\u001b[0m\u001b[0mb\u001b[0m\u001b[1;33m]\u001b[0m\u001b[1;33m,\u001b[0m \u001b[0mtypes\u001b[0m\u001b[1;33m=\u001b[0m\u001b[1;33m(\u001b[0m\u001b[0mint\u001b[0m\u001b[1;33m,\u001b[0m \u001b[0mfloat\u001b[0m\u001b[1;33m)\u001b[0m\u001b[1;33m)\u001b[0m\u001b[1;33m,\u001b[0m \u001b[1;34m\"a y b deben ser parámetros numéricos\"\u001b[0m\u001b[1;33m\u001b[0m\u001b[0m\n\u001b[0m\u001b[0;32m      3\u001b[0m     \u001b[1;32massert\u001b[0m \u001b[0ma\u001b[0m \u001b[1;33m>=\u001b[0m \u001b[1;36m0\u001b[0m \u001b[1;32mand\u001b[0m \u001b[0mb\u001b[0m \u001b[1;33m>=\u001b[0m\u001b[1;36m0\u001b[0m\u001b[1;33m,\u001b[0m \u001b[1;34m\"a y b deben ser superiores o iguales a 0\"\u001b[0m\u001b[1;33m\u001b[0m\u001b[0m\n\u001b[0;32m      4\u001b[0m     \u001b[0mprint\u001b[0m\u001b[1;33m(\u001b[0m\u001b[0ma\u001b[0m \u001b[1;33m+\u001b[0m \u001b[0mb\u001b[0m\u001b[1;33m)\u001b[0m\u001b[1;33m\u001b[0m\u001b[0m\n\u001b[0;32m      5\u001b[0m     \u001b[1;32mreturn\u001b[0m \u001b[0ma\u001b[0m \u001b[1;33m+\u001b[0m \u001b[0mb\u001b[0m\u001b[1;33m\u001b[0m\u001b[0m\n",
      "\u001b[1;31mAssertionError\u001b[0m: a y b deben ser parámetros numéricos"
     ]
    }
   ],
   "source": [
    "## VAMOS A COMPROBAR CON EL ASERT SI LOS TIPOS, SON DE ENTERO O FLOAT, LUEGO SI SON POSITIVOS\n",
    "def suma_positiva(a, b):\n",
    "    assert checking_types(elements=[a,b], types=(int, float)), \"a y b deben ser parámetros numéricos\"\n",
    "    assert a >= 0 and b >=0, \"a y b deben ser superiores o iguales a 0\"\n",
    "    print(a + b)\n",
    "    return a + b\n",
    "\n",
    "a = \"2\"\n",
    "b = -1\n",
    "x = suma_positiva(a=a,b=b)\n",
    "x"
   ]
  },
  {
   "cell_type": "code",
   "execution_count": null,
   "metadata": {},
   "outputs": [],
   "source": []
  }
 ]
}