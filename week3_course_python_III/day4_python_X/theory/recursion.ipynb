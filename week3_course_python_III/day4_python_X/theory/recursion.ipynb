{
 "metadata": {
  "language_info": {
   "codemirror_mode": {
    "name": "ipython",
    "version": 3
   },
   "file_extension": ".py",
   "mimetype": "text/x-python",
   "name": "python",
   "nbconvert_exporter": "python",
   "pygments_lexer": "ipython3",
   "version": "3.7.4"
  },
  "orig_nbformat": 2,
  "kernelspec": {
   "name": "python374jvsc74a57bd00600588c3b5f4418cbe7b5ebc6825b479f3bc010269d8b60d75058cdd010adfe",
   "display_name": "Python 3.7.4 64-bit"
  },
  "metadata": {
   "interpreter": {
    "hash": "0600588c3b5f4418cbe7b5ebc6825b479f3bc010269d8b60d75058cdd010adfe"
   }
  }
 },
 "nbformat": 4,
 "nbformat_minor": 2,
 "cells": [
  {
   "cell_type": "code",
   "execution_count": 2,
   "metadata": {},
   "outputs": [
    {
     "output_type": "stream",
     "name": "stdout",
     "text": [
      "1\n1\n1\n3\n"
     ]
    }
   ],
   "source": [
    "def f1( cont = 0):\n",
    "    if cont == 3:\n",
    "        return cont\n",
    "    print(1)\n",
    "    return f1( cont = cont +1)\n",
    "\n",
    "x= f1()\n",
    "print(x)"
   ]
  },
  {
   "cell_type": "code",
   "execution_count": 6,
   "metadata": {},
   "outputs": [
    {
     "output_type": "execute_result",
     "data": {
      "text/plain": [
       "120"
      ]
     },
     "metadata": {},
     "execution_count": 6
    }
   ],
   "source": [
    "#factorial de 5, utilizando recursividad\n",
    "5*4*3*2*1\n",
    "\n",
    "def factorial(n, cont = 1):\n",
    "    if n == 1:\n",
    "        return cont\n",
    "    cont = cont * (n)\n",
    "    return factorial(n=n-1, cont = cont)\n",
    "\n",
    "factorial(n= 5)\n"
   ]
  },
  {
   "cell_type": "code",
   "execution_count": 4,
   "metadata": {},
   "outputs": [
    {
     "output_type": "execute_result",
     "data": {
      "text/plain": [
       "120"
      ]
     },
     "metadata": {},
     "execution_count": 4
    }
   ],
   "source": [
    "def factorial(n):\n",
    "    if n == 1:  \n",
    "        return 1  \n",
    "    else:\n",
    "        return n * factorial(n - 1)\n",
    "\n",
    "factorial(5)"
   ]
  }
 ]
}