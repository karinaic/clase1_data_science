{
 "metadata": {
  "language_info": {
   "codemirror_mode": {
    "name": "ipython",
    "version": 3
   },
   "file_extension": ".py",
   "mimetype": "text/x-python",
   "name": "python",
   "nbconvert_exporter": "python",
   "pygments_lexer": "ipython3",
   "version": "3.7.4"
  },
  "orig_nbformat": 2,
  "kernelspec": {
   "name": "python3",
   "display_name": "Python 3.7.4 64-bit"
  },
  "metadata": {
   "interpreter": {
    "hash": "5c4d2f1fdcd3716c7a5eea90ad07be30193490dd4e63617705244f5fd89ea793"
   }
  },
  "interpreter": {
   "hash": "0600588c3b5f4418cbe7b5ebc6825b479f3bc010269d8b60d75058cdd010adfe"
  }
 },
 "nbformat": 4,
 "nbformat_minor": 2,
 "cells": [
  {
   "source": [
    "A partir de los datos de iris:\n",
    "\n",
    "Ejercicio 1:\n",
    "\n",
    "- Carga los datos originales\n",
    "- Utiliza PCA para reducir la dimensionalidad de los datos. No reemplaces X con el resultado, crea una nueva X_pca. Utiliza PCA(2) y otra con PCA(3)\n",
    "- Utiliza Kmeans para agrupar y predecir las clases de los nuevos datos.\n",
    "- Compara los resultados para PCA(2) y PCA(3) con las clases originales (y_real).\n",
    "- ¿Es mejor PCA(2) o PCA(3)?\n",
    "\n",
    "Ejercicio 2: \n",
    "\n",
    "- Repite el proceso con T-SNE y DBSCAN. ¿Cuál da mejores resultados?\n"
   ],
   "cell_type": "markdown",
   "metadata": {}
  },
  {
   "cell_type": "code",
   "execution_count": 27,
   "metadata": {},
   "outputs": [],
   "source": [
    "from sklearn.decomposition import PCA\n",
    "from sklearn.cluster import KMeans\n",
    "from matplotlib import pyplot\n",
    "from mpl_toolkits.mplot3d import Axes3D\n",
    "import matplotlib.pyplot as plt\n",
    "import pandas as pd\n",
    "\n",
    "import random\n",
    "import numpy as np \n",
    "\n",
    "import warnings\n",
    "warnings.filterwarnings(\"ignore\")"
   ]
  },
  {
   "cell_type": "code",
   "execution_count": 6,
   "metadata": {},
   "outputs": [],
   "source": [
    "from sklearn.model_selection import train_test_split\n",
    "from sklearn import datasets\n",
    "\n",
    "iris = datasets.load_iris()\n",
    "X = iris.data\n",
    "y = iris.target\n",
    "X_train, X_test, y_train, y_test = train_test_split(X,\n",
    "                                                    y,\n",
    "                                                    test_size=0.2,\n",
    "                                                    random_state=42)"
   ]
  },
  {
   "source": [
    "* Utiliza PCA para reducir la dimensionalidad de los datos. No reemplaces X con el resultado, crea una nueva X_pca."
   ],
   "cell_type": "markdown",
   "metadata": {}
  },
  {
   "cell_type": "code",
   "execution_count": 9,
   "metadata": {},
   "outputs": [],
   "source": [
    "# creamos una funcion para reducir la dimensionalidad de mis datos\n",
    "\n",
    "def pca_func(n_components, X):\n",
    "    pca = PCA(n_components , random_state= 42)\n",
    "    pca.fit(X)\n",
    "    X_pca = pca.transform(X)\n",
    "\n",
    "    #2D\n",
    "    if n_components<3:\n",
    "        plt.scatter(X_pca[:, 0], X_pca[:, 1], c= y)\n",
    "\n",
    "    else: #3D\n",
    "        fig = pyplot.figure()\n",
    "        ax = Axes3D(fig)\n",
    "        ax = fig.add_subplot(111, projection='3d')\n",
    "        ax.scatter(X_pca[:, 0], X_pca[:, 1], X_pca[:, 2], c= y)\n",
    "        pyplot.show()\n",
    "\n",
    "    print(pca.explained_variance_ratio_)\n",
    "\n",
    "    return X_pca\n",
    "\n"
   ]
  },
  {
   "source": [
    "* Utiliza PCA(2) y otra con PCA(3)"
   ],
   "cell_type": "markdown",
   "metadata": {}
  },
  {
   "cell_type": "code",
   "execution_count": 13,
   "metadata": {},
   "outputs": [
    {
     "output_type": "stream",
     "name": "stdout",
     "text": [
      "[0.92461872 0.05306648]\n"
     ]
    },
    {
     "output_type": "display_data",
     "data": {
      "text/plain": "<Figure size 432x288 with 1 Axes>",
      "image/svg+xml": "<?xml version=\"1.0\" encoding=\"utf-8\" standalone=\"no\"?>\r\n<!DOCTYPE svg PUBLIC \"-//W3C//DTD SVG 1.1//EN\"\r\n  \"http://www.w3.org/Graphics/SVG/1.1/DTD/svg11.dtd\">\r\n<svg height=\"251.85524pt\" version=\"1.1\" viewBox=\"0 0 380.482812 251.85524\" width=\"380.482812pt\" xmlns=\"http://www.w3.org/2000/svg\" xmlns:xlink=\"http://www.w3.org/1999/xlink\">\r\n <metadata>\r\n  <rdf:RDF xmlns:cc=\"http://creativecommons.org/ns#\" xmlns:dc=\"http://purl.org/dc/elements/1.1/\" xmlns:rdf=\"http://www.w3.org/1999/02/22-rdf-syntax-ns#\">\r\n   <cc:Work>\r\n    <dc:type rdf:resource=\"http://purl.org/dc/dcmitype/StillImage\"/>\r\n    <dc:date>2021-06-25T00:27:41.864524</dc:date>\r\n    <dc:format>image/svg+xml</dc:format>\r\n    <dc:creator>\r\n     <cc:Agent>\r\n      <dc:title>Matplotlib v3.4.1, https://matplotlib.org/</dc:title>\r\n     </cc:Agent>\r\n    </dc:creator>\r\n   </cc:Work>\r\n  </rdf:RDF>\r\n </metadata>\r\n <defs>\r\n  <style type=\"text/css\">*{stroke-linecap:butt;stroke-linejoin:round;}</style>\r\n </defs>\r\n <g id=\"figure_1\">\r\n  <g id=\"patch_1\">\r\n   <path d=\"M -0 251.85524 \r\nL 380.482812 251.85524 \r\nL 380.482812 0 \r\nL -0 0 \r\nz\r\n\" style=\"fill:none;\"/>\r\n  </g>\r\n  <g id=\"axes_1\">\r\n   <g id=\"patch_2\">\r\n    <path d=\"M 38.482813 227.977115 \r\nL 373.282813 227.977115 \r\nL 373.282813 10.537115 \r\nL 38.482813 10.537115 \r\nz\r\n\" style=\"fill:#ffffff;\"/>\r\n   </g>\r\n   <g id=\"PathCollection_1\">\r\n    <defs>\r\n     <path d=\"M 0 3 \r\nC 0.795609 3 1.55874 2.683901 2.12132 2.12132 \r\nC 2.683901 1.55874 3 0.795609 3 -0 \r\nC 3 -0.795609 2.683901 -1.55874 2.12132 -2.12132 \r\nC 1.55874 -2.683901 0.795609 -3 0 -3 \r\nC -0.795609 -3 -1.55874 -2.683901 -2.12132 -2.12132 \r\nC -2.683901 -1.55874 -3 -0.795609 -3 0 \r\nC -3 0.795609 -2.683901 1.55874 -2.12132 2.12132 \r\nC -1.55874 2.683901 -0.795609 3 0 3 \r\nz\r\n\" id=\"C0_0_c70512d01f\"/>\r\n    </defs>\r\n    <g clip-path=\"url(#pcb15aa2271)\">\r\n     <use style=\"fill:#440154;stroke:#440154;\" x=\"77.101462\" xlink:href=\"#C0_0_c70512d01f\" y=\"99.393507\"/>\r\n    </g>\r\n    <g clip-path=\"url(#pcb15aa2271)\">\r\n     <use style=\"fill:#440154;stroke:#440154;\" x=\"75.799964\" xlink:href=\"#C0_0_c70512d01f\" y=\"136.559936\"/>\r\n    </g>\r\n    <g clip-path=\"url(#pcb15aa2271)\">\r\n     <use style=\"fill:#440154;stroke:#440154;\" x=\"68.218509\" xlink:href=\"#C0_0_c70512d01f\" y=\"134.160149\"/>\r\n    </g>\r\n    <g clip-path=\"url(#pcb15aa2271)\">\r\n     <use style=\"fill:#440154;stroke:#440154;\" x=\"74.44708\" xlink:href=\"#C0_0_c70512d01f\" y=\"147.139206\"/>\r\n    </g>\r\n    <g clip-path=\"url(#pcb15aa2271)\">\r\n     <use style=\"fill:#440154;stroke:#440154;\" x=\"75.167998\" xlink:href=\"#C0_0_c70512d01f\" y=\"98.842652\"/>\r\n    </g>\r\n    <g clip-path=\"url(#pcb15aa2271)\">\r\n     <use style=\"fill:#440154;stroke:#440154;\" x=\"94.587094\" xlink:href=\"#C0_0_c70512d01f\" y=\"67.802453\"/>\r\n    </g>\r\n    <g clip-path=\"url(#pcb15aa2271)\">\r\n     <use style=\"fill:#440154;stroke:#440154;\" x=\"71.186626\" xlink:href=\"#C0_0_c70512d01f\" y=\"130.005639\"/>\r\n    </g>\r\n    <g clip-path=\"url(#pcb15aa2271)\">\r\n     <use style=\"fill:#440154;stroke:#440154;\" x=\"79.615506\" xlink:href=\"#C0_0_c70512d01f\" y=\"111.074485\"/>\r\n    </g>\r\n    <g clip-path=\"url(#pcb15aa2271)\">\r\n     <use style=\"fill:#440154;stroke:#440154;\" x=\"68.331585\" xlink:href=\"#C0_0_c70512d01f\" y=\"166.606926\"/>\r\n    </g>\r\n    <g clip-path=\"url(#pcb15aa2271)\">\r\n     <use style=\"fill:#440154;stroke:#440154;\" x=\"77.594458\" xlink:href=\"#C0_0_c70512d01f\" y=\"131.825995\"/>\r\n    </g>\r\n    <g clip-path=\"url(#pcb15aa2271)\">\r\n     <use style=\"fill:#440154;stroke:#440154;\" x=\"84.783932\" xlink:href=\"#C0_0_c70512d01f\" y=\"75.009764\"/>\r\n    </g>\r\n    <g clip-path=\"url(#pcb15aa2271)\">\r\n     <use style=\"fill:#440154;stroke:#440154;\" x=\"80.196086\" xlink:href=\"#C0_0_c70512d01f\" y=\"122.204608\"/>\r\n    </g>\r\n    <g clip-path=\"url(#pcb15aa2271)\">\r\n     <use style=\"fill:#440154;stroke:#440154;\" x=\"72.679447\" xlink:href=\"#C0_0_c70512d01f\" y=\"140.910816\"/>\r\n    </g>\r\n    <g clip-path=\"url(#pcb15aa2271)\">\r\n     <use style=\"fill:#440154;stroke:#440154;\" x=\"53.700994\" xlink:href=\"#C0_0_c70512d01f\" y=\"161.596692\"/>\r\n    </g>\r\n    <g clip-path=\"url(#pcb15aa2271)\">\r\n     <use style=\"fill:#440154;stroke:#440154;\" x=\"78.808774\" xlink:href=\"#C0_0_c70512d01f\" y=\"35.050807\"/>\r\n    </g>\r\n    <g clip-path=\"url(#pcb15aa2271)\">\r\n     <use style=\"fill:#440154;stroke:#440154;\" x=\"90.02651\" xlink:href=\"#C0_0_c70512d01f\" y=\"23.123843\"/>\r\n    </g>\r\n    <g clip-path=\"url(#pcb15aa2271)\">\r\n     <use style=\"fill:#440154;stroke:#440154;\" x=\"79.728983\" xlink:href=\"#C0_0_c70512d01f\" y=\"62.610138\"/>\r\n    </g>\r\n    <g clip-path=\"url(#pcb15aa2271)\">\r\n     <use style=\"fill:#440154;stroke:#440154;\" x=\"78.655006\" xlink:href=\"#C0_0_c70512d01f\" y=\"99.958649\"/>\r\n    </g>\r\n    <g clip-path=\"url(#pcb15aa2271)\">\r\n     <use style=\"fill:#440154;stroke:#440154;\" x=\"98.100962\" xlink:href=\"#C0_0_c70512d01f\" y=\"57.95612\"/>\r\n    </g>\r\n    <g clip-path=\"url(#pcb15aa2271)\">\r\n     <use style=\"fill:#440154;stroke:#440154;\" x=\"81.270063\" xlink:href=\"#C0_0_c70512d01f\" y=\"84.856097\"/>\r\n    </g>\r\n    <g clip-path=\"url(#pcb15aa2271)\">\r\n     <use style=\"fill:#440154;stroke:#440154;\" x=\"93.312457\" xlink:href=\"#C0_0_c70512d01f\" y=\"94.006552\"/>\r\n    </g>\r\n    <g clip-path=\"url(#pcb15aa2271)\">\r\n     <use style=\"fill:#440154;stroke:#440154;\" x=\"83.190097\" xlink:href=\"#C0_0_c70512d01f\" y=\"90.888117\"/>\r\n    </g>\r\n    <g clip-path=\"url(#pcb15aa2271)\">\r\n     <use style=\"fill:#440154;stroke:#440154;\" x=\"54.041992\" xlink:href=\"#C0_0_c70512d01f\" y=\"113.314427\"/>\r\n    </g>\r\n    <g clip-path=\"url(#pcb15aa2271)\">\r\n     <use style=\"fill:#440154;stroke:#440154;\" x=\"93.638656\" xlink:href=\"#C0_0_c70512d01f\" y=\"115.916925\"/>\r\n    </g>\r\n    <g clip-path=\"url(#pcb15aa2271)\">\r\n     <use style=\"fill:#440154;stroke:#440154;\" x=\"91.339669\" xlink:href=\"#C0_0_c70512d01f\" y=\"126.098845\"/>\r\n    </g>\r\n    <g clip-path=\"url(#pcb15aa2271)\">\r\n     <use style=\"fill:#440154;stroke:#440154;\" x=\"84.795994\" xlink:href=\"#C0_0_c70512d01f\" y=\"134.240071\"/>\r\n    </g>\r\n    <g clip-path=\"url(#pcb15aa2271)\">\r\n     <use style=\"fill:#440154;stroke:#440154;\" x=\"86.437121\" xlink:href=\"#C0_0_c70512d01f\" y=\"113.502849\"/>\r\n    </g>\r\n    <g clip-path=\"url(#pcb15aa2271)\">\r\n     <use style=\"fill:#440154;stroke:#440154;\" x=\"82.382964\" xlink:href=\"#C0_0_c70512d01f\" y=\"95.775563\"/>\r\n    </g>\r\n    <g clip-path=\"url(#pcb15aa2271)\">\r\n     <use style=\"fill:#440154;stroke:#440154;\" x=\"79.034926\" xlink:href=\"#C0_0_c70512d01f\" y=\"99.944361\"/>\r\n    </g>\r\n    <g clip-path=\"url(#pcb15aa2271)\">\r\n     <use style=\"fill:#440154;stroke:#440154;\" x=\"79.362092\" xlink:href=\"#C0_0_c70512d01f\" y=\"138.054385\"/>\r\n    </g>\r\n    <g clip-path=\"url(#pcb15aa2271)\">\r\n     <use style=\"fill:#440154;stroke:#440154;\" x=\"81.295556\" xlink:href=\"#C0_0_c70512d01f\" y=\"138.605239\"/>\r\n    </g>\r\n    <g clip-path=\"url(#pcb15aa2271)\">\r\n     <use style=\"fill:#440154;stroke:#440154;\" x=\"88.990489\" xlink:href=\"#C0_0_c70512d01f\" y=\"92.54068\"/>\r\n    </g>\r\n    <g clip-path=\"url(#pcb15aa2271)\">\r\n     <use style=\"fill:#440154;stroke:#440154;\" x=\"78.63048\" xlink:href=\"#C0_0_c70512d01f\" y=\"62.409158\"/>\r\n    </g>\r\n    <g clip-path=\"url(#pcb15aa2271)\">\r\n     <use style=\"fill:#440154;stroke:#440154;\" x=\"80.803928\" xlink:href=\"#C0_0_c70512d01f\" y=\"41.461278\"/>\r\n    </g>\r\n    <g clip-path=\"url(#pcb15aa2271)\">\r\n     <use style=\"fill:#440154;stroke:#440154;\" x=\"79.148002\" xlink:href=\"#C0_0_c70512d01f\" y=\"132.391138\"/>\r\n    </g>\r\n    <g clip-path=\"url(#pcb15aa2271)\">\r\n     <use style=\"fill:#440154;stroke:#440154;\" x=\"69.204903\" xlink:href=\"#C0_0_c70512d01f\" y=\"118.114003\"/>\r\n    </g>\r\n    <g clip-path=\"url(#pcb15aa2271)\">\r\n     <use style=\"fill:#440154;stroke:#440154;\" x=\"79.65483\" xlink:href=\"#C0_0_c70512d01f\" y=\"78.431338\"/>\r\n    </g>\r\n    <g clip-path=\"url(#pcb15aa2271)\">\r\n     <use style=\"fill:#440154;stroke:#440154;\" x=\"72.047481\" xlink:href=\"#C0_0_c70512d01f\" y=\"103.193532\"/>\r\n    </g>\r\n    <g clip-path=\"url(#pcb15aa2271)\">\r\n     <use style=\"fill:#440154;stroke:#440154;\" x=\"64.250567\" xlink:href=\"#C0_0_c70512d01f\" y=\"159.84197\"/>\r\n    </g>\r\n    <g clip-path=\"url(#pcb15aa2271)\">\r\n     <use style=\"fill:#440154;stroke:#440154;\" x=\"81.18248\" xlink:href=\"#C0_0_c70512d01f\" y=\"106.158462\"/>\r\n    </g>\r\n    <g clip-path=\"url(#pcb15aa2271)\">\r\n     <use style=\"fill:#440154;stroke:#440154;\" x=\"73.373504\" xlink:href=\"#C0_0_c70512d01f\" y=\"103.576593\"/>\r\n    </g>\r\n    <g clip-path=\"url(#pcb15aa2271)\">\r\n     <use style=\"fill:#440154;stroke:#440154;\" x=\"69.936515\" xlink:href=\"#C0_0_c70512d01f\" y=\"193.759229\"/>\r\n    </g>\r\n    <g clip-path=\"url(#pcb15aa2271)\">\r\n     <use style=\"fill:#440154;stroke:#440154;\" x=\"63.517587\" xlink:href=\"#C0_0_c70512d01f\" y=\"148.908216\"/>\r\n    </g>\r\n    <g clip-path=\"url(#pcb15aa2271)\">\r\n     <use style=\"fill:#440154;stroke:#440154;\" x=\"89.177718\" xlink:href=\"#C0_0_c70512d01f\" y=\"109.166258\"/>\r\n    </g>\r\n    <g clip-path=\"url(#pcb15aa2271)\">\r\n     <use style=\"fill:#440154;stroke:#440154;\" x=\"97.681718\" xlink:href=\"#C0_0_c70512d01f\" y=\"90.613555\"/>\r\n    </g>\r\n    <g clip-path=\"url(#pcb15aa2271)\">\r\n     <use style=\"fill:#440154;stroke:#440154;\" x=\"75.786534\" xlink:href=\"#C0_0_c70512d01f\" y=\"142.041102\"/>\r\n    </g>\r\n    <g clip-path=\"url(#pcb15aa2271)\">\r\n     <use style=\"fill:#440154;stroke:#440154;\" x=\"83.431047\" xlink:href=\"#C0_0_c70512d01f\" y=\"85.589033\"/>\r\n    </g>\r\n    <g clip-path=\"url(#pcb15aa2271)\">\r\n     <use style=\"fill:#440154;stroke:#440154;\" x=\"70.366063\" xlink:href=\"#C0_0_c70512d01f\" y=\"140.37425\"/>\r\n    </g>\r\n    <g clip-path=\"url(#pcb15aa2271)\">\r\n     <use style=\"fill:#440154;stroke:#440154;\" x=\"83.216958\" xlink:href=\"#C0_0_c70512d01f\" y=\"79.925786\"/>\r\n    </g>\r\n    <g clip-path=\"url(#pcb15aa2271)\">\r\n     <use style=\"fill:#440154;stroke:#440154;\" x=\"76.267468\" xlink:href=\"#C0_0_c70512d01f\" y=\"115.243283\"/>\r\n    </g>\r\n    <g clip-path=\"url(#pcb15aa2271)\">\r\n     <use style=\"fill:#21918c;stroke:#21918c;\" x=\"249.195372\" xlink:href=\"#C0_0_c70512d01f\" y=\"72.008021\"/>\r\n    </g>\r\n    <g clip-path=\"url(#pcb15aa2271)\">\r\n     <use style=\"fill:#21918c;stroke:#21918c;\" x=\"233.918017\" xlink:href=\"#C0_0_c70512d01f\" y=\"99.473141\"/>\r\n    </g>\r\n    <g clip-path=\"url(#pcb15aa2271)\">\r\n     <use style=\"fill:#21918c;stroke:#21918c;\" x=\"256.977487\" xlink:href=\"#C0_0_c70512d01f\" y=\"85.552221\"/>\r\n    </g>\r\n    <g clip-path=\"url(#pcb15aa2271)\">\r\n     <use style=\"fill:#21918c;stroke:#21918c;\" x=\"201.433937\" xlink:href=\"#C0_0_c70512d01f\" y=\"185.298557\"/>\r\n    </g>\r\n    <g clip-path=\"url(#pcb15aa2271)\">\r\n     <use style=\"fill:#21918c;stroke:#21918c;\" x=\"240.665479\" xlink:href=\"#C0_0_c70512d01f\" y=\"117.722705\"/>\r\n    </g>\r\n    <g clip-path=\"url(#pcb15aa2271)\">\r\n     <use style=\"fill:#21918c;stroke:#21918c;\" x=\"221.308073\" xlink:href=\"#C0_0_c70512d01f\" y=\"154.622521\"/>\r\n    </g>\r\n    <g clip-path=\"url(#pcb15aa2271)\">\r\n     <use style=\"fill:#21918c;stroke:#21918c;\" x=\"240.967152\" xlink:href=\"#C0_0_c70512d01f\" y=\"102.083587\"/>\r\n    </g>\r\n    <g clip-path=\"url(#pcb15aa2271)\">\r\n     <use style=\"fill:#21918c;stroke:#21918c;\" x=\"161.003279\" xlink:href=\"#C0_0_c70512d01f\" y=\"198.545836\"/>\r\n    </g>\r\n    <g clip-path=\"url(#pcb15aa2271)\">\r\n     <use style=\"fill:#21918c;stroke:#21918c;\" x=\"238.758876\" xlink:href=\"#C0_0_c70512d01f\" y=\"106.20952\"/>\r\n    </g>\r\n    <g clip-path=\"url(#pcb15aa2271)\">\r\n     <use style=\"fill:#21918c;stroke:#21918c;\" x=\"193.106071\" xlink:href=\"#C0_0_c70512d01f\" y=\"177.446181\"/>\r\n    </g>\r\n    <g clip-path=\"url(#pcb15aa2271)\">\r\n     <use style=\"fill:#21918c;stroke:#21918c;\" x=\"171.465268\" xlink:href=\"#C0_0_c70512d01f\" y=\"218.093479\"/>\r\n    </g>\r\n    <g clip-path=\"url(#pcb15aa2271)\">\r\n     <use style=\"fill:#21918c;stroke:#21918c;\" x=\"215.672545\" xlink:href=\"#C0_0_c70512d01f\" y=\"131.092772\"/>\r\n    </g>\r\n    <g clip-path=\"url(#pcb15aa2271)\">\r\n     <use style=\"fill:#21918c;stroke:#21918c;\" x=\"204.974665\" xlink:href=\"#C0_0_c70512d01f\" y=\"164.489894\"/>\r\n    </g>\r\n    <g clip-path=\"url(#pcb15aa2271)\">\r\n     <use style=\"fill:#21918c;stroke:#21918c;\" x=\"236.192077\" xlink:href=\"#C0_0_c70512d01f\" y=\"132.652854\"/>\r\n    </g>\r\n    <g clip-path=\"url(#pcb15aa2271)\">\r\n     <use style=\"fill:#21918c;stroke:#21918c;\" x=\"185.94386\" xlink:href=\"#C0_0_c70512d01f\" y=\"142.388958\"/>\r\n    </g>\r\n    <g clip-path=\"url(#pcb15aa2271)\">\r\n     <use style=\"fill:#21918c;stroke:#21918c;\" x=\"233.717358\" xlink:href=\"#C0_0_c70512d01f\" y=\"88.328729\"/>\r\n    </g>\r\n    <g clip-path=\"url(#pcb15aa2271)\">\r\n     <use style=\"fill:#21918c;stroke:#21918c;\" x=\"222.115206\" xlink:href=\"#C0_0_c70512d01f\" y=\"149.735075\"/>\r\n    </g>\r\n    <g clip-path=\"url(#pcb15aa2271)\">\r\n     <use style=\"fill:#21918c;stroke:#21918c;\" x=\"203.722795\" xlink:href=\"#C0_0_c70512d01f\" y=\"148.285632\"/>\r\n    </g>\r\n    <g clip-path=\"url(#pcb15aa2271)\">\r\n     <use style=\"fill:#21918c;stroke:#21918c;\" x=\"234.448969\" xlink:href=\"#C0_0_c70512d01f\" y=\"163.973956\"/>\r\n    </g>\r\n    <g clip-path=\"url(#pcb15aa2271)\">\r\n     <use style=\"fill:#21918c;stroke:#21918c;\" x=\"195.446316\" xlink:href=\"#C0_0_c70512d01f\" y=\"167.020417\"/>\r\n    </g>\r\n    <g clip-path=\"url(#pcb15aa2271)\">\r\n     <use style=\"fill:#21918c;stroke:#21918c;\" x=\"241.887361\" xlink:href=\"#C0_0_c70512d01f\" y=\"129.642918\"/>\r\n    </g>\r\n    <g clip-path=\"url(#pcb15aa2271)\">\r\n     <use style=\"fill:#21918c;stroke:#21918c;\" x=\"209.00333\" xlink:href=\"#C0_0_c70512d01f\" y=\"128.468038\"/>\r\n    </g>\r\n    <g clip-path=\"url(#pcb15aa2271)\">\r\n     <use style=\"fill:#21918c;stroke:#21918c;\" x=\"249.774584\" xlink:href=\"#C0_0_c70512d01f\" y=\"147.849617\"/>\r\n    </g>\r\n    <g clip-path=\"url(#pcb15aa2271)\">\r\n     <use style=\"fill:#21918c;stroke:#21918c;\" x=\"233.45148\" xlink:href=\"#C0_0_c70512d01f\" y=\"136.989446\"/>\r\n    </g>\r\n    <g clip-path=\"url(#pcb15aa2271)\">\r\n     <use style=\"fill:#21918c;stroke:#21918c;\" x=\"224.481345\" xlink:href=\"#C0_0_c70512d01f\" y=\"112.147329\"/>\r\n    </g>\r\n    <g clip-path=\"url(#pcb15aa2271)\">\r\n     <use style=\"fill:#21918c;stroke:#21918c;\" x=\"232.516874\" xlink:href=\"#C0_0_c70512d01f\" y=\"98.711629\"/>\r\n    </g>\r\n    <g clip-path=\"url(#pcb15aa2271)\">\r\n     <use style=\"fill:#21918c;stroke:#21918c;\" x=\"251.241912\" xlink:href=\"#C0_0_c70512d01f\" y=\"105.005653\"/>\r\n    </g>\r\n    <g clip-path=\"url(#pcb15aa2271)\">\r\n     <use style=\"fill:#21918c;stroke:#21918c;\" x=\"261.031644\" xlink:href=\"#C0_0_c70512d01f\" y=\"103.279507\"/>\r\n    </g>\r\n    <g clip-path=\"url(#pcb15aa2271)\">\r\n     <use style=\"fill:#21918c;stroke:#21918c;\" x=\"228.749592\" xlink:href=\"#C0_0_c70512d01f\" y=\"135.537862\"/>\r\n    </g>\r\n    <g clip-path=\"url(#pcb15aa2271)\">\r\n     <use style=\"fill:#21918c;stroke:#21918c;\" x=\"180.235145\" xlink:href=\"#C0_0_c70512d01f\" y=\"150.88006\"/>\r\n    </g>\r\n    <g clip-path=\"url(#pcb15aa2271)\">\r\n     <use style=\"fill:#21918c;stroke:#21918c;\" x=\"190.531304\" xlink:href=\"#C0_0_c70512d01f\" y=\"176.105237\"/>\r\n    </g>\r\n    <g clip-path=\"url(#pcb15aa2271)\">\r\n     <use style=\"fill:#21918c;stroke:#21918c;\" x=\"185.263233\" xlink:href=\"#C0_0_c70512d01f\" y=\"174.242016\"/>\r\n    </g>\r\n    <g clip-path=\"url(#pcb15aa2271)\">\r\n     <use style=\"fill:#21918c;stroke:#21918c;\" x=\"199.400827\" xlink:href=\"#C0_0_c70512d01f\" y=\"146.81976\"/>\r\n    </g>\r\n    <g clip-path=\"url(#pcb15aa2271)\">\r\n     <use style=\"fill:#21918c;stroke:#21918c;\" x=\"253.323281\" xlink:href=\"#C0_0_c70512d01f\" y=\"154.825231\"/>\r\n    </g>\r\n    <g clip-path=\"url(#pcb15aa2271)\">\r\n     <use style=\"fill:#21918c;stroke:#21918c;\" x=\"218.981258\" xlink:href=\"#C0_0_c70512d01f\" y=\"159.56712\"/>\r\n    </g>\r\n    <g clip-path=\"url(#pcb15aa2271)\">\r\n     <use style=\"fill:#21918c;stroke:#21918c;\" x=\"228.470685\" xlink:href=\"#C0_0_c70512d01f\" y=\"108.76862\"/>\r\n    </g>\r\n    <g clip-path=\"url(#pcb15aa2271)\">\r\n     <use style=\"fill:#21918c;stroke:#21918c;\" x=\"246.414484\" xlink:href=\"#C0_0_c70512d01f\" y=\"92.788108\"/>\r\n    </g>\r\n    <g clip-path=\"url(#pcb15aa2271)\">\r\n     <use style=\"fill:#21918c;stroke:#21918c;\" x=\"228.827839\" xlink:href=\"#C0_0_c70512d01f\" y=\"151.162692\"/>\r\n    </g>\r\n    <g clip-path=\"url(#pcb15aa2271)\">\r\n     <use style=\"fill:#21918c;stroke:#21918c;\" x=\"204.150008\" xlink:href=\"#C0_0_c70512d01f\" y=\"143.412475\"/>\r\n    </g>\r\n    <g clip-path=\"url(#pcb15aa2271)\">\r\n     <use style=\"fill:#21918c;stroke:#21918c;\" x=\"200.700957\" xlink:href=\"#C0_0_c70512d01f\" y=\"174.364803\"/>\r\n    </g>\r\n    <g clip-path=\"url(#pcb15aa2271)\">\r\n     <use style=\"fill:#21918c;stroke:#21918c;\" x=\"213.639034\" xlink:href=\"#C0_0_c70512d01f\" y=\"173.525098\"/>\r\n    </g>\r\n    <g clip-path=\"url(#pcb15aa2271)\">\r\n     <use style=\"fill:#21918c;stroke:#21918c;\" x=\"232.11106\" xlink:href=\"#C0_0_c70512d01f\" y=\"125.887899\"/>\r\n    </g>\r\n    <g clip-path=\"url(#pcb15aa2271)\">\r\n     <use style=\"fill:#21918c;stroke:#21918c;\" x=\"203.481845\" xlink:href=\"#C0_0_c70512d01f\" y=\"153.584716\"/>\r\n    </g>\r\n    <g clip-path=\"url(#pcb15aa2271)\">\r\n     <use style=\"fill:#21918c;stroke:#21918c;\" x=\"162.936743\" xlink:href=\"#C0_0_c70512d01f\" y=\"199.09669\"/>\r\n    </g>\r\n    <g clip-path=\"url(#pcb15aa2271)\">\r\n     <use style=\"fill:#21918c;stroke:#21918c;\" x=\"208.964006\" xlink:href=\"#C0_0_c70512d01f\" y=\"161.111184\"/>\r\n    </g>\r\n    <g clip-path=\"url(#pcb15aa2271)\">\r\n     <use style=\"fill:#21918c;stroke:#21918c;\" x=\"207.877966\" xlink:href=\"#C0_0_c70512d01f\" y=\"139.229388\"/>\r\n    </g>\r\n    <g clip-path=\"url(#pcb15aa2271)\">\r\n     <use style=\"fill:#21918c;stroke:#21918c;\" x=\"209.798\" xlink:href=\"#C0_0_c70512d01f\" y=\"145.261408\"/>\r\n    </g>\r\n    <g clip-path=\"url(#pcb15aa2271)\">\r\n     <use style=\"fill:#21918c;stroke:#21918c;\" x=\"221.347397\" xlink:href=\"#C0_0_c70512d01f\" y=\"121.979374\"/>\r\n    </g>\r\n    <g clip-path=\"url(#pcb15aa2271)\">\r\n     <use style=\"fill:#21918c;stroke:#21918c;\" x=\"154.180697\" xlink:href=\"#C0_0_c70512d01f\" y=\"179.917821\"/>\r\n    </g>\r\n    <g clip-path=\"url(#pcb15aa2271)\">\r\n     <use style=\"fill:#21918c;stroke:#21918c;\" x=\"206.449962\" xlink:href=\"#C0_0_c70512d01f\" y=\"149.430206\"/>\r\n    </g>\r\n    <g clip-path=\"url(#pcb15aa2271)\">\r\n     <use style=\"fill:#fde725;stroke:#fde725;\" x=\"303.237904\" xlink:href=\"#C0_0_c70512d01f\" y=\"124.044895\"/>\r\n    </g>\r\n    <g clip-path=\"url(#pcb15aa2271)\">\r\n     <use style=\"fill:#fde725;stroke:#fde725;\" x=\"254.849964\" xlink:href=\"#C0_0_c70512d01f\" y=\"166.352704\"/>\r\n    </g>\r\n    <g clip-path=\"url(#pcb15aa2271)\">\r\n     <use style=\"fill:#fde725;stroke:#fde725;\" x=\"306.944463\" xlink:href=\"#C0_0_c70512d01f\" y=\"97.558696\"/>\r\n    </g>\r\n    <g clip-path=\"url(#pcb15aa2271)\">\r\n     <use style=\"fill:#fde725;stroke:#fde725;\" x=\"278.970948\" xlink:href=\"#C0_0_c70512d01f\" y=\"136.764089\"/>\r\n    </g>\r\n    <g clip-path=\"url(#pcb15aa2271)\">\r\n     <use style=\"fill:#fde725;stroke:#fde725;\" x=\"295.381636\" xlink:href=\"#C0_0_c70512d01f\" y=\"126.321895\"/>\r\n    </g>\r\n    <g clip-path=\"url(#pcb15aa2271)\">\r\n     <use style=\"fill:#fde725;stroke:#fde725;\" x=\"340.781027\" xlink:href=\"#C0_0_c70512d01f\" y=\"82.065135\"/>\r\n    </g>\r\n    <g clip-path=\"url(#pcb15aa2271)\">\r\n     <use style=\"fill:#fde725;stroke:#fde725;\" x=\"216.085926\" xlink:href=\"#C0_0_c70512d01f\" y=\"212.611903\"/>\r\n    </g>\r\n    <g clip-path=\"url(#pcb15aa2271)\">\r\n     <use style=\"fill:#fde725;stroke:#fde725;\" x=\"320.642381\" xlink:href=\"#C0_0_c70512d01f\" y=\"96.690415\"/>\r\n    </g>\r\n    <g clip-path=\"url(#pcb15aa2271)\">\r\n     <use style=\"fill:#fde725;stroke:#fde725;\" x=\"294.133859\" xlink:href=\"#C0_0_c70512d01f\" y=\"141.563664\"/>\r\n    </g>\r\n    <g clip-path=\"url(#pcb15aa2271)\">\r\n     <use style=\"fill:#fde725;stroke:#fde725;\" x=\"319.955727\" xlink:href=\"#C0_0_c70512d01f\" y=\"64.698141\"/>\r\n    </g>\r\n    <g clip-path=\"url(#pcb15aa2271)\">\r\n     <use style=\"fill:#fde725;stroke:#fde725;\" x=\"265.539875\" xlink:href=\"#C0_0_c70512d01f\" y=\"105.171305\"/>\r\n    </g>\r\n    <g clip-path=\"url(#pcb15aa2271)\">\r\n     <use style=\"fill:#fde725;stroke:#fde725;\" x=\"271.680863\" xlink:href=\"#C0_0_c70512d01f\" y=\"139.452727\"/>\r\n    </g>\r\n    <g clip-path=\"url(#pcb15aa2271)\">\r\n     <use style=\"fill:#fde725;stroke:#fde725;\" x=\"287.385431\" xlink:href=\"#C0_0_c70512d01f\" y=\"107.114449\"/>\r\n    </g>\r\n    <g clip-path=\"url(#pcb15aa2271)\">\r\n     <use style=\"fill:#fde725;stroke:#fde725;\" x=\"251.854986\" xlink:href=\"#C0_0_c70512d01f\" y=\"181.469545\"/>\r\n    </g>\r\n    <g clip-path=\"url(#pcb15aa2271)\">\r\n     <use style=\"fill:#fde725;stroke:#fde725;\" x=\"262.251192\" xlink:href=\"#C0_0_c70512d01f\" y=\"163.711541\"/>\r\n    </g>\r\n    <g clip-path=\"url(#pcb15aa2271)\">\r\n     <use style=\"fill:#fde725;stroke:#fde725;\" x=\"276.062587\" xlink:href=\"#C0_0_c70512d01f\" y=\"114.378913\"/>\r\n    </g>\r\n    <g clip-path=\"url(#pcb15aa2271)\">\r\n     <use style=\"fill:#fde725;stroke:#fde725;\" x=\"278.023879\" xlink:href=\"#C0_0_c70512d01f\" y=\"120.167088\"/>\r\n    </g>\r\n    <g clip-path=\"url(#pcb15aa2271)\">\r\n     <use style=\"fill:#fde725;stroke:#fde725;\" x=\"344.684152\" xlink:href=\"#C0_0_c70512d01f\" y=\"35.277318\"/>\r\n    </g>\r\n    <g clip-path=\"url(#pcb15aa2271)\">\r\n     <use style=\"fill:#fde725;stroke:#fde725;\" x=\"358.064631\" xlink:href=\"#C0_0_c70512d01f\" y=\"104.041142\"/>\r\n    </g>\r\n    <g clip-path=\"url(#pcb15aa2271)\">\r\n     <use style=\"fill:#fde725;stroke:#fde725;\" x=\"249.88766\" xlink:href=\"#C0_0_c70512d01f\" y=\"180.296395\"/>\r\n    </g>\r\n    <g clip-path=\"url(#pcb15aa2271)\">\r\n     <use style=\"fill:#fde725;stroke:#fde725;\" x=\"298.755567\" xlink:href=\"#C0_0_c70512d01f\" y=\"94.991116\"/>\r\n    </g>\r\n    <g clip-path=\"url(#pcb15aa2271)\">\r\n     <use style=\"fill:#fde725;stroke:#fde725;\" x=\"245.474015\" xlink:href=\"#C0_0_c70512d01f\" y=\"168.686858\"/>\r\n    </g>\r\n    <g clip-path=\"url(#pcb15aa2271)\">\r\n     <use style=\"fill:#fde725;stroke:#fde725;\" x=\"345.241965\" xlink:href=\"#C0_0_c70512d01f\" y=\"88.815802\"/>\r\n    </g>\r\n    <g clip-path=\"url(#pcb15aa2271)\">\r\n     <use style=\"fill:#fde725;stroke:#fde725;\" x=\"253.702235\" xlink:href=\"#C0_0_c70512d01f\" y=\"138.611292\"/>\r\n    </g>\r\n    <g clip-path=\"url(#pcb15aa2271)\">\r\n     <use style=\"fill:#fde725;stroke:#fde725;\" x=\"292.148042\" xlink:href=\"#C0_0_c70512d01f\" y=\"98.225998\"/>\r\n    </g>\r\n    <g clip-path=\"url(#pcb15aa2271)\">\r\n     <use style=\"fill:#fde725;stroke:#fde725;\" x=\"306.832354\" xlink:href=\"#C0_0_c70512d01f\" y=\"81.31157\"/>\r\n    </g>\r\n    <g clip-path=\"url(#pcb15aa2271)\">\r\n     <use style=\"fill:#fde725;stroke:#fde725;\" x=\"248.054243\" xlink:href=\"#C0_0_c70512d01f\" y=\"136.762359\"/>\r\n    </g>\r\n    <g clip-path=\"url(#pcb15aa2271)\">\r\n     <use style=\"fill:#fde725;stroke:#fde725;\" x=\"249.468817\" xlink:href=\"#C0_0_c70512d01f\" y=\"132.042706\"/>\r\n    </g>\r\n    <g clip-path=\"url(#pcb15aa2271)\">\r\n     <use style=\"fill:#fde725;stroke:#fde725;\" x=\"285.565043\" xlink:href=\"#C0_0_c70512d01f\" y=\"139.010372\"/>\r\n    </g>\r\n    <g clip-path=\"url(#pcb15aa2271)\">\r\n     <use style=\"fill:#fde725;stroke:#fde725;\" x=\"297.029192\" xlink:href=\"#C0_0_c70512d01f\" y=\"88.518881\"/>\r\n    </g>\r\n    <g clip-path=\"url(#pcb15aa2271)\">\r\n     <use style=\"fill:#fde725;stroke:#fde725;\" x=\"316.700333\" xlink:href=\"#C0_0_c70512d01f\" y=\"95.210255\"/>\r\n    </g>\r\n    <g clip-path=\"url(#pcb15aa2271)\">\r\n     <use style=\"fill:#fde725;stroke:#fde725;\" x=\"333.567429\" xlink:href=\"#C0_0_c70512d01f\" y=\"20.420752\"/>\r\n    </g>\r\n    <g clip-path=\"url(#pcb15aa2271)\">\r\n     <use style=\"fill:#fde725;stroke:#fde725;\" x=\"287.118587\" xlink:href=\"#C0_0_c70512d01f\" y=\"139.575514\"/>\r\n    </g>\r\n    <g clip-path=\"url(#pcb15aa2271)\">\r\n     <use style=\"fill:#fde725;stroke:#fde725;\" x=\"256.104169\" xlink:href=\"#C0_0_c70512d01f\" y=\"134.045144\"/>\r\n    </g>\r\n    <g clip-path=\"url(#pcb15aa2271)\">\r\n     <use style=\"fill:#fde725;stroke:#fde725;\" x=\"270.722296\" xlink:href=\"#C0_0_c70512d01f\" y=\"160.736194\"/>\r\n    </g>\r\n    <g clip-path=\"url(#pcb15aa2271)\">\r\n     <use style=\"fill:#fde725;stroke:#fde725;\" x=\"326.882449\" xlink:href=\"#C0_0_c70512d01f\" y=\"71.789004\"/>\r\n    </g>\r\n    <g clip-path=\"url(#pcb15aa2271)\">\r\n     <use style=\"fill:#fde725;stroke:#fde725;\" x=\"286.45976\" xlink:href=\"#C0_0_c70512d01f\" y=\"112.820561\"/>\r\n    </g>\r\n    <g clip-path=\"url(#pcb15aa2271)\">\r\n     <use style=\"fill:#fde725;stroke:#fde725;\" x=\"276.090415\" xlink:href=\"#C0_0_c70512d01f\" y=\"119.616234\"/>\r\n    </g>\r\n    <g clip-path=\"url(#pcb15aa2271)\">\r\n     <use style=\"fill:#fde725;stroke:#fde725;\" x=\"244.187315\" xlink:href=\"#C0_0_c70512d01f\" y=\"135.66065\"/>\r\n    </g>\r\n    <g clip-path=\"url(#pcb15aa2271)\">\r\n     <use style=\"fill:#fde725;stroke:#fde725;\" x=\"284.871387\" xlink:href=\"#C0_0_c70512d01f\" y=\"95.433471\"/>\r\n    </g>\r\n    <g clip-path=\"url(#pcb15aa2271)\">\r\n     <use style=\"fill:#fde725;stroke:#fde725;\" x=\"293.827126\" xlink:href=\"#C0_0_c70512d01f\" y=\"109.557102\"/>\r\n    </g>\r\n    <g clip-path=\"url(#pcb15aa2271)\">\r\n     <use style=\"fill:#fde725;stroke:#fde725;\" x=\"276.834891\" xlink:href=\"#C0_0_c70512d01f\" y=\"92.66952\"/>\r\n    </g>\r\n    <g clip-path=\"url(#pcb15aa2271)\">\r\n     <use style=\"fill:#fde725;stroke:#fde725;\" x=\"254.849964\" xlink:href=\"#C0_0_c70512d01f\" y=\"166.352704\"/>\r\n    </g>\r\n    <g clip-path=\"url(#pcb15aa2271)\">\r\n     <use style=\"fill:#fde725;stroke:#fde725;\" x=\"304.617649\" xlink:href=\"#C0_0_c70512d01f\" y=\"102.503295\"/>\r\n    </g>\r\n    <g clip-path=\"url(#pcb15aa2271)\">\r\n     <use style=\"fill:#fde725;stroke:#fde725;\" x=\"298.362217\" xlink:href=\"#C0_0_c70512d01f\" y=\"100.486569\"/>\r\n    </g>\r\n    <g clip-path=\"url(#pcb15aa2271)\">\r\n     <use style=\"fill:#fde725;stroke:#fde725;\" x=\"277.781961\" xlink:href=\"#C0_0_c70512d01f\" y=\"109.266521\"/>\r\n    </g>\r\n    <g clip-path=\"url(#pcb15aa2271)\">\r\n     <use style=\"fill:#fde725;stroke:#fde725;\" x=\"259.703286\" xlink:href=\"#C0_0_c70512d01f\" y=\"151.408267\"/>\r\n    </g>\r\n    <g clip-path=\"url(#pcb15aa2271)\">\r\n     <use style=\"fill:#fde725;stroke:#fde725;\" x=\"269.987383\" xlink:href=\"#C0_0_c70512d01f\" y=\"117.403138\"/>\r\n    </g>\r\n    <g clip-path=\"url(#pcb15aa2271)\">\r\n     <use style=\"fill:#fde725;stroke:#fde725;\" x=\"275.910187\" xlink:href=\"#C0_0_c70512d01f\" y=\"114.575283\"/>\r\n    </g>\r\n    <g clip-path=\"url(#pcb15aa2271)\">\r\n     <use style=\"fill:#fde725;stroke:#fde725;\" x=\"253.763924\" xlink:href=\"#C0_0_c70512d01f\" y=\"144.470908\"/>\r\n    </g>\r\n   </g>\r\n   <g id=\"matplotlib.axis_1\">\r\n    <g id=\"xtick_1\">\r\n     <g id=\"line2d_1\">\r\n      <defs>\r\n       <path d=\"M 0 0 \r\nL 0 3.5 \r\n\" id=\"me289594158\" style=\"stroke:#000000;stroke-width:0.8;\"/>\r\n      </defs>\r\n      <g>\r\n       <use style=\"stroke:#000000;stroke-width:0.8;\" x=\"63.405135\" xlink:href=\"#me289594158\" y=\"227.977115\"/>\r\n      </g>\r\n     </g>\r\n     <g id=\"text_1\">\r\n      <!-- −3 -->\r\n      <g transform=\"translate(56.034041 242.575553)scale(0.1 -0.1)\">\r\n       <defs>\r\n        <path d=\"M 678 2272 \r\nL 4684 2272 \r\nL 4684 1741 \r\nL 678 1741 \r\nL 678 2272 \r\nz\r\n\" id=\"DejaVuSans-2212\" transform=\"scale(0.015625)\"/>\r\n        <path d=\"M 2597 2516 \r\nQ 3050 2419 3304 2112 \r\nQ 3559 1806 3559 1356 \r\nQ 3559 666 3084 287 \r\nQ 2609 -91 1734 -91 \r\nQ 1441 -91 1130 -33 \r\nQ 819 25 488 141 \r\nL 488 750 \r\nQ 750 597 1062 519 \r\nQ 1375 441 1716 441 \r\nQ 2309 441 2620 675 \r\nQ 2931 909 2931 1356 \r\nQ 2931 1769 2642 2001 \r\nQ 2353 2234 1838 2234 \r\nL 1294 2234 \r\nL 1294 2753 \r\nL 1863 2753 \r\nQ 2328 2753 2575 2939 \r\nQ 2822 3125 2822 3475 \r\nQ 2822 3834 2567 4026 \r\nQ 2313 4219 1838 4219 \r\nQ 1578 4219 1281 4162 \r\nQ 984 4106 628 3988 \r\nL 628 4550 \r\nQ 988 4650 1302 4700 \r\nQ 1616 4750 1894 4750 \r\nQ 2613 4750 3031 4423 \r\nQ 3450 4097 3450 3541 \r\nQ 3450 3153 3228 2886 \r\nQ 3006 2619 2597 2516 \r\nz\r\n\" id=\"DejaVuSans-33\" transform=\"scale(0.015625)\"/>\r\n       </defs>\r\n       <use xlink:href=\"#DejaVuSans-2212\"/>\r\n       <use x=\"83.789062\" xlink:href=\"#DejaVuSans-33\"/>\r\n      </g>\r\n     </g>\r\n    </g>\r\n    <g id=\"xtick_2\">\r\n     <g id=\"line2d_2\">\r\n      <g>\r\n       <use style=\"stroke:#000000;stroke-width:0.8;\" x=\"106.765181\" xlink:href=\"#me289594158\" y=\"227.977115\"/>\r\n      </g>\r\n     </g>\r\n     <g id=\"text_2\">\r\n      <!-- −2 -->\r\n      <g transform=\"translate(99.394087 242.575553)scale(0.1 -0.1)\">\r\n       <defs>\r\n        <path d=\"M 1228 531 \r\nL 3431 531 \r\nL 3431 0 \r\nL 469 0 \r\nL 469 531 \r\nQ 828 903 1448 1529 \r\nQ 2069 2156 2228 2338 \r\nQ 2531 2678 2651 2914 \r\nQ 2772 3150 2772 3378 \r\nQ 2772 3750 2511 3984 \r\nQ 2250 4219 1831 4219 \r\nQ 1534 4219 1204 4116 \r\nQ 875 4013 500 3803 \r\nL 500 4441 \r\nQ 881 4594 1212 4672 \r\nQ 1544 4750 1819 4750 \r\nQ 2544 4750 2975 4387 \r\nQ 3406 4025 3406 3419 \r\nQ 3406 3131 3298 2873 \r\nQ 3191 2616 2906 2266 \r\nQ 2828 2175 2409 1742 \r\nQ 1991 1309 1228 531 \r\nz\r\n\" id=\"DejaVuSans-32\" transform=\"scale(0.015625)\"/>\r\n       </defs>\r\n       <use xlink:href=\"#DejaVuSans-2212\"/>\r\n       <use x=\"83.789062\" xlink:href=\"#DejaVuSans-32\"/>\r\n      </g>\r\n     </g>\r\n    </g>\r\n    <g id=\"xtick_3\">\r\n     <g id=\"line2d_3\">\r\n      <g>\r\n       <use style=\"stroke:#000000;stroke-width:0.8;\" x=\"150.125226\" xlink:href=\"#me289594158\" y=\"227.977115\"/>\r\n      </g>\r\n     </g>\r\n     <g id=\"text_3\">\r\n      <!-- −1 -->\r\n      <g transform=\"translate(142.754132 242.575553)scale(0.1 -0.1)\">\r\n       <defs>\r\n        <path d=\"M 794 531 \r\nL 1825 531 \r\nL 1825 4091 \r\nL 703 3866 \r\nL 703 4441 \r\nL 1819 4666 \r\nL 2450 4666 \r\nL 2450 531 \r\nL 3481 531 \r\nL 3481 0 \r\nL 794 0 \r\nL 794 531 \r\nz\r\n\" id=\"DejaVuSans-31\" transform=\"scale(0.015625)\"/>\r\n       </defs>\r\n       <use xlink:href=\"#DejaVuSans-2212\"/>\r\n       <use x=\"83.789062\" xlink:href=\"#DejaVuSans-31\"/>\r\n      </g>\r\n     </g>\r\n    </g>\r\n    <g id=\"xtick_4\">\r\n     <g id=\"line2d_4\">\r\n      <g>\r\n       <use style=\"stroke:#000000;stroke-width:0.8;\" x=\"193.485272\" xlink:href=\"#me289594158\" y=\"227.977115\"/>\r\n      </g>\r\n     </g>\r\n     <g id=\"text_4\">\r\n      <!-- 0 -->\r\n      <g transform=\"translate(190.304022 242.575553)scale(0.1 -0.1)\">\r\n       <defs>\r\n        <path d=\"M 2034 4250 \r\nQ 1547 4250 1301 3770 \r\nQ 1056 3291 1056 2328 \r\nQ 1056 1369 1301 889 \r\nQ 1547 409 2034 409 \r\nQ 2525 409 2770 889 \r\nQ 3016 1369 3016 2328 \r\nQ 3016 3291 2770 3770 \r\nQ 2525 4250 2034 4250 \r\nz\r\nM 2034 4750 \r\nQ 2819 4750 3233 4129 \r\nQ 3647 3509 3647 2328 \r\nQ 3647 1150 3233 529 \r\nQ 2819 -91 2034 -91 \r\nQ 1250 -91 836 529 \r\nQ 422 1150 422 2328 \r\nQ 422 3509 836 4129 \r\nQ 1250 4750 2034 4750 \r\nz\r\n\" id=\"DejaVuSans-30\" transform=\"scale(0.015625)\"/>\r\n       </defs>\r\n       <use xlink:href=\"#DejaVuSans-30\"/>\r\n      </g>\r\n     </g>\r\n    </g>\r\n    <g id=\"xtick_5\">\r\n     <g id=\"line2d_5\">\r\n      <g>\r\n       <use style=\"stroke:#000000;stroke-width:0.8;\" x=\"236.845318\" xlink:href=\"#me289594158\" y=\"227.977115\"/>\r\n      </g>\r\n     </g>\r\n     <g id=\"text_5\">\r\n      <!-- 1 -->\r\n      <g transform=\"translate(233.664068 242.575553)scale(0.1 -0.1)\">\r\n       <use xlink:href=\"#DejaVuSans-31\"/>\r\n      </g>\r\n     </g>\r\n    </g>\r\n    <g id=\"xtick_6\">\r\n     <g id=\"line2d_6\">\r\n      <g>\r\n       <use style=\"stroke:#000000;stroke-width:0.8;\" x=\"280.205363\" xlink:href=\"#me289594158\" y=\"227.977115\"/>\r\n      </g>\r\n     </g>\r\n     <g id=\"text_6\">\r\n      <!-- 2 -->\r\n      <g transform=\"translate(277.024113 242.575553)scale(0.1 -0.1)\">\r\n       <use xlink:href=\"#DejaVuSans-32\"/>\r\n      </g>\r\n     </g>\r\n    </g>\r\n    <g id=\"xtick_7\">\r\n     <g id=\"line2d_7\">\r\n      <g>\r\n       <use style=\"stroke:#000000;stroke-width:0.8;\" x=\"323.565409\" xlink:href=\"#me289594158\" y=\"227.977115\"/>\r\n      </g>\r\n     </g>\r\n     <g id=\"text_7\">\r\n      <!-- 3 -->\r\n      <g transform=\"translate(320.384159 242.575553)scale(0.1 -0.1)\">\r\n       <use xlink:href=\"#DejaVuSans-33\"/>\r\n      </g>\r\n     </g>\r\n    </g>\r\n    <g id=\"xtick_8\">\r\n     <g id=\"line2d_8\">\r\n      <g>\r\n       <use style=\"stroke:#000000;stroke-width:0.8;\" x=\"366.925455\" xlink:href=\"#me289594158\" y=\"227.977115\"/>\r\n      </g>\r\n     </g>\r\n     <g id=\"text_8\">\r\n      <!-- 4 -->\r\n      <g transform=\"translate(363.744205 242.575553)scale(0.1 -0.1)\">\r\n       <defs>\r\n        <path d=\"M 2419 4116 \r\nL 825 1625 \r\nL 2419 1625 \r\nL 2419 4116 \r\nz\r\nM 2253 4666 \r\nL 3047 4666 \r\nL 3047 1625 \r\nL 3713 1625 \r\nL 3713 1100 \r\nL 3047 1100 \r\nL 3047 0 \r\nL 2419 0 \r\nL 2419 1100 \r\nL 313 1100 \r\nL 313 1709 \r\nL 2253 4666 \r\nz\r\n\" id=\"DejaVuSans-34\" transform=\"scale(0.015625)\"/>\r\n       </defs>\r\n       <use xlink:href=\"#DejaVuSans-34\"/>\r\n      </g>\r\n     </g>\r\n    </g>\r\n   </g>\r\n   <g id=\"matplotlib.axis_2\">\r\n    <g id=\"ytick_1\">\r\n     <g id=\"line2d_9\">\r\n      <defs>\r\n       <path d=\"M 0 0 \r\nL -3.5 0 \r\n\" id=\"m4f3af6dfbd\" style=\"stroke:#000000;stroke-width:0.8;\"/>\r\n      </defs>\r\n      <g>\r\n       <use style=\"stroke:#000000;stroke-width:0.8;\" x=\"38.482813\" xlink:href=\"#m4f3af6dfbd\" y=\"198.179639\"/>\r\n      </g>\r\n     </g>\r\n     <g id=\"text_9\">\r\n      <!-- −1.0 -->\r\n      <g transform=\"translate(7.2 201.978858)scale(0.1 -0.1)\">\r\n       <defs>\r\n        <path d=\"M 684 794 \r\nL 1344 794 \r\nL 1344 0 \r\nL 684 0 \r\nL 684 794 \r\nz\r\n\" id=\"DejaVuSans-2e\" transform=\"scale(0.015625)\"/>\r\n       </defs>\r\n       <use xlink:href=\"#DejaVuSans-2212\"/>\r\n       <use x=\"83.789062\" xlink:href=\"#DejaVuSans-31\"/>\r\n       <use x=\"147.412109\" xlink:href=\"#DejaVuSans-2e\"/>\r\n       <use x=\"179.199219\" xlink:href=\"#DejaVuSans-30\"/>\r\n      </g>\r\n     </g>\r\n    </g>\r\n    <g id=\"ytick_2\">\r\n     <g id=\"line2d_10\">\r\n      <g>\r\n       <use style=\"stroke:#000000;stroke-width:0.8;\" x=\"38.482813\" xlink:href=\"#m4f3af6dfbd\" y=\"160.743555\"/>\r\n      </g>\r\n     </g>\r\n     <g id=\"text_10\">\r\n      <!-- −0.5 -->\r\n      <g transform=\"translate(7.2 164.542774)scale(0.1 -0.1)\">\r\n       <defs>\r\n        <path d=\"M 691 4666 \r\nL 3169 4666 \r\nL 3169 4134 \r\nL 1269 4134 \r\nL 1269 2991 \r\nQ 1406 3038 1543 3061 \r\nQ 1681 3084 1819 3084 \r\nQ 2600 3084 3056 2656 \r\nQ 3513 2228 3513 1497 \r\nQ 3513 744 3044 326 \r\nQ 2575 -91 1722 -91 \r\nQ 1428 -91 1123 -41 \r\nQ 819 9 494 109 \r\nL 494 744 \r\nQ 775 591 1075 516 \r\nQ 1375 441 1709 441 \r\nQ 2250 441 2565 725 \r\nQ 2881 1009 2881 1497 \r\nQ 2881 1984 2565 2268 \r\nQ 2250 2553 1709 2553 \r\nQ 1456 2553 1204 2497 \r\nQ 953 2441 691 2322 \r\nL 691 4666 \r\nz\r\n\" id=\"DejaVuSans-35\" transform=\"scale(0.015625)\"/>\r\n       </defs>\r\n       <use xlink:href=\"#DejaVuSans-2212\"/>\r\n       <use x=\"83.789062\" xlink:href=\"#DejaVuSans-30\"/>\r\n       <use x=\"147.412109\" xlink:href=\"#DejaVuSans-2e\"/>\r\n       <use x=\"179.199219\" xlink:href=\"#DejaVuSans-35\"/>\r\n      </g>\r\n     </g>\r\n    </g>\r\n    <g id=\"ytick_3\">\r\n     <g id=\"line2d_11\">\r\n      <g>\r\n       <use style=\"stroke:#000000;stroke-width:0.8;\" x=\"38.482813\" xlink:href=\"#m4f3af6dfbd\" y=\"123.307471\"/>\r\n      </g>\r\n     </g>\r\n     <g id=\"text_11\">\r\n      <!-- 0.0 -->\r\n      <g transform=\"translate(15.579688 127.10669)scale(0.1 -0.1)\">\r\n       <use xlink:href=\"#DejaVuSans-30\"/>\r\n       <use x=\"63.623047\" xlink:href=\"#DejaVuSans-2e\"/>\r\n       <use x=\"95.410156\" xlink:href=\"#DejaVuSans-30\"/>\r\n      </g>\r\n     </g>\r\n    </g>\r\n    <g id=\"ytick_4\">\r\n     <g id=\"line2d_12\">\r\n      <g>\r\n       <use style=\"stroke:#000000;stroke-width:0.8;\" x=\"38.482813\" xlink:href=\"#m4f3af6dfbd\" y=\"85.871387\"/>\r\n      </g>\r\n     </g>\r\n     <g id=\"text_12\">\r\n      <!-- 0.5 -->\r\n      <g transform=\"translate(15.579688 89.670606)scale(0.1 -0.1)\">\r\n       <use xlink:href=\"#DejaVuSans-30\"/>\r\n       <use x=\"63.623047\" xlink:href=\"#DejaVuSans-2e\"/>\r\n       <use x=\"95.410156\" xlink:href=\"#DejaVuSans-35\"/>\r\n      </g>\r\n     </g>\r\n    </g>\r\n    <g id=\"ytick_5\">\r\n     <g id=\"line2d_13\">\r\n      <g>\r\n       <use style=\"stroke:#000000;stroke-width:0.8;\" x=\"38.482813\" xlink:href=\"#m4f3af6dfbd\" y=\"48.435303\"/>\r\n      </g>\r\n     </g>\r\n     <g id=\"text_13\">\r\n      <!-- 1.0 -->\r\n      <g transform=\"translate(15.579688 52.234522)scale(0.1 -0.1)\">\r\n       <use xlink:href=\"#DejaVuSans-31\"/>\r\n       <use x=\"63.623047\" xlink:href=\"#DejaVuSans-2e\"/>\r\n       <use x=\"95.410156\" xlink:href=\"#DejaVuSans-30\"/>\r\n      </g>\r\n     </g>\r\n    </g>\r\n    <g id=\"ytick_6\">\r\n     <g id=\"line2d_14\">\r\n      <g>\r\n       <use style=\"stroke:#000000;stroke-width:0.8;\" x=\"38.482813\" xlink:href=\"#m4f3af6dfbd\" y=\"10.999219\"/>\r\n      </g>\r\n     </g>\r\n     <g id=\"text_14\">\r\n      <!-- 1.5 -->\r\n      <g transform=\"translate(15.579688 14.798437)scale(0.1 -0.1)\">\r\n       <use xlink:href=\"#DejaVuSans-31\"/>\r\n       <use x=\"63.623047\" xlink:href=\"#DejaVuSans-2e\"/>\r\n       <use x=\"95.410156\" xlink:href=\"#DejaVuSans-35\"/>\r\n      </g>\r\n     </g>\r\n    </g>\r\n   </g>\r\n   <g id=\"patch_3\">\r\n    <path d=\"M 38.482813 227.977115 \r\nL 38.482813 10.537115 \r\n\" style=\"fill:none;stroke:#000000;stroke-linecap:square;stroke-linejoin:miter;stroke-width:0.8;\"/>\r\n   </g>\r\n   <g id=\"patch_4\">\r\n    <path d=\"M 373.282813 227.977115 \r\nL 373.282813 10.537115 \r\n\" style=\"fill:none;stroke:#000000;stroke-linecap:square;stroke-linejoin:miter;stroke-width:0.8;\"/>\r\n   </g>\r\n   <g id=\"patch_5\">\r\n    <path d=\"M 38.482812 227.977115 \r\nL 373.282812 227.977115 \r\n\" style=\"fill:none;stroke:#000000;stroke-linecap:square;stroke-linejoin:miter;stroke-width:0.8;\"/>\r\n   </g>\r\n   <g id=\"patch_6\">\r\n    <path d=\"M 38.482812 10.537115 \r\nL 373.282812 10.537115 \r\n\" style=\"fill:none;stroke:#000000;stroke-linecap:square;stroke-linejoin:miter;stroke-width:0.8;\"/>\r\n   </g>\r\n  </g>\r\n </g>\r\n <defs>\r\n  <clipPath id=\"pcb15aa2271\">\r\n   <rect height=\"217.44\" width=\"334.8\" x=\"38.482813\" y=\"10.537115\"/>\r\n  </clipPath>\r\n </defs>\r\n</svg>\r\n",
      "image/png": "[encoded data removed]"
     },
     "metadata": {
      "needs_background": "light"
     }
    }
   ],
   "source": [
    "pca_2 = pca_func(2,X)"
   ]
  },
  {
   "cell_type": "code",
   "execution_count": 14,
   "metadata": {},
   "outputs": [
    {
     "output_type": "display_data",
     "data": {
      "text/plain": "<Figure size 432x288 with 2 Axes>",
      "image/svg+xml": "<?xml version=\"1.0\" encoding=\"utf-8\" standalone=\"no\"?>\r\n<!DOCTYPE svg PUBLIC \"-//W3C//DTD SVG 1.1//EN\"\r\n  \"http://www.w3.org/Graphics/SVG/1.1/DTD/svg11.dtd\">\r\n<svg height=\"309.452747pt\" version=\"1.1\" viewBox=\"0 0 316.185545 309.452747\" width=\"316.185545pt\" xmlns=\"http://www.w3.org/2000/svg\" xmlns:xlink=\"http://www.w3.org/1999/xlink\">\r\n <metadata>\r\n  <rdf:RDF xmlns:cc=\"http://creativecommons.org/ns#\" xmlns:dc=\"http://purl.org/dc/elements/1.1/\" xmlns:rdf=\"http://www.w3.org/1999/02/22-rdf-syntax-ns#\">\r\n   <cc:Work>\r\n    <dc:type rdf:resource=\"http://purl.org/dc/dcmitype/StillImage\"/>\r\n    <dc:date>2021-06-25T00:27:57.432048</dc:date>\r\n    <dc:format>image/svg+xml</dc:format>\r\n    <dc:creator>\r\n     <cc:Agent>\r\n      <dc:title>Matplotlib v3.4.1, https://matplotlib.org/</dc:title>\r\n     </cc:Agent>\r\n    </dc:creator>\r\n   </cc:Work>\r\n  </rdf:RDF>\r\n </metadata>\r\n <defs>\r\n  <style type=\"text/css\">*{stroke-linecap:butt;stroke-linejoin:round;}</style>\r\n </defs>\r\n <g id=\"figure_1\">\r\n  <g id=\"patch_1\">\r\n   <path d=\"M 0 309.452747 \r\nL 316.185545 309.452747 \r\nL 316.185545 0 \r\nL 0 0 \r\nz\r\n\" style=\"fill:none;\"/>\r\n  </g>\r\n  <g id=\"patch_2\">\r\n   <path d=\"M 7.2 295.2 \r\nL 295.2 295.2 \r\nL 295.2 7.2 \r\nL 7.2 7.2 \r\nz\r\n\" style=\"fill:#ffffff;\"/>\r\n  </g>\r\n  <g id=\"pane3d_1\">\r\n   <g id=\"patch_3\">\r\n    <path d=\"M 28.945986 224.18843 \r\nL 124.052992 144.467852 \r\nL 122.730913 29.496527 \r\nL 23.072547 102.222663 \r\n\" style=\"fill:#f2f2f2;opacity:0.5;stroke:#f2f2f2;stroke-linejoin:miter;\"/>\r\n   </g>\r\n  </g>\r\n  <g id=\"pane3d_2\">\r\n   <g id=\"patch_4\">\r\n    <path d=\"M 124.052992 144.467852 \r\nL 276.665801 188.82637 \r\nL 282.112015 69.89499 \r\nL 122.730913 29.496527 \r\n\" style=\"fill:#e6e6e6;opacity:0.5;stroke:#e6e6e6;stroke-linejoin:miter;\"/>\r\n   </g>\r\n  </g>\r\n  <g id=\"pane3d_3\">\r\n   <g id=\"patch_5\">\r\n    <path d=\"M 28.945986 224.18843 \r\nL 190.723018 277.024808 \r\nL 276.665801 188.82637 \r\nL 124.052992 144.467852 \r\n\" style=\"fill:#ececec;opacity:0.5;stroke:#ececec;stroke-linejoin:miter;\"/>\r\n   </g>\r\n  </g>\r\n  <g id=\"axis3d_1\">\r\n   <g id=\"line2d_1\">\r\n    <path d=\"M 28.945986 224.18843 \r\nL 190.723018 277.024808 \r\n\" style=\"fill:none;stroke:#000000;stroke-linecap:square;stroke-width:0.8;\"/>\r\n   </g>\r\n   <g id=\"Line3DCollection_1\">\r\n    <path d=\"M 32.018468 225.191902 \r\nL 126.964007 145.313969 \r\nL 125.764741 30.265514 \r\n\" style=\"fill:none;stroke:#b0b0b0;stroke-width:0.8;\"/>\r\n    <path d=\"M 61.839067 234.93131 \r\nL 155.192056 153.518748 \r\nL 155.196367 37.725573 \r\n\" style=\"fill:none;stroke:#b0b0b0;stroke-width:0.8;\"/>\r\n    <path d=\"M 92.260396 244.866916 \r\nL 183.941388 161.875044 \r\nL 185.195123 45.329383 \r\n\" style=\"fill:none;stroke:#b0b0b0;stroke-width:0.8;\"/>\r\n    <path d=\"M 123.300794 255.00471 \r\nL 213.226579 170.387093 \r\nL 215.77756 53.081139 \r\n\" style=\"fill:none;stroke:#b0b0b0;stroke-width:0.8;\"/>\r\n    <path d=\"M 154.979351 265.350926 \r\nL 243.062749 179.05929 \r\nL 246.96088 60.985202 \r\n\" style=\"fill:none;stroke:#b0b0b0;stroke-width:0.8;\"/>\r\n    <path d=\"M 187.315951 275.91206 \r\nL 273.465597 187.896197 \r\nL 278.762969 69.046105 \r\n\" style=\"fill:none;stroke:#b0b0b0;stroke-width:0.8;\"/>\r\n   </g>\r\n   <g id=\"xtick_1\">\r\n    <g id=\"line2d_2\">\r\n     <path d=\"M 32.845098 224.496457 \r\nL 30.36167 226.585771 \r\n\" style=\"fill:none;stroke:#000000;stroke-linecap:square;stroke-width:0.8;\"/>\r\n    </g>\r\n    <g id=\"text_1\">\r\n     <!-- 0.0 -->\r\n     <g transform=\"translate(16.533889 248.453723)scale(0.1 -0.1)\">\r\n      <defs>\r\n       <path d=\"M 2034 4250 \r\nQ 1547 4250 1301 3770 \r\nQ 1056 3291 1056 2328 \r\nQ 1056 1369 1301 889 \r\nQ 1547 409 2034 409 \r\nQ 2525 409 2770 889 \r\nQ 3016 1369 3016 2328 \r\nQ 3016 3291 2770 3770 \r\nQ 2525 4250 2034 4250 \r\nz\r\nM 2034 4750 \r\nQ 2819 4750 3233 4129 \r\nQ 3647 3509 3647 2328 \r\nQ 3647 1150 3233 529 \r\nQ 2819 -91 2034 -91 \r\nQ 1250 -91 836 529 \r\nQ 422 1150 422 2328 \r\nQ 422 3509 836 4129 \r\nQ 1250 4750 2034 4750 \r\nz\r\n\" id=\"DejaVuSans-30\" transform=\"scale(0.015625)\"/>\r\n       <path d=\"M 684 794 \r\nL 1344 794 \r\nL 1344 0 \r\nL 684 0 \r\nL 684 794 \r\nz\r\n\" id=\"DejaVuSans-2e\" transform=\"scale(0.015625)\"/>\r\n      </defs>\r\n      <use xlink:href=\"#DejaVuSans-30\"/>\r\n      <use x=\"63.623047\" xlink:href=\"#DejaVuSans-2e\"/>\r\n      <use x=\"95.410156\" xlink:href=\"#DejaVuSans-30\"/>\r\n     </g>\r\n    </g>\r\n   </g>\r\n   <g id=\"xtick_2\">\r\n    <g id=\"line2d_3\">\r\n     <path d=\"M 62.652488 234.22193 \r\nL 60.208706 236.353137 \r\n\" style=\"fill:none;stroke:#000000;stroke-linecap:square;stroke-width:0.8;\"/>\r\n    </g>\r\n    <g id=\"text_2\">\r\n     <!-- 0.2 -->\r\n     <g transform=\"translate(46.382297 258.383568)scale(0.1 -0.1)\">\r\n      <defs>\r\n       <path d=\"M 1228 531 \r\nL 3431 531 \r\nL 3431 0 \r\nL 469 0 \r\nL 469 531 \r\nQ 828 903 1448 1529 \r\nQ 2069 2156 2228 2338 \r\nQ 2531 2678 2651 2914 \r\nQ 2772 3150 2772 3378 \r\nQ 2772 3750 2511 3984 \r\nQ 2250 4219 1831 4219 \r\nQ 1534 4219 1204 4116 \r\nQ 875 4013 500 3803 \r\nL 500 4441 \r\nQ 881 4594 1212 4672 \r\nQ 1544 4750 1819 4750 \r\nQ 2544 4750 2975 4387 \r\nQ 3406 4025 3406 3419 \r\nQ 3406 3131 3298 2873 \r\nQ 3191 2616 2906 2266 \r\nQ 2828 2175 2409 1742 \r\nQ 1991 1309 1228 531 \r\nz\r\n\" id=\"DejaVuSans-32\" transform=\"scale(0.015625)\"/>\r\n      </defs>\r\n      <use xlink:href=\"#DejaVuSans-30\"/>\r\n      <use x=\"63.623047\" xlink:href=\"#DejaVuSans-2e\"/>\r\n      <use x=\"95.410156\" xlink:href=\"#DejaVuSans-32\"/>\r\n     </g>\r\n    </g>\r\n   </g>\r\n   <g id=\"xtick_3\">\r\n    <g id=\"line2d_4\">\r\n     <path d=\"M 93.059907 244.143179 \r\nL 90.657882 246.317551 \r\n\" style=\"fill:none;stroke:#000000;stroke-linecap:square;stroke-width:0.8;\"/>\r\n    </g>\r\n    <g id=\"text_3\">\r\n     <!-- 0.4 -->\r\n     <g transform=\"translate(76.834098 268.514146)scale(0.1 -0.1)\">\r\n      <defs>\r\n       <path d=\"M 2419 4116 \r\nL 825 1625 \r\nL 2419 1625 \r\nL 2419 4116 \r\nz\r\nM 2253 4666 \r\nL 3047 4666 \r\nL 3047 1625 \r\nL 3713 1625 \r\nL 3713 1100 \r\nL 3047 1100 \r\nL 3047 0 \r\nL 2419 0 \r\nL 2419 1100 \r\nL 313 1100 \r\nL 313 1709 \r\nL 2253 4666 \r\nz\r\n\" id=\"DejaVuSans-34\" transform=\"scale(0.015625)\"/>\r\n      </defs>\r\n      <use xlink:href=\"#DejaVuSans-30\"/>\r\n      <use x=\"63.623047\" xlink:href=\"#DejaVuSans-2e\"/>\r\n      <use x=\"95.410156\" xlink:href=\"#DejaVuSans-34\"/>\r\n     </g>\r\n    </g>\r\n   </g>\r\n   <g id=\"xtick_4\">\r\n    <g id=\"line2d_5\">\r\n     <path d=\"M 124.085657 254.266175 \r\nL 121.727604 256.485037 \r\n\" style=\"fill:none;stroke:#000000;stroke-linecap:square;stroke-width:0.8;\"/>\r\n    </g>\r\n    <g id=\"text_4\">\r\n     <!-- 0.6 -->\r\n     <g transform=\"translate(107.907776 278.851608)scale(0.1 -0.1)\">\r\n      <defs>\r\n       <path d=\"M 2113 2584 \r\nQ 1688 2584 1439 2293 \r\nQ 1191 2003 1191 1497 \r\nQ 1191 994 1439 701 \r\nQ 1688 409 2113 409 \r\nQ 2538 409 2786 701 \r\nQ 3034 994 3034 1497 \r\nQ 3034 2003 2786 2293 \r\nQ 2538 2584 2113 2584 \r\nz\r\nM 3366 4563 \r\nL 3366 3988 \r\nQ 3128 4100 2886 4159 \r\nQ 2644 4219 2406 4219 \r\nQ 1781 4219 1451 3797 \r\nQ 1122 3375 1075 2522 \r\nQ 1259 2794 1537 2939 \r\nQ 1816 3084 2150 3084 \r\nQ 2853 3084 3261 2657 \r\nQ 3669 2231 3669 1497 \r\nQ 3669 778 3244 343 \r\nQ 2819 -91 2113 -91 \r\nQ 1303 -91 875 529 \r\nQ 447 1150 447 2328 \r\nQ 447 3434 972 4092 \r\nQ 1497 4750 2381 4750 \r\nQ 2619 4750 2861 4703 \r\nQ 3103 4656 3366 4563 \r\nz\r\n\" id=\"DejaVuSans-36\" transform=\"scale(0.015625)\"/>\r\n      </defs>\r\n      <use xlink:href=\"#DejaVuSans-30\"/>\r\n      <use x=\"63.623047\" xlink:href=\"#DejaVuSans-2e\"/>\r\n      <use x=\"95.410156\" xlink:href=\"#DejaVuSans-36\"/>\r\n     </g>\r\n    </g>\r\n   </g>\r\n   <g id=\"xtick_5\">\r\n    <g id=\"line2d_6\">\r\n     <path d=\"M 155.748792 264.597136 \r\nL 153.437037 266.861867 \r\n\" style=\"fill:none;stroke:#000000;stroke-linecap:square;stroke-width:0.8;\"/>\r\n    </g>\r\n    <g id=\"text_5\">\r\n     <!-- 0.8 -->\r\n     <g transform=\"translate(139.622577 289.402356)scale(0.1 -0.1)\">\r\n      <defs>\r\n       <path d=\"M 2034 2216 \r\nQ 1584 2216 1326 1975 \r\nQ 1069 1734 1069 1313 \r\nQ 1069 891 1326 650 \r\nQ 1584 409 2034 409 \r\nQ 2484 409 2743 651 \r\nQ 3003 894 3003 1313 \r\nQ 3003 1734 2745 1975 \r\nQ 2488 2216 2034 2216 \r\nz\r\nM 1403 2484 \r\nQ 997 2584 770 2862 \r\nQ 544 3141 544 3541 \r\nQ 544 4100 942 4425 \r\nQ 1341 4750 2034 4750 \r\nQ 2731 4750 3128 4425 \r\nQ 3525 4100 3525 3541 \r\nQ 3525 3141 3298 2862 \r\nQ 3072 2584 2669 2484 \r\nQ 3125 2378 3379 2068 \r\nQ 3634 1759 3634 1313 \r\nQ 3634 634 3220 271 \r\nQ 2806 -91 2034 -91 \r\nQ 1263 -91 848 271 \r\nQ 434 634 434 1313 \r\nQ 434 1759 690 2068 \r\nQ 947 2378 1403 2484 \r\nz\r\nM 1172 3481 \r\nQ 1172 3119 1398 2916 \r\nQ 1625 2713 2034 2713 \r\nQ 2441 2713 2670 2916 \r\nQ 2900 3119 2900 3481 \r\nQ 2900 3844 2670 4047 \r\nQ 2441 4250 2034 4250 \r\nQ 1625 4250 1398 4047 \r\nQ 1172 3844 1172 3481 \r\nz\r\n\" id=\"DejaVuSans-38\" transform=\"scale(0.015625)\"/>\r\n      </defs>\r\n      <use xlink:href=\"#DejaVuSans-30\"/>\r\n      <use x=\"63.623047\" xlink:href=\"#DejaVuSans-2e\"/>\r\n      <use x=\"95.410156\" xlink:href=\"#DejaVuSans-38\"/>\r\n     </g>\r\n    </g>\r\n   </g>\r\n   <g id=\"xtick_6\">\r\n    <g id=\"line2d_7\">\r\n     <path d=\"M 188.069159 275.142536 \r\nL 185.806144 277.454573 \r\n\" style=\"fill:none;stroke:#000000;stroke-linecap:square;stroke-width:0.8;\"/>\r\n    </g>\r\n    <g id=\"text_6\">\r\n     <!-- 1.0 -->\r\n     <g transform=\"translate(171.998549 300.173059)scale(0.1 -0.1)\">\r\n      <defs>\r\n       <path d=\"M 794 531 \r\nL 1825 531 \r\nL 1825 4091 \r\nL 703 3866 \r\nL 703 4441 \r\nL 1819 4666 \r\nL 2450 4666 \r\nL 2450 531 \r\nL 3481 531 \r\nL 3481 0 \r\nL 794 0 \r\nL 794 531 \r\nz\r\n\" id=\"DejaVuSans-31\" transform=\"scale(0.015625)\"/>\r\n      </defs>\r\n      <use xlink:href=\"#DejaVuSans-31\"/>\r\n      <use x=\"63.623047\" xlink:href=\"#DejaVuSans-2e\"/>\r\n      <use x=\"95.410156\" xlink:href=\"#DejaVuSans-30\"/>\r\n     </g>\r\n    </g>\r\n   </g>\r\n  </g>\r\n  <g id=\"axis3d_2\">\r\n   <g id=\"line2d_8\">\r\n    <path d=\"M 276.665801 188.82637 \r\nL 190.723018 277.024808 \r\n\" style=\"fill:none;stroke:#000000;stroke-linecap:square;stroke-width:0.8;\"/>\r\n   </g>\r\n   <g id=\"Line3DCollection_2\">\r\n    <path d=\"M 25.247271 100.635649 \r\nL 31.013696 222.455234 \r\nL 192.599577 275.098997 \r\n\" style=\"fill:none;stroke:#b0b0b0;stroke-width:0.8;\"/>\r\n    <path d=\"M 45.720441 85.695262 \r\nL 50.496205 206.124609 \r\nL 210.263299 256.971673 \r\n\" style=\"fill:none;stroke:#b0b0b0;stroke-width:0.8;\"/>\r\n    <path d=\"M 65.488062 71.269753 \r\nL 69.336139 190.332602 \r\nL 227.314037 239.473421 \r\n\" style=\"fill:none;stroke:#b0b0b0;stroke-width:0.8;\"/>\r\n    <path d=\"M 84.585989 57.332955 \r\nL 87.564774 175.052999 \r\nL 243.783156 222.572054 \r\n\" style=\"fill:none;stroke:#b0b0b0;stroke-width:0.8;\"/>\r\n    <path d=\"M 103.047688 43.860449 \r\nL 105.211386 160.261259 \r\nL 259.699914 206.237544 \r\n\" style=\"fill:none;stroke:#b0b0b0;stroke-width:0.8;\"/>\r\n    <path d=\"M 120.904429 30.829412 \r\nL 122.303413 145.934383 \r\nL 275.091644 190.441843 \r\n\" style=\"fill:none;stroke:#b0b0b0;stroke-width:0.8;\"/>\r\n   </g>\r\n   <g id=\"xtick_7\">\r\n    <g id=\"line2d_9\">\r\n     <path d=\"M 191.237606 274.655275 \r\nL 195.327056 275.987594 \r\n\" style=\"fill:none;stroke:#000000;stroke-linecap:square;stroke-width:0.8;\"/>\r\n    </g>\r\n    <g id=\"text_7\">\r\n     <!-- 0.0 -->\r\n     <g transform=\"translate(197.57845 296.177303)scale(0.1 -0.1)\">\r\n      <use xlink:href=\"#DejaVuSans-30\"/>\r\n      <use x=\"63.623047\" xlink:href=\"#DejaVuSans-2e\"/>\r\n      <use x=\"95.410156\" xlink:href=\"#DejaVuSans-30\"/>\r\n     </g>\r\n    </g>\r\n   </g>\r\n   <g id=\"xtick_8\">\r\n    <g id=\"line2d_10\">\r\n     <path d=\"M 208.917868 256.543479 \r\nL 212.957595 257.829152 \r\n\" style=\"fill:none;stroke:#000000;stroke-linecap:square;stroke-width:0.8;\"/>\r\n    </g>\r\n    <g id=\"text_8\">\r\n     <!-- 0.2 -->\r\n     <g transform=\"translate(215.023362 277.80193)scale(0.1 -0.1)\">\r\n      <use xlink:href=\"#DejaVuSans-30\"/>\r\n      <use x=\"63.623047\" xlink:href=\"#DejaVuSans-2e\"/>\r\n      <use x=\"95.410156\" xlink:href=\"#DejaVuSans-32\"/>\r\n     </g>\r\n    </g>\r\n   </g>\r\n   <g id=\"xtick_9\">\r\n    <g id=\"line2d_11\">\r\n     <path d=\"M 225.984827 239.059955 \r\nL 229.97579 240.301389 \r\n\" style=\"fill:none;stroke:#000000;stroke-linecap:square;stroke-width:0.8;\"/>\r\n    </g>\r\n    <g id=\"text_9\">\r\n     <!-- 0.4 -->\r\n     <g transform=\"translate(231.862559 260.064581)scale(0.1 -0.1)\">\r\n      <use xlink:href=\"#DejaVuSans-30\"/>\r\n      <use x=\"63.623047\" xlink:href=\"#DejaVuSans-2e\"/>\r\n      <use x=\"95.410156\" xlink:href=\"#DejaVuSans-34\"/>\r\n     </g>\r\n    </g>\r\n   </g>\r\n   <g id=\"xtick_10\">\r\n    <g id=\"line2d_12\">\r\n     <path d=\"M 242.469852 222.172569 \r\nL 246.412998 223.372009 \r\n\" style=\"fill:none;stroke:#000000;stroke-linecap:square;stroke-width:0.8;\"/>\r\n    </g>\r\n    <g id=\"text_10\">\r\n     <!-- 0.6 -->\r\n     <g transform=\"translate(248.127049 242.932591)scale(0.1 -0.1)\">\r\n      <use xlink:href=\"#DejaVuSans-30\"/>\r\n      <use x=\"63.623047\" xlink:href=\"#DejaVuSans-2e\"/>\r\n      <use x=\"95.410156\" xlink:href=\"#DejaVuSans-36\"/>\r\n     </g>\r\n    </g>\r\n   </g>\r\n   <g id=\"xtick_11\">\r\n    <g id=\"line2d_13\">\r\n     <path d=\"M 258.402207 205.851342 \r\nL 262.298473 207.010884 \r\n\" style=\"fill:none;stroke:#000000;stroke-linecap:square;stroke-width:0.8;\"/>\r\n    </g>\r\n    <g id=\"text_11\">\r\n     <!-- 0.8 -->\r\n     <g transform=\"translate(263.84576 226.375491)scale(0.1 -0.1)\">\r\n      <use xlink:href=\"#DejaVuSans-30\"/>\r\n      <use x=\"63.623047\" xlink:href=\"#DejaVuSans-2e\"/>\r\n      <use x=\"95.410156\" xlink:href=\"#DejaVuSans-38\"/>\r\n     </g>\r\n    </g>\r\n   </g>\r\n   <g id=\"xtick_12\">\r\n    <g id=\"line2d_14\">\r\n     <path d=\"M 273.809227 190.068273 \r\nL 277.659534 191.189874 \r\n\" style=\"fill:none;stroke:#000000;stroke-linecap:square;stroke-width:0.8;\"/>\r\n    </g>\r\n    <g id=\"text_12\">\r\n     <!-- 1.0 -->\r\n     <g transform=\"translate(279.04571 210.36482)scale(0.1 -0.1)\">\r\n      <use xlink:href=\"#DejaVuSans-31\"/>\r\n      <use x=\"63.623047\" xlink:href=\"#DejaVuSans-2e\"/>\r\n      <use x=\"95.410156\" xlink:href=\"#DejaVuSans-30\"/>\r\n     </g>\r\n    </g>\r\n   </g>\r\n  </g>\r\n  <g id=\"axis3d_3\">\r\n   <g id=\"line2d_15\">\r\n    <path d=\"M 276.665801 188.82637 \r\nL 282.112015 69.89499 \r\n\" style=\"fill:none;stroke:#000000;stroke-linecap:square;stroke-width:0.8;\"/>\r\n   </g>\r\n   <g id=\"Line3DCollection_3\">\r\n    <path d=\"M 276.770145 186.547777 \r\nL 124.02761 142.260563 \r\nL 28.833643 221.855562 \r\n\" style=\"fill:none;stroke:#b0b0b0;stroke-width:0.8;\"/>\r\n    <path d=\"M 277.781031 164.472617 \r\nL 123.781813 120.885457 \r\nL 27.744885 199.246791 \r\n\" style=\"fill:none;stroke:#b0b0b0;stroke-width:0.8;\"/>\r\n    <path d=\"M 278.808854 142.027589 \r\nL 123.532096 99.169391 \r\nL 26.637186 176.244706 \r\n\" style=\"fill:none;stroke:#b0b0b0;stroke-width:0.8;\"/>\r\n    <path d=\"M 279.854043 119.20332 \r\nL 123.278363 77.104142 \r\nL 25.510048 152.838953 \r\n\" style=\"fill:none;stroke:#b0b0b0;stroke-width:0.8;\"/>\r\n    <path d=\"M 280.917043 95.990116 \r\nL 123.020517 54.681219 \r\nL 24.362955 129.018812 \r\n\" style=\"fill:none;stroke:#b0b0b0;stroke-width:0.8;\"/>\r\n    <path d=\"M 281.998313 72.37795 \r\nL 122.758458 31.891855 \r\nL 23.195371 104.77318 \r\n\" style=\"fill:none;stroke:#b0b0b0;stroke-width:0.8;\"/>\r\n   </g>\r\n   <g id=\"xtick_13\">\r\n    <g id=\"line2d_16\">\r\n     <path d=\"M 275.488163 186.17607 \r\nL 279.337161 187.292075 \r\n\" style=\"fill:none;stroke:#000000;stroke-linecap:square;stroke-width:0.8;\"/>\r\n    </g>\r\n    <g id=\"text_13\">\r\n     <!-- 0.0 -->\r\n     <g transform=\"translate(287.086714 191.544712)scale(0.1 -0.1)\">\r\n      <use xlink:href=\"#DejaVuSans-30\"/>\r\n      <use x=\"63.623047\" xlink:href=\"#DejaVuSans-2e\"/>\r\n      <use x=\"95.410156\" xlink:href=\"#DejaVuSans-30\"/>\r\n     </g>\r\n    </g>\r\n   </g>\r\n   <g id=\"xtick_14\">\r\n    <g id=\"line2d_17\">\r\n     <path d=\"M 276.487998 164.106643 \r\nL 280.370199 165.205442 \r\n\" style=\"fill:none;stroke:#000000;stroke-linecap:square;stroke-width:0.8;\"/>\r\n    </g>\r\n    <g id=\"text_14\">\r\n     <!-- 0.2 -->\r\n     <g transform=\"translate(288.246117 169.509729)scale(0.1 -0.1)\">\r\n      <use xlink:href=\"#DejaVuSans-30\"/>\r\n      <use x=\"63.623047\" xlink:href=\"#DejaVuSans-2e\"/>\r\n      <use x=\"95.410156\" xlink:href=\"#DejaVuSans-32\"/>\r\n     </g>\r\n    </g>\r\n   </g>\r\n   <g id=\"xtick_15\">\r\n    <g id=\"line2d_18\">\r\n     <path d=\"M 277.504579 141.667594 \r\nL 281.420559 142.74845 \r\n\" style=\"fill:none;stroke:#000000;stroke-linecap:square;stroke-width:0.8;\"/>\r\n    </g>\r\n    <g id=\"text_15\">\r\n     <!-- 0.4 -->\r\n     <g transform=\"translate(289.424892 147.106593)scale(0.1 -0.1)\">\r\n      <use xlink:href=\"#DejaVuSans-30\"/>\r\n      <use x=\"63.623047\" xlink:href=\"#DejaVuSans-2e\"/>\r\n      <use x=\"95.410156\" xlink:href=\"#DejaVuSans-34\"/>\r\n     </g>\r\n    </g>\r\n   </g>\r\n   <g id=\"xtick_16\">\r\n    <g id=\"line2d_19\">\r\n     <path d=\"M 278.53833 118.849559 \r\nL 282.488681 119.911707 \r\n\" style=\"fill:none;stroke:#000000;stroke-linecap:square;stroke-width:0.8;\"/>\r\n    </g>\r\n    <g id=\"text_16\">\r\n     <!-- 0.6 -->\r\n     <g transform=\"translate(290.623527 124.326)scale(0.1 -0.1)\">\r\n      <use xlink:href=\"#DejaVuSans-30\"/>\r\n      <use x=\"63.623047\" xlink:href=\"#DejaVuSans-2e\"/>\r\n      <use x=\"95.410156\" xlink:href=\"#DejaVuSans-36\"/>\r\n     </g>\r\n    </g>\r\n   </g>\r\n   <g id=\"xtick_17\">\r\n    <g id=\"line2d_20\">\r\n     <path d=\"M 279.589689 95.642854 \r\nL 283.575019 96.685496 \r\n\" style=\"fill:none;stroke:#000000;stroke-linecap:square;stroke-width:0.8;\"/>\r\n    </g>\r\n    <g id=\"text_17\">\r\n     <!-- 0.8 -->\r\n     <g transform=\"translate(291.842528 101.158328)scale(0.1 -0.1)\">\r\n      <use xlink:href=\"#DejaVuSans-30\"/>\r\n      <use x=\"63.623047\" xlink:href=\"#DejaVuSans-2e\"/>\r\n      <use x=\"95.410156\" xlink:href=\"#DejaVuSans-38\"/>\r\n     </g>\r\n    </g>\r\n   </g>\r\n   <g id=\"xtick_18\">\r\n    <g id=\"line2d_21\">\r\n     <path d=\"M 280.65911 72.037463 \r\nL 284.680044 73.059769 \r\n\" style=\"fill:none;stroke:#000000;stroke-linecap:square;stroke-width:0.8;\"/>\r\n    </g>\r\n    <g id=\"text_18\">\r\n     <!-- 1.0 -->\r\n     <g transform=\"translate(293.08242 77.593629)scale(0.1 -0.1)\">\r\n      <use xlink:href=\"#DejaVuSans-31\"/>\r\n      <use x=\"63.623047\" xlink:href=\"#DejaVuSans-2e\"/>\r\n      <use x=\"95.410156\" xlink:href=\"#DejaVuSans-30\"/>\r\n     </g>\r\n    </g>\r\n   </g>\r\n  </g>\r\n  <g id=\"axes_1\"/>\r\n  <g id=\"patch_6\">\r\n   <path d=\"M 47.88 259.2 \r\nL 265.32 259.2 \r\nL 265.32 41.76 \r\nL 47.88 41.76 \r\nz\r\n\" style=\"fill:#ffffff;\"/>\r\n  </g>\r\n  <g id=\"pane3d_4\">\r\n   <g id=\"patch_7\">\r\n    <path d=\"M 64.29822 205.586264 \r\nL 136.104009 145.397228 \r\nL 135.10584 58.593878 \r\nL 59.863773 113.502111 \r\n\" style=\"fill:#f2f2f2;opacity:0.5;stroke:#f2f2f2;stroke-linejoin:miter;\"/>\r\n   </g>\r\n  </g>\r\n  <g id=\"pane3d_5\">\r\n   <g id=\"patch_8\">\r\n    <path d=\"M 136.104009 145.397228 \r\nL 251.32668 178.88791 \r\nL 255.438571 89.094718 \r\nL 135.10584 58.593878 \r\n\" style=\"fill:#e6e6e6;opacity:0.5;stroke:#e6e6e6;stroke-linejoin:miter;\"/>\r\n   </g>\r\n  </g>\r\n  <g id=\"pane3d_6\">\r\n   <g id=\"patch_9\">\r\n    <path d=\"M 64.29822 205.586264 \r\nL 186.439879 245.47773 \r\nL 251.32668 178.88791 \r\nL 136.104009 145.397228 \r\n\" style=\"fill:#ececec;opacity:0.5;stroke:#ececec;stroke-linejoin:miter;\"/>\r\n   </g>\r\n  </g>\r\n  <g id=\"axis3d_4\">\r\n   <g id=\"line2d_22\">\r\n    <path d=\"M 64.29822 205.586264 \r\nL 186.439879 245.47773 \r\n\" style=\"fill:none;stroke:#000000;stroke-linecap:square;stroke-width:0.8;\"/>\r\n   </g>\r\n   <g id=\"Line3DCollection_4\">\r\n    <path d=\"M 89.581649 213.843832 \r\nL 160.038816 152.354131 \r\nL 160.06036 64.919121 \r\n\" style=\"fill:none;stroke:#b0b0b0;stroke-width:0.8;\"/>\r\n    <path d=\"M 119.428219 223.591722 \r\nL 188.237048 160.550244 \r\nL 189.488022 72.378176 \r\n\" style=\"fill:none;stroke:#b0b0b0;stroke-width:0.8;\"/>\r\n    <path d=\"M 150.066311 233.598123 \r\nL 217.119859 168.945337 \r\nL 219.661647 80.02631 \r\n\" style=\"fill:none;stroke:#b0b0b0;stroke-width:0.8;\"/>\r\n    <path d=\"M 181.527834 243.873456 \r\nL 246.712485 177.546745 \r\nL 250.609964 87.870806 \r\n\" style=\"fill:none;stroke:#b0b0b0;stroke-width:0.8;\"/>\r\n   </g>\r\n   <g id=\"xtick_19\">\r\n    <g id=\"line2d_23\">\r\n     <path d=\"M 90.19558 213.30804 \r\nL 88.351132 214.917735 \r\n\" style=\"fill:none;stroke:#000000;stroke-linecap:square;stroke-width:0.8;\"/>\r\n    </g>\r\n    <g id=\"text_19\">\r\n     <!-- −2 -->\r\n     <g transform=\"translate(74.697486 237.317726)scale(0.1 -0.1)\">\r\n      <defs>\r\n       <path d=\"M 678 2272 \r\nL 4684 2272 \r\nL 4684 1741 \r\nL 678 1741 \r\nL 678 2272 \r\nz\r\n\" id=\"DejaVuSans-2212\" transform=\"scale(0.015625)\"/>\r\n      </defs>\r\n      <use xlink:href=\"#DejaVuSans-2212\"/>\r\n      <use x=\"83.789062\" xlink:href=\"#DejaVuSans-32\"/>\r\n     </g>\r\n    </g>\r\n   </g>\r\n   <g id=\"xtick_20\">\r\n    <g id=\"line2d_24\">\r\n     <path d=\"M 120.028429 223.04182 \r\nL 118.225169 224.693936 \r\n\" style=\"fill:none;stroke:#000000;stroke-linecap:square;stroke-width:0.8;\"/>\r\n    </g>\r\n    <g id=\"text_20\">\r\n     <!-- 0 -->\r\n     <g transform=\"translate(108.773899 247.319657)scale(0.1 -0.1)\">\r\n      <use xlink:href=\"#DejaVuSans-30\"/>\r\n     </g>\r\n    </g>\r\n   </g>\r\n   <g id=\"xtick_21\">\r\n    <g id=\"line2d_25\">\r\n     <path d=\"M 150.651852 233.033546 \r\nL 148.892629 234.729783 \r\n\" style=\"fill:none;stroke:#000000;stroke-linecap:square;stroke-width:0.8;\"/>\r\n    </g>\r\n    <g id=\"text_21\">\r\n     <!-- 2 -->\r\n     <g transform=\"translate(139.456785 257.588086)scale(0.1 -0.1)\">\r\n      <use xlink:href=\"#DejaVuSans-32\"/>\r\n     </g>\r\n    </g>\r\n   </g>\r\n   <g id=\"xtick_22\">\r\n    <g id=\"line2d_26\">\r\n     <path d=\"M 182.097696 243.29361 \r\nL 180.385545 245.035759 \r\n\" style=\"fill:none;stroke:#000000;stroke-linecap:square;stroke-width:0.8;\"/>\r\n    </g>\r\n    <g id=\"text_22\">\r\n     <!-- 4 -->\r\n     <g transform=\"translate(170.968245 268.133807)scale(0.1 -0.1)\">\r\n      <use xlink:href=\"#DejaVuSans-34\"/>\r\n     </g>\r\n    </g>\r\n   </g>\r\n  </g>\r\n  <g id=\"axis3d_5\">\r\n   <g id=\"line2d_27\">\r\n    <path d=\"M 251.32668 178.88791 \r\nL 186.439879 245.47773 \r\n\" style=\"fill:none;stroke:#000000;stroke-linecap:square;stroke-width:0.8;\"/>\r\n   </g>\r\n   <g id=\"Line3DCollection_5\">\r\n    <path d=\"M 72.155598 104.532097 \r\nL 75.991463 195.784756 \r\nL 197.04551 234.593744 \r\n\" style=\"fill:none;stroke:#b0b0b0;stroke-width:0.8;\"/>\r\n    <path d=\"M 85.17637 95.03013 \r\nL 88.393969 185.388729 \r\nL 208.277755 223.066697 \r\n\" style=\"fill:none;stroke:#b0b0b0;stroke-width:0.8;\"/>\r\n    <path d=\"M 97.813554 85.808089 \r\nL 100.446688 175.285902 \r\nL 219.176805 211.88159 \r\n\" style=\"fill:none;stroke:#b0b0b0;stroke-width:0.8;\"/>\r\n    <path d=\"M 110.083854 76.853783 \r\nL 112.16421 165.464042 \r\nL 229.757269 201.023432 \r\n\" style=\"fill:none;stroke:#b0b0b0;stroke-width:0.8;\"/>\r\n    <path d=\"M 122.003019 68.155719 \r\nL 123.560328 155.91159 \r\nL 240.032913 190.478093 \r\n\" style=\"fill:none;stroke:#b0b0b0;stroke-width:0.8;\"/>\r\n    <path d=\"M 133.585908 59.703054 \r\nL 134.648086 146.617611 \r\nL 250.016724 180.232246 \r\n\" style=\"fill:none;stroke:#b0b0b0;stroke-width:0.8;\"/>\r\n   </g>\r\n   <g id=\"xtick_23\">\r\n    <g id=\"line2d_28\">\r\n     <path d=\"M 196.025804 234.266834 \r\nL 199.087537 235.248402 \r\n\" style=\"fill:none;stroke:#000000;stroke-linecap:square;stroke-width:0.8;\"/>\r\n    </g>\r\n    <g id=\"text_23\">\r\n     <!-- −1.0 -->\r\n     <g transform=\"translate(197.686087 255.503472)scale(0.1 -0.1)\">\r\n      <use xlink:href=\"#DejaVuSans-2212\"/>\r\n      <use x=\"83.789062\" xlink:href=\"#DejaVuSans-31\"/>\r\n      <use x=\"147.412109\" xlink:href=\"#DejaVuSans-2e\"/>\r\n      <use x=\"179.199219\" xlink:href=\"#DejaVuSans-30\"/>\r\n     </g>\r\n    </g>\r\n   </g>\r\n   <g id=\"xtick_24\">\r\n    <g id=\"line2d_29\">\r\n     <path d=\"M 207.268671 222.749554 \r\nL 210.298473 223.701783 \r\n\" style=\"fill:none;stroke:#000000;stroke-linecap:square;stroke-width:0.8;\"/>\r\n    </g>\r\n    <g id=\"text_24\">\r\n     <!-- −0.5 -->\r\n     <g transform=\"translate(208.733799 243.767621)scale(0.1 -0.1)\">\r\n      <defs>\r\n       <path d=\"M 691 4666 \r\nL 3169 4666 \r\nL 3169 4134 \r\nL 1269 4134 \r\nL 1269 2991 \r\nQ 1406 3038 1543 3061 \r\nQ 1681 3084 1819 3084 \r\nQ 2600 3084 3056 2656 \r\nQ 3513 2228 3513 1497 \r\nQ 3513 744 3044 326 \r\nQ 2575 -91 1722 -91 \r\nQ 1428 -91 1123 -41 \r\nQ 819 9 494 109 \r\nL 494 744 \r\nQ 775 591 1075 516 \r\nQ 1375 441 1709 441 \r\nQ 2250 441 2565 725 \r\nQ 2881 1009 2881 1497 \r\nQ 2881 1984 2565 2268 \r\nQ 2250 2553 1709 2553 \r\nQ 1456 2553 1204 2497 \r\nQ 953 2441 691 2322 \r\nL 691 4666 \r\nz\r\n\" id=\"DejaVuSans-35\" transform=\"scale(0.015625)\"/>\r\n      </defs>\r\n      <use xlink:href=\"#DejaVuSans-2212\"/>\r\n      <use x=\"83.789062\" xlink:href=\"#DejaVuSans-30\"/>\r\n      <use x=\"147.412109\" xlink:href=\"#DejaVuSans-2e\"/>\r\n      <use x=\"179.199219\" xlink:href=\"#DejaVuSans-35\"/>\r\n     </g>\r\n    </g>\r\n   </g>\r\n   <g id=\"xtick_25\">\r\n    <g id=\"line2d_30\">\r\n     <path d=\"M 218.178166 211.573784 \r\nL 221.176569 212.497969 \r\n\" style=\"fill:none;stroke:#000000;stroke-linecap:square;stroke-width:0.8;\"/>\r\n    </g>\r\n    <g id=\"text_25\">\r\n     <!-- 0.0 -->\r\n     <g transform=\"translate(223.643402 232.38015)scale(0.1 -0.1)\">\r\n      <use xlink:href=\"#DejaVuSans-30\"/>\r\n      <use x=\"63.623047\" xlink:href=\"#DejaVuSans-2e\"/>\r\n      <use x=\"95.410156\" xlink:href=\"#DejaVuSans-30\"/>\r\n     </g>\r\n    </g>\r\n   </g>\r\n   <g id=\"xtick_26\">\r\n    <g id=\"line2d_31\">\r\n     <path d=\"M 228.768899 200.724555 \r\nL 231.736431 201.621918 \r\n\" style=\"fill:none;stroke:#000000;stroke-linecap:square;stroke-width:0.8;\"/>\r\n    </g>\r\n    <g id=\"text_26\">\r\n     <!-- 0.5 -->\r\n     <g transform=\"translate(234.049597 221.325774)scale(0.1 -0.1)\">\r\n      <use xlink:href=\"#DejaVuSans-30\"/>\r\n      <use x=\"63.623047\" xlink:href=\"#DejaVuSans-2e\"/>\r\n      <use x=\"95.410156\" xlink:href=\"#DejaVuSans-35\"/>\r\n     </g>\r\n    </g>\r\n   </g>\r\n   <g id=\"xtick_27\">\r\n    <g id=\"line2d_32\">\r\n     <path d=\"M 239.054641 190.187763 \r\nL 241.991823 191.059454 \r\n\" style=\"fill:none;stroke:#000000;stroke-linecap:square;stroke-width:0.8;\"/>\r\n    </g>\r\n    <g id=\"text_27\">\r\n     <!-- 1.0 -->\r\n     <g transform=\"translate(244.155789 210.590089)scale(0.1 -0.1)\">\r\n      <use xlink:href=\"#DejaVuSans-31\"/>\r\n      <use x=\"63.623047\" xlink:href=\"#DejaVuSans-2e\"/>\r\n      <use x=\"95.410156\" xlink:href=\"#DejaVuSans-30\"/>\r\n     </g>\r\n    </g>\r\n   </g>\r\n   <g id=\"xtick_28\">\r\n    <g id=\"line2d_33\">\r\n     <path d=\"M 249.048378 179.950102 \r\nL 251.955725 180.797208 \r\n\" style=\"fill:none;stroke:#000000;stroke-linecap:square;stroke-width:0.8;\"/>\r\n    </g>\r\n    <g id=\"text_28\">\r\n     <!-- 1.5 -->\r\n     <g transform=\"translate(253.974767 200.159508)scale(0.1 -0.1)\">\r\n      <use xlink:href=\"#DejaVuSans-31\"/>\r\n      <use x=\"63.623047\" xlink:href=\"#DejaVuSans-2e\"/>\r\n      <use x=\"95.410156\" xlink:href=\"#DejaVuSans-35\"/>\r\n     </g>\r\n    </g>\r\n   </g>\r\n  </g>\r\n  <g id=\"axis3d_6\">\r\n   <g id=\"line2d_34\">\r\n    <path d=\"M 251.32668 178.88791 \r\nL 255.438571 89.094718 \r\n\" style=\"fill:none;stroke:#000000;stroke-linecap:square;stroke-width:0.8;\"/>\r\n   </g>\r\n   <g id=\"Line3DCollection_6\">\r\n    <path d=\"M 251.44537 176.296033 \r\nL 136.075138 142.886511 \r\nL 64.170429 202.932608 \r\n\" style=\"fill:none;stroke:#b0b0b0;stroke-width:0.8;\"/>\r\n    <path d=\"M 252.041168 163.285327 \r\nL 135.930263 130.287838 \r\nL 63.528757 189.60788 \r\n\" style=\"fill:none;stroke:#b0b0b0;stroke-width:0.8;\"/>\r\n    <path d=\"M 252.644741 150.104833 \r\nL 135.783588 117.532615 \r\nL 62.878392 176.10263 \r\n\" style=\"fill:none;stroke:#b0b0b0;stroke-width:0.8;\"/>\r\n    <path d=\"M 253.256242 136.751207 \r\nL 135.635079 104.617908 \r\nL 62.219156 162.413163 \r\n\" style=\"fill:none;stroke:#b0b0b0;stroke-width:0.8;\"/>\r\n    <path d=\"M 253.875829 123.221013 \r\nL 135.484702 91.540707 \r\nL 61.550866 148.535686 \r\n\" style=\"fill:none;stroke:#b0b0b0;stroke-width:0.8;\"/>\r\n    <path d=\"M 254.503663 109.510728 \r\nL 135.33242 78.297924 \r\nL 60.873334 134.466298 \r\n\" style=\"fill:none;stroke:#b0b0b0;stroke-width:0.8;\"/>\r\n    <path d=\"M 255.139909 95.616731 \r\nL 135.178198 64.886396 \r\nL 60.186367 120.200991 \r\n\" style=\"fill:none;stroke:#b0b0b0;stroke-width:0.8;\"/>\r\n   </g>\r\n   <g id=\"xtick_29\">\r\n    <g id=\"line2d_35\">\r\n     <path d=\"M 250.477037 176.015618 \r\nL 253.384341 176.857531 \r\n\" style=\"fill:none;stroke:#000000;stroke-linecap:square;stroke-width:0.8;\"/>\r\n    </g>\r\n    <g id=\"text_29\">\r\n     <!-- −0.75 -->\r\n     <g transform=\"translate(254.382173 181.297383)scale(0.1 -0.1)\">\r\n      <defs>\r\n       <path d=\"M 525 4666 \r\nL 3525 4666 \r\nL 3525 4397 \r\nL 1831 0 \r\nL 1172 0 \r\nL 2766 4134 \r\nL 525 4134 \r\nL 525 4666 \r\nz\r\n\" id=\"DejaVuSans-37\" transform=\"scale(0.015625)\"/>\r\n      </defs>\r\n      <use xlink:href=\"#DejaVuSans-2212\"/>\r\n      <use x=\"83.789062\" xlink:href=\"#DejaVuSans-30\"/>\r\n      <use x=\"147.412109\" xlink:href=\"#DejaVuSans-2e\"/>\r\n      <use x=\"179.199219\" xlink:href=\"#DejaVuSans-37\"/>\r\n      <use x=\"242.822266\" xlink:href=\"#DejaVuSans-35\"/>\r\n     </g>\r\n    </g>\r\n   </g>\r\n   <g id=\"xtick_30\">\r\n    <g id=\"line2d_36\">\r\n     <path d=\"M 251.066323 163.008286 \r\nL 253.993195 163.840072 \r\n\" style=\"fill:none;stroke:#000000;stroke-linecap:square;stroke-width:0.8;\"/>\r\n    </g>\r\n    <g id=\"text_30\">\r\n     <!-- −0.50 -->\r\n     <g transform=\"translate(255.093701 168.317982)scale(0.1 -0.1)\">\r\n      <use xlink:href=\"#DejaVuSans-2212\"/>\r\n      <use x=\"83.789062\" xlink:href=\"#DejaVuSans-30\"/>\r\n      <use x=\"147.412109\" xlink:href=\"#DejaVuSans-2e\"/>\r\n      <use x=\"179.199219\" xlink:href=\"#DejaVuSans-35\"/>\r\n      <use x=\"242.822266\" xlink:href=\"#DejaVuSans-30\"/>\r\n     </g>\r\n    </g>\r\n   </g>\r\n   <g id=\"xtick_31\">\r\n    <g id=\"line2d_37\">\r\n     <path d=\"M 251.663295 149.831279 \r\nL 254.61 150.652602 \r\n\" style=\"fill:none;stroke:#000000;stroke-linecap:square;stroke-width:0.8;\"/>\r\n    </g>\r\n    <g id=\"text_31\">\r\n     <!-- −0.25 -->\r\n     <g transform=\"translate(255.814479 155.169832)scale(0.1 -0.1)\">\r\n      <use xlink:href=\"#DejaVuSans-2212\"/>\r\n      <use x=\"83.789062\" xlink:href=\"#DejaVuSans-30\"/>\r\n      <use x=\"147.412109\" xlink:href=\"#DejaVuSans-2e\"/>\r\n      <use x=\"179.199219\" xlink:href=\"#DejaVuSans-32\"/>\r\n      <use x=\"242.822266\" xlink:href=\"#DejaVuSans-35\"/>\r\n     </g>\r\n    </g>\r\n   </g>\r\n   <g id=\"xtick_32\">\r\n    <g id=\"line2d_38\">\r\n     <path d=\"M 252.268106 136.481255 \r\nL 255.234914 137.291767 \r\n\" style=\"fill:none;stroke:#000000;stroke-linecap:square;stroke-width:0.8;\"/>\r\n    </g>\r\n    <g id=\"text_32\">\r\n     <!-- 0.00 -->\r\n     <g transform=\"translate(260.734534 141.84962)scale(0.1 -0.1)\">\r\n      <use xlink:href=\"#DejaVuSans-30\"/>\r\n      <use x=\"63.623047\" xlink:href=\"#DejaVuSans-2e\"/>\r\n      <use x=\"95.410156\" xlink:href=\"#DejaVuSans-30\"/>\r\n      <use x=\"159.033203\" xlink:href=\"#DejaVuSans-30\"/>\r\n     </g>\r\n    </g>\r\n   </g>\r\n   <g id=\"xtick_33\">\r\n    <g id=\"line2d_39\">\r\n     <path d=\"M 252.88091 122.954783 \r\nL 255.868098 123.754125 \r\n\" style=\"fill:none;stroke:#000000;stroke-linecap:square;stroke-width:0.8;\"/>\r\n    </g>\r\n    <g id=\"text_33\">\r\n     <!-- 0.25 -->\r\n     <g transform=\"translate(261.474364 128.353947)scale(0.1 -0.1)\">\r\n      <use xlink:href=\"#DejaVuSans-30\"/>\r\n      <use x=\"63.623047\" xlink:href=\"#DejaVuSans-2e\"/>\r\n      <use x=\"95.410156\" xlink:href=\"#DejaVuSans-32\"/>\r\n      <use x=\"159.033203\" xlink:href=\"#DejaVuSans-35\"/>\r\n     </g>\r\n    </g>\r\n   </g>\r\n   <g id=\"xtick_34\">\r\n    <g id=\"line2d_40\">\r\n     <path d=\"M 253.501868 109.248343 \r\nL 256.509717 110.036145 \r\n\" style=\"fill:none;stroke:#000000;stroke-linecap:square;stroke-width:0.8;\"/>\r\n    </g>\r\n    <g id=\"text_34\">\r\n     <!-- 0.50 -->\r\n     <g transform=\"translate(262.224004 114.679323)scale(0.1 -0.1)\">\r\n      <use xlink:href=\"#DejaVuSans-30\"/>\r\n      <use x=\"63.623047\" xlink:href=\"#DejaVuSans-2e\"/>\r\n      <use x=\"95.410156\" xlink:href=\"#DejaVuSans-35\"/>\r\n      <use x=\"159.033203\" xlink:href=\"#DejaVuSans-30\"/>\r\n     </g>\r\n    </g>\r\n   </g>\r\n   <g id=\"xtick_35\">\r\n    <g id=\"line2d_41\">\r\n     <path d=\"M 254.131143 95.358317 \r\nL 257.15994 96.134198 \r\n\" style=\"fill:none;stroke:#000000;stroke-linecap:square;stroke-width:0.8;\"/>\r\n    </g>\r\n    <g id=\"text_35\">\r\n     <!-- 0.75 -->\r\n     <g transform=\"translate(262.983651 100.822165)scale(0.1 -0.1)\">\r\n      <use xlink:href=\"#DejaVuSans-30\"/>\r\n      <use x=\"63.623047\" xlink:href=\"#DejaVuSans-2e\"/>\r\n      <use x=\"95.410156\" xlink:href=\"#DejaVuSans-37\"/>\r\n      <use x=\"159.033203\" xlink:href=\"#DejaVuSans-35\"/>\r\n     </g>\r\n    </g>\r\n   </g>\r\n  </g>\r\n  <g id=\"axes_2\">\r\n   <g id=\"Path3DCollection_1\">\r\n    <defs>\r\n     <path d=\"M 0 2.236068 \r\nC 0.593012 2.236068 1.161816 2.000462 1.581139 1.581139 \r\nC 2.000462 1.161816 2.236068 0.593012 2.236068 -0 \r\nC 2.236068 -0.593012 2.000462 -1.161816 1.581139 -1.581139 \r\nC 1.161816 -2.000462 0.593012 -2.236068 0 -2.236068 \r\nC -0.593012 -2.236068 -1.161816 -2.000462 -1.581139 -1.581139 \r\nC -2.000462 -1.161816 -2.236068 -0.593012 -2.236068 0 \r\nC -2.236068 0.593012 -2.000462 1.161816 -1.581139 1.581139 \r\nC -1.161816 2.000462 -0.593012 2.236068 0 2.236068 \r\nz\r\n\" id=\"C0_0_4539482830\"/>\r\n    </defs>\r\n    <g clip-path=\"url(#p885de132bc)\">\r\n     <use style=\"fill:#440154;fill-opacity:0.3;stroke:#440154;stroke-opacity:0.3;\" x=\"142.372064\" xlink:href=\"#C0_0_4539482830\" y=\"123.697713\"/>\r\n    </g>\r\n    <g clip-path=\"url(#p885de132bc)\">\r\n     <use style=\"fill:#440154;fill-opacity:0.349139;stroke:#440154;stroke-opacity:0.349139;\" x=\"149.464815\" xlink:href=\"#C0_0_4539482830\" y=\"99.199033\"/>\r\n    </g>\r\n    <g clip-path=\"url(#p885de132bc)\">\r\n     <use style=\"fill:#440154;fill-opacity:0.364703;stroke:#440154;stroke-opacity:0.364703;\" x=\"140.959209\" xlink:href=\"#C0_0_4539482830\" y=\"109.138432\"/>\r\n    </g>\r\n    <g clip-path=\"url(#p885de132bc)\">\r\n     <use style=\"fill:#440154;fill-opacity:0.374182;stroke:#440154;stroke-opacity:0.374182;\" x=\"141.806953\" xlink:href=\"#C0_0_4539482830\" y=\"129.492232\"/>\r\n    </g>\r\n    <g clip-path=\"url(#p885de132bc)\">\r\n     <use style=\"fill:#440154;fill-opacity:0.382331;stroke:#440154;stroke-opacity:0.382331;\" x=\"129.57275\" xlink:href=\"#C0_0_4539482830\" y=\"140.688844\"/>\r\n    </g>\r\n    <g clip-path=\"url(#p885de132bc)\">\r\n     <use style=\"fill:#440154;fill-opacity:0.409561;stroke:#440154;stroke-opacity:0.409561;\" x=\"132.174981\" xlink:href=\"#C0_0_4539482830\" y=\"130.132715\"/>\r\n    </g>\r\n    <g clip-path=\"url(#p885de132bc)\">\r\n     <use style=\"fill:#440154;fill-opacity:0.410067;stroke:#440154;stroke-opacity:0.410067;\" x=\"134.170139\" xlink:href=\"#C0_0_4539482830\" y=\"115.231957\"/>\r\n    </g>\r\n    <g clip-path=\"url(#p885de132bc)\">\r\n     <use style=\"fill:#440154;fill-opacity:0.422646;stroke:#440154;stroke-opacity:0.422646;\" x=\"133.810183\" xlink:href=\"#C0_0_4539482830\" y=\"110.402886\"/>\r\n    </g>\r\n    <g clip-path=\"url(#p885de132bc)\">\r\n     <use style=\"fill:#440154;fill-opacity:0.429121;stroke:#440154;stroke-opacity:0.429121;\" x=\"130.095441\" xlink:href=\"#C0_0_4539482830\" y=\"128.129501\"/>\r\n    </g>\r\n    <g clip-path=\"url(#p885de132bc)\">\r\n     <use style=\"fill:#440154;fill-opacity:0.435657;stroke:#440154;stroke-opacity:0.435657;\" x=\"129.250592\" xlink:href=\"#C0_0_4539482830\" y=\"144.459575\"/>\r\n    </g>\r\n    <g clip-path=\"url(#p885de132bc)\">\r\n     <use style=\"fill:#440154;fill-opacity:0.440432;stroke:#440154;stroke-opacity:0.440432;\" x=\"137.490666\" xlink:href=\"#C0_0_4539482830\" y=\"116.250883\"/>\r\n    </g>\r\n    <g clip-path=\"url(#p885de132bc)\">\r\n     <use style=\"fill:#440154;fill-opacity:0.443491;stroke:#440154;stroke-opacity:0.443491;\" x=\"128.196654\" xlink:href=\"#C0_0_4539482830\" y=\"138.695625\"/>\r\n    </g>\r\n    <g clip-path=\"url(#p885de132bc)\">\r\n     <use style=\"fill:#440154;fill-opacity:0.452176;stroke:#440154;stroke-opacity:0.452176;\" x=\"122.580588\" xlink:href=\"#C0_0_4539482830\" y=\"139.655836\"/>\r\n    </g>\r\n    <g clip-path=\"url(#p885de132bc)\">\r\n     <use style=\"fill:#440154;fill-opacity:0.456159;stroke:#440154;stroke-opacity:0.456159;\" x=\"124.935435\" xlink:href=\"#C0_0_4539482830\" y=\"135.326675\"/>\r\n    </g>\r\n    <g clip-path=\"url(#p885de132bc)\">\r\n     <use style=\"fill:#440154;fill-opacity:0.468308;stroke:#440154;stroke-opacity:0.468308;\" x=\"121.997318\" xlink:href=\"#C0_0_4539482830\" y=\"133.046743\"/>\r\n    </g>\r\n    <g clip-path=\"url(#p885de132bc)\">\r\n     <use style=\"fill:#440154;fill-opacity:0.472618;stroke:#440154;stroke-opacity:0.472618;\" x=\"128.259918\" xlink:href=\"#C0_0_4539482830\" y=\"119.734378\"/>\r\n    </g>\r\n    <g clip-path=\"url(#p885de132bc)\">\r\n     <use style=\"fill:#440154;fill-opacity:0.476579;stroke:#440154;stroke-opacity:0.476579;\" x=\"127.729525\" xlink:href=\"#C0_0_4539482830\" y=\"116.821465\"/>\r\n    </g>\r\n    <g clip-path=\"url(#p885de132bc)\">\r\n     <use style=\"fill:#440154;fill-opacity:0.479721;stroke:#440154;stroke-opacity:0.479721;\" x=\"121.274695\" xlink:href=\"#C0_0_4539482830\" y=\"137.953046\"/>\r\n    </g>\r\n    <g clip-path=\"url(#p885de132bc)\">\r\n     <use style=\"fill:#440154;fill-opacity:0.47998;stroke:#440154;stroke-opacity:0.47998;\" x=\"122.283075\" xlink:href=\"#C0_0_4539482830\" y=\"130.418974\"/>\r\n    </g>\r\n    <g clip-path=\"url(#p885de132bc)\">\r\n     <use style=\"fill:#440154;fill-opacity:0.48391;stroke:#440154;stroke-opacity:0.48391;\" x=\"113.593169\" xlink:href=\"#C0_0_4539482830\" y=\"144.371525\"/>\r\n    </g>\r\n    <g clip-path=\"url(#p885de132bc)\">\r\n     <use style=\"fill:#440154;fill-opacity:0.484524;stroke:#440154;stroke-opacity:0.484524;\" x=\"121.411025\" xlink:href=\"#C0_0_4539482830\" y=\"126.4034\"/>\r\n    </g>\r\n    <g clip-path=\"url(#p885de132bc)\">\r\n     <use style=\"fill:#440154;fill-opacity:0.492003;stroke:#440154;stroke-opacity:0.492003;\" x=\"126.483927\" xlink:href=\"#C0_0_4539482830\" y=\"118.7858\"/>\r\n    </g>\r\n    <g clip-path=\"url(#p885de132bc)\">\r\n     <use style=\"fill:#440154;fill-opacity:0.492222;stroke:#440154;stroke-opacity:0.492222;\" x=\"119.328551\" xlink:href=\"#C0_0_4539482830\" y=\"128.120748\"/>\r\n    </g>\r\n    <g clip-path=\"url(#p885de132bc)\">\r\n     <use style=\"fill:#440154;fill-opacity:0.492797;stroke:#440154;stroke-opacity:0.492797;\" x=\"118.990637\" xlink:href=\"#C0_0_4539482830\" y=\"127.013344\"/>\r\n    </g>\r\n    <g clip-path=\"url(#p885de132bc)\">\r\n     <use style=\"fill:#fde725;fill-opacity:0.495544;stroke:#fde725;stroke-opacity:0.495544;\" x=\"232.674038\" xlink:href=\"#C0_0_4539482830\" y=\"142.088849\"/>\r\n    </g>\r\n    <g clip-path=\"url(#p885de132bc)\">\r\n     <use style=\"fill:#440154;fill-opacity:0.495688;stroke:#440154;stroke-opacity:0.495688;\" x=\"116.769223\" xlink:href=\"#C0_0_4539482830\" y=\"140.310981\"/>\r\n    </g>\r\n    <g clip-path=\"url(#p885de132bc)\">\r\n     <use style=\"fill:#21918c;fill-opacity:0.495797;stroke:#21918c;stroke-opacity:0.495797;\" x=\"188.487311\" xlink:href=\"#C0_0_4539482830\" y=\"162.853261\"/>\r\n    </g>\r\n    <g clip-path=\"url(#p885de132bc)\">\r\n     <use style=\"fill:#440154;fill-opacity:0.499727;stroke:#440154;stroke-opacity:0.499727;\" x=\"119.136763\" xlink:href=\"#C0_0_4539482830\" y=\"135.952043\"/>\r\n    </g>\r\n    <g clip-path=\"url(#p885de132bc)\">\r\n     <use style=\"fill:#440154;fill-opacity:0.519289;stroke:#440154;stroke-opacity:0.519289;\" x=\"112.039864\" xlink:href=\"#C0_0_4539482830\" y=\"150.55406\"/>\r\n    </g>\r\n    <g clip-path=\"url(#p885de132bc)\">\r\n     <use style=\"fill:#440154;fill-opacity:0.51942;stroke:#440154;stroke-opacity:0.51942;\" x=\"131.358518\" xlink:href=\"#C0_0_4539482830\" y=\"115.186441\"/>\r\n    </g>\r\n    <g clip-path=\"url(#p885de132bc)\">\r\n     <use style=\"fill:#440154;fill-opacity:0.522516;stroke:#440154;stroke-opacity:0.522516;\" x=\"113.738277\" xlink:href=\"#C0_0_4539482830\" y=\"154.881177\"/>\r\n    </g>\r\n    <g clip-path=\"url(#p885de132bc)\">\r\n     <use style=\"fill:#440154;fill-opacity:0.527073;stroke:#440154;stroke-opacity:0.527073;\" x=\"109.934276\" xlink:href=\"#C0_0_4539482830\" y=\"152.310731\"/>\r\n    </g>\r\n    <g clip-path=\"url(#p885de132bc)\">\r\n     <use style=\"fill:#440154;fill-opacity:0.531152;stroke:#440154;stroke-opacity:0.531152;\" x=\"112.30923\" xlink:href=\"#C0_0_4539482830\" y=\"147.937764\"/>\r\n    </g>\r\n    <g clip-path=\"url(#p885de132bc)\">\r\n     <use style=\"fill:#440154;fill-opacity:0.531193;stroke:#440154;stroke-opacity:0.531193;\" x=\"120.525736\" xlink:href=\"#C0_0_4539482830\" y=\"130.948685\"/>\r\n    </g>\r\n    <g clip-path=\"url(#p885de132bc)\">\r\n     <use style=\"fill:#440154;fill-opacity:0.533851;stroke:#440154;stroke-opacity:0.533851;\" x=\"109.507757\" xlink:href=\"#C0_0_4539482830\" y=\"117.118002\"/>\r\n    </g>\r\n    <g clip-path=\"url(#p885de132bc)\">\r\n     <use style=\"fill:#440154;fill-opacity:0.534432;stroke:#440154;stroke-opacity:0.534432;\" x=\"122.231704\" xlink:href=\"#C0_0_4539482830\" y=\"135.273925\"/>\r\n    </g>\r\n    <g clip-path=\"url(#p885de132bc)\">\r\n     <use style=\"fill:#440154;fill-opacity:0.535458;stroke:#440154;stroke-opacity:0.535458;\" x=\"107.482217\" xlink:href=\"#C0_0_4539482830\" y=\"152.959209\"/>\r\n    </g>\r\n    <g clip-path=\"url(#p885de132bc)\">\r\n     <use style=\"fill:#21918c;fill-opacity:0.536628;stroke:#21918c;stroke-opacity:0.536628;\" x=\"178.434327\" xlink:href=\"#C0_0_4539482830\" y=\"160.788991\"/>\r\n    </g>\r\n    <g clip-path=\"url(#p885de132bc)\">\r\n     <use style=\"fill:#21918c;fill-opacity:0.54727;stroke:#21918c;stroke-opacity:0.54727;\" x=\"187.26766\" xlink:href=\"#C0_0_4539482830\" y=\"163.649929\"/>\r\n    </g>\r\n    <g clip-path=\"url(#p885de132bc)\">\r\n     <use style=\"fill:#440154;fill-opacity:0.548009;stroke:#440154;stroke-opacity:0.548009;\" x=\"115.640064\" xlink:href=\"#C0_0_4539482830\" y=\"132.191386\"/>\r\n    </g>\r\n    <g clip-path=\"url(#p885de132bc)\">\r\n     <use style=\"fill:#440154;fill-opacity:0.551257;stroke:#440154;stroke-opacity:0.551257;\" x=\"122.659672\" xlink:href=\"#C0_0_4539482830\" y=\"120.945919\"/>\r\n    </g>\r\n    <g clip-path=\"url(#p885de132bc)\">\r\n     <use style=\"fill:#440154;fill-opacity:0.552289;stroke:#440154;stroke-opacity:0.552289;\" x=\"107.871008\" xlink:href=\"#C0_0_4539482830\" y=\"138.675932\"/>\r\n    </g>\r\n    <g clip-path=\"url(#p885de132bc)\">\r\n     <use style=\"fill:#21918c;fill-opacity:0.559197;stroke:#21918c;stroke-opacity:0.559197;\" x=\"179.426903\" xlink:href=\"#C0_0_4539482830\" y=\"178.111\"/>\r\n    </g>\r\n    <g clip-path=\"url(#p885de132bc)\">\r\n     <use style=\"fill:#440154;fill-opacity:0.559351;stroke:#440154;stroke-opacity:0.559351;\" x=\"108.006136\" xlink:href=\"#C0_0_4539482830\" y=\"147.712358\"/>\r\n    </g>\r\n    <g clip-path=\"url(#p885de132bc)\">\r\n     <use style=\"fill:#440154;fill-opacity:0.559401;stroke:#440154;stroke-opacity:0.559401;\" x=\"110.940837\" xlink:href=\"#C0_0_4539482830\" y=\"146.250346\"/>\r\n    </g>\r\n    <g clip-path=\"url(#p885de132bc)\">\r\n     <use style=\"fill:#21918c;fill-opacity:0.560803;stroke:#21918c;stroke-opacity:0.560803;\" x=\"174.930677\" xlink:href=\"#C0_0_4539482830\" y=\"163.546627\"/>\r\n    </g>\r\n    <g clip-path=\"url(#p885de132bc)\">\r\n     <use style=\"fill:#21918c;fill-opacity:0.568473;stroke:#21918c;stroke-opacity:0.568473;\" x=\"174.80395\" xlink:href=\"#C0_0_4539482830\" y=\"171.506309\"/>\r\n    </g>\r\n    <g clip-path=\"url(#p885de132bc)\">\r\n     <use style=\"fill:#440154;fill-opacity:0.57178;stroke:#440154;stroke-opacity:0.57178;\" x=\"118.11346\" xlink:href=\"#C0_0_4539482830\" y=\"133.035303\"/>\r\n    </g>\r\n    <g clip-path=\"url(#p885de132bc)\">\r\n     <use style=\"fill:#21918c;fill-opacity:0.572332;stroke:#21918c;stroke-opacity:0.572332;\" x=\"181.540265\" xlink:href=\"#C0_0_4539482830\" y=\"159.126284\"/>\r\n    </g>\r\n    <g clip-path=\"url(#p885de132bc)\">\r\n     <use style=\"fill:#fde725;fill-opacity:0.573019;stroke:#fde725;stroke-opacity:0.573019;\" x=\"200.231645\" xlink:href=\"#C0_0_4539482830\" y=\"174.466751\"/>\r\n    </g>\r\n    <g clip-path=\"url(#p885de132bc)\">\r\n     <use style=\"fill:#440154;fill-opacity:0.576092;stroke:#440154;stroke-opacity:0.576092;\" x=\"110.316921\" xlink:href=\"#C0_0_4539482830\" y=\"139.544759\"/>\r\n    </g>\r\n    <g clip-path=\"url(#p885de132bc)\">\r\n     <use style=\"fill:#fde725;fill-opacity:0.578497;stroke:#fde725;stroke-opacity:0.578497;\" x=\"215.642478\" xlink:href=\"#C0_0_4539482830\" y=\"166.876594\"/>\r\n    </g>\r\n    <g clip-path=\"url(#p885de132bc)\">\r\n     <use style=\"fill:#440154;fill-opacity:0.580727;stroke:#440154;stroke-opacity:0.580727;\" x=\"106.478118\" xlink:href=\"#C0_0_4539482830\" y=\"136.941315\"/>\r\n    </g>\r\n    <g clip-path=\"url(#p885de132bc)\">\r\n     <use style=\"fill:#fde725;fill-opacity:0.583643;stroke:#fde725;stroke-opacity:0.583643;\" x=\"232.979992\" xlink:href=\"#C0_0_4539482830\" y=\"133.634732\"/>\r\n    </g>\r\n    <g clip-path=\"url(#p885de132bc)\">\r\n     <use style=\"fill:#440154;fill-opacity:0.585143;stroke:#440154;stroke-opacity:0.585143;\" x=\"109.89578\" xlink:href=\"#C0_0_4539482830\" y=\"124.8605\"/>\r\n    </g>\r\n    <g clip-path=\"url(#p885de132bc)\">\r\n     <use style=\"fill:#21918c;fill-opacity:0.585705;stroke:#21918c;stroke-opacity:0.585705;\" x=\"168.114717\" xlink:href=\"#C0_0_4539482830\" y=\"166.673109\"/>\r\n    </g>\r\n    <g clip-path=\"url(#p885de132bc)\">\r\n     <use style=\"fill:#440154;fill-opacity:0.592555;stroke:#440154;stroke-opacity:0.592555;\" x=\"105.713676\" xlink:href=\"#C0_0_4539482830\" y=\"141.943149\"/>\r\n    </g>\r\n    <g clip-path=\"url(#p885de132bc)\">\r\n     <use style=\"fill:#fde725;fill-opacity:0.59784;stroke:#fde725;stroke-opacity:0.59784;\" x=\"216.924352\" xlink:href=\"#C0_0_4539482830\" y=\"186.142456\"/>\r\n    </g>\r\n    <g clip-path=\"url(#p885de132bc)\">\r\n     <use style=\"fill:#fde725;fill-opacity:0.599692;stroke:#fde725;stroke-opacity:0.599692;\" x=\"205.135547\" xlink:href=\"#C0_0_4539482830\" y=\"180.987969\"/>\r\n    </g>\r\n    <g clip-path=\"url(#p885de132bc)\">\r\n     <use style=\"fill:#fde725;fill-opacity:0.605544;stroke:#fde725;stroke-opacity:0.605544;\" x=\"206.036092\" xlink:href=\"#C0_0_4539482830\" y=\"160.443645\"/>\r\n    </g>\r\n    <g clip-path=\"url(#p885de132bc)\">\r\n     <use style=\"fill:#440154;fill-opacity:0.614104;stroke:#440154;stroke-opacity:0.614104;\" x=\"101.209925\" xlink:href=\"#C0_0_4539482830\" y=\"132.570801\"/>\r\n    </g>\r\n    <g clip-path=\"url(#p885de132bc)\">\r\n     <use style=\"fill:#440154;fill-opacity:0.614332;stroke:#440154;stroke-opacity:0.614332;\" x=\"93.914564\" xlink:href=\"#C0_0_4539482830\" y=\"142.087692\"/>\r\n    </g>\r\n    <g clip-path=\"url(#p885de132bc)\">\r\n     <use style=\"fill:#21918c;fill-opacity:0.614487;stroke:#21918c;stroke-opacity:0.614487;\" x=\"175.311163\" xlink:href=\"#C0_0_4539482830\" y=\"147.842681\"/>\r\n    </g>\r\n    <g clip-path=\"url(#p885de132bc)\">\r\n     <use style=\"fill:#fde725;fill-opacity:0.615005;stroke:#fde725;stroke-opacity:0.615005;\" x=\"217.611077\" xlink:href=\"#C0_0_4539482830\" y=\"171.8071\"/>\r\n    </g>\r\n    <g clip-path=\"url(#p885de132bc)\">\r\n     <use style=\"fill:#21918c;fill-opacity:0.617222;stroke:#21918c;stroke-opacity:0.617222;\" x=\"172.040494\" xlink:href=\"#C0_0_4539482830\" y=\"169.105786\"/>\r\n    </g>\r\n    <g clip-path=\"url(#p885de132bc)\">\r\n     <use style=\"fill:#fde725;fill-opacity:0.620522;stroke:#fde725;stroke-opacity:0.620522;\" x=\"206.193007\" xlink:href=\"#C0_0_4539482830\" y=\"177.612671\"/>\r\n    </g>\r\n    <g clip-path=\"url(#p885de132bc)\">\r\n     <use style=\"fill:#440154;fill-opacity:0.621854;stroke:#440154;stroke-opacity:0.621854;\" x=\"98.028829\" xlink:href=\"#C0_0_4539482830\" y=\"142.036094\"/>\r\n    </g>\r\n    <g clip-path=\"url(#p885de132bc)\">\r\n     <use style=\"fill:#21918c;fill-opacity:0.624523;stroke:#21918c;stroke-opacity:0.624523;\" x=\"183.552729\" xlink:href=\"#C0_0_4539482830\" y=\"159.55258\"/>\r\n    </g>\r\n    <g clip-path=\"url(#p885de132bc)\">\r\n     <use style=\"fill:#21918c;fill-opacity:0.627217;stroke:#21918c;stroke-opacity:0.627217;\" x=\"164.057168\" xlink:href=\"#C0_0_4539482830\" y=\"162.776987\"/>\r\n    </g>\r\n    <g clip-path=\"url(#p885de132bc)\">\r\n     <use style=\"fill:#21918c;fill-opacity:0.627716;stroke:#21918c;stroke-opacity:0.627716;\" x=\"157.78274\" xlink:href=\"#C0_0_4539482830\" y=\"164.604289\"/>\r\n    </g>\r\n    <g clip-path=\"url(#p885de132bc)\">\r\n     <use style=\"fill:#440154;fill-opacity:0.633835;stroke:#440154;stroke-opacity:0.633835;\" x=\"97.243655\" xlink:href=\"#C0_0_4539482830\" y=\"147.0798\"/>\r\n    </g>\r\n    <g clip-path=\"url(#p885de132bc)\">\r\n     <use style=\"fill:#21918c;fill-opacity:0.635185;stroke:#21918c;stroke-opacity:0.635185;\" x=\"145.276763\" xlink:href=\"#C0_0_4539482830\" y=\"199.116027\"/>\r\n    </g>\r\n    <g clip-path=\"url(#p885de132bc)\">\r\n     <use style=\"fill:#21918c;fill-opacity:0.637751;stroke:#21918c;stroke-opacity:0.637751;\" x=\"157.658455\" xlink:href=\"#C0_0_4539482830\" y=\"193.640028\"/>\r\n    </g>\r\n    <g clip-path=\"url(#p885de132bc)\">\r\n     <use style=\"fill:#440154;fill-opacity:0.640436;stroke:#440154;stroke-opacity:0.640436;\" x=\"89.358036\" xlink:href=\"#C0_0_4539482830\" y=\"174.655462\"/>\r\n    </g>\r\n    <g clip-path=\"url(#p885de132bc)\">\r\n     <use style=\"fill:#21918c;fill-opacity:0.641875;stroke:#21918c;stroke-opacity:0.641875;\" x=\"140.872985\" xlink:href=\"#C0_0_4539482830\" y=\"172.579826\"/>\r\n    </g>\r\n    <g clip-path=\"url(#p885de132bc)\">\r\n     <use style=\"fill:#fde725;fill-opacity:0.658563;stroke:#fde725;stroke-opacity:0.658563;\" x=\"217.221984\" xlink:href=\"#C0_0_4539482830\" y=\"188.631875\"/>\r\n    </g>\r\n    <g clip-path=\"url(#p885de132bc)\">\r\n     <use style=\"fill:#21918c;fill-opacity:0.660069;stroke:#21918c;stroke-opacity:0.660069;\" x=\"177.069831\" xlink:href=\"#C0_0_4539482830\" y=\"138.988117\"/>\r\n    </g>\r\n    <g clip-path=\"url(#p885de132bc)\">\r\n     <use style=\"fill:#fde725;fill-opacity:0.660392;stroke:#fde725;stroke-opacity:0.660392;\" x=\"194.41673\" xlink:href=\"#C0_0_4539482830\" y=\"149.407471\"/>\r\n    </g>\r\n    <g clip-path=\"url(#p885de132bc)\">\r\n     <use style=\"fill:#fde725;fill-opacity:0.660615;stroke:#fde725;stroke-opacity:0.660615;\" x=\"192.475095\" xlink:href=\"#C0_0_4539482830\" y=\"143.142128\"/>\r\n    </g>\r\n    <g clip-path=\"url(#p885de132bc)\">\r\n     <use style=\"fill:#fde725;fill-opacity:0.662987;stroke:#fde725;stroke-opacity:0.662987;\" x=\"201.461636\" xlink:href=\"#C0_0_4539482830\" y=\"159.747482\"/>\r\n    </g>\r\n    <g clip-path=\"url(#p885de132bc)\">\r\n     <use style=\"fill:#21918c;fill-opacity:0.665852;stroke:#21918c;stroke-opacity:0.665852;\" x=\"149.792528\" xlink:href=\"#C0_0_4539482830\" y=\"171.751025\"/>\r\n    </g>\r\n    <g clip-path=\"url(#p885de132bc)\">\r\n     <use style=\"fill:#21918c;fill-opacity:0.672433;stroke:#21918c;stroke-opacity:0.672433;\" x=\"163.656653\" xlink:href=\"#C0_0_4539482830\" y=\"169.540511\"/>\r\n    </g>\r\n    <g clip-path=\"url(#p885de132bc)\">\r\n     <use style=\"fill:#21918c;fill-opacity:0.674277;stroke:#21918c;stroke-opacity:0.674277;\" x=\"148.726375\" xlink:href=\"#C0_0_4539482830\" y=\"165.809279\"/>\r\n    </g>\r\n    <g clip-path=\"url(#p885de132bc)\">\r\n     <use style=\"fill:#21918c;fill-opacity:0.681201;stroke:#21918c;stroke-opacity:0.681201;\" x=\"166.641457\" xlink:href=\"#C0_0_4539482830\" y=\"154.325098\"/>\r\n    </g>\r\n    <g clip-path=\"url(#p885de132bc)\">\r\n     <use style=\"fill:#fde725;fill-opacity:0.684268;stroke:#fde725;stroke-opacity:0.684268;\" x=\"216.356523\" xlink:href=\"#C0_0_4539482830\" y=\"122.958499\"/>\r\n    </g>\r\n    <g clip-path=\"url(#p885de132bc)\">\r\n     <use style=\"fill:#21918c;fill-opacity:0.686455;stroke:#21918c;stroke-opacity:0.686455;\" x=\"148.030281\" xlink:href=\"#C0_0_4539482830\" y=\"170.939089\"/>\r\n    </g>\r\n    <g clip-path=\"url(#p885de132bc)\">\r\n     <use style=\"fill:#21918c;fill-opacity:0.693405;stroke:#21918c;stroke-opacity:0.693405;\" x=\"165.978403\" xlink:href=\"#C0_0_4539482830\" y=\"159.438756\"/>\r\n    </g>\r\n    <g clip-path=\"url(#p885de132bc)\">\r\n     <use style=\"fill:#fde725;fill-opacity:0.693775;stroke:#fde725;stroke-opacity:0.693775;\" x=\"191.842727\" xlink:href=\"#C0_0_4539482830\" y=\"152.487084\"/>\r\n    </g>\r\n    <g clip-path=\"url(#p885de132bc)\">\r\n     <use style=\"fill:#21918c;fill-opacity:0.695647;stroke:#21918c;stroke-opacity:0.695647;\" x=\"166.006221\" xlink:href=\"#C0_0_4539482830\" y=\"180.614058\"/>\r\n    </g>\r\n    <g clip-path=\"url(#p885de132bc)\">\r\n     <use style=\"fill:#21918c;fill-opacity:0.695829;stroke:#21918c;stroke-opacity:0.695829;\" x=\"155.622126\" xlink:href=\"#C0_0_4539482830\" y=\"191.746952\"/>\r\n    </g>\r\n    <g clip-path=\"url(#p885de132bc)\">\r\n     <use style=\"fill:#21918c;fill-opacity:0.69666;stroke:#21918c;stroke-opacity:0.69666;\" x=\"145.356068\" xlink:href=\"#C0_0_4539482830\" y=\"148.60447\"/>\r\n    </g>\r\n    <g clip-path=\"url(#p885de132bc)\">\r\n     <use style=\"fill:#fde725;fill-opacity:0.700276;stroke:#fde725;stroke-opacity:0.700276;\" x=\"172.527896\" xlink:href=\"#C0_0_4539482830\" y=\"166.85169\"/>\r\n    </g>\r\n    <g clip-path=\"url(#p885de132bc)\">\r\n     <use style=\"fill:#21918c;fill-opacity:0.703303;stroke:#21918c;stroke-opacity:0.703303;\" x=\"159.28188\" xlink:href=\"#C0_0_4539482830\" y=\"146.359689\"/>\r\n    </g>\r\n    <g clip-path=\"url(#p885de132bc)\">\r\n     <use style=\"fill:#21918c;fill-opacity:0.703399;stroke:#21918c;stroke-opacity:0.703399;\" x=\"170.724217\" xlink:href=\"#C0_0_4539482830\" y=\"127.412573\"/>\r\n    </g>\r\n    <g clip-path=\"url(#p885de132bc)\">\r\n     <use style=\"fill:#fde725;fill-opacity:0.704288;stroke:#fde725;stroke-opacity:0.704288;\" x=\"184.84225\" xlink:href=\"#C0_0_4539482830\" y=\"138.253039\"/>\r\n    </g>\r\n    <g clip-path=\"url(#p885de132bc)\">\r\n     <use style=\"fill:#fde725;fill-opacity:0.70607;stroke:#fde725;stroke-opacity:0.70607;\" x=\"199.670361\" xlink:href=\"#C0_0_4539482830\" y=\"140.148183\"/>\r\n    </g>\r\n    <g clip-path=\"url(#p885de132bc)\">\r\n     <use style=\"fill:#21918c;fill-opacity:0.708462;stroke:#21918c;stroke-opacity:0.708462;\" x=\"154.009983\" xlink:href=\"#C0_0_4539482830\" y=\"150.373682\"/>\r\n    </g>\r\n    <g clip-path=\"url(#p885de132bc)\">\r\n     <use style=\"fill:#21918c;fill-opacity:0.708601;stroke:#21918c;stroke-opacity:0.708601;\" x=\"135.157706\" xlink:href=\"#C0_0_4539482830\" y=\"178.993542\"/>\r\n    </g>\r\n    <g clip-path=\"url(#p885de132bc)\">\r\n     <use style=\"fill:#21918c;fill-opacity:0.710758;stroke:#21918c;stroke-opacity:0.710758;\" x=\"162.483918\" xlink:href=\"#C0_0_4539482830\" y=\"154.123493\"/>\r\n    </g>\r\n    <g clip-path=\"url(#p885de132bc)\">\r\n     <use style=\"fill:#21918c;fill-opacity:0.712354;stroke:#21918c;stroke-opacity:0.712354;\" x=\"140.97134\" xlink:href=\"#C0_0_4539482830\" y=\"174.157243\"/>\r\n    </g>\r\n    <g clip-path=\"url(#p885de132bc)\">\r\n     <use style=\"fill:#fde725;fill-opacity:0.715399;stroke:#fde725;stroke-opacity:0.715399;\" x=\"187.906171\" xlink:href=\"#C0_0_4539482830\" y=\"144.146984\"/>\r\n    </g>\r\n    <g clip-path=\"url(#p885de132bc)\">\r\n     <use style=\"fill:#fde725;fill-opacity:0.719829;stroke:#fde725;stroke-opacity:0.719829;\" x=\"196.422857\" xlink:href=\"#C0_0_4539482830\" y=\"136.64009\"/>\r\n    </g>\r\n    <g clip-path=\"url(#p885de132bc)\">\r\n     <use style=\"fill:#fde725;fill-opacity:0.72035;stroke:#fde725;stroke-opacity:0.72035;\" x=\"184.607256\" xlink:href=\"#C0_0_4539482830\" y=\"154.490108\"/>\r\n    </g>\r\n    <g clip-path=\"url(#p885de132bc)\">\r\n     <use style=\"fill:#fde725;fill-opacity:0.720577;stroke:#fde725;stroke-opacity:0.720577;\" x=\"182.647231\" xlink:href=\"#C0_0_4539482830\" y=\"148.166699\"/>\r\n    </g>\r\n    <g clip-path=\"url(#p885de132bc)\">\r\n     <use style=\"fill:#21918c;fill-opacity:0.720718;stroke:#21918c;stroke-opacity:0.720718;\" x=\"150.31058\" xlink:href=\"#C0_0_4539482830\" y=\"157.000535\"/>\r\n    </g>\r\n    <g clip-path=\"url(#p885de132bc)\">\r\n     <use style=\"fill:#fde725;fill-opacity:0.722332;stroke:#fde725;stroke-opacity:0.722332;\" x=\"183.591588\" xlink:href=\"#C0_0_4539482830\" y=\"183.57541\"/>\r\n    </g>\r\n    <g clip-path=\"url(#p885de132bc)\">\r\n     <use style=\"fill:#21918c;fill-opacity:0.725051;stroke:#21918c;stroke-opacity:0.725051;\" x=\"152.785263\" xlink:href=\"#C0_0_4539482830\" y=\"152.496544\"/>\r\n    </g>\r\n    <g clip-path=\"url(#p885de132bc)\">\r\n     <use style=\"fill:#fde725;fill-opacity:0.725381;stroke:#fde725;stroke-opacity:0.725381;\" x=\"170.305712\" xlink:href=\"#C0_0_4539482830\" y=\"163.021562\"/>\r\n    </g>\r\n    <g clip-path=\"url(#p885de132bc)\">\r\n     <use style=\"fill:#21918c;fill-opacity:0.72953;stroke:#21918c;stroke-opacity:0.72953;\" x=\"136.350277\" xlink:href=\"#C0_0_4539482830\" y=\"176.698537\"/>\r\n    </g>\r\n    <g clip-path=\"url(#p885de132bc)\">\r\n     <use style=\"fill:#21918c;fill-opacity:0.734251;stroke:#21918c;stroke-opacity:0.734251;\" x=\"151.365438\" xlink:href=\"#C0_0_4539482830\" y=\"145.326662\"/>\r\n    </g>\r\n    <g clip-path=\"url(#p885de132bc)\">\r\n     <use style=\"fill:#fde725;fill-opacity:0.734581;stroke:#fde725;stroke-opacity:0.734581;\" x=\"168.910557\" xlink:href=\"#C0_0_4539482830\" y=\"155.86618\"/>\r\n    </g>\r\n    <g clip-path=\"url(#p885de132bc)\">\r\n     <use style=\"fill:#fde725;fill-opacity:0.7379;stroke:#fde725;stroke-opacity:0.7379;\" x=\"184.166072\" xlink:href=\"#C0_0_4539482830\" y=\"147.63629\"/>\r\n    </g>\r\n    <g clip-path=\"url(#p885de132bc)\">\r\n     <use style=\"fill:#fde725;fill-opacity:0.744288;stroke:#fde725;stroke-opacity:0.744288;\" x=\"199.618648\" xlink:href=\"#C0_0_4539482830\" y=\"138.674953\"/>\r\n    </g>\r\n    <g clip-path=\"url(#p885de132bc)\">\r\n     <use style=\"fill:#21918c;fill-opacity:0.744983;stroke:#21918c;stroke-opacity:0.744983;\" x=\"122.276333\" xlink:href=\"#C0_0_4539482830\" y=\"161.276488\"/>\r\n    </g>\r\n    <g clip-path=\"url(#p885de132bc)\">\r\n     <use style=\"fill:#fde725;fill-opacity:0.749934;stroke:#fde725;stroke-opacity:0.749934;\" x=\"176.429316\" xlink:href=\"#C0_0_4539482830\" y=\"163.651631\"/>\r\n    </g>\r\n    <g clip-path=\"url(#p885de132bc)\">\r\n     <use style=\"fill:#21918c;fill-opacity:0.754211;stroke:#21918c;stroke-opacity:0.754211;\" x=\"153.881377\" xlink:href=\"#C0_0_4539482830\" y=\"158.285657\"/>\r\n    </g>\r\n    <g clip-path=\"url(#p885de132bc)\">\r\n     <use style=\"fill:#fde725;fill-opacity:0.754491;stroke:#fde725;stroke-opacity:0.754491;\" x=\"168.454921\" xlink:href=\"#C0_0_4539482830\" y=\"170.364846\"/>\r\n    </g>\r\n    <g clip-path=\"url(#p885de132bc)\">\r\n     <use style=\"fill:#21918c;fill-opacity:0.754729;stroke:#21918c;stroke-opacity:0.754729;\" x=\"147.48196\" xlink:href=\"#C0_0_4539482830\" y=\"160.148768\"/>\r\n    </g>\r\n    <g clip-path=\"url(#p885de132bc)\">\r\n     <use style=\"fill:#fde725;fill-opacity:0.756583;stroke:#fde725;stroke-opacity:0.756583;\" x=\"170.924774\" xlink:href=\"#C0_0_4539482830\" y=\"144.469916\"/>\r\n    </g>\r\n    <g clip-path=\"url(#p885de132bc)\">\r\n     <use style=\"fill:#fde725;fill-opacity:0.757532;stroke:#fde725;stroke-opacity:0.757532;\" x=\"193.669705\" xlink:href=\"#C0_0_4539482830\" y=\"137.804173\"/>\r\n    </g>\r\n    <g clip-path=\"url(#p885de132bc)\">\r\n     <use style=\"fill:#21918c;fill-opacity:0.767733;stroke:#21918c;stroke-opacity:0.767733;\" x=\"140.362113\" xlink:href=\"#C0_0_4539482830\" y=\"167.199124\"/>\r\n    </g>\r\n    <g clip-path=\"url(#p885de132bc)\">\r\n     <use style=\"fill:#fde725;fill-opacity:0.76993;stroke:#fde725;stroke-opacity:0.76993;\" x=\"167.938812\" xlink:href=\"#C0_0_4539482830\" y=\"142.098738\"/>\r\n    </g>\r\n    <g clip-path=\"url(#p885de132bc)\">\r\n     <use style=\"fill:#fde725;fill-opacity:0.770645;stroke:#fde725;stroke-opacity:0.770645;\" x=\"198.199865\" xlink:href=\"#C0_0_4539482830\" y=\"125.669771\"/>\r\n    </g>\r\n    <g clip-path=\"url(#p885de132bc)\">\r\n     <use style=\"fill:#21918c;fill-opacity:0.775859;stroke:#21918c;stroke-opacity:0.775859;\" x=\"137.153125\" xlink:href=\"#C0_0_4539482830\" y=\"176.934683\"/>\r\n    </g>\r\n    <g clip-path=\"url(#p885de132bc)\">\r\n     <use style=\"fill:#fde725;fill-opacity:0.776158;stroke:#fde725;stroke-opacity:0.776158;\" x=\"179.92821\" xlink:href=\"#C0_0_4539482830\" y=\"155.60163\"/>\r\n    </g>\r\n    <g clip-path=\"url(#p885de132bc)\">\r\n     <use style=\"fill:#fde725;fill-opacity:0.780788;stroke:#fde725;stroke-opacity:0.780788;\" x=\"185.969431\" xlink:href=\"#C0_0_4539482830\" y=\"128.529364\"/>\r\n    </g>\r\n    <g clip-path=\"url(#p885de132bc)\">\r\n     <use style=\"fill:#fde725;fill-opacity:0.780813;stroke:#fde725;stroke-opacity:0.780813;\" x=\"169.457988\" xlink:href=\"#C0_0_4539482830\" y=\"176.970292\"/>\r\n    </g>\r\n    <g clip-path=\"url(#p885de132bc)\">\r\n     <use style=\"fill:#fde725;fill-opacity:0.780947;stroke:#fde725;stroke-opacity:0.780947;\" x=\"155.900109\" xlink:href=\"#C0_0_4539482830\" y=\"189.761985\"/>\r\n    </g>\r\n    <g clip-path=\"url(#p885de132bc)\">\r\n     <use style=\"fill:#21918c;fill-opacity:0.781904;stroke:#21918c;stroke-opacity:0.781904;\" x=\"165.151278\" xlink:href=\"#C0_0_4539482830\" y=\"163.052233\"/>\r\n    </g>\r\n    <g clip-path=\"url(#p885de132bc)\">\r\n     <use style=\"fill:#21918c;fill-opacity:0.783669;stroke:#21918c;stroke-opacity:0.783669;\" x=\"169.03858\" xlink:href=\"#C0_0_4539482830\" y=\"130.305226\"/>\r\n    </g>\r\n    <g clip-path=\"url(#p885de132bc)\">\r\n     <use style=\"fill:#21918c;fill-opacity:0.784732;stroke:#21918c;stroke-opacity:0.784732;\" x=\"145.169245\" xlink:href=\"#C0_0_4539482830\" y=\"166.357295\"/>\r\n    </g>\r\n    <g clip-path=\"url(#p885de132bc)\">\r\n     <use style=\"fill:#21918c;fill-opacity:0.787457;stroke:#21918c;stroke-opacity:0.787457;\" x=\"119.089499\" xlink:href=\"#C0_0_4539482830\" y=\"172.693903\"/>\r\n    </g>\r\n    <g clip-path=\"url(#p885de132bc)\">\r\n     <use style=\"fill:#21918c;fill-opacity:0.793568;stroke:#21918c;stroke-opacity:0.793568;\" x=\"155.678298\" xlink:href=\"#C0_0_4539482830\" y=\"141.088792\"/>\r\n    </g>\r\n    <g clip-path=\"url(#p885de132bc)\">\r\n     <use style=\"fill:#fde725;fill-opacity:0.796653;stroke:#fde725;stroke-opacity:0.796653;\" x=\"189.127362\" xlink:href=\"#C0_0_4539482830\" y=\"144.576536\"/>\r\n    </g>\r\n    <g clip-path=\"url(#p885de132bc)\">\r\n     <use style=\"fill:#fde725;fill-opacity:0.796893;stroke:#fde725;stroke-opacity:0.796893;\" x=\"181.62724\" xlink:href=\"#C0_0_4539482830\" y=\"154.365165\"/>\r\n    </g>\r\n    <g clip-path=\"url(#p885de132bc)\">\r\n     <use style=\"fill:#21918c;fill-opacity:0.805371;stroke:#21918c;stroke-opacity:0.805371;\" x=\"118.465305\" xlink:href=\"#C0_0_4539482830\" y=\"165.818823\"/>\r\n    </g>\r\n    <g clip-path=\"url(#p885de132bc)\">\r\n     <use style=\"fill:#fde725;fill-opacity:0.809824;stroke:#fde725;stroke-opacity:0.809824;\" x=\"182.045098\" xlink:href=\"#C0_0_4539482830\" y=\"151.641005\"/>\r\n    </g>\r\n    <g clip-path=\"url(#p885de132bc)\">\r\n     <use style=\"fill:#21918c;fill-opacity:0.816839;stroke:#21918c;stroke-opacity:0.816839;\" x=\"115.927593\" xlink:href=\"#C0_0_4539482830\" y=\"188.088131\"/>\r\n    </g>\r\n    <g clip-path=\"url(#p885de132bc)\">\r\n     <use style=\"fill:#fde725;fill-opacity:0.817474;stroke:#fde725;stroke-opacity:0.817474;\" x=\"168.621959\" xlink:href=\"#C0_0_4539482830\" y=\"140.925647\"/>\r\n    </g>\r\n    <g clip-path=\"url(#p885de132bc)\">\r\n     <use style=\"fill:#fde725;fill-opacity:0.82523;stroke:#fde725;stroke-opacity:0.82523;\" x=\"186.031447\" xlink:href=\"#C0_0_4539482830\" y=\"114.784249\"/>\r\n    </g>\r\n    <g clip-path=\"url(#p885de132bc)\">\r\n     <use style=\"fill:#21918c;fill-opacity:0.829993;stroke:#21918c;stroke-opacity:0.829993;\" x=\"136.487065\" xlink:href=\"#C0_0_4539482830\" y=\"148.314252\"/>\r\n    </g>\r\n    <g clip-path=\"url(#p885de132bc)\">\r\n     <use style=\"fill:#fde725;fill-opacity:0.833256;stroke:#fde725;stroke-opacity:0.833256;\" x=\"190.393134\" xlink:href=\"#C0_0_4539482830\" y=\"114.697821\"/>\r\n    </g>\r\n    <g clip-path=\"url(#p885de132bc)\">\r\n     <use style=\"fill:#21918c;fill-opacity:0.837841;stroke:#21918c;stroke-opacity:0.837841;\" x=\"151.403933\" xlink:href=\"#C0_0_4539482830\" y=\"136.892731\"/>\r\n    </g>\r\n    <g clip-path=\"url(#p885de132bc)\">\r\n     <use style=\"fill:#fde725;fill-opacity:0.865312;stroke:#fde725;stroke-opacity:0.865312;\" x=\"162.089425\" xlink:href=\"#C0_0_4539482830\" y=\"150.797498\"/>\r\n    </g>\r\n    <g clip-path=\"url(#p885de132bc)\">\r\n     <use style=\"fill:#fde725;fill-opacity:0.865312;stroke:#fde725;stroke-opacity:0.865312;\" x=\"162.089425\" xlink:href=\"#C0_0_4539482830\" y=\"150.797498\"/>\r\n    </g>\r\n    <g clip-path=\"url(#p885de132bc)\">\r\n     <use style=\"fill:#fde725;fill-opacity:0.885334;stroke:#fde725;stroke-opacity:0.885334;\" x=\"193.086131\" xlink:href=\"#C0_0_4539482830\" y=\"117.868483\"/>\r\n    </g>\r\n    <g clip-path=\"url(#p885de132bc)\">\r\n     <use style=\"fill:#fde725;fill-opacity:0.900801;stroke:#fde725;stroke-opacity:0.900801;\" x=\"156.167632\" xlink:href=\"#C0_0_4539482830\" y=\"155.52347\"/>\r\n    </g>\r\n    <g clip-path=\"url(#p885de132bc)\">\r\n     <use style=\"fill:#fde725;fill-opacity:0.902041;stroke:#fde725;stroke-opacity:0.902041;\" x=\"157.966888\" xlink:href=\"#C0_0_4539482830\" y=\"138.265652\"/>\r\n    </g>\r\n    <g clip-path=\"url(#p885de132bc)\">\r\n     <use style=\"fill:#fde725;fill-opacity:0.927586;stroke:#fde725;stroke-opacity:0.927586;\" x=\"165.648588\" xlink:href=\"#C0_0_4539482830\" y=\"131.928128\"/>\r\n    </g>\r\n    <g clip-path=\"url(#p885de132bc)\">\r\n     <use style=\"fill:#fde725;stroke:#fde725;\" x=\"132.859677\" xlink:href=\"#C0_0_4539482830\" y=\"145.470439\"/>\r\n    </g>\r\n   </g>\r\n  </g>\r\n </g>\r\n <defs>\r\n  <clipPath id=\"p885de132bc\">\r\n   <rect height=\"217.44\" width=\"217.44\" x=\"47.88\" y=\"41.76\"/>\r\n  </clipPath>\r\n </defs>\r\n</svg>\r\n",
      "image/png": "[encoded data removed]"
     },
     "metadata": {
      "needs_background": "light"
     }
    },
    {
     "output_type": "stream",
     "name": "stdout",
     "text": [
      "[0.92461872 0.05306648 0.01710261]\n"
     ]
    }
   ],
   "source": [
    "pca_3 = pca_func(3,X)"
   ]
  },
  {
   "source": [
    "* Utiliza Kmeans para agrupar y predecir las clases de los nuevos datos."
   ],
   "cell_type": "markdown",
   "metadata": {}
  },
  {
   "cell_type": "code",
   "execution_count": 22,
   "metadata": {},
   "outputs": [],
   "source": [
    "def kmeans_func(n_clusters, X):\n",
    "    kmeans = KMeans(n_clusters, random_state=42).fit(X)\n",
    "    predict = kmeans.predict(X)\n",
    "    \n",
    "    return predict"
   ]
  },
  {
   "cell_type": "code",
   "execution_count": 24,
   "metadata": {},
   "outputs": [
    {
     "output_type": "execute_result",
     "data": {
      "text/plain": [
       "array([1, 1, 1, 1, 1, 1, 1, 1, 1, 1, 1, 1, 1, 1, 1, 1, 1, 1, 1, 1, 1, 1,\n",
       "       1, 1, 1, 1, 1, 1, 1, 1, 1, 1, 1, 1, 1, 1, 1, 1, 1, 1, 1, 1, 1, 1,\n",
       "       1, 1, 1, 1, 1, 1, 0, 0, 0, 0, 0, 0, 0, 1, 0, 0, 0, 0, 0, 0, 0, 0,\n",
       "       0, 0, 0, 0, 0, 0, 0, 0, 0, 0, 0, 0, 0, 0, 0, 0, 0, 0, 0, 0, 0, 0,\n",
       "       0, 0, 0, 0, 0, 1, 0, 0, 0, 0, 1, 0, 0, 0, 0, 0, 0, 0, 0, 0, 0, 0,\n",
       "       0, 0, 0, 0, 0, 0, 0, 0, 0, 0, 0, 0, 0, 0, 0, 0, 0, 0, 0, 0, 0, 0,\n",
       "       0, 0, 0, 0, 0, 0, 0, 0, 0, 0, 0, 0, 0, 0, 0, 0, 0, 0])"
      ]
     },
     "metadata": {},
     "execution_count": 24
    }
   ],
   "source": [
    "# para pca_2\n",
    "\n",
    "pred_2 = kmeans_func(n_clusters= 2, X= pca_2)\n",
    "pred_2"
   ]
  },
  {
   "cell_type": "code",
   "execution_count": 25,
   "metadata": {},
   "outputs": [
    {
     "output_type": "execute_result",
     "data": {
      "text/plain": [
       "array([1, 1, 1, 1, 1, 1, 1, 1, 1, 1, 1, 1, 1, 1, 1, 1, 1, 1, 1, 1, 1, 1,\n",
       "       1, 1, 1, 1, 1, 1, 1, 1, 1, 1, 1, 1, 1, 1, 1, 1, 1, 1, 1, 1, 1, 1,\n",
       "       1, 1, 1, 1, 1, 1, 0, 0, 2, 0, 0, 0, 0, 0, 0, 0, 0, 0, 0, 0, 0, 0,\n",
       "       0, 0, 0, 0, 0, 0, 0, 0, 0, 0, 0, 2, 0, 0, 0, 0, 0, 0, 0, 0, 0, 0,\n",
       "       0, 0, 0, 0, 0, 0, 0, 0, 0, 0, 0, 0, 2, 0, 2, 2, 2, 2, 0, 2, 2, 2,\n",
       "       2, 2, 2, 0, 0, 2, 2, 2, 2, 0, 2, 0, 2, 0, 2, 2, 0, 0, 2, 2, 2, 2,\n",
       "       2, 0, 2, 2, 2, 2, 0, 2, 2, 2, 0, 2, 2, 2, 0, 2, 2, 0])"
      ]
     },
     "metadata": {},
     "execution_count": 25
    }
   ],
   "source": [
    "# para pca_3\n",
    "\n",
    "pred_3 = kmeans_func(n_clusters= 3, X= pca_3)\n",
    "pred_3"
   ]
  },
  {
   "source": [
    " * Compara los resultados para PCA(2) y PCA(3) con las clases originales (y_real)."
   ],
   "cell_type": "markdown",
   "metadata": {}
  },
  {
   "cell_type": "code",
   "execution_count": 30,
   "metadata": {},
   "outputs": [
    {
     "output_type": "execute_result",
     "data": {
      "text/plain": [
       "       0    1    2    3  y_real  PCA(2)   Pred  PCA(3)   Pred\n",
       "0    5.1  3.5  1.4  0.2       0              1              1\n",
       "1    4.9  3.0  1.4  0.2       0              1              1\n",
       "2    4.7  3.2  1.3  0.2       0              1              1\n",
       "3    4.6  3.1  1.5  0.2       0              1              1\n",
       "4    5.0  3.6  1.4  0.2       0              1              1\n",
       "..   ...  ...  ...  ...     ...            ...            ...\n",
       "145  6.7  3.0  5.2  2.3       2              0              2\n",
       "146  6.3  2.5  5.0  1.9       2              0              0\n",
       "147  6.5  3.0  5.2  2.0       2              0              2\n",
       "148  6.2  3.4  5.4  2.3       2              0              2\n",
       "149  5.9  3.0  5.1  1.8       2              0              0\n",
       "\n",
       "[150 rows x 7 columns]"
      ],
      "text/html": "<div>\n<style scoped>\n    .dataframe tbody tr th:only-of-type {\n        vertical-align: middle;\n    }\n\n    .dataframe tbody tr th {\n        vertical-align: top;\n    }\n\n    .dataframe thead th {\n        text-align: right;\n    }\n</style>\n<table border=\"1\" class=\"dataframe\">\n  <thead>\n    <tr style=\"text-align: right;\">\n      <th></th>\n      <th>0</th>\n      <th>1</th>\n      <th>2</th>\n      <th>3</th>\n      <th>y_real</th>\n      <th>PCA(2)   Pred</th>\n      <th>PCA(3)   Pred</th>\n    </tr>\n  </thead>\n  <tbody>\n    <tr>\n      <th>0</th>\n      <td>5.1</td>\n      <td>3.5</td>\n      <td>1.4</td>\n      <td>0.2</td>\n      <td>0</td>\n      <td>1</td>\n      <td>1</td>\n    </tr>\n    <tr>\n      <th>1</th>\n      <td>4.9</td>\n      <td>3.0</td>\n      <td>1.4</td>\n      <td>0.2</td>\n      <td>0</td>\n      <td>1</td>\n      <td>1</td>\n    </tr>\n    <tr>\n      <th>2</th>\n      <td>4.7</td>\n      <td>3.2</td>\n      <td>1.3</td>\n      <td>0.2</td>\n      <td>0</td>\n      <td>1</td>\n      <td>1</td>\n    </tr>\n    <tr>\n      <th>3</th>\n      <td>4.6</td>\n      <td>3.1</td>\n      <td>1.5</td>\n      <td>0.2</td>\n      <td>0</td>\n      <td>1</td>\n      <td>1</td>\n    </tr>\n    <tr>\n      <th>4</th>\n      <td>5.0</td>\n      <td>3.6</td>\n      <td>1.4</td>\n      <td>0.2</td>\n      <td>0</td>\n      <td>1</td>\n      <td>1</td>\n    </tr>\n    <tr>\n      <th>...</th>\n      <td>...</td>\n      <td>...</td>\n      <td>...</td>\n      <td>...</td>\n      <td>...</td>\n      <td>...</td>\n      <td>...</td>\n    </tr>\n    <tr>\n      <th>145</th>\n      <td>6.7</td>\n      <td>3.0</td>\n      <td>5.2</td>\n      <td>2.3</td>\n      <td>2</td>\n      <td>0</td>\n      <td>2</td>\n    </tr>\n    <tr>\n      <th>146</th>\n      <td>6.3</td>\n      <td>2.5</td>\n      <td>5.0</td>\n      <td>1.9</td>\n      <td>2</td>\n      <td>0</td>\n      <td>0</td>\n    </tr>\n    <tr>\n      <th>147</th>\n      <td>6.5</td>\n      <td>3.0</td>\n      <td>5.2</td>\n      <td>2.0</td>\n      <td>2</td>\n      <td>0</td>\n      <td>2</td>\n    </tr>\n    <tr>\n      <th>148</th>\n      <td>6.2</td>\n      <td>3.4</td>\n      <td>5.4</td>\n      <td>2.3</td>\n      <td>2</td>\n      <td>0</td>\n      <td>2</td>\n    </tr>\n    <tr>\n      <th>149</th>\n      <td>5.9</td>\n      <td>3.0</td>\n      <td>5.1</td>\n      <td>1.8</td>\n      <td>2</td>\n      <td>0</td>\n      <td>0</td>\n    </tr>\n  </tbody>\n</table>\n<p>150 rows × 7 columns</p>\n</div>"
     },
     "metadata": {},
     "execution_count": 30
    }
   ],
   "source": [
    "X_pca = pd.DataFrame(X)\n",
    "X_pca[\"y_real\"] = y\n",
    "X_pca[\"PCA(2)   Pred\"] = pred_2\n",
    "X_pca[\"PCA(3)   Pred\"] = pred_3\n",
    "\n",
    "X_pca"
   ]
  },
  {
   "source": [
    "* ¿Es mejor PCA(2) o PCA(3)?"
   ],
   "cell_type": "markdown",
   "metadata": {}
  },
  {
   "cell_type": "code",
   "execution_count": 32,
   "metadata": {},
   "outputs": [],
   "source": [
    "comparacion_pca_2 = X_pca[\"y_real\"] == X_pca[\"PCA(2)   Pred\"]\n",
    "comparacion_pca_3 = X_pca[\"y_real\"] == X_pca[\"PCA(3)   Pred\"]"
   ]
  },
  {
   "cell_type": "code",
   "execution_count": 34,
   "metadata": {},
   "outputs": [
    {
     "output_type": "stream",
     "name": "stdout",
     "text": [
      "valores correctamente predecidos con PCA(2) igual a: 3\nvalores correctamente predecidos con PCA(3) igual a: 36\n"
     ]
    }
   ],
   "source": [
    "print(\"valores correctamente predecidos con PCA(2) igual a:\",np.count_nonzero(comparacion_pca_2))\n",
    "print(\"valores correctamente predecidos con PCA(3) igual a:\",np.count_nonzero(comparacion_pca_3))"
   ]
  },
  {
   "cell_type": "code",
   "execution_count": 39,
   "metadata": {},
   "outputs": [
    {
     "output_type": "stream",
     "name": "stdout",
     "text": [
      "SCORES\nCON PCA(2) ACCURACY:  0.02\nCON PCA(3) ACCURACY:  0.24\n"
     ]
    }
   ],
   "source": [
    "from sklearn import metrics\n",
    "print(\"SCORES\")\n",
    "print( \"CON PCA(2) ACCURACY: \", metrics.accuracy_score(y, pred_2))\n",
    "print( \"CON PCA(3) ACCURACY: \", metrics.accuracy_score(y, pred_3))"
   ]
  },
  {
   "source": [
    "### A NUESTRO MODELO LE PERJUDICA EL APRENDIZAJE LA REDUCCION DE SUS DATOS A 2 DIMENSIONES"
   ],
   "cell_type": "markdown",
   "metadata": {}
  },
  {
   "source": [
    "#### Repite el proceso con T-SNE y DBSCAN. ¿Cuál da mejores resultados?"
   ],
   "cell_type": "markdown",
   "metadata": {}
  },
  {
   "cell_type": "code",
   "execution_count": 46,
   "metadata": {},
   "outputs": [],
   "source": [
    "#funcion para T-sne\n",
    "\n",
    "from sklearn.manifold import TSNE\n",
    "import plotly.express as px\n",
    "\n",
    "def tsne_func(n_components, X):\n",
    "    X_embedded = TSNE(n_components).fit_transform(X)\n",
    "    df2= pd.DataFrame(data=X_embedded)\n",
    "\n",
    "    if n_components < 3:\n",
    "        plt.scatter(df2[0], df2[1], c=iris.target)\n",
    "        \n",
    "    else:\n",
    "        fig = px.scatter_3d(x=df2[0], y=df2[1], z=df2[2], color=y)\n",
    "        fig.show()\n",
    "\n",
    "    return X_embedded\n",
    "\n",
    "\n"
   ]
  },
  {
   "cell_type": "code",
   "execution_count": 44,
   "metadata": {},
   "outputs": [
    {
     "output_type": "display_data",
     "data": {
      "text/plain": "<Figure size 432x288 with 1 Axes>",
      "image/svg+xml": "<?xml version=\"1.0\" encoding=\"utf-8\" standalone=\"no\"?>\r\n<!DOCTYPE svg PUBLIC \"-//W3C//DTD SVG 1.1//EN\"\r\n  \"http://www.w3.org/Graphics/SVG/1.1/DTD/svg11.dtd\">\r\n<svg height=\"248.518125pt\" version=\"1.1\" viewBox=\"0 0 378.118831 248.518125\" width=\"378.118831pt\" xmlns=\"http://www.w3.org/2000/svg\" xmlns:xlink=\"http://www.w3.org/1999/xlink\">\r\n <metadata>\r\n  <rdf:RDF xmlns:cc=\"http://creativecommons.org/ns#\" xmlns:dc=\"http://purl.org/dc/elements/1.1/\" xmlns:rdf=\"http://www.w3.org/1999/02/22-rdf-syntax-ns#\">\r\n   <cc:Work>\r\n    <dc:type rdf:resource=\"http://purl.org/dc/dcmitype/StillImage\"/>\r\n    <dc:date>2021-06-25T01:19:26.107967</dc:date>\r\n    <dc:format>image/svg+xml</dc:format>\r\n    <dc:creator>\r\n     <cc:Agent>\r\n      <dc:title>Matplotlib v3.4.1, https://matplotlib.org/</dc:title>\r\n     </cc:Agent>\r\n    </dc:creator>\r\n   </cc:Work>\r\n  </rdf:RDF>\r\n </metadata>\r\n <defs>\r\n  <style type=\"text/css\">*{stroke-linecap:butt;stroke-linejoin:round;}</style>\r\n </defs>\r\n <g id=\"figure_1\">\r\n  <g id=\"patch_1\">\r\n   <path d=\"M 0 248.518125 \r\nL 378.118831 248.518125 \r\nL 378.118831 0 \r\nL 0 0 \r\nz\r\n\" style=\"fill:none;\"/>\r\n  </g>\r\n  <g id=\"axes_1\">\r\n   <g id=\"patch_2\">\r\n    <path d=\"M 35.304688 224.64 \r\nL 370.104688 224.64 \r\nL 370.104688 7.2 \r\nL 35.304688 7.2 \r\nz\r\n\" style=\"fill:#ffffff;\"/>\r\n   </g>\r\n   <g id=\"PathCollection_1\">\r\n    <defs>\r\n     <path d=\"M 0 3 \r\nC 0.795609 3 1.55874 2.683901 2.12132 2.12132 \r\nC 2.683901 1.55874 3 0.795609 3 -0 \r\nC 3 -0.795609 2.683901 -1.55874 2.12132 -2.12132 \r\nC 1.55874 -2.683901 0.795609 -3 0 -3 \r\nC -0.795609 -3 -1.55874 -2.683901 -2.12132 -2.12132 \r\nC -2.683901 -1.55874 -3 -0.795609 -3 0 \r\nC -3 0.795609 -2.683901 1.55874 -2.12132 2.12132 \r\nC -1.55874 2.683901 -0.795609 3 0 3 \r\nz\r\n\" id=\"C0_0_5f3ef3e0c0\"/>\r\n    </defs>\r\n    <g clip-path=\"url(#pe273d43099)\">\r\n     <use style=\"fill:#440154;stroke:#440154;\" x=\"339.083156\" xlink:href=\"#C0_0_5f3ef3e0c0\" y=\"201.579696\"/>\r\n    </g>\r\n    <g clip-path=\"url(#pe273d43099)\">\r\n     <use style=\"fill:#440154;stroke:#440154;\" x=\"350.624384\" xlink:href=\"#C0_0_5f3ef3e0c0\" y=\"190.988158\"/>\r\n    </g>\r\n    <g clip-path=\"url(#pe273d43099)\">\r\n     <use style=\"fill:#440154;stroke:#440154;\" x=\"334.904227\" xlink:href=\"#C0_0_5f3ef3e0c0\" y=\"189.370498\"/>\r\n    </g>\r\n    <g clip-path=\"url(#pe273d43099)\">\r\n     <use style=\"fill:#440154;stroke:#440154;\" x=\"338.468969\" xlink:href=\"#C0_0_5f3ef3e0c0\" y=\"188.292601\"/>\r\n    </g>\r\n    <g clip-path=\"url(#pe273d43099)\">\r\n     <use style=\"fill:#440154;stroke:#440154;\" x=\"344.591641\" xlink:href=\"#C0_0_5f3ef3e0c0\" y=\"202.076474\"/>\r\n    </g>\r\n    <g clip-path=\"url(#pe273d43099)\">\r\n     <use style=\"fill:#440154;stroke:#440154;\" x=\"330.260906\" xlink:href=\"#C0_0_5f3ef3e0c0\" y=\"210.898014\"/>\r\n    </g>\r\n    <g clip-path=\"url(#pe273d43099)\">\r\n     <use style=\"fill:#440154;stroke:#440154;\" x=\"324.705221\" xlink:href=\"#C0_0_5f3ef3e0c0\" y=\"190.037509\"/>\r\n    </g>\r\n    <g clip-path=\"url(#pe273d43099)\">\r\n     <use style=\"fill:#440154;stroke:#440154;\" x=\"335.699577\" xlink:href=\"#C0_0_5f3ef3e0c0\" y=\"198.271789\"/>\r\n    </g>\r\n    <g clip-path=\"url(#pe273d43099)\">\r\n     <use style=\"fill:#440154;stroke:#440154;\" x=\"343.266135\" xlink:href=\"#C0_0_5f3ef3e0c0\" y=\"185.065856\"/>\r\n    </g>\r\n    <g clip-path=\"url(#pe273d43099)\">\r\n     <use style=\"fill:#440154;stroke:#440154;\" x=\"344.917585\" xlink:href=\"#C0_0_5f3ef3e0c0\" y=\"192.519676\"/>\r\n    </g>\r\n    <g clip-path=\"url(#pe273d43099)\">\r\n     <use style=\"fill:#440154;stroke:#440154;\" x=\"332.284118\" xlink:href=\"#C0_0_5f3ef3e0c0\" y=\"208.321278\"/>\r\n    </g>\r\n    <g clip-path=\"url(#pe273d43099)\">\r\n     <use style=\"fill:#440154;stroke:#440154;\" x=\"329.10829\" xlink:href=\"#C0_0_5f3ef3e0c0\" y=\"194.862288\"/>\r\n    </g>\r\n    <g clip-path=\"url(#pe273d43099)\">\r\n     <use style=\"fill:#440154;stroke:#440154;\" x=\"348.444874\" xlink:href=\"#C0_0_5f3ef3e0c0\" y=\"189.435274\"/>\r\n    </g>\r\n    <g clip-path=\"url(#pe273d43099)\">\r\n     <use style=\"fill:#440154;stroke:#440154;\" x=\"335.972517\" xlink:href=\"#C0_0_5f3ef3e0c0\" y=\"183.636686\"/>\r\n    </g>\r\n    <g clip-path=\"url(#pe273d43099)\">\r\n     <use style=\"fill:#440154;stroke:#440154;\" x=\"335.999058\" xlink:href=\"#C0_0_5f3ef3e0c0\" y=\"214.343078\"/>\r\n    </g>\r\n    <g clip-path=\"url(#pe273d43099)\">\r\n     <use style=\"fill:#440154;stroke:#440154;\" x=\"340.860047\" xlink:href=\"#C0_0_5f3ef3e0c0\" y=\"214.756364\"/>\r\n    </g>\r\n    <g clip-path=\"url(#pe273d43099)\">\r\n     <use style=\"fill:#440154;stroke:#440154;\" x=\"339.421718\" xlink:href=\"#C0_0_5f3ef3e0c0\" y=\"210.862859\"/>\r\n    </g>\r\n    <g clip-path=\"url(#pe273d43099)\">\r\n     <use style=\"fill:#440154;stroke:#440154;\" x=\"336.13209\" xlink:href=\"#C0_0_5f3ef3e0c0\" y=\"201.737968\"/>\r\n    </g>\r\n    <g clip-path=\"url(#pe273d43099)\">\r\n     <use style=\"fill:#440154;stroke:#440154;\" x=\"326.998315\" xlink:href=\"#C0_0_5f3ef3e0c0\" y=\"212.245988\"/>\r\n    </g>\r\n    <g clip-path=\"url(#pe273d43099)\">\r\n     <use style=\"fill:#440154;stroke:#440154;\" x=\"343.441478\" xlink:href=\"#C0_0_5f3ef3e0c0\" y=\"206.552813\"/>\r\n    </g>\r\n    <g clip-path=\"url(#pe273d43099)\">\r\n     <use style=\"fill:#440154;stroke:#440154;\" x=\"318.954606\" xlink:href=\"#C0_0_5f3ef3e0c0\" y=\"205.070342\"/>\r\n    </g>\r\n    <g clip-path=\"url(#pe273d43099)\">\r\n     <use style=\"fill:#440154;stroke:#440154;\" x=\"338.90755\" xlink:href=\"#C0_0_5f3ef3e0c0\" y=\"205.241666\"/>\r\n    </g>\r\n    <g clip-path=\"url(#pe273d43099)\">\r\n     <use style=\"fill:#440154;stroke:#440154;\" x=\"313.884221\" xlink:href=\"#C0_0_5f3ef3e0c0\" y=\"188.311915\"/>\r\n    </g>\r\n    <g clip-path=\"url(#pe273d43099)\">\r\n     <use style=\"fill:#440154;stroke:#440154;\" x=\"317.052505\" xlink:href=\"#C0_0_5f3ef3e0c0\" y=\"199.433663\"/>\r\n    </g>\r\n    <g clip-path=\"url(#pe273d43099)\">\r\n     <use style=\"fill:#440154;stroke:#440154;\" x=\"318.429821\" xlink:href=\"#C0_0_5f3ef3e0c0\" y=\"194.873166\"/>\r\n    </g>\r\n    <g clip-path=\"url(#pe273d43099)\">\r\n     <use style=\"fill:#440154;stroke:#440154;\" x=\"352.116851\" xlink:href=\"#C0_0_5f3ef3e0c0\" y=\"192.545208\"/>\r\n    </g>\r\n    <g clip-path=\"url(#pe273d43099)\">\r\n     <use style=\"fill:#440154;stroke:#440154;\" x=\"324.721829\" xlink:href=\"#C0_0_5f3ef3e0c0\" y=\"198.827955\"/>\r\n    </g>\r\n    <g clip-path=\"url(#pe273d43099)\">\r\n     <use style=\"fill:#440154;stroke:#440154;\" x=\"332.079224\" xlink:href=\"#C0_0_5f3ef3e0c0\" y=\"203.282225\"/>\r\n    </g>\r\n    <g clip-path=\"url(#pe273d43099)\">\r\n     <use style=\"fill:#440154;stroke:#440154;\" x=\"333.126016\" xlink:href=\"#C0_0_5f3ef3e0c0\" y=\"201.660486\"/>\r\n    </g>\r\n    <g clip-path=\"url(#pe273d43099)\">\r\n     <use style=\"fill:#440154;stroke:#440154;\" x=\"332.623473\" xlink:href=\"#C0_0_5f3ef3e0c0\" y=\"191.511456\"/>\r\n    </g>\r\n    <g clip-path=\"url(#pe273d43099)\">\r\n     <use style=\"fill:#440154;stroke:#440154;\" x=\"339.092515\" xlink:href=\"#C0_0_5f3ef3e0c0\" y=\"191.711248\"/>\r\n    </g>\r\n    <g clip-path=\"url(#pe273d43099)\">\r\n     <use style=\"fill:#440154;stroke:#440154;\" x=\"321.305765\" xlink:href=\"#C0_0_5f3ef3e0c0\" y=\"204.686192\"/>\r\n    </g>\r\n    <g clip-path=\"url(#pe273d43099)\">\r\n     <use style=\"fill:#440154;stroke:#440154;\" x=\"347.67116\" xlink:href=\"#C0_0_5f3ef3e0c0\" y=\"210.647971\"/>\r\n    </g>\r\n    <g clip-path=\"url(#pe273d43099)\">\r\n     <use style=\"fill:#440154;stroke:#440154;\" x=\"342.603584\" xlink:href=\"#C0_0_5f3ef3e0c0\" y=\"213.156147\"/>\r\n    </g>\r\n    <g clip-path=\"url(#pe273d43099)\">\r\n     <use style=\"fill:#440154;stroke:#440154;\" x=\"343.281905\" xlink:href=\"#C0_0_5f3ef3e0c0\" y=\"192.704891\"/>\r\n    </g>\r\n    <g clip-path=\"url(#pe273d43099)\">\r\n     <use style=\"fill:#440154;stroke:#440154;\" x=\"350.586761\" xlink:href=\"#C0_0_5f3ef3e0c0\" y=\"195.355844\"/>\r\n    </g>\r\n    <g clip-path=\"url(#pe273d43099)\">\r\n     <use style=\"fill:#440154;stroke:#440154;\" x=\"325.191794\" xlink:href=\"#C0_0_5f3ef3e0c0\" y=\"207.144818\"/>\r\n    </g>\r\n    <g clip-path=\"url(#pe273d43099)\">\r\n     <use style=\"fill:#440154;stroke:#440154;\" x=\"348.758711\" xlink:href=\"#C0_0_5f3ef3e0c0\" y=\"200.585083\"/>\r\n    </g>\r\n    <g clip-path=\"url(#pe273d43099)\">\r\n     <use style=\"fill:#440154;stroke:#440154;\" x=\"338.54212\" xlink:href=\"#C0_0_5f3ef3e0c0\" y=\"185.111855\"/>\r\n    </g>\r\n    <g clip-path=\"url(#pe273d43099)\">\r\n     <use style=\"fill:#440154;stroke:#440154;\" x=\"334.078114\" xlink:href=\"#C0_0_5f3ef3e0c0\" y=\"199.814557\"/>\r\n    </g>\r\n    <g clip-path=\"url(#pe273d43099)\">\r\n     <use style=\"fill:#440154;stroke:#440154;\" x=\"343.377981\" xlink:href=\"#C0_0_5f3ef3e0c0\" y=\"200.064955\"/>\r\n    </g>\r\n    <g clip-path=\"url(#pe273d43099)\">\r\n     <use style=\"fill:#440154;stroke:#440154;\" x=\"354.886506\" xlink:href=\"#C0_0_5f3ef3e0c0\" y=\"183.974725\"/>\r\n    </g>\r\n    <g clip-path=\"url(#pe273d43099)\">\r\n     <use style=\"fill:#440154;stroke:#440154;\" x=\"330.334042\" xlink:href=\"#C0_0_5f3ef3e0c0\" y=\"185.936902\"/>\r\n    </g>\r\n    <g clip-path=\"url(#pe273d43099)\">\r\n     <use style=\"fill:#440154;stroke:#440154;\" x=\"316.678244\" xlink:href=\"#C0_0_5f3ef3e0c0\" y=\"200.549859\"/>\r\n    </g>\r\n    <g clip-path=\"url(#pe273d43099)\">\r\n     <use style=\"fill:#440154;stroke:#440154;\" x=\"317.04847\" xlink:href=\"#C0_0_5f3ef3e0c0\" y=\"208.954961\"/>\r\n    </g>\r\n    <g clip-path=\"url(#pe273d43099)\">\r\n     <use style=\"fill:#440154;stroke:#440154;\" x=\"347.868589\" xlink:href=\"#C0_0_5f3ef3e0c0\" y=\"189.468021\"/>\r\n    </g>\r\n    <g clip-path=\"url(#pe273d43099)\">\r\n     <use style=\"fill:#440154;stroke:#440154;\" x=\"343.663352\" xlink:href=\"#C0_0_5f3ef3e0c0\" y=\"206.846092\"/>\r\n    </g>\r\n    <g clip-path=\"url(#pe273d43099)\">\r\n     <use style=\"fill:#440154;stroke:#440154;\" x=\"332.956091\" xlink:href=\"#C0_0_5f3ef3e0c0\" y=\"188.551297\"/>\r\n    </g>\r\n    <g clip-path=\"url(#pe273d43099)\">\r\n     <use style=\"fill:#440154;stroke:#440154;\" x=\"334.870981\" xlink:href=\"#C0_0_5f3ef3e0c0\" y=\"207.203956\"/>\r\n    </g>\r\n    <g clip-path=\"url(#pe273d43099)\">\r\n     <use style=\"fill:#440154;stroke:#440154;\" x=\"340.539194\" xlink:href=\"#C0_0_5f3ef3e0c0\" y=\"196.792826\"/>\r\n    </g>\r\n    <g clip-path=\"url(#pe273d43099)\">\r\n     <use style=\"fill:#21918c;stroke:#21918c;\" x=\"142.928941\" xlink:href=\"#C0_0_5f3ef3e0c0\" y=\"51.452483\"/>\r\n    </g>\r\n    <g clip-path=\"url(#pe273d43099)\">\r\n     <use style=\"fill:#21918c;stroke:#21918c;\" x=\"138.168103\" xlink:href=\"#C0_0_5f3ef3e0c0\" y=\"44.197286\"/>\r\n    </g>\r\n    <g clip-path=\"url(#pe273d43099)\">\r\n     <use style=\"fill:#21918c;stroke:#21918c;\" x=\"135.555876\" xlink:href=\"#C0_0_5f3ef3e0c0\" y=\"52.479644\"/>\r\n    </g>\r\n    <g clip-path=\"url(#pe273d43099)\">\r\n     <use style=\"fill:#21918c;stroke:#21918c;\" x=\"154.449674\" xlink:href=\"#C0_0_5f3ef3e0c0\" y=\"21.77695\"/>\r\n    </g>\r\n    <g clip-path=\"url(#pe273d43099)\">\r\n     <use style=\"fill:#21918c;stroke:#21918c;\" x=\"134.743335\" xlink:href=\"#C0_0_5f3ef3e0c0\" y=\"46.155493\"/>\r\n    </g>\r\n    <g clip-path=\"url(#pe273d43099)\">\r\n     <use style=\"fill:#21918c;stroke:#21918c;\" x=\"137.322524\" xlink:href=\"#C0_0_5f3ef3e0c0\" y=\"30.712872\"/>\r\n    </g>\r\n    <g clip-path=\"url(#pe273d43099)\">\r\n     <use style=\"fill:#21918c;stroke:#21918c;\" x=\"126.306673\" xlink:href=\"#C0_0_5f3ef3e0c0\" y=\"44.710343\"/>\r\n    </g>\r\n    <g clip-path=\"url(#pe273d43099)\">\r\n     <use style=\"fill:#21918c;stroke:#21918c;\" x=\"175.639034\" xlink:href=\"#C0_0_5f3ef3e0c0\" y=\"17.449503\"/>\r\n    </g>\r\n    <g clip-path=\"url(#pe273d43099)\">\r\n     <use style=\"fill:#21918c;stroke:#21918c;\" x=\"141.729961\" xlink:href=\"#C0_0_5f3ef3e0c0\" y=\"46.952154\"/>\r\n    </g>\r\n    <g clip-path=\"url(#pe273d43099)\">\r\n     <use style=\"fill:#21918c;stroke:#21918c;\" x=\"148.010036\" xlink:href=\"#C0_0_5f3ef3e0c0\" y=\"22.137776\"/>\r\n    </g>\r\n    <g clip-path=\"url(#pe273d43099)\">\r\n     <use style=\"fill:#21918c;stroke:#21918c;\" x=\"170.675508\" xlink:href=\"#C0_0_5f3ef3e0c0\" y=\"17.083636\"/>\r\n    </g>\r\n    <g clip-path=\"url(#pe273d43099)\">\r\n     <use style=\"fill:#21918c;stroke:#21918c;\" x=\"146.813888\" xlink:href=\"#C0_0_5f3ef3e0c0\" y=\"33.162486\"/>\r\n    </g>\r\n    <g clip-path=\"url(#pe273d43099)\">\r\n     <use style=\"fill:#21918c;stroke:#21918c;\" x=\"150.620204\" xlink:href=\"#C0_0_5f3ef3e0c0\" y=\"19.94202\"/>\r\n    </g>\r\n    <g clip-path=\"url(#pe273d43099)\">\r\n     <use style=\"fill:#21918c;stroke:#21918c;\" x=\"126.432763\" xlink:href=\"#C0_0_5f3ef3e0c0\" y=\"39.864357\"/>\r\n    </g>\r\n    <g clip-path=\"url(#pe273d43099)\">\r\n     <use style=\"fill:#21918c;stroke:#21918c;\" x=\"171.88693\" xlink:href=\"#C0_0_5f3ef3e0c0\" y=\"24.814283\"/>\r\n    </g>\r\n    <g clip-path=\"url(#pe273d43099)\">\r\n     <use style=\"fill:#21918c;stroke:#21918c;\" x=\"146.991236\" xlink:href=\"#C0_0_5f3ef3e0c0\" y=\"47.166674\"/>\r\n    </g>\r\n    <g clip-path=\"url(#pe273d43099)\">\r\n     <use style=\"fill:#21918c;stroke:#21918c;\" x=\"132.835317\" xlink:href=\"#C0_0_5f3ef3e0c0\" y=\"31.016873\"/>\r\n    </g>\r\n    <g clip-path=\"url(#pe273d43099)\">\r\n     <use style=\"fill:#21918c;stroke:#21918c;\" x=\"160.543793\" xlink:href=\"#C0_0_5f3ef3e0c0\" y=\"27.248832\"/>\r\n    </g>\r\n    <g clip-path=\"url(#pe273d43099)\">\r\n     <use style=\"fill:#21918c;stroke:#21918c;\" x=\"104.567665\" xlink:href=\"#C0_0_5f3ef3e0c0\" y=\"35.108541\"/>\r\n    </g>\r\n    <g clip-path=\"url(#pe273d43099)\">\r\n     <use style=\"fill:#21918c;stroke:#21918c;\" x=\"160.857045\" xlink:href=\"#C0_0_5f3ef3e0c0\" y=\"23.209489\"/>\r\n    </g>\r\n    <g clip-path=\"url(#pe273d43099)\">\r\n     <use style=\"fill:#21918c;stroke:#21918c;\" x=\"108.013964\" xlink:href=\"#C0_0_5f3ef3e0c0\" y=\"43.495515\"/>\r\n    </g>\r\n    <g clip-path=\"url(#pe273d43099)\">\r\n     <use style=\"fill:#21918c;stroke:#21918c;\" x=\"159.986338\" xlink:href=\"#C0_0_5f3ef3e0c0\" y=\"31.862075\"/>\r\n    </g>\r\n    <g clip-path=\"url(#pe273d43099)\">\r\n     <use style=\"fill:#21918c;stroke:#21918c;\" x=\"99.911915\" xlink:href=\"#C0_0_5f3ef3e0c0\" y=\"41.795476\"/>\r\n    </g>\r\n    <g clip-path=\"url(#pe273d43099)\">\r\n     <use style=\"fill:#21918c;stroke:#21918c;\" x=\"128.768117\" xlink:href=\"#C0_0_5f3ef3e0c0\" y=\"38.380644\"/>\r\n    </g>\r\n    <g clip-path=\"url(#pe273d43099)\">\r\n     <use style=\"fill:#21918c;stroke:#21918c;\" x=\"147.409612\" xlink:href=\"#C0_0_5f3ef3e0c0\" y=\"41.542904\"/>\r\n    </g>\r\n    <g clip-path=\"url(#pe273d43099)\">\r\n     <use style=\"fill:#21918c;stroke:#21918c;\" x=\"145.909474\" xlink:href=\"#C0_0_5f3ef3e0c0\" y=\"45.669203\"/>\r\n    </g>\r\n    <g clip-path=\"url(#pe273d43099)\">\r\n     <use style=\"fill:#21918c;stroke:#21918c;\" x=\"136.110127\" xlink:href=\"#C0_0_5f3ef3e0c0\" y=\"50.543818\"/>\r\n    </g>\r\n    <g clip-path=\"url(#pe273d43099)\">\r\n     <use style=\"fill:#21918c;stroke:#21918c;\" x=\"120.817248\" xlink:href=\"#C0_0_5f3ef3e0c0\" y=\"53.821386\"/>\r\n    </g>\r\n    <g clip-path=\"url(#pe273d43099)\">\r\n     <use style=\"fill:#21918c;stroke:#21918c;\" x=\"133.368443\" xlink:href=\"#C0_0_5f3ef3e0c0\" y=\"37.17621\"/>\r\n    </g>\r\n    <g clip-path=\"url(#pe273d43099)\">\r\n     <use style=\"fill:#21918c;stroke:#21918c;\" x=\"172.665808\" xlink:href=\"#C0_0_5f3ef3e0c0\" y=\"22.326218\"/>\r\n    </g>\r\n    <g clip-path=\"url(#pe273d43099)\">\r\n     <use style=\"fill:#21918c;stroke:#21918c;\" x=\"162.586382\" xlink:href=\"#C0_0_5f3ef3e0c0\" y=\"21.39422\"/>\r\n    </g>\r\n    <g clip-path=\"url(#pe273d43099)\">\r\n     <use style=\"fill:#21918c;stroke:#21918c;\" x=\"165.964597\" xlink:href=\"#C0_0_5f3ef3e0c0\" y=\"20.837499\"/>\r\n    </g>\r\n    <g clip-path=\"url(#pe273d43099)\">\r\n     <use style=\"fill:#21918c;stroke:#21918c;\" x=\"162.55642\" xlink:href=\"#C0_0_5f3ef3e0c0\" y=\"26.348598\"/>\r\n    </g>\r\n    <g clip-path=\"url(#pe273d43099)\">\r\n     <use style=\"fill:#21918c;stroke:#21918c;\" x=\"90.767761\" xlink:href=\"#C0_0_5f3ef3e0c0\" y=\"46.612157\"/>\r\n    </g>\r\n    <g clip-path=\"url(#pe273d43099)\">\r\n     <use style=\"fill:#21918c;stroke:#21918c;\" x=\"130.699642\" xlink:href=\"#C0_0_5f3ef3e0c0\" y=\"28.836967\"/>\r\n    </g>\r\n    <g clip-path=\"url(#pe273d43099)\">\r\n     <use style=\"fill:#21918c;stroke:#21918c;\" x=\"125.633032\" xlink:href=\"#C0_0_5f3ef3e0c0\" y=\"41.546909\"/>\r\n    </g>\r\n    <g clip-path=\"url(#pe273d43099)\">\r\n     <use style=\"fill:#21918c;stroke:#21918c;\" x=\"138.093137\" xlink:href=\"#C0_0_5f3ef3e0c0\" y=\"49.486772\"/>\r\n    </g>\r\n    <g clip-path=\"url(#pe273d43099)\">\r\n     <use style=\"fill:#21918c;stroke:#21918c;\" x=\"108.82983\" xlink:href=\"#C0_0_5f3ef3e0c0\" y=\"34.503799\"/>\r\n    </g>\r\n    <g clip-path=\"url(#pe273d43099)\">\r\n     <use style=\"fill:#21918c;stroke:#21918c;\" x=\"149.705458\" xlink:href=\"#C0_0_5f3ef3e0c0\" y=\"28.569965\"/>\r\n    </g>\r\n    <g clip-path=\"url(#pe273d43099)\">\r\n     <use style=\"fill:#21918c;stroke:#21918c;\" x=\"153.711884\" xlink:href=\"#C0_0_5f3ef3e0c0\" y=\"23.430397\"/>\r\n    </g>\r\n    <g clip-path=\"url(#pe273d43099)\">\r\n     <use style=\"fill:#21918c;stroke:#21918c;\" x=\"140.444236\" xlink:href=\"#C0_0_5f3ef3e0c0\" y=\"25.868259\"/>\r\n    </g>\r\n    <g clip-path=\"url(#pe273d43099)\">\r\n     <use style=\"fill:#21918c;stroke:#21918c;\" x=\"131.904803\" xlink:href=\"#C0_0_5f3ef3e0c0\" y=\"39.610659\"/>\r\n    </g>\r\n    <g clip-path=\"url(#pe273d43099)\">\r\n     <use style=\"fill:#21918c;stroke:#21918c;\" x=\"158.942481\" xlink:href=\"#C0_0_5f3ef3e0c0\" y=\"25.873338\"/>\r\n    </g>\r\n    <g clip-path=\"url(#pe273d43099)\">\r\n     <use style=\"fill:#21918c;stroke:#21918c;\" x=\"174.891454\" xlink:href=\"#C0_0_5f3ef3e0c0\" y=\"17.578578\"/>\r\n    </g>\r\n    <g clip-path=\"url(#pe273d43099)\">\r\n     <use style=\"fill:#21918c;stroke:#21918c;\" x=\"146.860992\" xlink:href=\"#C0_0_5f3ef3e0c0\" y=\"26.472931\"/>\r\n    </g>\r\n    <g clip-path=\"url(#pe273d43099)\">\r\n     <use style=\"fill:#21918c;stroke:#21918c;\" x=\"149.343996\" xlink:href=\"#C0_0_5f3ef3e0c0\" y=\"29.792202\"/>\r\n    </g>\r\n    <g clip-path=\"url(#pe273d43099)\">\r\n     <use style=\"fill:#21918c;stroke:#21918c;\" x=\"147.803497\" xlink:href=\"#C0_0_5f3ef3e0c0\" y=\"29.33109\"/>\r\n    </g>\r\n    <g clip-path=\"url(#pe273d43099)\">\r\n     <use style=\"fill:#21918c;stroke:#21918c;\" x=\"145.683836\" xlink:href=\"#C0_0_5f3ef3e0c0\" y=\"37.887646\"/>\r\n    </g>\r\n    <g clip-path=\"url(#pe273d43099)\">\r\n     <use style=\"fill:#21918c;stroke:#21918c;\" x=\"178.374638\" xlink:href=\"#C0_0_5f3ef3e0c0\" y=\"17.559489\"/>\r\n    </g>\r\n    <g clip-path=\"url(#pe273d43099)\">\r\n     <use style=\"fill:#21918c;stroke:#21918c;\" x=\"152.726643\" xlink:href=\"#C0_0_5f3ef3e0c0\" y=\"27.816158\"/>\r\n    </g>\r\n    <g clip-path=\"url(#pe273d43099)\">\r\n     <use style=\"fill:#fde725;stroke:#fde725;\" x=\"84.564511\" xlink:href=\"#C0_0_5f3ef3e0c0\" y=\"69.537064\"/>\r\n    </g>\r\n    <g clip-path=\"url(#pe273d43099)\">\r\n     <use style=\"fill:#fde725;stroke:#fde725;\" x=\"79.595184\" xlink:href=\"#C0_0_5f3ef3e0c0\" y=\"45.616579\"/>\r\n    </g>\r\n    <g clip-path=\"url(#pe273d43099)\">\r\n     <use style=\"fill:#fde725;stroke:#fde725;\" x=\"69.104403\" xlink:href=\"#C0_0_5f3ef3e0c0\" y=\"73.689641\"/>\r\n    </g>\r\n    <g clip-path=\"url(#pe273d43099)\">\r\n     <use style=\"fill:#fde725;stroke:#fde725;\" x=\"89.367125\" xlink:href=\"#C0_0_5f3ef3e0c0\" y=\"60.81146\"/>\r\n    </g>\r\n    <g clip-path=\"url(#pe273d43099)\">\r\n     <use style=\"fill:#fde725;stroke:#fde725;\" x=\"80.334386\" xlink:href=\"#C0_0_5f3ef3e0c0\" y=\"67.332091\"/>\r\n    </g>\r\n    <g clip-path=\"url(#pe273d43099)\">\r\n     <use style=\"fill:#fde725;stroke:#fde725;\" x=\"61.970753\" xlink:href=\"#C0_0_5f3ef3e0c0\" y=\"79.897407\"/>\r\n    </g>\r\n    <g clip-path=\"url(#pe273d43099)\">\r\n     <use style=\"fill:#fde725;stroke:#fde725;\" x=\"125.927106\" xlink:href=\"#C0_0_5f3ef3e0c0\" y=\"23.291215\"/>\r\n    </g>\r\n    <g clip-path=\"url(#pe273d43099)\">\r\n     <use style=\"fill:#fde725;stroke:#fde725;\" x=\"69.963863\" xlink:href=\"#C0_0_5f3ef3e0c0\" y=\"78.016532\"/>\r\n    </g>\r\n    <g clip-path=\"url(#pe273d43099)\">\r\n     <use style=\"fill:#fde725;stroke:#fde725;\" x=\"51.363603\" xlink:href=\"#C0_0_5f3ef3e0c0\" y=\"68.863632\"/>\r\n    </g>\r\n    <g clip-path=\"url(#pe273d43099)\">\r\n     <use style=\"fill:#fde725;stroke:#fde725;\" x=\"55.343116\" xlink:href=\"#C0_0_5f3ef3e0c0\" y=\"74.631943\"/>\r\n    </g>\r\n    <g clip-path=\"url(#pe273d43099)\">\r\n     <use style=\"fill:#fde725;stroke:#fde725;\" x=\"74.543897\" xlink:href=\"#C0_0_5f3ef3e0c0\" y=\"59.072293\"/>\r\n    </g>\r\n    <g clip-path=\"url(#pe273d43099)\">\r\n     <use style=\"fill:#fde725;stroke:#fde725;\" x=\"88.483328\" xlink:href=\"#C0_0_5f3ef3e0c0\" y=\"57.134596\"/>\r\n    </g>\r\n    <g clip-path=\"url(#pe273d43099)\">\r\n     <use style=\"fill:#fde725;stroke:#fde725;\" x=\"73.724031\" xlink:href=\"#C0_0_5f3ef3e0c0\" y=\"66.284552\"/>\r\n    </g>\r\n    <g clip-path=\"url(#pe273d43099)\">\r\n     <use style=\"fill:#fde725;stroke:#fde725;\" x=\"74.864013\" xlink:href=\"#C0_0_5f3ef3e0c0\" y=\"44.301513\"/>\r\n    </g>\r\n    <g clip-path=\"url(#pe273d43099)\">\r\n     <use style=\"fill:#fde725;stroke:#fde725;\" x=\"67.607203\" xlink:href=\"#C0_0_5f3ef3e0c0\" y=\"46.9798\"/>\r\n    </g>\r\n    <g clip-path=\"url(#pe273d43099)\">\r\n     <use style=\"fill:#fde725;stroke:#fde725;\" x=\"66.201639\" xlink:href=\"#C0_0_5f3ef3e0c0\" y=\"61.885997\"/>\r\n    </g>\r\n    <g clip-path=\"url(#pe273d43099)\">\r\n     <use style=\"fill:#fde725;stroke:#fde725;\" x=\"86.414173\" xlink:href=\"#C0_0_5f3ef3e0c0\" y=\"61.624629\"/>\r\n    </g>\r\n    <g clip-path=\"url(#pe273d43099)\">\r\n     <use style=\"fill:#fde725;stroke:#fde725;\" x=\"50.522869\" xlink:href=\"#C0_0_5f3ef3e0c0\" y=\"79.09205\"/>\r\n    </g>\r\n    <g clip-path=\"url(#pe273d43099)\">\r\n     <use style=\"fill:#fde725;stroke:#fde725;\" x=\"63.563681\" xlink:href=\"#C0_0_5f3ef3e0c0\" y=\"81.569724\"/>\r\n    </g>\r\n    <g clip-path=\"url(#pe273d43099)\">\r\n     <use style=\"fill:#fde725;stroke:#fde725;\" x=\"89.938265\" xlink:href=\"#C0_0_5f3ef3e0c0\" y=\"39.524949\"/>\r\n    </g>\r\n    <g clip-path=\"url(#pe273d43099)\">\r\n     <use style=\"fill:#fde725;stroke:#fde725;\" x=\"68.436187\" xlink:href=\"#C0_0_5f3ef3e0c0\" y=\"70.110191\"/>\r\n    </g>\r\n    <g clip-path=\"url(#pe273d43099)\">\r\n     <use style=\"fill:#fde725;stroke:#fde725;\" x=\"76.041664\" xlink:href=\"#C0_0_5f3ef3e0c0\" y=\"43.815591\"/>\r\n    </g>\r\n    <g clip-path=\"url(#pe273d43099)\">\r\n     <use style=\"fill:#fde725;stroke:#fde725;\" x=\"63.596927\" xlink:href=\"#C0_0_5f3ef3e0c0\" y=\"80.712024\"/>\r\n    </g>\r\n    <g clip-path=\"url(#pe273d43099)\">\r\n     <use style=\"fill:#fde725;stroke:#fde725;\" x=\"99.839536\" xlink:href=\"#C0_0_5f3ef3e0c0\" y=\"48.539097\"/>\r\n    </g>\r\n    <g clip-path=\"url(#pe273d43099)\">\r\n     <use style=\"fill:#fde725;stroke:#fde725;\" x=\"72.978752\" xlink:href=\"#C0_0_5f3ef3e0c0\" y=\"68.764972\"/>\r\n    </g>\r\n    <g clip-path=\"url(#pe273d43099)\">\r\n     <use style=\"fill:#fde725;stroke:#fde725;\" x=\"71.196343\" xlink:href=\"#C0_0_5f3ef3e0c0\" y=\"75.701963\"/>\r\n    </g>\r\n    <g clip-path=\"url(#pe273d43099)\">\r\n     <use style=\"fill:#fde725;stroke:#fde725;\" x=\"102.982727\" xlink:href=\"#C0_0_5f3ef3e0c0\" y=\"46.662924\"/>\r\n    </g>\r\n    <g clip-path=\"url(#pe273d43099)\">\r\n     <use style=\"fill:#fde725;stroke:#fde725;\" x=\"101.564114\" xlink:href=\"#C0_0_5f3ef3e0c0\" y=\"46.01078\"/>\r\n    </g>\r\n    <g clip-path=\"url(#pe273d43099)\">\r\n     <use style=\"fill:#fde725;stroke:#fde725;\" x=\"84.62138\" xlink:href=\"#C0_0_5f3ef3e0c0\" y=\"63.857877\"/>\r\n    </g>\r\n    <g clip-path=\"url(#pe273d43099)\">\r\n     <use style=\"fill:#fde725;stroke:#fde725;\" x=\"76.627541\" xlink:href=\"#C0_0_5f3ef3e0c0\" y=\"75.665936\"/>\r\n    </g>\r\n    <g clip-path=\"url(#pe273d43099)\">\r\n     <use style=\"fill:#fde725;stroke:#fde725;\" x=\"70.239534\" xlink:href=\"#C0_0_5f3ef3e0c0\" y=\"77.612163\"/>\r\n    </g>\r\n    <g clip-path=\"url(#pe273d43099)\">\r\n     <use style=\"fill:#fde725;stroke:#fde725;\" x=\"50.534363\" xlink:href=\"#C0_0_5f3ef3e0c0\" y=\"78.998373\"/>\r\n    </g>\r\n    <g clip-path=\"url(#pe273d43099)\">\r\n     <use style=\"fill:#fde725;stroke:#fde725;\" x=\"83.514754\" xlink:href=\"#C0_0_5f3ef3e0c0\" y=\"64.503317\"/>\r\n    </g>\r\n    <g clip-path=\"url(#pe273d43099)\">\r\n     <use style=\"fill:#fde725;stroke:#fde725;\" x=\"103.15351\" xlink:href=\"#C0_0_5f3ef3e0c0\" y=\"49.961114\"/>\r\n    </g>\r\n    <g clip-path=\"url(#pe273d43099)\">\r\n     <use style=\"fill:#fde725;stroke:#fde725;\" x=\"86.257922\" xlink:href=\"#C0_0_5f3ef3e0c0\" y=\"53.474053\"/>\r\n    </g>\r\n    <g clip-path=\"url(#pe273d43099)\">\r\n     <use style=\"fill:#fde725;stroke:#fde725;\" x=\"61.586582\" xlink:href=\"#C0_0_5f3ef3e0c0\" y=\"78.24302\"/>\r\n    </g>\r\n    <g clip-path=\"url(#pe273d43099)\">\r\n     <use style=\"fill:#fde725;stroke:#fde725;\" x=\"57.430229\" xlink:href=\"#C0_0_5f3ef3e0c0\" y=\"64.476833\"/>\r\n    </g>\r\n    <g clip-path=\"url(#pe273d43099)\">\r\n     <use style=\"fill:#fde725;stroke:#fde725;\" x=\"86.385801\" xlink:href=\"#C0_0_5f3ef3e0c0\" y=\"61.21508\"/>\r\n    </g>\r\n    <g clip-path=\"url(#pe273d43099)\">\r\n     <use style=\"fill:#fde725;stroke:#fde725;\" x=\"103.558461\" xlink:href=\"#C0_0_5f3ef3e0c0\" y=\"44.632835\"/>\r\n    </g>\r\n    <g clip-path=\"url(#pe273d43099)\">\r\n     <use style=\"fill:#fde725;stroke:#fde725;\" x=\"70.269738\" xlink:href=\"#C0_0_5f3ef3e0c0\" y=\"66.184438\"/>\r\n    </g>\r\n    <g clip-path=\"url(#pe273d43099)\">\r\n     <use style=\"fill:#fde725;stroke:#fde725;\" x=\"68.464172\" xlink:href=\"#C0_0_5f3ef3e0c0\" y=\"67.415879\"/>\r\n    </g>\r\n    <g clip-path=\"url(#pe273d43099)\">\r\n     <use style=\"fill:#fde725;stroke:#fde725;\" x=\"66.139764\" xlink:href=\"#C0_0_5f3ef3e0c0\" y=\"63.567003\"/>\r\n    </g>\r\n    <g clip-path=\"url(#pe273d43099)\">\r\n     <use style=\"fill:#fde725;stroke:#fde725;\" x=\"79.584606\" xlink:href=\"#C0_0_5f3ef3e0c0\" y=\"45.614097\"/>\r\n    </g>\r\n    <g clip-path=\"url(#pe273d43099)\">\r\n     <use style=\"fill:#fde725;stroke:#fde725;\" x=\"69.991514\" xlink:href=\"#C0_0_5f3ef3e0c0\" y=\"70.868776\"/>\r\n    </g>\r\n    <g clip-path=\"url(#pe273d43099)\">\r\n     <use style=\"fill:#fde725;stroke:#fde725;\" x=\"64.685681\" xlink:href=\"#C0_0_5f3ef3e0c0\" y=\"68.72904\"/>\r\n    </g>\r\n    <g clip-path=\"url(#pe273d43099)\">\r\n     <use style=\"fill:#fde725;stroke:#fde725;\" x=\"69.539787\" xlink:href=\"#C0_0_5f3ef3e0c0\" y=\"63.041735\"/>\r\n    </g>\r\n    <g clip-path=\"url(#pe273d43099)\">\r\n     <use style=\"fill:#fde725;stroke:#fde725;\" x=\"91.799704\" xlink:href=\"#C0_0_5f3ef3e0c0\" y=\"49.726249\"/>\r\n    </g>\r\n    <g clip-path=\"url(#pe273d43099)\">\r\n     <use style=\"fill:#fde725;stroke:#fde725;\" x=\"78.765555\" xlink:href=\"#C0_0_5f3ef3e0c0\" y=\"59.533922\"/>\r\n    </g>\r\n    <g clip-path=\"url(#pe273d43099)\">\r\n     <use style=\"fill:#fde725;stroke:#fde725;\" x=\"57.928636\" xlink:href=\"#C0_0_5f3ef3e0c0\" y=\"61.709191\"/>\r\n    </g>\r\n    <g clip-path=\"url(#pe273d43099)\">\r\n     <use style=\"fill:#fde725;stroke:#fde725;\" x=\"88.370171\" xlink:href=\"#C0_0_5f3ef3e0c0\" y=\"46.07802\"/>\r\n    </g>\r\n   </g>\r\n   <g id=\"matplotlib.axis_1\">\r\n    <g id=\"xtick_1\">\r\n     <g id=\"line2d_1\">\r\n      <defs>\r\n       <path d=\"M 0 0 \r\nL 0 3.5 \r\n\" id=\"mc8d34fba05\" style=\"stroke:#000000;stroke-width:0.8;\"/>\r\n      </defs>\r\n      <g>\r\n       <use style=\"stroke:#000000;stroke-width:0.8;\" x=\"74.971776\" xlink:href=\"#mc8d34fba05\" y=\"224.64\"/>\r\n      </g>\r\n     </g>\r\n     <g id=\"text_1\">\r\n      <!-- −5.0 -->\r\n      <g transform=\"translate(62.83037 239.238437)scale(0.1 -0.1)\">\r\n       <defs>\r\n        <path d=\"M 678 2272 \r\nL 4684 2272 \r\nL 4684 1741 \r\nL 678 1741 \r\nL 678 2272 \r\nz\r\n\" id=\"DejaVuSans-2212\" transform=\"scale(0.015625)\"/>\r\n        <path d=\"M 691 4666 \r\nL 3169 4666 \r\nL 3169 4134 \r\nL 1269 4134 \r\nL 1269 2991 \r\nQ 1406 3038 1543 3061 \r\nQ 1681 3084 1819 3084 \r\nQ 2600 3084 3056 2656 \r\nQ 3513 2228 3513 1497 \r\nQ 3513 744 3044 326 \r\nQ 2575 -91 1722 -91 \r\nQ 1428 -91 1123 -41 \r\nQ 819 9 494 109 \r\nL 494 744 \r\nQ 775 591 1075 516 \r\nQ 1375 441 1709 441 \r\nQ 2250 441 2565 725 \r\nQ 2881 1009 2881 1497 \r\nQ 2881 1984 2565 2268 \r\nQ 2250 2553 1709 2553 \r\nQ 1456 2553 1204 2497 \r\nQ 953 2441 691 2322 \r\nL 691 4666 \r\nz\r\n\" id=\"DejaVuSans-35\" transform=\"scale(0.015625)\"/>\r\n        <path d=\"M 684 794 \r\nL 1344 794 \r\nL 1344 0 \r\nL 684 0 \r\nL 684 794 \r\nz\r\n\" id=\"DejaVuSans-2e\" transform=\"scale(0.015625)\"/>\r\n        <path d=\"M 2034 4250 \r\nQ 1547 4250 1301 3770 \r\nQ 1056 3291 1056 2328 \r\nQ 1056 1369 1301 889 \r\nQ 1547 409 2034 409 \r\nQ 2525 409 2770 889 \r\nQ 3016 1369 3016 2328 \r\nQ 3016 3291 2770 3770 \r\nQ 2525 4250 2034 4250 \r\nz\r\nM 2034 4750 \r\nQ 2819 4750 3233 4129 \r\nQ 3647 3509 3647 2328 \r\nQ 3647 1150 3233 529 \r\nQ 2819 -91 2034 -91 \r\nQ 1250 -91 836 529 \r\nQ 422 1150 422 2328 \r\nQ 422 3509 836 4129 \r\nQ 1250 4750 2034 4750 \r\nz\r\n\" id=\"DejaVuSans-30\" transform=\"scale(0.015625)\"/>\r\n       </defs>\r\n       <use xlink:href=\"#DejaVuSans-2212\"/>\r\n       <use x=\"83.789062\" xlink:href=\"#DejaVuSans-35\"/>\r\n       <use x=\"147.412109\" xlink:href=\"#DejaVuSans-2e\"/>\r\n       <use x=\"179.199219\" xlink:href=\"#DejaVuSans-30\"/>\r\n      </g>\r\n     </g>\r\n    </g>\r\n    <g id=\"xtick_2\">\r\n     <g id=\"line2d_2\">\r\n      <g>\r\n       <use style=\"stroke:#000000;stroke-width:0.8;\" x=\"115.659525\" xlink:href=\"#mc8d34fba05\" y=\"224.64\"/>\r\n      </g>\r\n     </g>\r\n     <g id=\"text_2\">\r\n      <!-- −2.5 -->\r\n      <g transform=\"translate(103.518119 239.238437)scale(0.1 -0.1)\">\r\n       <defs>\r\n        <path d=\"M 1228 531 \r\nL 3431 531 \r\nL 3431 0 \r\nL 469 0 \r\nL 469 531 \r\nQ 828 903 1448 1529 \r\nQ 2069 2156 2228 2338 \r\nQ 2531 2678 2651 2914 \r\nQ 2772 3150 2772 3378 \r\nQ 2772 3750 2511 3984 \r\nQ 2250 4219 1831 4219 \r\nQ 1534 4219 1204 4116 \r\nQ 875 4013 500 3803 \r\nL 500 4441 \r\nQ 881 4594 1212 4672 \r\nQ 1544 4750 1819 4750 \r\nQ 2544 4750 2975 4387 \r\nQ 3406 4025 3406 3419 \r\nQ 3406 3131 3298 2873 \r\nQ 3191 2616 2906 2266 \r\nQ 2828 2175 2409 1742 \r\nQ 1991 1309 1228 531 \r\nz\r\n\" id=\"DejaVuSans-32\" transform=\"scale(0.015625)\"/>\r\n       </defs>\r\n       <use xlink:href=\"#DejaVuSans-2212\"/>\r\n       <use x=\"83.789062\" xlink:href=\"#DejaVuSans-32\"/>\r\n       <use x=\"147.412109\" xlink:href=\"#DejaVuSans-2e\"/>\r\n       <use x=\"179.199219\" xlink:href=\"#DejaVuSans-35\"/>\r\n      </g>\r\n     </g>\r\n    </g>\r\n    <g id=\"xtick_3\">\r\n     <g id=\"line2d_3\">\r\n      <g>\r\n       <use style=\"stroke:#000000;stroke-width:0.8;\" x=\"156.347274\" xlink:href=\"#mc8d34fba05\" y=\"224.64\"/>\r\n      </g>\r\n     </g>\r\n     <g id=\"text_3\">\r\n      <!-- 0.0 -->\r\n      <g transform=\"translate(148.395712 239.238437)scale(0.1 -0.1)\">\r\n       <use xlink:href=\"#DejaVuSans-30\"/>\r\n       <use x=\"63.623047\" xlink:href=\"#DejaVuSans-2e\"/>\r\n       <use x=\"95.410156\" xlink:href=\"#DejaVuSans-30\"/>\r\n      </g>\r\n     </g>\r\n    </g>\r\n    <g id=\"xtick_4\">\r\n     <g id=\"line2d_4\">\r\n      <g>\r\n       <use style=\"stroke:#000000;stroke-width:0.8;\" x=\"197.035023\" xlink:href=\"#mc8d34fba05\" y=\"224.64\"/>\r\n      </g>\r\n     </g>\r\n     <g id=\"text_4\">\r\n      <!-- 2.5 -->\r\n      <g transform=\"translate(189.08346 239.238437)scale(0.1 -0.1)\">\r\n       <use xlink:href=\"#DejaVuSans-32\"/>\r\n       <use x=\"63.623047\" xlink:href=\"#DejaVuSans-2e\"/>\r\n       <use x=\"95.410156\" xlink:href=\"#DejaVuSans-35\"/>\r\n      </g>\r\n     </g>\r\n    </g>\r\n    <g id=\"xtick_5\">\r\n     <g id=\"line2d_5\">\r\n      <g>\r\n       <use style=\"stroke:#000000;stroke-width:0.8;\" x=\"237.722772\" xlink:href=\"#mc8d34fba05\" y=\"224.64\"/>\r\n      </g>\r\n     </g>\r\n     <g id=\"text_5\">\r\n      <!-- 5.0 -->\r\n      <g transform=\"translate(229.771209 239.238437)scale(0.1 -0.1)\">\r\n       <use xlink:href=\"#DejaVuSans-35\"/>\r\n       <use x=\"63.623047\" xlink:href=\"#DejaVuSans-2e\"/>\r\n       <use x=\"95.410156\" xlink:href=\"#DejaVuSans-30\"/>\r\n      </g>\r\n     </g>\r\n    </g>\r\n    <g id=\"xtick_6\">\r\n     <g id=\"line2d_6\">\r\n      <g>\r\n       <use style=\"stroke:#000000;stroke-width:0.8;\" x=\"278.410521\" xlink:href=\"#mc8d34fba05\" y=\"224.64\"/>\r\n      </g>\r\n     </g>\r\n     <g id=\"text_6\">\r\n      <!-- 7.5 -->\r\n      <g transform=\"translate(270.458958 239.238437)scale(0.1 -0.1)\">\r\n       <defs>\r\n        <path d=\"M 525 4666 \r\nL 3525 4666 \r\nL 3525 4397 \r\nL 1831 0 \r\nL 1172 0 \r\nL 2766 4134 \r\nL 525 4134 \r\nL 525 4666 \r\nz\r\n\" id=\"DejaVuSans-37\" transform=\"scale(0.015625)\"/>\r\n       </defs>\r\n       <use xlink:href=\"#DejaVuSans-37\"/>\r\n       <use x=\"63.623047\" xlink:href=\"#DejaVuSans-2e\"/>\r\n       <use x=\"95.410156\" xlink:href=\"#DejaVuSans-35\"/>\r\n      </g>\r\n     </g>\r\n    </g>\r\n    <g id=\"xtick_7\">\r\n     <g id=\"line2d_7\">\r\n      <g>\r\n       <use style=\"stroke:#000000;stroke-width:0.8;\" x=\"319.09827\" xlink:href=\"#mc8d34fba05\" y=\"224.64\"/>\r\n      </g>\r\n     </g>\r\n     <g id=\"text_7\">\r\n      <!-- 10.0 -->\r\n      <g transform=\"translate(307.965457 239.238437)scale(0.1 -0.1)\">\r\n       <defs>\r\n        <path d=\"M 794 531 \r\nL 1825 531 \r\nL 1825 4091 \r\nL 703 3866 \r\nL 703 4441 \r\nL 1819 4666 \r\nL 2450 4666 \r\nL 2450 531 \r\nL 3481 531 \r\nL 3481 0 \r\nL 794 0 \r\nL 794 531 \r\nz\r\n\" id=\"DejaVuSans-31\" transform=\"scale(0.015625)\"/>\r\n       </defs>\r\n       <use xlink:href=\"#DejaVuSans-31\"/>\r\n       <use x=\"63.623047\" xlink:href=\"#DejaVuSans-30\"/>\r\n       <use x=\"127.246094\" xlink:href=\"#DejaVuSans-2e\"/>\r\n       <use x=\"159.033203\" xlink:href=\"#DejaVuSans-30\"/>\r\n      </g>\r\n     </g>\r\n    </g>\r\n    <g id=\"xtick_8\">\r\n     <g id=\"line2d_8\">\r\n      <g>\r\n       <use style=\"stroke:#000000;stroke-width:0.8;\" x=\"359.786019\" xlink:href=\"#mc8d34fba05\" y=\"224.64\"/>\r\n      </g>\r\n     </g>\r\n     <g id=\"text_8\">\r\n      <!-- 12.5 -->\r\n      <g transform=\"translate(348.653206 239.238437)scale(0.1 -0.1)\">\r\n       <use xlink:href=\"#DejaVuSans-31\"/>\r\n       <use x=\"63.623047\" xlink:href=\"#DejaVuSans-32\"/>\r\n       <use x=\"127.246094\" xlink:href=\"#DejaVuSans-2e\"/>\r\n       <use x=\"159.033203\" xlink:href=\"#DejaVuSans-35\"/>\r\n      </g>\r\n     </g>\r\n    </g>\r\n   </g>\r\n   <g id=\"matplotlib.axis_2\">\r\n    <g id=\"ytick_1\">\r\n     <g id=\"line2d_9\">\r\n      <defs>\r\n       <path d=\"M 0 0 \r\nL -3.5 0 \r\n\" id=\"m7001534c43\" style=\"stroke:#000000;stroke-width:0.8;\"/>\r\n      </defs>\r\n      <g>\r\n       <use style=\"stroke:#000000;stroke-width:0.8;\" x=\"35.304688\" xlink:href=\"#m7001534c43\" y=\"181.667978\"/>\r\n      </g>\r\n     </g>\r\n     <g id=\"text_9\">\r\n      <!-- −20 -->\r\n      <g transform=\"translate(7.2 185.467197)scale(0.1 -0.1)\">\r\n       <use xlink:href=\"#DejaVuSans-2212\"/>\r\n       <use x=\"83.789062\" xlink:href=\"#DejaVuSans-32\"/>\r\n       <use x=\"147.412109\" xlink:href=\"#DejaVuSans-30\"/>\r\n      </g>\r\n     </g>\r\n    </g>\r\n    <g id=\"ytick_2\">\r\n     <g id=\"line2d_10\">\r\n      <g>\r\n       <use style=\"stroke:#000000;stroke-width:0.8;\" x=\"35.304688\" xlink:href=\"#m7001534c43\" y=\"136.259351\"/>\r\n      </g>\r\n     </g>\r\n     <g id=\"text_10\">\r\n      <!-- −10 -->\r\n      <g transform=\"translate(7.2 140.05857)scale(0.1 -0.1)\">\r\n       <use xlink:href=\"#DejaVuSans-2212\"/>\r\n       <use x=\"83.789062\" xlink:href=\"#DejaVuSans-31\"/>\r\n       <use x=\"147.412109\" xlink:href=\"#DejaVuSans-30\"/>\r\n      </g>\r\n     </g>\r\n    </g>\r\n    <g id=\"ytick_3\">\r\n     <g id=\"line2d_11\">\r\n      <g>\r\n       <use style=\"stroke:#000000;stroke-width:0.8;\" x=\"35.304688\" xlink:href=\"#m7001534c43\" y=\"90.850725\"/>\r\n      </g>\r\n     </g>\r\n     <g id=\"text_11\">\r\n      <!-- 0 -->\r\n      <g transform=\"translate(21.942188 94.649944)scale(0.1 -0.1)\">\r\n       <use xlink:href=\"#DejaVuSans-30\"/>\r\n      </g>\r\n     </g>\r\n    </g>\r\n    <g id=\"ytick_4\">\r\n     <g id=\"line2d_12\">\r\n      <g>\r\n       <use style=\"stroke:#000000;stroke-width:0.8;\" x=\"35.304688\" xlink:href=\"#m7001534c43\" y=\"45.442098\"/>\r\n      </g>\r\n     </g>\r\n     <g id=\"text_12\">\r\n      <!-- 10 -->\r\n      <g transform=\"translate(15.579688 49.241317)scale(0.1 -0.1)\">\r\n       <use xlink:href=\"#DejaVuSans-31\"/>\r\n       <use x=\"63.623047\" xlink:href=\"#DejaVuSans-30\"/>\r\n      </g>\r\n     </g>\r\n    </g>\r\n   </g>\r\n   <g id=\"patch_3\">\r\n    <path d=\"M 35.304688 224.64 \r\nL 35.304688 7.2 \r\n\" style=\"fill:none;stroke:#000000;stroke-linecap:square;stroke-linejoin:miter;stroke-width:0.8;\"/>\r\n   </g>\r\n   <g id=\"patch_4\">\r\n    <path d=\"M 370.104688 224.64 \r\nL 370.104688 7.2 \r\n\" style=\"fill:none;stroke:#000000;stroke-linecap:square;stroke-linejoin:miter;stroke-width:0.8;\"/>\r\n   </g>\r\n   <g id=\"patch_5\">\r\n    <path d=\"M 35.304688 224.64 \r\nL 370.104688 224.64 \r\n\" style=\"fill:none;stroke:#000000;stroke-linecap:square;stroke-linejoin:miter;stroke-width:0.8;\"/>\r\n   </g>\r\n   <g id=\"patch_6\">\r\n    <path d=\"M 35.304688 7.2 \r\nL 370.104688 7.2 \r\n\" style=\"fill:none;stroke:#000000;stroke-linecap:square;stroke-linejoin:miter;stroke-width:0.8;\"/>\r\n   </g>\r\n  </g>\r\n </g>\r\n <defs>\r\n  <clipPath id=\"pe273d43099\">\r\n   <rect height=\"217.44\" width=\"334.8\" x=\"35.304688\" y=\"7.2\"/>\r\n  </clipPath>\r\n </defs>\r\n</svg>\r\n",
      "image/png": "[encoded data removed]"
     },
     "metadata": {
      "needs_background": "light"
     }
    }
   ],
   "source": [
    "#T-SNE(2)\n",
    "\n",
    "pred_t2 = tsne_func(n_components = 2, X = X)"
   ]
  },
  {
   "cell_type": "code",
   "execution_count": 47,
   "metadata": {},
   "outputs": [
    {
     "output_type": "display_data",
     "data": {
      "application/vnd.plotly.v1+json": {
       "config": {
        "plotlyServerURL": "https://plot.ly"
       },
       "data": [
        {
         "hovertemplate": "x=%{x}<br>y=%{y}<br>z=%{z}<br>color=%{marker.color}<extra></extra>",
         "legendgroup": "",
         "marker": {
          "color": [
           0,
           0,
           0,
           0,
           0,
           0,
           0,
           0,
           0,
           0,
           0,
           0,
           0,
           0,
           0,
           0,
           0,
           0,
           0,
           0,
           0,
           0,
           0,
           0,
           0,
           0,
           0,
           0,
           0,
           0,
           0,
           0,
           0,
           0,
           0,
           0,
           0,
           0,
           0,
           0,
           0,
           0,
           0,
           0,
           0,
           0,
           0,
           0,
           0,
           0,
           1,
           1,
           1,
           1,
           1,
           1,
           1,
           1,
           1,
           1,
           1,
           1,
           1,
           1,
           1,
           1,
           1,
           1,
           1,
           1,
           1,
           1,
           1,
           1,
           1,
           1,
           1,
           1,
           1,
           1,
           1,
           1,
           1,
           1,
           1,
           1,
           1,
           1,
           1,
           1,
           1,
           1,
           1,
           1,
           1,
           1,
           1,
           1,
           1,
           1,
           2,
           2,
           2,
           2,
           2,
           2,
           2,
           2,
           2,
           2,
           2,
           2,
           2,
           2,
           2,
           2,
           2,
           2,
           2,
           2,
           2,
           2,
           2,
           2,
           2,
           2,
           2,
           2,
           2,
           2,
           2,
           2,
           2,
           2,
           2,
           2,
           2,
           2,
           2,
           2,
           2,
           2,
           2,
           2,
           2,
           2,
           2,
           2,
           2,
           2
          ],
          "coloraxis": "coloraxis",
          "symbol": "circle"
         },
         "mode": "markers",
         "name": "",
         "scene": "scene",
         "showlegend": false,
         "type": "scatter3d",
         "x": [
          -87.69818115234375,
          -110.97313690185547,
          -155.2878875732422,
          -76.44561767578125,
          -145.7706298828125,
          -82.05274200439453,
          -121.27793884277344,
          -103.78502655029297,
          -111.49777221679688,
          -115.52577209472656,
          18.089021682739258,
          -102.50130462646484,
          -125.1868667602539,
          -131.95399475097656,
          -12.476603507995605,
          8.386042594909668,
          -31.393709182739258,
          -128.17898559570312,
          -14.090409278869629,
          0.09682907164096832,
          -48.515838623046875,
          -40.172271728515625,
          -71.44153594970703,
          -54.289371490478516,
          -140.7766876220703,
          -77.79611206054688,
          -118.09480285644531,
          -60.93789291381836,
          -67.72388458251953,
          -144.81478881835938,
          -102.39942932128906,
          -80.74127197265625,
          21.819700241088867,
          -1.9926326274871826,
          -78.92390441894531,
          -67.22429656982422,
          -28.333019256591797,
          -112.01708221435547,
          -151.47885131835938,
          -145.56646728515625,
          -39.70877456665039,
          -113.23487854003906,
          -146.7525177001953,
          -69.39419555664062,
          -15.708098411560059,
          -105.82604217529297,
          -20.394908905029297,
          -101.07422637939453,
          -6.121282577514648,
          -95.12247467041016,
          19.543352127075195,
          104.51036071777344,
          7.7151312828063965,
          170.06417846679688,
          -20.241750717163086,
          32.27676773071289,
          33.49542236328125,
          160.09170532226562,
          138.47975158691406,
          113.18376922607422,
          78.28372192382812,
          49.27595138549805,
          106.02513122558594,
          2.233670234680176,
          158.6087188720703,
          152.72377014160156,
          39.75534439086914,
          158.65237426757812,
          91.11428833007812,
          144.4851837158203,
          34.642852783203125,
          88.25037384033203,
          119.39456176757812,
          122.0071029663086,
          109.86260986328125,
          125.9693832397461,
          106.07481384277344,
          74.14706420898438,
          42.99043273925781,
          121.48136901855469,
          129.1450958251953,
          110.4971694946289,
          132.855224609375,
          -55.00831604003906,
          163.15335083007812,
          69.76107025146484,
          50.383277893066406,
          107.08314514160156,
          76.45211791992188,
          119.21691131591797,
          -46.01809310913086,
          26.122882843017578,
          -191.47879028320312,
          161.9730682373047,
          154.08001708984375,
          36.2613639831543,
          73.169677734375,
          74.56739807128906,
          185.59825134277344,
          -124.45606994628906,
          -72.93529510498047,
          11.101188659667969,
          -33.71280288696289,
          58.01405715942383,
          54.44048309326172,
          -79.42546081542969,
          136.93804931640625,
          -87.6732406616211,
          -5.092513561248779,
          -57.68379592895508,
          32.392921447753906,
          81.22046661376953,
          66.89876556396484,
          -98.56710052490234,
          -6.641850471496582,
          25.881311416625977,
          -16.722806930541992,
          -73.55231475830078,
          -100.45697021484375,
          65.78787994384766,
          -18.905994415283203,
          27.071060180664062,
          38.851707458496094,
          85.83997344970703,
          -14.727590560913086,
          -44.128787994384766,
          55.53759002685547,
          55.62123489379883,
          46.955177307128906,
          -65.14213562011719,
          2.3679707050323486,
          -38.27012634277344,
          15.010459899902344,
          86.32389831542969,
          -21.248565673828125,
          -39.134620666503906,
          -42.113338470458984,
          19.792251586914062,
          45.07023620605469,
          -15.700636863708496,
          -15.147109985351562,
          22.10100746154785,
          17.342750549316406,
          -62.623165130615234,
          -80.42035675048828,
          -21.21664810180664,
          86.94586181640625,
          -23.588891983032227,
          19.53728485107422,
          3.22973370552063
         ],
         "y": [
          46.08098602294922,
          -46.82105255126953,
          -31.897228240966797,
          -72.58519744873047,
          49.25655746459961,
          -102.8974380493164,
          81.66938781738281,
          7.293558597564697,
          -102.91508483886719,
          -17.553503036499023,
          37.81330490112305,
          57.70536804199219,
          -7.6795735359191895,
          -111.52687072753906,
          -124.08457946777344,
          12.234519004821777,
          1.6659059524536133,
          33.564022064208984,
          55.88129806518555,
          -0.6238449811935425,
          -25.76405143737793,
          22.401586532592773,
          -126.73136138916016,
          49.31351852416992,
          -45.004905700683594,
          -16.586219787597656,
          -1.9241966009140015,
          -67.18534088134766,
          12.68407917022705,
          -50.89619064331055,
          -41.12443161010742,
          18.614013671875,
          -18.48539161682129,
          -93.56456756591797,
          -39.626869201660156,
          -0.44032022356987,
          15.74017333984375,
          48.955406188964844,
          -83.34364318847656,
          2.232221841812134,
          -63.818965911865234,
          -103.131591796875,
          -60.642608642578125,
          64.0290298461914,
          -52.41166687011719,
          -71.03958129882812,
          -33.32904815673828,
          -45.3338623046875,
          33.59370422363281,
          22.083248138427734,
          36.456787109375,
          49.835052490234375,
          62.80956268310547,
          -50.06414794921875,
          -73.95606994628906,
          -67.42987060546875,
          4.687924861907959,
          25.82511329650879,
          57.951148986816406,
          -40.202735900878906,
          -105.11649322509766,
          -117.82401275634766,
          -59.131771087646484,
          -110.528564453125,
          -56.26601791381836,
          38.115074157714844,
          -43.24549865722656,
          -97.70271301269531,
          106.30007934570312,
          -79.56981658935547,
          3.2052416801452637,
          -18.242107391357422,
          75.4890365600586,
          -16.5289363861084,
          28.223438262939453,
          15.455842971801758,
          -85.25983428955078,
          29.835119247436523,
          -100.0748519897461,
          -84.4026870727539,
          -51.78199768066406,
          -99.02751159667969,
          -9.625864028930664,
          -35.39188766479492,
          -41.775943756103516,
          25.76215362548828,
          64.11405944824219,
          -18.24338722229004,
          -46.30004119873047,
          -11.474397659301758,
          30.553312301635742,
          -89.04313659667969,
          28.89679527282715,
          -3.9729671478271484,
          -31.06618881225586,
          -20.825475692749023,
          0.6958311200141907,
          14.257412910461426,
          -9.81893539428711,
          42.841915130615234,
          -28.8952579498291,
          -57.10102081298828,
          136.6172332763672,
          89.45149993896484,
          129.40792846679688,
          129.2074432373047,
          -81.12926483154297,
          91.29157257080078,
          149.28758239746094,
          65.51119232177734,
          46.74184799194336,
          -77.03126525878906,
          -47.75959014892578,
          -11.810758590698242,
          -82.97496032714844,
          84.13984680175781,
          14.013797760009766,
          94.8583984375,
          137.93479919433594,
          -41.06447219848633,
          98.52307891845703,
          -9.546470642089844,
          -157.64759826660156,
          -25.65622329711914,
          56.7938232421875,
          87.69398498535156,
          -17.15824317932129,
          -58.617088317871094,
          131.35031127929688,
          153.47531127929688,
          -150.5186767578125,
          120.2509536743164,
          131.6050262451172,
          79.32305145263672,
          -16.279882431030273,
          141.6869659423828,
          103.10929870605469,
          91.37808990478516,
          -35.03989791870117,
          96.30006408691406,
          57.282798767089844,
          92.58705139160156,
          -49.867149353027344,
          102.14002227783203,
          -62.90029525756836,
          -9.148773193359375,
          54.14572525024414,
          -36.46791076660156,
          54.35258865356445,
          -21.95441436767578
         ],
         "z": [
          -33.75933837890625,
          -89.29280090332031,
          -77.15299224853516,
          -101.98109436035156,
          -19.140779495239258,
          16.865678787231445,
          -66.05638885498047,
          -26.768611907958984,
          -86.4515151977539,
          -61.222415924072266,
          -114.10901641845703,
          140.4007568359375,
          -108.24488830566406,
          -42.370121002197266,
          -57.827674865722656,
          -171.89295959472656,
          -144.08335876464844,
          -56.490203857421875,
          -144.13768005371094,
          -98.06986999511719,
          -14.9977388381958,
          -103.02069854736328,
          -57.34465789794922,
          -64.33311462402344,
          17.460418701171875,
          -101.04472351074219,
          13.769099235534668,
          -16.733516693115234,
          -6.464304447174072,
          -33.16260528564453,
          -20.560527801513672,
          36.72999572753906,
          -133.62513732910156,
          -98.95065307617188,
          -60.962379455566406,
          -56.2877197265625,
          -32.82353591918945,
          4.054452419281006,
          -77.11309051513672,
          -25.407758712768555,
          -60.163761138916016,
          -131.87294006347656,
          -117.87403869628906,
          -102.97248840332031,
          -135.51641845703125,
          -53.70530319213867,
          -91.69419860839844,
          -134.5728302001953,
          -73.50238800048828,
          -79.36495971679688,
          92.45114135742188,
          -37.42792892456055,
          125.25654602050781,
          64.91262817382812,
          78.33186340332031,
          106.53677368164062,
          155.69821166992188,
          95.64244079589844,
          -0.18889635801315308,
          140.2115936279297,
          103.53105926513672,
          -24.722667694091797,
          46.578495025634766,
          91.63494873046875,
          120.09837341308594,
          -40.7557373046875,
          68.19889831542969,
          80.6175765991211,
          72.6737060546875,
          41.44189453125,
          -22.20470428466797,
          66.42313385009766,
          47.94394302368164,
          -63.07166290283203,
          22.175113677978516,
          -16.72806167602539,
          -67.80855560302734,
          -75.59408569335938,
          21.12504768371582,
          113.29132080078125,
          84.0941390991211,
          68.55989837646484,
          62.71983337402344,
          116.5932388305664,
          -24.25440216064453,
          -12.320075988769531,
          111.81484985351562,
          16.353923797607422,
          106.93062591552734,
          105.82714080810547,
          123.14836883544922,
          56.220420837402344,
          -77.13998413085938,
          129.4099578857422,
          25.753353118896484,
          107.06037139892578,
          105.8909912109375,
          43.45172119140625,
          92.3812255859375,
          81.2610092163086,
          45.942161560058594,
          -36.33753967285156,
          14.878040313720703,
          -32.91279220581055,
          2.8744959831237793,
          73.33197021484375,
          -14.099533081054688,
          51.44883346557617,
          -47.24134063720703,
          25.908578872680664,
          29.517641067504883,
          -4.879158020019531,
          -106.950439453125,
          99.58551788330078,
          -4.541689872741699,
          8.14017391204834,
          33.54471206665039,
          104.69554901123047,
          35.756134033203125,
          25.355148315429688,
          30.029489517211914,
          24.832191467285156,
          70.3220443725586,
          -29.160879135131836,
          47.90416717529297,
          66.88245391845703,
          -56.76128005981445,
          -46.526981353759766,
          -42.99143981933594,
          -11.977609634399414,
          32.34105682373047,
          104.31214141845703,
          -8.058016777038574,
          14.99771785736084,
          142.75051879882812,
          59.96738052368164,
          -48.77326965332031,
          -53.788414001464844,
          -15.693061828613281,
          -13.215428352355957,
          4.061263084411621,
          57.4763069152832,
          15.971405029296875,
          2.9069533348083496,
          73.57564544677734,
          75.02289581298828,
          73.52306365966797,
          37.939170837402344,
          -25.449939727783203,
          -12.896848678588867
         ]
        }
       ],
       "layout": {
        "coloraxis": {
         "colorbar": {
          "title": {
           "text": "color"
          }
         },
         "colorscale": [
          [
           0,
           "#0d0887"
          ],
          [
           0.1111111111111111,
           "#46039f"
          ],
          [
           0.2222222222222222,
           "#7201a8"
          ],
          [
           0.3333333333333333,
           "#9c179e"
          ],
          [
           0.4444444444444444,
           "#bd3786"
          ],
          [
           0.5555555555555556,
           "#d8576b"
          ],
          [
           0.6666666666666666,
           "#ed7953"
          ],
          [
           0.7777777777777778,
           "#fb9f3a"
          ],
          [
           0.8888888888888888,
           "#fdca26"
          ],
          [
           1,
           "#f0f921"
          ]
         ]
        },
        "legend": {
         "tracegroupgap": 0
        },
        "margin": {
         "t": 60
        },
        "scene": {
         "domain": {
          "x": [
           0,
           1
          ],
          "y": [
           0,
           1
          ]
         },
         "xaxis": {
          "title": {
           "text": "x"
          }
         },
         "yaxis": {
          "title": {
           "text": "y"
          }
         },
         "zaxis": {
          "title": {
           "text": "z"
          }
         }
        },
        "template": {
         "data": {
          "bar": [
           {
            "error_x": {
             "color": "#2a3f5f"
            },
            "error_y": {
             "color": "#2a3f5f"
            },
            "marker": {
             "line": {
              "color": "#E5ECF6",
              "width": 0.5
             }
            },
            "type": "bar"
           }
          ],
          "barpolar": [
           {
            "marker": {
             "line": {
              "color": "#E5ECF6",
              "width": 0.5
             }
            },
            "type": "barpolar"
           }
          ],
          "carpet": [
           {
            "aaxis": {
             "endlinecolor": "#2a3f5f",
             "gridcolor": "white",
             "linecolor": "white",
             "minorgridcolor": "white",
             "startlinecolor": "#2a3f5f"
            },
            "baxis": {
             "endlinecolor": "#2a3f5f",
             "gridcolor": "white",
             "linecolor": "white",
             "minorgridcolor": "white",
             "startlinecolor": "#2a3f5f"
            },
            "type": "carpet"
           }
          ],
          "choropleth": [
           {
            "colorbar": {
             "outlinewidth": 0,
             "ticks": ""
            },
            "type": "choropleth"
           }
          ],
          "contour": [
           {
            "colorbar": {
             "outlinewidth": 0,
             "ticks": ""
            },
            "colorscale": [
             [
              0,
              "#0d0887"
             ],
             [
              0.1111111111111111,
              "#46039f"
             ],
             [
              0.2222222222222222,
              "#7201a8"
             ],
             [
              0.3333333333333333,
              "#9c179e"
             ],
             [
              0.4444444444444444,
              "#bd3786"
             ],
             [
              0.5555555555555556,
              "#d8576b"
             ],
             [
              0.6666666666666666,
              "#ed7953"
             ],
             [
              0.7777777777777778,
              "#fb9f3a"
             ],
             [
              0.8888888888888888,
              "#fdca26"
             ],
             [
              1,
              "#f0f921"
             ]
            ],
            "type": "contour"
           }
          ],
          "contourcarpet": [
           {
            "colorbar": {
             "outlinewidth": 0,
             "ticks": ""
            },
            "type": "contourcarpet"
           }
          ],
          "heatmap": [
           {
            "colorbar": {
             "outlinewidth": 0,
             "ticks": ""
            },
            "colorscale": [
             [
              0,
              "#0d0887"
             ],
             [
              0.1111111111111111,
              "#46039f"
             ],
             [
              0.2222222222222222,
              "#7201a8"
             ],
             [
              0.3333333333333333,
              "#9c179e"
             ],
             [
              0.4444444444444444,
              "#bd3786"
             ],
             [
              0.5555555555555556,
              "#d8576b"
             ],
             [
              0.6666666666666666,
              "#ed7953"
             ],
             [
              0.7777777777777778,
              "#fb9f3a"
             ],
             [
              0.8888888888888888,
              "#fdca26"
             ],
             [
              1,
              "#f0f921"
             ]
            ],
            "type": "heatmap"
           }
          ],
          "heatmapgl": [
           {
            "colorbar": {
             "outlinewidth": 0,
             "ticks": ""
            },
            "colorscale": [
             [
              0,
              "#0d0887"
             ],
             [
              0.1111111111111111,
              "#46039f"
             ],
             [
              0.2222222222222222,
              "#7201a8"
             ],
             [
              0.3333333333333333,
              "#9c179e"
             ],
             [
              0.4444444444444444,
              "#bd3786"
             ],
             [
              0.5555555555555556,
              "#d8576b"
             ],
             [
              0.6666666666666666,
              "#ed7953"
             ],
             [
              0.7777777777777778,
              "#fb9f3a"
             ],
             [
              0.8888888888888888,
              "#fdca26"
             ],
             [
              1,
              "#f0f921"
             ]
            ],
            "type": "heatmapgl"
           }
          ],
          "histogram": [
           {
            "marker": {
             "colorbar": {
              "outlinewidth": 0,
              "ticks": ""
             }
            },
            "type": "histogram"
           }
          ],
          "histogram2d": [
           {
            "colorbar": {
             "outlinewidth": 0,
             "ticks": ""
            },
            "colorscale": [
             [
              0,
              "#0d0887"
             ],
             [
              0.1111111111111111,
              "#46039f"
             ],
             [
              0.2222222222222222,
              "#7201a8"
             ],
             [
              0.3333333333333333,
              "#9c179e"
             ],
             [
              0.4444444444444444,
              "#bd3786"
             ],
             [
              0.5555555555555556,
              "#d8576b"
             ],
             [
              0.6666666666666666,
              "#ed7953"
             ],
             [
              0.7777777777777778,
              "#fb9f3a"
             ],
             [
              0.8888888888888888,
              "#fdca26"
             ],
             [
              1,
              "#f0f921"
             ]
            ],
            "type": "histogram2d"
           }
          ],
          "histogram2dcontour": [
           {
            "colorbar": {
             "outlinewidth": 0,
             "ticks": ""
            },
            "colorscale": [
             [
              0,
              "#0d0887"
             ],
             [
              0.1111111111111111,
              "#46039f"
             ],
             [
              0.2222222222222222,
              "#7201a8"
             ],
             [
              0.3333333333333333,
              "#9c179e"
             ],
             [
              0.4444444444444444,
              "#bd3786"
             ],
             [
              0.5555555555555556,
              "#d8576b"
             ],
             [
              0.6666666666666666,
              "#ed7953"
             ],
             [
              0.7777777777777778,
              "#fb9f3a"
             ],
             [
              0.8888888888888888,
              "#fdca26"
             ],
             [
              1,
              "#f0f921"
             ]
            ],
            "type": "histogram2dcontour"
           }
          ],
          "mesh3d": [
           {
            "colorbar": {
             "outlinewidth": 0,
             "ticks": ""
            },
            "type": "mesh3d"
           }
          ],
          "parcoords": [
           {
            "line": {
             "colorbar": {
              "outlinewidth": 0,
              "ticks": ""
             }
            },
            "type": "parcoords"
           }
          ],
          "pie": [
           {
            "automargin": true,
            "type": "pie"
           }
          ],
          "scatter": [
           {
            "marker": {
             "colorbar": {
              "outlinewidth": 0,
              "ticks": ""
             }
            },
            "type": "scatter"
           }
          ],
          "scatter3d": [
           {
            "line": {
             "colorbar": {
              "outlinewidth": 0,
              "ticks": ""
             }
            },
            "marker": {
             "colorbar": {
              "outlinewidth": 0,
              "ticks": ""
             }
            },
            "type": "scatter3d"
           }
          ],
          "scattercarpet": [
           {
            "marker": {
             "colorbar": {
              "outlinewidth": 0,
              "ticks": ""
             }
            },
            "type": "scattercarpet"
           }
          ],
          "scattergeo": [
           {
            "marker": {
             "colorbar": {
              "outlinewidth": 0,
              "ticks": ""
             }
            },
            "type": "scattergeo"
           }
          ],
          "scattergl": [
           {
            "marker": {
             "colorbar": {
              "outlinewidth": 0,
              "ticks": ""
             }
            },
            "type": "scattergl"
           }
          ],
          "scattermapbox": [
           {
            "marker": {
             "colorbar": {
              "outlinewidth": 0,
              "ticks": ""
             }
            },
            "type": "scattermapbox"
           }
          ],
          "scatterpolar": [
           {
            "marker": {
             "colorbar": {
              "outlinewidth": 0,
              "ticks": ""
             }
            },
            "type": "scatterpolar"
           }
          ],
          "scatterpolargl": [
           {
            "marker": {
             "colorbar": {
              "outlinewidth": 0,
              "ticks": ""
             }
            },
            "type": "scatterpolargl"
           }
          ],
          "scatterternary": [
           {
            "marker": {
             "colorbar": {
              "outlinewidth": 0,
              "ticks": ""
             }
            },
            "type": "scatterternary"
           }
          ],
          "surface": [
           {
            "colorbar": {
             "outlinewidth": 0,
             "ticks": ""
            },
            "colorscale": [
             [
              0,
              "#0d0887"
             ],
             [
              0.1111111111111111,
              "#46039f"
             ],
             [
              0.2222222222222222,
              "#7201a8"
             ],
             [
              0.3333333333333333,
              "#9c179e"
             ],
             [
              0.4444444444444444,
              "#bd3786"
             ],
             [
              0.5555555555555556,
              "#d8576b"
             ],
             [
              0.6666666666666666,
              "#ed7953"
             ],
             [
              0.7777777777777778,
              "#fb9f3a"
             ],
             [
              0.8888888888888888,
              "#fdca26"
             ],
             [
              1,
              "#f0f921"
             ]
            ],
            "type": "surface"
           }
          ],
          "table": [
           {
            "cells": {
             "fill": {
              "color": "#EBF0F8"
             },
             "line": {
              "color": "white"
             }
            },
            "header": {
             "fill": {
              "color": "#C8D4E3"
             },
             "line": {
              "color": "white"
             }
            },
            "type": "table"
           }
          ]
         },
         "layout": {
          "annotationdefaults": {
           "arrowcolor": "#2a3f5f",
           "arrowhead": 0,
           "arrowwidth": 1
          },
          "autotypenumbers": "strict",
          "coloraxis": {
           "colorbar": {
            "outlinewidth": 0,
            "ticks": ""
           }
          },
          "colorscale": {
           "diverging": [
            [
             0,
             "#8e0152"
            ],
            [
             0.1,
             "#c51b7d"
            ],
            [
             0.2,
             "#de77ae"
            ],
            [
             0.3,
             "#f1b6da"
            ],
            [
             0.4,
             "#fde0ef"
            ],
            [
             0.5,
             "#f7f7f7"
            ],
            [
             0.6,
             "#e6f5d0"
            ],
            [
             0.7,
             "#b8e186"
            ],
            [
             0.8,
             "#7fbc41"
            ],
            [
             0.9,
             "#4d9221"
            ],
            [
             1,
             "#276419"
            ]
           ],
           "sequential": [
            [
             0,
             "#0d0887"
            ],
            [
             0.1111111111111111,
             "#46039f"
            ],
            [
             0.2222222222222222,
             "#7201a8"
            ],
            [
             0.3333333333333333,
             "#9c179e"
            ],
            [
             0.4444444444444444,
             "#bd3786"
            ],
            [
             0.5555555555555556,
             "#d8576b"
            ],
            [
             0.6666666666666666,
             "#ed7953"
            ],
            [
             0.7777777777777778,
             "#fb9f3a"
            ],
            [
             0.8888888888888888,
             "#fdca26"
            ],
            [
             1,
             "#f0f921"
            ]
           ],
           "sequentialminus": [
            [
             0,
             "#0d0887"
            ],
            [
             0.1111111111111111,
             "#46039f"
            ],
            [
             0.2222222222222222,
             "#7201a8"
            ],
            [
             0.3333333333333333,
             "#9c179e"
            ],
            [
             0.4444444444444444,
             "#bd3786"
            ],
            [
             0.5555555555555556,
             "#d8576b"
            ],
            [
             0.6666666666666666,
             "#ed7953"
            ],
            [
             0.7777777777777778,
             "#fb9f3a"
            ],
            [
             0.8888888888888888,
             "#fdca26"
            ],
            [
             1,
             "#f0f921"
            ]
           ]
          },
          "colorway": [
           "#636efa",
           "#EF553B",
           "#00cc96",
           "#ab63fa",
           "#FFA15A",
           "#19d3f3",
           "#FF6692",
           "#B6E880",
           "#FF97FF",
           "#FECB52"
          ],
          "font": {
           "color": "#2a3f5f"
          },
          "geo": {
           "bgcolor": "white",
           "lakecolor": "white",
           "landcolor": "#E5ECF6",
           "showlakes": true,
           "showland": true,
           "subunitcolor": "white"
          },
          "hoverlabel": {
           "align": "left"
          },
          "hovermode": "closest",
          "mapbox": {
           "style": "light"
          },
          "paper_bgcolor": "white",
          "plot_bgcolor": "#E5ECF6",
          "polar": {
           "angularaxis": {
            "gridcolor": "white",
            "linecolor": "white",
            "ticks": ""
           },
           "bgcolor": "#E5ECF6",
           "radialaxis": {
            "gridcolor": "white",
            "linecolor": "white",
            "ticks": ""
           }
          },
          "scene": {
           "xaxis": {
            "backgroundcolor": "#E5ECF6",
            "gridcolor": "white",
            "gridwidth": 2,
            "linecolor": "white",
            "showbackground": true,
            "ticks": "",
            "zerolinecolor": "white"
           },
           "yaxis": {
            "backgroundcolor": "#E5ECF6",
            "gridcolor": "white",
            "gridwidth": 2,
            "linecolor": "white",
            "showbackground": true,
            "ticks": "",
            "zerolinecolor": "white"
           },
           "zaxis": {
            "backgroundcolor": "#E5ECF6",
            "gridcolor": "white",
            "gridwidth": 2,
            "linecolor": "white",
            "showbackground": true,
            "ticks": "",
            "zerolinecolor": "white"
           }
          },
          "shapedefaults": {
           "line": {
            "color": "#2a3f5f"
           }
          },
          "ternary": {
           "aaxis": {
            "gridcolor": "white",
            "linecolor": "white",
            "ticks": ""
           },
           "baxis": {
            "gridcolor": "white",
            "linecolor": "white",
            "ticks": ""
           },
           "bgcolor": "#E5ECF6",
           "caxis": {
            "gridcolor": "white",
            "linecolor": "white",
            "ticks": ""
           }
          },
          "title": {
           "x": 0.05
          },
          "xaxis": {
           "automargin": true,
           "gridcolor": "white",
           "linecolor": "white",
           "ticks": "",
           "title": {
            "standoff": 15
           },
           "zerolinecolor": "white",
           "zerolinewidth": 2
          },
          "yaxis": {
           "automargin": true,
           "gridcolor": "white",
           "linecolor": "white",
           "ticks": "",
           "title": {
            "standoff": 15
           },
           "zerolinecolor": "white",
           "zerolinewidth": 2
          }
         }
        }
       }
      }
     },
     "metadata": {}
    }
   ],
   "source": [
    "pred_t3 = tsne_func(n_components = 3, X = X)"
   ]
  },
  {
   "cell_type": "code",
   "execution_count": 49,
   "metadata": {},
   "outputs": [],
   "source": [
    "from sklearn.cluster import DBSCAN\n",
    "from sklearn import metrics\n",
    "from sklearn.datasets import make_blobs\n",
    "from sklearn.preprocessing import StandardScaler"
   ]
  },
  {
   "cell_type": "code",
   "execution_count": 50,
   "metadata": {},
   "outputs": [],
   "source": [
    "#creamos funcion para DB_scan\n",
    "\n",
    "def dbscan_func(to_predict, eps, min_samples):\n",
    "\n",
    "    X = StandardScaler().fit_transform(to_predict)\n",
    "\n",
    "    db = DBSCAN(eps, min_samples).fit(X)\n",
    "    core_samples_mask = np.zeros_like(db.labels_, dtype=bool)  \n",
    "\n",
    "    core_samples_mask[db.core_sample_indices_] = True\n",
    "    labels = db.labels_\n",
    "    return labels"
   ]
  },
  {
   "cell_type": "code",
   "execution_count": 51,
   "metadata": {},
   "outputs": [
    {
     "output_type": "execute_result",
     "data": {
      "text/plain": [
       "array([0, 0, 0, 0, 0, 0, 0, 0, 0, 0, 0, 0, 0, 0, 0, 0, 0, 0, 0, 0, 0, 0,\n",
       "       0, 0, 0, 0, 0, 0, 0, 0, 0, 0, 0, 0, 0, 0, 0, 0, 0, 0, 0, 0, 0, 0,\n",
       "       0, 0, 0, 0, 0, 0, 1, 1, 1, 1, 1, 1, 1, 1, 1, 1, 1, 1, 1, 1, 1, 1,\n",
       "       1, 1, 1, 1, 1, 1, 1, 1, 1, 1, 1, 1, 1, 1, 1, 1, 1, 1, 1, 1, 1, 1,\n",
       "       1, 1, 1, 1, 1, 1, 1, 1, 1, 1, 1, 1, 1, 1, 1, 1, 1, 1, 1, 1, 1, 1,\n",
       "       1, 1, 1, 1, 1, 1, 1, 1, 1, 1, 1, 1, 1, 1, 1, 1, 1, 1, 1, 1, 1, 1,\n",
       "       1, 1, 1, 1, 1, 1, 1, 1, 1, 1, 1, 1, 1, 1, 1, 1, 1, 1], dtype=int64)"
      ]
     },
     "metadata": {},
     "execution_count": 51
    }
   ],
   "source": [
    "dbscan_2 = dbscan_func(to_predict= pred_t2, eps= 2, min_samples=4)\n",
    "dbscan_2"
   ]
  },
  {
   "cell_type": "code",
   "execution_count": 52,
   "metadata": {},
   "outputs": [
    {
     "output_type": "execute_result",
     "data": {
      "text/plain": [
       "array([0, 0, 0, 0, 0, 0, 0, 0, 0, 0, 0, 0, 0, 0, 0, 0, 0, 0, 0, 0, 0, 0,\n",
       "       0, 0, 0, 0, 0, 0, 0, 0, 0, 0, 0, 0, 0, 0, 0, 0, 0, 0, 0, 0, 0, 0,\n",
       "       0, 0, 0, 0, 0, 0, 0, 0, 0, 0, 0, 0, 0, 0, 0, 0, 0, 0, 0, 0, 0, 0,\n",
       "       0, 0, 0, 0, 0, 0, 0, 0, 0, 0, 0, 0, 0, 0, 0, 0, 0, 0, 0, 0, 0, 0,\n",
       "       0, 0, 0, 0, 0, 0, 0, 0, 0, 0, 0, 0, 0, 0, 0, 0, 0, 0, 0, 0, 0, 0,\n",
       "       0, 0, 0, 0, 0, 0, 0, 0, 0, 0, 0, 0, 0, 0, 0, 0, 0, 0, 0, 0, 0, 0,\n",
       "       0, 0, 0, 0, 0, 0, 0, 0, 0, 0, 0, 0, 0, 0, 0, 0, 0, 0], dtype=int64)"
      ]
     },
     "metadata": {},
     "execution_count": 52
    }
   ],
   "source": [
    "dbscan_3 = dbscan_func(to_predict= pred_t3, eps= 2, min_samples=4)\n",
    "dbscan_3"
   ]
  },
  {
   "cell_type": "code",
   "execution_count": 55,
   "metadata": {},
   "outputs": [
    {
     "output_type": "execute_result",
     "data": {
      "text/plain": [
       "       0    1    2    3  y_real  DBSCAN(2) Pred  DBSCAN(3) Pred\n",
       "0    5.1  3.5  1.4  0.2       0               0               0\n",
       "1    4.9  3.0  1.4  0.2       0               0               0\n",
       "2    4.7  3.2  1.3  0.2       0               0               0\n",
       "3    4.6  3.1  1.5  0.2       0               0               0\n",
       "4    5.0  3.6  1.4  0.2       0               0               0\n",
       "..   ...  ...  ...  ...     ...             ...             ...\n",
       "145  6.7  3.0  5.2  2.3       2               1               0\n",
       "146  6.3  2.5  5.0  1.9       2               1               0\n",
       "147  6.5  3.0  5.2  2.0       2               1               0\n",
       "148  6.2  3.4  5.4  2.3       2               1               0\n",
       "149  5.9  3.0  5.1  1.8       2               1               0\n",
       "\n",
       "[150 rows x 7 columns]"
      ],
      "text/html": "<div>\n<style scoped>\n    .dataframe tbody tr th:only-of-type {\n        vertical-align: middle;\n    }\n\n    .dataframe tbody tr th {\n        vertical-align: top;\n    }\n\n    .dataframe thead th {\n        text-align: right;\n    }\n</style>\n<table border=\"1\" class=\"dataframe\">\n  <thead>\n    <tr style=\"text-align: right;\">\n      <th></th>\n      <th>0</th>\n      <th>1</th>\n      <th>2</th>\n      <th>3</th>\n      <th>y_real</th>\n      <th>DBSCAN(2) Pred</th>\n      <th>DBSCAN(3) Pred</th>\n    </tr>\n  </thead>\n  <tbody>\n    <tr>\n      <th>0</th>\n      <td>5.1</td>\n      <td>3.5</td>\n      <td>1.4</td>\n      <td>0.2</td>\n      <td>0</td>\n      <td>0</td>\n      <td>0</td>\n    </tr>\n    <tr>\n      <th>1</th>\n      <td>4.9</td>\n      <td>3.0</td>\n      <td>1.4</td>\n      <td>0.2</td>\n      <td>0</td>\n      <td>0</td>\n      <td>0</td>\n    </tr>\n    <tr>\n      <th>2</th>\n      <td>4.7</td>\n      <td>3.2</td>\n      <td>1.3</td>\n      <td>0.2</td>\n      <td>0</td>\n      <td>0</td>\n      <td>0</td>\n    </tr>\n    <tr>\n      <th>3</th>\n      <td>4.6</td>\n      <td>3.1</td>\n      <td>1.5</td>\n      <td>0.2</td>\n      <td>0</td>\n      <td>0</td>\n      <td>0</td>\n    </tr>\n    <tr>\n      <th>4</th>\n      <td>5.0</td>\n      <td>3.6</td>\n      <td>1.4</td>\n      <td>0.2</td>\n      <td>0</td>\n      <td>0</td>\n      <td>0</td>\n    </tr>\n    <tr>\n      <th>...</th>\n      <td>...</td>\n      <td>...</td>\n      <td>...</td>\n      <td>...</td>\n      <td>...</td>\n      <td>...</td>\n      <td>...</td>\n    </tr>\n    <tr>\n      <th>145</th>\n      <td>6.7</td>\n      <td>3.0</td>\n      <td>5.2</td>\n      <td>2.3</td>\n      <td>2</td>\n      <td>1</td>\n      <td>0</td>\n    </tr>\n    <tr>\n      <th>146</th>\n      <td>6.3</td>\n      <td>2.5</td>\n      <td>5.0</td>\n      <td>1.9</td>\n      <td>2</td>\n      <td>1</td>\n      <td>0</td>\n    </tr>\n    <tr>\n      <th>147</th>\n      <td>6.5</td>\n      <td>3.0</td>\n      <td>5.2</td>\n      <td>2.0</td>\n      <td>2</td>\n      <td>1</td>\n      <td>0</td>\n    </tr>\n    <tr>\n      <th>148</th>\n      <td>6.2</td>\n      <td>3.4</td>\n      <td>5.4</td>\n      <td>2.3</td>\n      <td>2</td>\n      <td>1</td>\n      <td>0</td>\n    </tr>\n    <tr>\n      <th>149</th>\n      <td>5.9</td>\n      <td>3.0</td>\n      <td>5.1</td>\n      <td>1.8</td>\n      <td>2</td>\n      <td>1</td>\n      <td>0</td>\n    </tr>\n  </tbody>\n</table>\n<p>150 rows × 7 columns</p>\n</div>"
     },
     "metadata": {},
     "execution_count": 55
    }
   ],
   "source": [
    "X_dbscan = pd.DataFrame(X)\n",
    "X_dbscan[\"y_real\"] = y\n",
    "X_dbscan[\"DBSCAN(2) Pred\"] = dbscan_2\n",
    "X_dbscan[\"DBSCAN(3) Pred\"] = dbscan_3\n",
    "\n",
    "X_dbscan"
   ]
  },
  {
   "cell_type": "code",
   "execution_count": 57,
   "metadata": {},
   "outputs": [],
   "source": [
    "comparacion_dbscan_2 = X_dbscan[\"y_real\"] == X_dbscan[\"DBSCAN(2) Pred\"]\n",
    "comparacion_dbscan_3 = X_dbscan[\"y_real\"] == X_dbscan[\"DBSCAN(3) Pred\"]"
   ]
  },
  {
   "cell_type": "code",
   "execution_count": 58,
   "metadata": {},
   "outputs": [
    {
     "output_type": "stream",
     "name": "stdout",
     "text": [
      "valores correctamente predecidos con DBSCAN(2) igual a: 100\nvalores correctamente predecidos con DBSCAN(3) igual a: 50\n"
     ]
    }
   ],
   "source": [
    "print(\"valores correctamente predecidos con DBSCAN(2) igual a:\",np.count_nonzero(comparacion_dbscan_2))\n",
    "print(\"valores correctamente predecidos con DBSCAN(3) igual a:\",np.count_nonzero(comparacion_dbscan_3))"
   ]
  },
  {
   "cell_type": "code",
   "execution_count": 59,
   "metadata": {},
   "outputs": [
    {
     "output_type": "stream",
     "name": "stdout",
     "text": [
      "SCORES\nCON DBSCAN(2) ACCURACY:  0.6666666666666666\nCON DBSCAN(3) ACCURACY:  0.3333333333333333\n"
     ]
    }
   ],
   "source": [
    "print(\"SCORES\")\n",
    "print( \"CON DBSCAN(2) ACCURACY: \", metrics.accuracy_score(y, dbscan_2))\n",
    "print( \"CON DBSCAN(3) ACCURACY: \", metrics.accuracy_score(y, dbscan_3))"
   ]
  },
  {
   "source": [
    "#### EN ESTE CASO TENEMOS MEJORES RESULTADOS AL PREDECIR LOS RESULTADOS CON DBSCAN (2), ES POSIBLE QUE PERJUDIQUE AL MODELO LA PERDIDA DE            INFORMACION A PARTIR DE LA REDUCCION CON TSNE(3)"
   ],
   "cell_type": "markdown",
   "metadata": {}
  }
 ]
}