{
 "metadata": {
  "language_info": {
   "codemirror_mode": {
    "name": "ipython",
    "version": 3
   },
   "file_extension": ".py",
   "mimetype": "text/x-python",
   "name": "python",
   "nbconvert_exporter": "python",
   "pygments_lexer": "ipython3",
   "version": "3.7.4"
  },
  "orig_nbformat": 2,
  "kernelspec": {
   "name": "python3",
   "display_name": "Python 3.7.4 64-bit"
  },
  "interpreter": {
   "hash": "0600588c3b5f4418cbe7b5ebc6825b479f3bc010269d8b60d75058cdd010adfe"
  }
 },
 "nbformat": 4,
 "nbformat_minor": 2,
 "cells": [
  {
   "cell_type": "markdown",
   "metadata": {},
   "source": [
    "A partir del archivo food_100, se pide:\n",
    "\n",
    "1. Limpiar el archivo borrando las columnas Unnamed.\n",
    "2. ¿Qué porcentaje de valores NaN hay en cada columna?\n",
    "3. ¿Tendría algún sentido clasificar el nombre de los alimentos a partir del top5 de columnas numéricas con menos valores NaN?"
   ]
  },
  {
   "source": [
    "## 1. Limpiar el archivo borrando las columnas Unnamed."
   ],
   "cell_type": "markdown",
   "metadata": {}
  },
  {
   "cell_type": "code",
   "execution_count": 3,
   "metadata": {},
   "outputs": [],
   "source": [
    "# voya  forzar a Jupyter a mostrarme todas mis columnas y filas\n",
    "\n",
    "pd.options.display.max_columns = None\n",
    "pd.options.display.max_rows = None"
   ]
  },
  {
   "cell_type": "code",
   "execution_count": 26,
   "metadata": {},
   "outputs": [
    {
     "output_type": "execute_result",
     "data": {
      "text/plain": [
       "163"
      ]
     },
     "metadata": {},
     "execution_count": 26
    }
   ],
   "source": [
    "import pandas as pd\n",
    "df = pd.read_csv(\"../data/food_100.csv\", index_col=0) #borro la columna unnamed.\n",
    "\n",
    "df.shape[1]"
   ]
  },
  {
   "source": [
    "## 2. ¿Qué porcentaje de valores NaN hay en cada columna?"
   ],
   "cell_type": "markdown",
   "metadata": {}
  },
  {
   "source": [
    "### Cálculo del ratio de NaN en cada columna de un dataframe"
   ],
   "cell_type": "markdown",
   "metadata": {}
  },
  {
   "source": [
    "\"\"\" La solución a este escenario pasa por el cálculo del número de elementos NaN en cada columna y su división por el número total de elementos en cada columna. Para esto vamos a utilizar el método \"isnull\" de pandas, método que devuelve una estructura semejante a la de entrada (en este caso un dataframe) en la que cada elemento se sustituye por los valores \"True\" o \"False\" en el caso de que sea un NaN o no, y aplicaremos la función \"sum\" que calcula la suma de los valores del dataframe según el eje que se indique (columnas, por defecto).\n",
    "\n",
    "Para el cálculo de la longitud de las columnas, simplemente calculamos la longitud del dataframe: len(df). En el ejercicio a continuación, multiplicamos la expresión por 100 para obtener un porcentaje y se ordenan las columnas de mayor a menor según el porcentaje de NaNs con el argumento \"ascending = False\"\"\""
   ],
   "cell_type": "markdown",
   "metadata": {}
  },
  {
   "cell_type": "code",
   "execution_count": 30,
   "metadata": {},
   "outputs": [
    {
     "output_type": "execute_result",
     "data": {
      "text/plain": [
       "monounsaturated-fat_100g                      100.0\n",
       "-elaidic-acid_100g                            100.0\n",
       "-mead-acid_100g                               100.0\n",
       "-erucic-acid_100g                             100.0\n",
       "-nervonic-acid_100g                           100.0\n",
       "-sucrose_100g                                 100.0\n",
       "-glucose_100g                                 100.0\n",
       "-fructose_100g                                100.0\n",
       "-lactose_100g                                 100.0\n",
       "-maltose_100g                                 100.0\n",
       "-maltodextrins_100g                           100.0\n",
       "starch_100g                                   100.0\n",
       "polyols_100g                                  100.0\n",
       "casein_100g                                   100.0\n",
       "serum-proteins_100g                           100.0\n",
       "nucleotides_100g                              100.0\n",
       "alcohol_100g                                  100.0\n",
       "-gondoic-acid_100g                            100.0\n",
       "-oleic-acid_100g                              100.0\n",
       "-stearic-acid_100g                            100.0\n",
       "omega-9-fat_100g                              100.0\n",
       "-behenic-acid_100g                            100.0\n",
       "-lignoceric-acid_100g                         100.0\n",
       "-cerotic-acid_100g                            100.0\n",
       "-montanic-acid_100g                           100.0\n",
       "-melissic-acid_100g                           100.0\n",
       "polyunsaturated-fat_100g                      100.0\n",
       "omega-3-fat_100g                              100.0\n",
       "-alpha-linolenic-acid_100g                    100.0\n",
       "-eicosapentaenoic-acid_100g                   100.0\n",
       "-docosahexaenoic-acid_100g                    100.0\n",
       "omega-6-fat_100g                              100.0\n",
       "-linoleic-acid_100g                           100.0\n",
       "-arachidonic-acid_100g                        100.0\n",
       "-gamma-linolenic-acid_100g                    100.0\n",
       "-dihomo-gamma-linolenic-acid_100g             100.0\n",
       "beta-carotene_100g                            100.0\n",
       "vitamin-d_100g                                100.0\n",
       "vitamin-e_100g                                100.0\n",
       "vitamin-k_100g                                100.0\n",
       "fluoride_100g                                 100.0\n",
       "selenium_100g                                 100.0\n",
       "chromium_100g                                 100.0\n",
       "molybdenum_100g                               100.0\n",
       "iodine_100g                                   100.0\n",
       "caffeine_100g                                 100.0\n",
       "taurine_100g                                  100.0\n",
       "ph_100g                                       100.0\n",
       "fruits-vegetables-nuts_100g                   100.0\n",
       "fruits-vegetables-nuts-estimate_100g          100.0\n",
       "collagen-meat-protein-ratio_100g              100.0\n",
       "cocoa_100g                                    100.0\n",
       "chlorophyl_100g                               100.0\n",
       "carbon-footprint_100g                         100.0\n",
       "glycemic-index_100g                           100.0\n",
       "manganese_100g                                100.0\n",
       "copper_100g                                   100.0\n",
       "zinc_100g                                     100.0\n",
       "vitamin-b12_100g                              100.0\n",
       "vitamin-b1_100g                               100.0\n",
       "vitamin-b2_100g                               100.0\n",
       "vitamin-pp_100g                               100.0\n",
       "vitamin-b6_100g                               100.0\n",
       "vitamin-b9_100g                               100.0\n",
       "folates_100g                                  100.0\n",
       "biotin_100g                                   100.0\n",
       "magnesium_100g                                100.0\n",
       "pantothenic-acid_100g                         100.0\n",
       "silica_100g                                   100.0\n",
       "bicarbonate_100g                              100.0\n",
       "potassium_100g                                100.0\n",
       "chloride_100g                                 100.0\n",
       "phosphorus_100g                               100.0\n",
       "-arachidic-acid_100g                          100.0\n",
       "water-hardness_100g                           100.0\n",
       "-palmitic-acid_100g                           100.0\n",
       "labels_en                                     100.0\n",
       "origins_tags                                  100.0\n",
       "manufacturing_places                          100.0\n",
       "ingredients_that_may_be_from_palm_oil         100.0\n",
       "manufacturing_places_tags                     100.0\n",
       "ingredients_from_palm_oil_tags                100.0\n",
       "ingredients_from_palm_oil                     100.0\n",
       "labels                                        100.0\n",
       "labels_tags                                   100.0\n",
       "emb_codes                                     100.0\n",
       "nutrition_grade_uk                            100.0\n",
       "emb_codes_tags                                100.0\n",
       "no_nutriments                                 100.0\n",
       "first_packaging_code_geo                      100.0\n",
       "cities                                        100.0\n",
       "cities_tags                                   100.0\n",
       "-myristic-acid_100g                           100.0\n",
       "allergens_en                                  100.0\n",
       "allergens                                     100.0\n",
       "stores                                        100.0\n",
       "purchase_places                               100.0\n",
       "origins                                       100.0\n",
       "-lauric-acid_100g                             100.0\n",
       "-capric-acid_100g                             100.0\n",
       "-caprylic-acid_100g                           100.0\n",
       "-caproic-acid_100g                            100.0\n",
       "generic_name                                  100.0\n",
       "-butyric-acid_100g                            100.0\n",
       "energy-from-fat_100g                          100.0\n",
       "ingredients_that_may_be_from_palm_oil_tags     99.0\n",
       "traces                                         99.0\n",
       "traces_tags                                    99.0\n",
       "traces_en                                      99.0\n",
       "packaging                                      99.0\n",
       "packaging_tags                                 99.0\n",
       "main_category_en                               99.0\n",
       "main_category                                  99.0\n",
       "categories                                     99.0\n",
       "categories_tags                                99.0\n",
       "categories_en                                  99.0\n",
       "pnns_groups_2                                  99.0\n",
       "pnns_groups_1                                  99.0\n",
       "image_small_url                                98.0\n",
       "image_url                                      98.0\n",
       "trans-fat_100g                                 96.0\n",
       "quantity                                       95.0\n",
       "cholesterol_100g                               94.0\n",
       "additives_tags                                 84.0\n",
       "additives_en                                   84.0\n",
       "vitamin-a_100g                                 83.0\n",
       "vitamin-c_100g                                 80.0\n",
       "nutrition_grade_fr                             63.0\n",
       "nutrition-score-fr_100g                        63.0\n",
       "nutrition-score-uk_100g                        63.0\n",
       "saturated-fat_100g                             42.0\n",
       "sodium_100g                                    41.0\n",
       "salt_100g                                      41.0\n",
       "sugars_100g                                    36.0\n",
       "calcium_100g                                   35.0\n",
       "fat_100g                                       20.0\n",
       "iron_100g                                      19.0\n",
       "fiber_100g                                     14.0\n",
       "proteins_100g                                  12.0\n",
       "carbohydrates_100g                             10.0\n",
       "energy_100g                                     8.0\n",
       "serving_size                                    6.0\n",
       "additives                                       5.0\n",
       "ingredients_from_palm_oil_n                     5.0\n",
       "ingredients_text                                5.0\n",
       "ingredients_that_may_be_from_palm_oil_n         5.0\n",
       "additives_n                                     5.0\n",
       "brands                                          4.0\n",
       "brands_tags                                     4.0\n",
       "product_name                                    1.0\n",
       "created_datetime                                0.0\n",
       "last_modified_datetime                          0.0\n",
       "creator                                         0.0\n",
       "last_modified_t                                 0.0\n",
       "created_t                                       0.0\n",
       "countries_en                                    0.0\n",
       "url                                             0.0\n",
       "states_en                                       0.0\n",
       "states_tags                                     0.0\n",
       "states                                          0.0\n",
       "countries_tags                                  0.0\n",
       "countries                                       0.0\n",
       "code                                            0.0\n",
       "dtype: float64"
      ]
     },
     "metadata": {},
     "execution_count": 30
    }
   ],
   "source": [
    "na_ratio = ((df.isnull().sum() / len(df))*100).sort_values(ascending = False)\n",
    "na_ratio\n"
   ]
  },
  {
   "source": [
    "## 3. ¿Tendría algún sentido clasificar el nombre de los alimentos a partir del top5 de columnas numéricas con menos valores NaN?"
   ],
   "cell_type": "markdown",
   "metadata": {}
  },
  {
   "source": [
    "#### 1-me quedo solo con las columnas númericas\n",
    "#### 2-repito el proceso anterior, para ordenar en porcentaje los valores nan"
   ],
   "cell_type": "markdown",
   "metadata": {}
  },
  {
   "cell_type": "code",
   "execution_count": 39,
   "metadata": {},
   "outputs": [
    {
     "output_type": "execute_result",
     "data": {
      "text/plain": [
       "(100, 128)"
      ]
     },
     "metadata": {},
     "execution_count": 39
    }
   ],
   "source": [
    "df_numeric = df.select_dtypes('number')\n",
    "df_numeric.shape #128 columnas númericas"
   ]
  },
  {
   "cell_type": "code",
   "execution_count": 40,
   "metadata": {},
   "outputs": [
    {
     "output_type": "execute_result",
     "data": {
      "text/plain": [
       "water-hardness_100g                        100.0\n",
       "-linoleic-acid_100g                        100.0\n",
       "chromium_100g                              100.0\n",
       "molybdenum_100g                            100.0\n",
       "polyols_100g                               100.0\n",
       "starch_100g                                100.0\n",
       "-maltodextrins_100g                        100.0\n",
       "-maltose_100g                              100.0\n",
       "-lactose_100g                              100.0\n",
       "-fructose_100g                             100.0\n",
       "-glucose_100g                              100.0\n",
       "-sucrose_100g                              100.0\n",
       "iodine_100g                                100.0\n",
       "caffeine_100g                              100.0\n",
       "taurine_100g                               100.0\n",
       "ph_100g                                    100.0\n",
       "-nervonic-acid_100g                        100.0\n",
       "-erucic-acid_100g                          100.0\n",
       "-mead-acid_100g                            100.0\n",
       "-gondoic-acid_100g                         100.0\n",
       "-elaidic-acid_100g                         100.0\n",
       "-oleic-acid_100g                           100.0\n",
       "omega-9-fat_100g                           100.0\n",
       "-dihomo-gamma-linolenic-acid_100g          100.0\n",
       "-gamma-linolenic-acid_100g                 100.0\n",
       "casein_100g                                100.0\n",
       "serum-proteins_100g                        100.0\n",
       "nucleotides_100g                           100.0\n",
       "vitamin-b6_100g                            100.0\n",
       "zinc_100g                                  100.0\n",
       "chloride_100g                              100.0\n",
       "potassium_100g                             100.0\n",
       "bicarbonate_100g                           100.0\n",
       "silica_100g                                100.0\n",
       "pantothenic-acid_100g                      100.0\n",
       "biotin_100g                                100.0\n",
       "vitamin-b12_100g                           100.0\n",
       "folates_100g                               100.0\n",
       "vitamin-b9_100g                            100.0\n",
       "vitamin-pp_100g                            100.0\n",
       "selenium_100g                              100.0\n",
       "vitamin-b2_100g                            100.0\n",
       "vitamin-b1_100g                            100.0\n",
       "copper_100g                                100.0\n",
       "vitamin-k_100g                             100.0\n",
       "vitamin-e_100g                             100.0\n",
       "vitamin-d_100g                             100.0\n",
       "beta-carotene_100g                         100.0\n",
       "manganese_100g                             100.0\n",
       "alcohol_100g                               100.0\n",
       "fluoride_100g                              100.0\n",
       "-arachidonic-acid_100g                     100.0\n",
       "omega-6-fat_100g                           100.0\n",
       "magnesium_100g                             100.0\n",
       "-docosahexaenoic-acid_100g                 100.0\n",
       "ingredients_from_palm_oil_tags             100.0\n",
       "ingredients_from_palm_oil                  100.0\n",
       "chlorophyl_100g                            100.0\n",
       "carbon-footprint_100g                      100.0\n",
       "no_nutriments                              100.0\n",
       "allergens_en                               100.0\n",
       "allergens                                  100.0\n",
       "stores                                     100.0\n",
       "purchase_places                            100.0\n",
       "cities_tags                                100.0\n",
       "cities                                     100.0\n",
       "first_packaging_code_geo                   100.0\n",
       "emb_codes_tags                             100.0\n",
       "emb_codes                                  100.0\n",
       "labels_en                                  100.0\n",
       "labels_tags                                100.0\n",
       "labels                                     100.0\n",
       "manufacturing_places_tags                  100.0\n",
       "manufacturing_places                       100.0\n",
       "origins_tags                               100.0\n",
       "origins                                    100.0\n",
       "generic_name                               100.0\n",
       "glycemic-index_100g                        100.0\n",
       "cocoa_100g                                 100.0\n",
       "ingredients_that_may_be_from_palm_oil      100.0\n",
       "nutrition_grade_uk                         100.0\n",
       "-arachidic-acid_100g                       100.0\n",
       "-eicosapentaenoic-acid_100g                100.0\n",
       "-alpha-linolenic-acid_100g                 100.0\n",
       "omega-3-fat_100g                           100.0\n",
       "polyunsaturated-fat_100g                   100.0\n",
       "monounsaturated-fat_100g                   100.0\n",
       "-melissic-acid_100g                        100.0\n",
       "-montanic-acid_100g                        100.0\n",
       "-cerotic-acid_100g                         100.0\n",
       "-lignoceric-acid_100g                      100.0\n",
       "-behenic-acid_100g                         100.0\n",
       "-stearic-acid_100g                         100.0\n",
       "collagen-meat-protein-ratio_100g           100.0\n",
       "-palmitic-acid_100g                        100.0\n",
       "-myristic-acid_100g                        100.0\n",
       "-lauric-acid_100g                          100.0\n",
       "-capric-acid_100g                          100.0\n",
       "-caprylic-acid_100g                        100.0\n",
       "-caproic-acid_100g                         100.0\n",
       "-butyric-acid_100g                         100.0\n",
       "fruits-vegetables-nuts_100g                100.0\n",
       "fruits-vegetables-nuts-estimate_100g       100.0\n",
       "energy-from-fat_100g                       100.0\n",
       "phosphorus_100g                            100.0\n",
       "trans-fat_100g                              96.0\n",
       "cholesterol_100g                            94.0\n",
       "vitamin-a_100g                              83.0\n",
       "vitamin-c_100g                              80.0\n",
       "nutrition-score-fr_100g                     63.0\n",
       "nutrition-score-uk_100g                     63.0\n",
       "saturated-fat_100g                          42.0\n",
       "salt_100g                                   41.0\n",
       "sodium_100g                                 41.0\n",
       "sugars_100g                                 36.0\n",
       "calcium_100g                                35.0\n",
       "fat_100g                                    20.0\n",
       "iron_100g                                   19.0\n",
       "fiber_100g                                  14.0\n",
       "proteins_100g                               12.0\n",
       "carbohydrates_100g                          10.0\n",
       "energy_100g                                  8.0\n",
       "ingredients_that_may_be_from_palm_oil_n      5.0\n",
       "ingredients_from_palm_oil_n                  5.0\n",
       "additives_n                                  5.0\n",
       "last_modified_t                              0.0\n",
       "created_t                                    0.0\n",
       "code                                         0.0\n",
       "dtype: float64"
      ]
     },
     "metadata": {},
     "execution_count": 40
    }
   ],
   "source": [
    "top_porcentaje_nan =((df_numeric.isnull().sum() / len(df))*100).sort_values(ascending = False)\n",
    "top_porcentaje_nan"
   ]
  },
  {
   "cell_type": "code",
   "execution_count": 41,
   "metadata": {},
   "outputs": [],
   "source": [
    "df_top_5 = df_numeric[[\"code\",\"created_t\", \"last_modified_t\",\"additives_n\", \"ingredients_from_palm_oil_n\"]]"
   ]
  },
  {
   "cell_type": "code",
   "execution_count": 42,
   "metadata": {},
   "outputs": [
    {
     "output_type": "execute_result",
     "data": {
      "text/plain": [
       "    code   created_t  last_modified_t  additives_n  \\\n",
       "0   3087  1474103866       1474103893          NaN   \n",
       "1   4530  1489069957       1489069957          0.0   \n",
       "2   4559  1489069957       1489069957          0.0   \n",
       "3  16087  1489055731       1489055731          0.0   \n",
       "4  16094  1489055653       1489055653          0.0   \n",
       "\n",
       "   ingredients_from_palm_oil_n  \n",
       "0                          NaN  \n",
       "1                          0.0  \n",
       "2                          0.0  \n",
       "3                          0.0  \n",
       "4                          0.0  "
      ],
      "text/html": "<div>\n<style scoped>\n    .dataframe tbody tr th:only-of-type {\n        vertical-align: middle;\n    }\n\n    .dataframe tbody tr th {\n        vertical-align: top;\n    }\n\n    .dataframe thead th {\n        text-align: right;\n    }\n</style>\n<table border=\"1\" class=\"dataframe\">\n  <thead>\n    <tr style=\"text-align: right;\">\n      <th></th>\n      <th>code</th>\n      <th>created_t</th>\n      <th>last_modified_t</th>\n      <th>additives_n</th>\n      <th>ingredients_from_palm_oil_n</th>\n    </tr>\n  </thead>\n  <tbody>\n    <tr>\n      <th>0</th>\n      <td>3087</td>\n      <td>1474103866</td>\n      <td>1474103893</td>\n      <td>NaN</td>\n      <td>NaN</td>\n    </tr>\n    <tr>\n      <th>1</th>\n      <td>4530</td>\n      <td>1489069957</td>\n      <td>1489069957</td>\n      <td>0.0</td>\n      <td>0.0</td>\n    </tr>\n    <tr>\n      <th>2</th>\n      <td>4559</td>\n      <td>1489069957</td>\n      <td>1489069957</td>\n      <td>0.0</td>\n      <td>0.0</td>\n    </tr>\n    <tr>\n      <th>3</th>\n      <td>16087</td>\n      <td>1489055731</td>\n      <td>1489055731</td>\n      <td>0.0</td>\n      <td>0.0</td>\n    </tr>\n    <tr>\n      <th>4</th>\n      <td>16094</td>\n      <td>1489055653</td>\n      <td>1489055653</td>\n      <td>0.0</td>\n      <td>0.0</td>\n    </tr>\n  </tbody>\n</table>\n</div>"
     },
     "metadata": {},
     "execution_count": 42
    }
   ],
   "source": [
    "df_top_5.head() #TOP 5 COLUMNAS NUMERICAS CON MENOR PORCENTAJE DE NAN"
   ]
  },
  {
   "source": [
    "## CONCLUSIÓN:\n",
    "\n",
    "#### Sería muy interesante poder clasificar los alimentos a partir de estas 5 columnas, ya que podrian arrojarnos más especificacion\n",
    "#### acerca del contenido, creacion o modificacion del producto, incluso podría ser muy interesante para algunos tipos de personas que no\n",
    "#### pueden o no desean consumir aceite de palma, o si fueran personas con alguna patologia que les  afectaria consumir algun alimento con\n",
    "#### cierta cantidad de aditivo."
   ],
   "cell_type": "markdown",
   "metadata": {}
  }
 ]
}