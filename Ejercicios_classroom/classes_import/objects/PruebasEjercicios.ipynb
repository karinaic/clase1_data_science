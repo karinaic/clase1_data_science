{
 "metadata": {
  "language_info": {
   "codemirror_mode": {
    "name": "ipython",
    "version": 3
   },
   "file_extension": ".py",
   "mimetype": "text/x-python",
   "name": "python",
   "nbconvert_exporter": "python",
   "pygments_lexer": "ipython3",
   "version": "3.7.4"
  },
  "orig_nbformat": 2,
  "kernelspec": {
   "name": "python374jvsc74a57bd00600588c3b5f4418cbe7b5ebc6825b479f3bc010269d8b60d75058cdd010adfe",
   "display_name": "Python 3.7.4 64-bit"
  },
  "metadata": {
   "interpreter": {
    "hash": "0600588c3b5f4418cbe7b5ebc6825b479f3bc010269d8b60d75058cdd010adfe"
   }
  }
 },
 "nbformat": 4,
 "nbformat_minor": 2,
 "cells": [
  {
   "cell_type": "code",
   "execution_count": null,
   "metadata": {},
   "outputs": [],
   "source": [
    "Crea un archivo 'ClaseHumano.py' en la carpeta 'objects' que contenga una clase:\n",
    "\n",
    "'Humano' que tiene:\n",
    "Un atributo 'ojos' que por defecto es 2\n",
    "Un atributo 'piernas' que por defecto es 2\n",
    "Un atributo 'dientes' que por defecto es 32\n",
    "Un atributo 'nombre'\n",
    "Un atributo 'armadura'\n",
    "Un atributo 'nivel'\n",
    "Un atributo 'ataque'\n",
    "Un atributo 'salud' que por defecto es 100\n",
    "Una función llamada 'atacar' que recibe un argumento 'orco' que representa otra clase ('Orco'). Esta función resta a la vida del 'Orco' el ataque de 'Humano' menos la armadura de 'Orco'. Al final, muestra por pantalla la vida del 'Orco'\n",
    "Una función no_vivo que retorna True si la vida del 'Humano' es igual o inferior a 0, False en otro caso.\n",
    "Una función que muestre por pantalla todos los atributos actuales de 'Humano' concatenados con un String representando el nombre del atributo que se muestra. Ejemplo: \"Nombre: Ataulfo | dientes: 32 | salud: 100 | ...\""
   ]
  },
  {
   "cell_type": "code",
   "execution_count": 1,
   "metadata": {},
   "outputs": [],
   "source": [
    "class Humano:\n",
    "\n",
    "    def __init__(self, nombre, armadura, nivel, ataque, ojos =2, piernas = 2, dientes = 32,salud =100):\n",
    "        self.nombre = nombre\n",
    "        self.armadura = armadura\n",
    "        self.nivel = nivel\n",
    "        self.ataque = ataque\n",
    "        self.ojos = ojos\n",
    "        self.piernas = piernas\n",
    "        self.dientes = dientes\n",
    "        self.salud = salud\n",
    "\n",
    "    def atacar(self, Orco):\n",
    "        orco.salud -= self.ataque - orco.armadura\n",
    "        print(\"La vida del orco es\", orco.salud)\n",
    "\n",
    "    def no_vivo(self):\n",
    "        if self.salud <= 0:\n",
    "            True\n",
    "        else:\n",
    "            False\n",
    "\n",
    "    def atributos(self):\n",
    "        out = \"Nombre:\" + self.name + \"\\nArmadura: \" + str(self.armadura) + \"\\nNivel:\" + str(self.nivel) + \"Ataque: \" + self.ataque + \"\\nOjos: \" + str(self.ojos) + \"\\nPiernas:\" + str(self.piernas) + \"\\nDientes: \" + str(self.dientes) + \"\\nSalud:\" + str(self.salud)\n",
    "        return out\n"
   ]
  },
  {
   "cell_type": "code",
   "execution_count": 4,
   "metadata": {},
   "outputs": [
    {
     "output_type": "execute_result",
     "data": {
      "text/plain": [
       "3"
      ]
     },
     "metadata": {},
     "execution_count": 4
    }
   ],
   "source": [
    "humano = Humano(nombre = \"karina\", armadura= 3, nivel = 30, ataque = 6)\n",
    "humano.nombre\n",
    "humano.armadura\n"
   ]
  },
  {
   "cell_type": "code",
   "execution_count": null,
   "metadata": {},
   "outputs": [],
   "source": [
    "karina = Humano(nombre = \"karina\", armadura= 3, nivel = 30, ataque = 6)\n",
    "print(karina.nombre)\n",
    "print(karina.armadura)\n",
    "print(karina.nivel)\n",
    "print(karina.ataque)"
   ]
  },
  {
   "cell_type": "code",
   "execution_count": 5,
   "metadata": {},
   "outputs": [
    {
     "output_type": "error",
     "ename": "AttributeError",
     "evalue": "'Humano' object has no attribute 'name'",
     "traceback": [
      "\u001b[1;31m---------------------------------------------------------------------------\u001b[0m",
      "\u001b[1;31mAttributeError\u001b[0m                            Traceback (most recent call last)",
      "\u001b[1;32m<ipython-input-5-3a9e154a0ce0>\u001b[0m in \u001b[0;36m<module>\u001b[1;34m\u001b[0m\n\u001b[1;32m----> 1\u001b[1;33m \u001b[0mhumano\u001b[0m\u001b[1;33m.\u001b[0m\u001b[0matributos\u001b[0m\u001b[1;33m(\u001b[0m\u001b[1;33m)\u001b[0m\u001b[1;33m\u001b[0m\u001b[1;33m\u001b[0m\u001b[0m\n\u001b[0m",
      "\u001b[1;32m<ipython-input-1-d9ff1d69e2a9>\u001b[0m in \u001b[0;36matributos\u001b[1;34m(self)\u001b[0m\n\u001b[0;32m     22\u001b[0m \u001b[1;33m\u001b[0m\u001b[0m\n\u001b[0;32m     23\u001b[0m     \u001b[1;32mdef\u001b[0m \u001b[0matributos\u001b[0m\u001b[1;33m(\u001b[0m\u001b[0mself\u001b[0m\u001b[1;33m)\u001b[0m\u001b[1;33m:\u001b[0m\u001b[1;33m\u001b[0m\u001b[1;33m\u001b[0m\u001b[0m\n\u001b[1;32m---> 24\u001b[1;33m         \u001b[0mout\u001b[0m \u001b[1;33m=\u001b[0m \u001b[1;34m\"Nombre:\"\u001b[0m \u001b[1;33m+\u001b[0m \u001b[0mself\u001b[0m\u001b[1;33m.\u001b[0m\u001b[0mname\u001b[0m \u001b[1;33m+\u001b[0m \u001b[1;34m\"\\nArmadura: \"\u001b[0m \u001b[1;33m+\u001b[0m \u001b[0mstr\u001b[0m\u001b[1;33m(\u001b[0m\u001b[0mself\u001b[0m\u001b[1;33m.\u001b[0m\u001b[0marmadura\u001b[0m\u001b[1;33m)\u001b[0m \u001b[1;33m+\u001b[0m \u001b[1;34m\"\\nNivel:\"\u001b[0m \u001b[1;33m+\u001b[0m \u001b[0mstr\u001b[0m\u001b[1;33m(\u001b[0m\u001b[0mself\u001b[0m\u001b[1;33m.\u001b[0m\u001b[0mnivel\u001b[0m\u001b[1;33m)\u001b[0m \u001b[1;33m+\u001b[0m \u001b[1;34m\"Ataque: \"\u001b[0m \u001b[1;33m+\u001b[0m \u001b[0mself\u001b[0m\u001b[1;33m.\u001b[0m\u001b[0mataque\u001b[0m \u001b[1;33m+\u001b[0m \u001b[1;34m\"\\nOjos: \"\u001b[0m \u001b[1;33m+\u001b[0m \u001b[0mstr\u001b[0m\u001b[1;33m(\u001b[0m\u001b[0mself\u001b[0m\u001b[1;33m.\u001b[0m\u001b[0mojos\u001b[0m\u001b[1;33m)\u001b[0m \u001b[1;33m+\u001b[0m \u001b[1;34m\"\\nPiernas:\"\u001b[0m \u001b[1;33m+\u001b[0m \u001b[0mstr\u001b[0m\u001b[1;33m(\u001b[0m\u001b[0mself\u001b[0m\u001b[1;33m.\u001b[0m\u001b[0mpiernas\u001b[0m\u001b[1;33m)\u001b[0m \u001b[1;33m+\u001b[0m \u001b[1;34m\"\\nDientes: \"\u001b[0m \u001b[1;33m+\u001b[0m \u001b[0mstr\u001b[0m\u001b[1;33m(\u001b[0m\u001b[0mself\u001b[0m\u001b[1;33m.\u001b[0m\u001b[0mdientes\u001b[0m\u001b[1;33m)\u001b[0m \u001b[1;33m+\u001b[0m \u001b[1;34m\"\\nSalud:\"\u001b[0m \u001b[1;33m+\u001b[0m \u001b[0mstr\u001b[0m\u001b[1;33m(\u001b[0m\u001b[0mself\u001b[0m\u001b[1;33m.\u001b[0m\u001b[0msalud\u001b[0m\u001b[1;33m)\u001b[0m\u001b[1;33m\u001b[0m\u001b[1;33m\u001b[0m\u001b[0m\n\u001b[0m\u001b[0;32m     25\u001b[0m         \u001b[1;32mreturn\u001b[0m \u001b[0mout\u001b[0m\u001b[1;33m\u001b[0m\u001b[1;33m\u001b[0m\u001b[0m\n",
      "\u001b[1;31mAttributeError\u001b[0m: 'Humano' object has no attribute 'name'"
     ]
    }
   ],
   "source": [
    "humano.atributos()\n"
   ]
  },
  {
   "cell_type": "code",
   "execution_count": null,
   "metadata": {},
   "outputs": [],
   "source": [
    "###Crea un archivo 'ClaseOrco.py' en la carpeta 'objects' que contenga una clase:\n",
    "\n",
    "'Orco' que tiene:\n",
    "Un atributo 'ojos' que por defecto es 2\n",
    "Un atributo 'piernas' que por defecto es 2\n",
    "Un atributo 'dientes' que por defecto es 56\n",
    "Un atributo 'nombre'\n",
    "Un atributo 'armadura'\n",
    "Un atributo 'nivel'\n",
    "Un atributo 'ataque'\n",
    "Un atributo 'salud' que por defecto es 100\n",
    "Una función llamada 'atacar' que recibe un argumento 'humano' que representa otra clase ('Humano'). Esta función resta a la vida del 'Humano' el ataque de 'Orco' menos la armadura de 'Humano'. Al final, muestra por pantalla la vida del 'Humano'\n",
    "Una función no_vivo que retorna True si la vida del 'Orco' es igual o inferior a 0, False en otro caso.\n",
    "Una función que muestre por pantalla todos los atributos actuales de 'Orco' concatenados con un String representando el nombre del atributo que se muestra. Ejemplo: \"Nombre: Graug | dientes: 56 | salud: 100 | ...\""
   ]
  },
  {
   "cell_type": "code",
   "execution_count": null,
   "metadata": {},
   "outputs": [],
   "source": [
    "class Orco:\n",
    "    pass\n",
    "\n",
    "    def __init__(self, nombre, armadura, nivel, ataque, ojos = 2, piernas = 2, dientes = 56, salud = 100):\n",
    "        self.nombre = nombre\n",
    "        self.armadura = armadura\n",
    "        self.nivel = nivel\n",
    "        self.ataque = ataque\n",
    "        self.ojos = ojos\n",
    "        self.piernas = piernas\n",
    "        self.dientes = dientes\n",
    "        self.salud\n",
    "\n",
    "    def atacar(self, humano):\n",
    "        humano.salud -= self.ataque - humano.armadura\n",
    "        print(\"La vida del humano es: \" humano.salud)\n",
    "\n",
    "    def no_vivo(self):\n",
    "        if self.salud <= 0:\n",
    "            True\n",
    "        else:\n",
    "            False\n",
    "\n",
    "    def atributos(self):\n",
    "        out = \"Nombre:\" + self.name + \"\\nArmadura: \" + str(self.armadura) + \"\\nNivel:\" + str(self.nivel) + \"Ataque: \" + self.ataque + \"\\nOjos: \" + str(self.ojos) + \"\\nPiernas:\" + str(self.piernas) + \"\\nDientes: \" + str(self.dientes) + \"\\nSalud:\" + str(self.salud)\n",
    "        return out\n"
   ]
  },
  {
   "cell_type": "code",
   "execution_count": null,
   "metadata": {},
   "outputs": [],
   "source": [
    "import os\n",
    "ruta = os.getcwd()\n",
    "print(ruta)\n",
    "for i in range(4):\n",
    "    ruta = \"C:\\\\Users\\\\Karina\\\\Desktop\\\\data_science_apr_2021\\\\clase1_data_science\\\\Ejercicios_classroom\\\\classes_import\"\n",
    "    print(ruta)\n",
    "sys.path.append(ruta)\n",
    "sys.path"
   ]
  }
 ]
}