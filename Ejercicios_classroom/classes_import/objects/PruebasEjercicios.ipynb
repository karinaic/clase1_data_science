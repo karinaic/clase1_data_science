{
 "metadata": {
  "language_info": {
   "codemirror_mode": {
    "name": "ipython",
    "version": 3
   },
   "file_extension": ".py",
   "mimetype": "text/x-python",
   "name": "python",
   "nbconvert_exporter": "python",
   "pygments_lexer": "ipython3",
   "version": 3
  },
  "orig_nbformat": 2
 },
 "nbformat": 4,
 "nbformat_minor": 2,
 "cells": [
  {
   "cell_type": "code",
   "execution_count": null,
   "metadata": {},
   "outputs": [],
   "source": [
    "Crea un archivo 'ClaseHumano.py' en la carpeta 'objects' que contenga una clase:\n",
    "\n",
    "'Humano' que tiene:\n",
    "Un atributo 'ojos' que por defecto es 2\n",
    "Un atributo 'piernas' que por defecto es 2\n",
    "Un atributo 'dientes' que por defecto es 32\n",
    "Un atributo 'nombre'\n",
    "Un atributo 'armadura'\n",
    "Un atributo 'nivel'\n",
    "Un atributo 'ataque'\n",
    "Un atributo 'salud' que por defecto es 100\n",
    "Una función llamada 'atacar' que recibe un argumento 'orco' que representa otra clase ('Orco'). Esta función resta a la vida del 'Orco' el ataque de 'Humano' menos la armadura de 'Orco'. Al final, muestra por pantalla la vida del 'Orco'\n",
    "Una función no_vivo que retorna True si la vida del 'Humano' es igual o inferior a 0, False en otro caso.\n",
    "Una función que muestre por pantalla todos los atributos actuales de 'Humano' concatenados con un String representando el nombre del atributo que se muestra. Ejemplo: \"Nombre: Ataulfo | dientes: 32 | salud: 100 | ...\""
   ]
  },
  {
   "cell_type": "code",
   "execution_count": null,
   "metadata": {},
   "outputs": [],
   "source": [
    "class Humano:\n",
    "    pass\n",
    "\n",
    "    def __init__(self, nombre, armadura, nivel, ataque, ojos =2, piernas = 2, dientes = 32,salud =100):\n",
    "        self.nombre = nombre\n",
    "        self.armadura = armadura\n",
    "        self.nivel = nivel\n",
    "        self.ataque = ataque\n",
    "        self.ojos = ojos\n",
    "        self.piernas = piernas\n",
    "        self.dientes = dientes\n",
    "        self.salud = salud\n",
    "\n",
    "    def atacar(self, Orco):\n",
    "        orco.salud -= self.ataque - orco.armadura\n",
    "        print(\"La vida del orco es\", orco.salud)\n",
    "\n",
    "    def no_vivo(self):\n",
    "        if self.salud <= 0:\n",
    "            True\n",
    "        else:\n",
    "            False\n",
    "\n",
    "    def atributos(self):\n",
    "        out = \"Nombre:\" + self.name + \"\\nArmadura: \" + str(self.armadura) + \"\\nNivel:\" + str(self.nivel) + \"Ataque: \" + self.ataque + \"\\nOjos: \" + str(self.ojos) + \"\\nPiernas:\" + str(self.piernas) + \"\\nDientes: \" + str(self.dientes) + \"\\nSalud:\" + str(self.salud)\n",
    "        return out\n"
   ]
  },
  {
   "cell_type": "code",
   "execution_count": null,
   "metadata": {},
   "outputs": [],
   "source": [
    "###Crea un archivo 'ClaseOrco.py' en la carpeta 'objects' que contenga una clase:\n",
    "\n",
    "'Orco' que tiene:\n",
    "Un atributo 'ojos' que por defecto es 2\n",
    "Un atributo 'piernas' que por defecto es 2\n",
    "Un atributo 'dientes' que por defecto es 56\n",
    "Un atributo 'nombre'\n",
    "Un atributo 'armadura'\n",
    "Un atributo 'nivel'\n",
    "Un atributo 'ataque'\n",
    "Un atributo 'salud' que por defecto es 100\n",
    "Una función llamada 'atacar' que recibe un argumento 'humano' que representa otra clase ('Humano'). Esta función resta a la vida del 'Humano' el ataque de 'Orco' menos la armadura de 'Humano'. Al final, muestra por pantalla la vida del 'Humano'\n",
    "Una función no_vivo que retorna True si la vida del 'Orco' es igual o inferior a 0, False en otro caso.\n",
    "Una función que muestre por pantalla todos los atributos actuales de 'Orco' concatenados con un String representando el nombre del atributo que se muestra. Ejemplo: \"Nombre: Graug | dientes: 56 | salud: 100 | ...\""
   ]
  },
  {
   "cell_type": "code",
   "execution_count": null,
   "metadata": {},
   "outputs": [],
   "source": [
    "class Orco:\n",
    "    pass\n",
    "\n",
    "    def __init__(self, nombre, armadura, nivel, ataque, ojos = 2, piernas = 2, dientes = 56, salud = 100):\n",
    "        self.nombre = nombre\n",
    "        self.armadura = armadura\n",
    "        self.nivel = nivel\n",
    "        self.ataque = ataque\n",
    "        self.ojos = ojos\n",
    "        self.piernas = piernas\n",
    "        self.dientes = dientes\n",
    "        self.salud\n",
    "\n",
    "    def atacar(self, humano):\n",
    "        humano.salud -= self.ataque - humano.armadura\n",
    "        print(\"La vida del humano es: \" humano.salud)\n"
   ]
  }
 ]
}